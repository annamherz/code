{
 "cells": [
  {
   "cell_type": "code",
   "execution_count": null,
   "metadata": {},
   "outputs": [],
   "source": [
    "# pltting\n",
    "\n",
    "import matplotlib.pyplot as plt\n",
    "import pandas as pd\n",
    "import numpy as np\n",
    "import math\n",
    "import csv\n",
    "from cmath import nan"
   ]
  },
  {
   "cell_type": "code",
   "execution_count": null,
   "metadata": {},
   "outputs": [],
   "source": [
    "# set things\n",
    "proteins = [\"mcl1\", \"p38\", \"tyk2\"]"
   ]
  },
  {
   "cell_type": "code",
   "execution_count": null,
   "metadata": {},
   "outputs": [],
   "source": [
    "prot_dict = {}\n",
    "\n",
    "for prot in proteins:\n",
    "\n",
    "    with open(f\"{prot}_solvated_molecules_no_nan.csv\", \"w\") as file:\n",
    "        writer = csv.writer(file, delimiter=\";\")\n",
    "        for line in open(f\"{prot}_solvated_molecules.csv\"):\n",
    "            parts = line.split(\";\")\n",
    "            if parts[5] != \"nan\":\n",
    "                writer.writerow([parts[0],parts[1],parts[2],parts[3],parts[4],parts[5],parts[6],parts[7].replace(\"\\n\",\"\")])\n",
    "            else:\n",
    "                continue\n",
    "                # print(line)\n",
    "\n",
    "    df = pd.read_csv(f\"{prot}_solvated_molecules_no_nan.csv\", header=\"infer\", delimiter=\";\")\n",
    "\n",
    "    box_shapes = [\"cubic\",\"truncatedoctahedron\"]\n",
    "    length_list = [10,15,20,25,30,35,40]\n",
    "    legs = [\"lig\",\"sys\"]\n",
    "    plotting_dict = {\"box\": [], \"length\": [], \"legs\": [], \"avg_mols\": [], \"std_mols\": []}\n",
    "\n",
    "    for box in box_shapes:\n",
    "        for length in length_list:\n",
    "            for leg in legs:\n",
    "                values = df[df[\"boxlength\"] == length][df[\"boxtype\"] == box][df[\"leg\"] == leg][\"nMolecules\"].to_numpy()\n",
    "                avg_mols = np.mean(values)\n",
    "                std_mols = np.std(values)\n",
    "                plotting_dict[\"box\"].append(box)\n",
    "                plotting_dict[\"length\"].append(length)\n",
    "                plotting_dict[\"legs\"].append(leg)\n",
    "                plotting_dict[\"avg_mols\"].append(avg_mols)\n",
    "                plotting_dict[\"std_mols\"].append(std_mols)\n",
    "\n",
    "    df2 = pd.DataFrame(data=plotting_dict)\n",
    "    prot_dict[prot] = df2\n"
   ]
  },
  {
   "cell_type": "code",
   "execution_count": null,
   "metadata": {},
   "outputs": [],
   "source": [
    "box_shapes = [\"cubic\",\"truncatedoctahedron\"]\n",
    "length_list = [10,15,20,25,30,35,40]\n",
    "legs = [\"lig\",\"sys\"]\n",
    "plotting_dict = {\"box\": [], \"length\": [], \"legs\": [], \"avg_mols\": [], \"std_mols\": []}\n",
    "\n",
    "for box in box_shapes:\n",
    "    for length in length_list:\n",
    "        for leg in legs:\n",
    "            values = []\n",
    "            for prot in proteins:\n",
    "                df = prot_dict[prot]\n",
    "                value = df.loc[df[\"length\"] == length][df[\"box\"] == box][df[\"legs\"] == leg][\"avg_mols\"].item()\n",
    "                values.append(value)\n",
    "\n",
    "            avg_mols = np.average(values)\n",
    "            std_mols = np.std(values)\n",
    "\n",
    "            plotting_dict[\"box\"].append(box)\n",
    "            plotting_dict[\"length\"].append(length)\n",
    "            plotting_dict[\"legs\"].append(leg)\n",
    "            plotting_dict[\"avg_mols\"].append(avg_mols)\n",
    "            plotting_dict[\"std_mols\"].append(std_mols)\n",
    "\n",
    "mean_df = pd.DataFrame(data=plotting_dict)\n",
    "prot_dict[\"mean\"] = mean_df\n",
    "mean_df"
   ]
  },
  {
   "cell_type": "code",
   "execution_count": null,
   "metadata": {},
   "outputs": [],
   "source": [
    "plt.figure(figsize=(10,10))\n",
    "\n",
    "protein = \"mean\"\n",
    "df2 = prot_dict[protein]\n",
    "\n",
    "colour_list = [\"orange\",\"navy\",\"hotpink\",\"teal\"]\n",
    "col_index = 0 \n",
    "for box in box_shapes:\n",
    "        for leg in legs:\n",
    "            plt.plot(df2[df2[\"legs\"] == leg][df2[\"box\"] == box][\"length\"], df2[df2[\"legs\"] == leg][df2[\"box\"] == box][\"avg_mols\"],\n",
    "            label=f\"{box},{leg}\",\n",
    "            color=colour_list[col_index]\n",
    "            )\n",
    "\n",
    "            # plot error bars:\n",
    "            yerr = df2[df2[\"legs\"] == leg][df2[\"box\"] == box][\"std_mols\"]\n",
    "\n",
    "            plt.errorbar(df2[df2[\"legs\"] == leg][df2[\"box\"] == box][\"length\"], df2[df2[\"legs\"] == leg][df2[\"box\"] == box][\"avg_mols\"], \n",
    "                        yerr=yerr,\n",
    "                        ls=\"none\",\n",
    "                        color=colour_list[col_index],\n",
    "                        )\n",
    "            \n",
    "            col_index += 1\n",
    "\n",
    "plt.ylabel(\"average nMolecules()\")\n",
    "plt.xlabel(\"Size of box (Angstrom)\")\n",
    "plt.title(f\"{protein} solvation\")\n",
    "plt.legend()\n",
    "\n",
    "plt.savefig(f\"{protein}_solvation.png\", dpi=300)\n",
    "\n",
    "plt.show()"
   ]
  },
  {
   "cell_type": "code",
   "execution_count": null,
   "metadata": {},
   "outputs": [],
   "source": []
  }
 ],
 "metadata": {
  "kernelspec": {
   "display_name": "Python 3.9.13 ('biosimspace-dev': conda)",
   "language": "python",
   "name": "python3"
  },
  "language_info": {
   "codemirror_mode": {
    "name": "ipython",
    "version": 3
   },
   "file_extension": ".py",
   "mimetype": "text/x-python",
   "name": "python",
   "nbconvert_exporter": "python",
   "pygments_lexer": "ipython3",
   "version": "3.9.13"
  },
  "orig_nbformat": 4,
  "vscode": {
   "interpreter": {
    "hash": "d79bb85316fa6c998e385cc39903e056bffeb3f6098416e9c269ddd32175e919"
   }
  }
 },
 "nbformat": 4,
 "nbformat_minor": 2
}
