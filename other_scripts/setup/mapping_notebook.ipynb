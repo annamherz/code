{
 "cells": [
  {
   "cell_type": "code",
   "execution_count": 1,
   "metadata": {},
   "outputs": [
    {
     "name": "stderr",
     "output_type": "stream",
     "text": [
      "/home/anna/mambaforge/envs/openbiosim-dev/lib/python3.9/site-packages/ipywidgets/widgets/widget.py:503: DeprecationWarning: The `ipykernel.comm.Comm` class has been deprecated. Please use the `comm` module instead.For creating comms, use the function `from comm import create_comm`.\n",
      "  self.comm = Comm(**args)\n"
     ]
    },
    {
     "data": {
      "application/vnd.jupyter.widget-view+json": {
       "model_id": "e5284052926c4fa582bd0afe4fe1f9c6",
       "version_major": 2,
       "version_minor": 0
      },
      "text/plain": []
     },
     "metadata": {},
     "output_type": "display_data"
    },
    {
     "name": "stderr",
     "output_type": "stream",
     "text": [
      "INFO:rdkit:Enabling RDKit 2023.03.2 jupyter extensions\n",
      "INFO:numexpr.utils:Note: NumExpr detected 32 cores but \"NUMEXPR_MAX_THREADS\" not set, so enforcing safe limit of 8.\n",
      "INFO:numexpr.utils:NumExpr defaulting to 8 threads.\n",
      "/home/anna/BioSimSpace/python/BioSimSpace/FreeEnergy/_relative.py:49: UserWarning: can't import pyarrow.parquet, cannot analyse somd2 files.\n",
      "  _warnings.warn(\"can't import pyarrow.parquet, cannot analyse somd2 files.\")\n",
      "/home/anna/BioSimSpace/python/BioSimSpace/Parameters/_Protocol/_amber.py:57: ResourceWarning: unclosed file <_io.TextIOWrapper name='/dev/null' mode='w' encoding='UTF-8'>\n",
      "  _sys.stderr = _sys.__stderr__\n",
      "ResourceWarning: Enable tracemalloc to get the object allocation traceback\n",
      "WARNING:root:Warning: importing 'simtk.openmm' is deprecated.  Import 'openmm' instead.\n",
      "/home/anna/BioSimSpace/python/BioSimSpace/Parameters/_Protocol/_openforcefield.py:88: ResourceWarning: unclosed file <_io.TextIOWrapper name='/dev/null' mode='w' encoding='UTF-8'>\n",
      "  _sys.stderr = _sys.__stderr__\n",
      "ResourceWarning: Enable tracemalloc to get the object allocation traceback\n"
     ]
    },
    {
     "name": "stdout",
     "output_type": "stream",
     "text": [
      "adding code to the pythonpath...\n"
     ]
    }
   ],
   "source": [
    "import sys\n",
    "import pickle\n",
    "import glob\n",
    "import networkx as nx\n",
    "import pickle\n",
    "import itertools as it\n",
    "import os\n",
    "import shutil\n",
    "\n",
    "import warnings\n",
    "\n",
    "warnings.filterwarnings(action=\"once\")\n",
    "\n",
    "if '/home/anna/BioSimSpace/python' not in sys.path:\n",
    "    sys.path.insert(1, '/home/anna/BioSimSpace/python')\n",
    "import BioSimSpace as BSS\n",
    "\n",
    "# if '/home/anna/Documents/cinnabar' not in sys.path:\n",
    "#     sys.path.insert(1, '/home/anna/Documents/cinnabar')\n",
    "# import cinnabar\n",
    "\n",
    "# print(cinnabar.__file__)\n",
    "\n",
    "print(\"adding code to the pythonpath...\")\n",
    "code = \"/home/anna/Documents/code/python\"\n",
    "if code not in sys.path:\n",
    "    sys.path.insert(1, code)\n",
    "import pipeline\n",
    "\n",
    "from pipeline import *\n",
    "from pipeline.analysis import *\n",
    "from pipeline.prep import *\n",
    "from pipeline.utils import *\n",
    "\n",
    "# import BioSimSpace.Sandpit.Exscientia as BSS\n",
    "# import BioSimSpace as BSS\n",
    "\n",
    "\n",
    "BSS.__file__\n",
    "\n",
    "import py3Dmol as _py3Dmol\n",
    "from rdkit import Chem as _Chem\n",
    "import tempfile as _tempfile"
   ]
  },
  {
   "cell_type": "code",
   "execution_count": 2,
   "metadata": {},
   "outputs": [
    {
     "data": {
      "text/plain": [
       "'2023.03.2'"
      ]
     },
     "execution_count": 2,
     "metadata": {},
     "output_type": "execute_result"
    }
   ],
   "source": [
    "import rdkit\n",
    "rdkit.__version__"
   ]
  },
  {
   "cell_type": "code",
   "execution_count": 3,
   "metadata": {},
   "outputs": [],
   "source": [
    "def draw_labelled_molecule(lig_0):\n",
    "    # Create a temporary working directory and store the directory name.\n",
    "    tmp_dir = _tempfile.TemporaryDirectory()\n",
    "    work_dir = tmp_dir.name\n",
    "\n",
    "    BSS.IO.saveMolecules(work_dir + \"/molecule0\", lig_0, \"PDB\")\n",
    "    # Load the molecules into RDKit.\n",
    "    rdmol0 = _Chem.MolFromPDBFile(\n",
    "        work_dir + \"/molecule0.pdb\", sanitize=False, removeHs=False\n",
    "    )\n",
    "\n",
    "    # Set grid view properties.\n",
    "    pixels = 900\n",
    "    width = pixels / 2\n",
    "    height = pixels\n",
    "\n",
    "    # Create the view.\n",
    "    view = _py3Dmol.view(linked=False, width=width, height=height)\n",
    "    style = {\"stick\": {\"colorscheme\": \"grayCarbon\", \"linewidth\": 0.1}}\n",
    "\n",
    "    # Add the molecules to the views.\n",
    "    view.addModel(_Chem.MolToMolBlock(rdmol0), \"mol0\")\n",
    "\n",
    "    # Set the style.\n",
    "    view.setStyle({\"model\": 0}, style)\n",
    "\n",
    "    # Highlight the atoms from the mapping.\n",
    "    for atom0 in lig_0.getAtoms():\n",
    "        p = rdmol0.GetConformer().GetAtomPosition(atom0.index())\n",
    "        # p = rdmol0.GetAtomWithIdx(atom0.index())\n",
    "        view.addSphere(\n",
    "            {\n",
    "                \"center\": {\"x\": p.x, \"y\": p.y, \"z\": p.z},\n",
    "                \"radius\": 0.5,\n",
    "                \"color\": \"green\",\n",
    "                \"alpha\": 0.8,\n",
    "            },\n",
    "        )\n",
    "        view.addLabel(f\"{atom0.index()}\", {\"position\": {\"x\": p.x, \"y\": p.y, \"z\": p.z}})\n",
    "\n",
    "        # Set background colour.\n",
    "        view.setBackgroundColor(\"white\")\n",
    "\n",
    "        # Zoom to molecule.\n",
    "        view.zoomTo()\n",
    "\n",
    "    return view\n",
    "\n",
    "\n",
    "def view_mapping(lig_0, lig_1, mapping):\n",
    "    # Write the molecules to PDB format.\n",
    "    BSS.IO.saveMolecules(\"molecule0\", lig_0, \"PDB\")\n",
    "    BSS.IO.saveMolecules(\"molecule1\", lig_1, \"PDB\")\n",
    "\n",
    "    # Load the molecules into RDKit.\n",
    "    rdmol0 = _Chem.MolFromPDBFile(\"molecule0.pdb\", sanitize=False, removeHs=False)\n",
    "    rdmol1 = _Chem.MolFromPDBFile(\"molecule1.pdb\", sanitize=False, removeHs=False)\n",
    "\n",
    "    # mapping = BSS.Align.matchAtoms(\n",
    "    #                         lig_0, lig_1\n",
    "    #                         )\n",
    "\n",
    "    # Set grid view properties.\n",
    "    viewer0 = (0, 0)\n",
    "    pixels = 900\n",
    "    viewergrid = (2, 1)\n",
    "    viewer1 = (1, 0)\n",
    "    width = pixels / 2\n",
    "    height = pixels\n",
    "\n",
    "    # Create the view.\n",
    "    view = _py3Dmol.view(\n",
    "        linked=False, width=width, height=height, viewergrid=viewergrid\n",
    "    )\n",
    "    style = {\"stick\": {\"colorscheme\": \"grayCarbon\", \"linewidth\": 0.1}}\n",
    "\n",
    "    # Add the molecules to the views.\n",
    "    view.addModel(_Chem.MolToMolBlock(rdmol0), \"mol0\", viewer=viewer0)\n",
    "    view.addModel(_Chem.MolToMolBlock(rdmol1), \"mol1\", viewer=viewer1)\n",
    "\n",
    "    # Set the style.\n",
    "    view.setStyle({\"model\": 0}, style, viewer=viewer0)\n",
    "    view.setStyle({\"model\": 0}, style, viewer=viewer1)\n",
    "\n",
    "    # Highlight the atoms from the mapping.\n",
    "    for atom0, atom1 in mapping.items():\n",
    "        p = rdmol0.GetConformer().GetAtomPosition(atom0)\n",
    "        view.addSphere(\n",
    "            {\n",
    "                \"center\": {\"x\": p.x, \"y\": p.y, \"z\": p.z},\n",
    "                \"radius\": 0.5,\n",
    "                \"color\": \"green\",\n",
    "                \"alpha\": 0.8,\n",
    "            },\n",
    "            viewer=viewer0,\n",
    "        )\n",
    "        view.addLabel(\n",
    "            f\"{atom0} \\u2192 {atom1}\",\n",
    "            {\"position\": {\"x\": p.x, \"y\": p.y, \"z\": p.z}},\n",
    "            viewer=viewer0,\n",
    "        )\n",
    "        p = rdmol1.GetConformer().GetAtomPosition(atom1)\n",
    "        view.addSphere(\n",
    "            {\n",
    "                \"center\": {\"x\": p.x, \"y\": p.y, \"z\": p.z},\n",
    "                \"radius\": 0.5,\n",
    "                \"color\": \"green\",\n",
    "                \"alpha\": 0.8,\n",
    "            },\n",
    "            viewer=viewer1,\n",
    "        )\n",
    "        view.addLabel(\n",
    "            f\"{atom1} \\u2192 {atom0}\",\n",
    "            {\"position\": {\"x\": p.x, \"y\": p.y, \"z\": p.z}},\n",
    "            viewer=viewer1,\n",
    "        )\n",
    "\n",
    "    # Set background colour.\n",
    "    view.setBackgroundColor(\"white\", viewer=viewer0)\n",
    "    view.setBackgroundColor(\"white\", viewer=viewer1)\n",
    "\n",
    "    # Zoom to molecule.\n",
    "    view.zoomTo(viewer=viewer0)\n",
    "    view.zoomTo(viewer=viewer1)\n",
    "\n",
    "    return view"
   ]
  },
  {
   "cell_type": "code",
   "execution_count": null,
   "metadata": {},
   "outputs": [],
   "source": []
  },
  {
   "cell_type": "code",
   "execution_count": 11,
   "metadata": {},
   "outputs": [],
   "source": [
    "lig1 = \"lig_17\"\n",
    "lig2 = \"lig_6\"\n",
    "prot = \"cmet\"\n",
    "prep_dir = f\"/home/anna/Documents/placement_test/{prot}/prep\"\n",
    "name = \"sys\"\n",
    "\n",
    "system_1 = BSS.IO.readMolecules(\n",
    "    [\n",
    "        f\"{prep_dir}/{lig1}_{name}_equil_solv.rst7\",\n",
    "        f\"{prep_dir}/{lig1}_{name}_equil_solv.prm7\",\n",
    "    ]\n",
    ")\n",
    "system_2 = BSS.IO.readMolecules(\n",
    "    [\n",
    "        f\"{prep_dir}/{lig2}_{name}_equil_solv.rst7\",\n",
    "        f\"{prep_dir}/{lig2}_{name}_equil_solv.prm7\",\n",
    "    ]\n",
    ")\n",
    "\n",
    "lig_0 = merge.extract_ligand(system_1)\n",
    "lig_1 = merge.extract_ligand(system_2)\n",
    "\n",
    "kwargs = {\n",
    "    \"prematch\": {8:10},  # 30:27, 34:31, 41:38, 4:4\n",
    "    \"allow ring size change\": False,\n",
    "    \"allow ring breaking\": False,\n",
    "    \"complete rings only\": True,\n",
    "    \"ring matches ring only\": True,\n",
    "    \"match chiral tag\": False,\n",
    "    \"natch valence\": False,\n",
    "    \"maximise bonds\": False,\n",
    "    \"PRUNEPERTURBEDCONSTRAINTS\": True,\n",
    "    \"prune crossing constraints\": False,\n",
    "}"
   ]
  },
  {
   "cell_type": "code",
   "execution_count": 12,
   "metadata": {},
   "outputs": [
    {
     "data": {
      "text/plain": [
       "15.0"
      ]
     },
     "execution_count": 12,
     "metadata": {},
     "output_type": "execute_result"
    }
   ],
   "source": [
    "merge.no_perturbing_atoms_average(system_1, system_2, **kwargs)"
   ]
  },
  {
   "cell_type": "code",
   "execution_count": 8,
   "metadata": {},
   "outputs": [],
   "source": [
    "mapping = {1:17, 2:16, 3:15, 4:14, 5:28, 6:27, 7:12, 8:11, 9:10, 10:9, 11:8, 12:7, 13:6, 14:5, 15:4, 16:3, 17:2, 18:1, 19:0}"
   ]
  },
  {
   "cell_type": "code",
   "execution_count": 13,
   "metadata": {},
   "outputs": [],
   "source": [
    "l0a, l1a, mapping = pipeline.prep.merge.atom_mappings(lig_0, lig_1, **kwargs)"
   ]
  },
  {
   "cell_type": "code",
   "execution_count": 14,
   "metadata": {},
   "outputs": [
    {
     "data": {
      "application/3dmoljs_load.v0": "<div id=\"3dmolviewer_16954009544492617\"  style=\"position: relative; width: 450.0; height: 900px\">\n        <p id=\"3dmolwarning_16954009544492617\" style=\"background-color:#ffcccc;color:black\">You appear to be running in JupyterLab (or JavaScript failed to load for some other reason).  You need to install the 3dmol extension: <br>\n        <tt>jupyter labextension install jupyterlab_3dmol</tt></p>\n        </div>\n<script>\n\nvar loadScriptAsync = function(uri){\n  return new Promise((resolve, reject) => {\n    //this is to ignore the existence of requirejs amd\n    var savedexports, savedmodule;\n    if (typeof exports !== 'undefined') savedexports = exports;\n    else exports = {}\n    if (typeof module !== 'undefined') savedmodule = module;\n    else module = {}\n\n    var tag = document.createElement('script');\n    tag.src = uri;\n    tag.async = true;\n    tag.onload = () => {\n        exports = savedexports;\n        module = savedmodule;\n        resolve();\n    };\n  var firstScriptTag = document.getElementsByTagName('script')[0];\n  firstScriptTag.parentNode.insertBefore(tag, firstScriptTag);\n});\n};\n\nif(typeof $3Dmolpromise === 'undefined') {\n$3Dmolpromise = null;\n  $3Dmolpromise = loadScriptAsync('https://cdnjs.cloudflare.com/ajax/libs/3Dmol/2.0.1/3Dmol-min.js');\n}\n\nvar viewer_16954009544492617 = null;\nvar warn = document.getElementById(\"3dmolwarning_16954009544492617\");\nif(warn) {\n    warn.parentNode.removeChild(warn);\n}\n$3Dmolpromise.then(function() {\nvar viewergrid_16954009544492617 = null;\nviewergrid_16954009544492617 = $3Dmol.createViewerGrid(document.getElementById(\"3dmolviewer_16954009544492617\"),{rows: 2, cols: 1, control_all: false},{backgroundColor:\"white\"});\nviewer_16954009544492617 = viewergrid_16954009544492617[0][0];\nviewergrid_16954009544492617[0][0].zoomTo();viewergrid_16954009544492617[1][0].zoomTo();\tviewergrid_16954009544492617[0][0].addModel(\"\\n     RDKit          3D\\n\\n 43 46  0  0  0  0  0  0  0  0999 V2000\\n   53.2190   48.8380   34.8310 C   0  0  0  0  0  0  0  0  0  0  0  0\\n   53.0300   49.2400   36.3100 C   0  0  0  0  0  0  0  0  0  0  0  0\\n   54.0090   49.9280   36.9730 C   0  0  0  0  0  0  0  0  0  0  0  0\\n   53.7930   49.9730   38.3330 N   0  0  0  0  0  0  0  0  0  0  0  0\\n   52.6810   49.3670   38.6810 C   0  0  0  0  0  0  0  0  0  0  0  0\\n   51.8230   48.5650   37.3970 S   0  0  0  0  0  0  0  0  0  0  0  0\\n   52.1710   49.3300   40.0650 C   0  0  0  0  0  0  0  0  0  0  0  0\\n   52.9890   49.4570   41.2060 C   0  0  0  0  0  0  0  0  0  0  0  0\\n   52.4950   49.3260   42.4990 C   0  0  0  0  0  0  0  0  0  0  0  0\\n   51.1630   49.1480   42.7280 C   0  0  0  0  0  0  0  0  0  0  0  0\\n   50.3180   49.2050   41.6600 C   0  0  0  0  0  0  0  0  0  0  0  0\\n   48.8280   48.9660   42.0280 C   0  0  0  0  0  0  0  0  0  0  0  0\\n   48.4450   47.5800   41.8480 N   0  0  0  0  0  0  0  0  0  0  0  0\\n   47.9520   47.2570   40.6450 N   0  0  0  0  0  0  0  0  0  0  0  0\\n   47.4070   46.1240   40.3530 C   0  0  0  0  0  0  0  0  0  0  0  0\\n   47.4550   45.0970   41.2870 C   0  0  0  0  0  0  0  0  0  0  0  0\\n   47.9250   45.3650   42.5540 C   0  0  0  0  0  0  0  0  0  0  0  0\\n   48.5250   46.6230   42.9190 C   0  0  0  0  0  0  0  0  0  0  0  0\\n   48.8780   46.9110   44.0720 O   0  0  0  0  0  0  0  0  0  0  0  0\\n   46.7070   45.8830   39.0630 C   0  0  0  0  0  0  0  0  0  0  0  0\\n   46.2210   47.0310   38.3600 C   0  0  0  0  0  0  0  0  0  0  0  0\\n   45.3820   46.9610   37.2040 C   0  0  0  0  0  0  0  0  0  0  0  0\\n   45.0690   48.0230   36.4860 F   0  0  0  0  0  0  0  0  0  0  0  0\\n   45.0640   45.6930   36.7030 C   0  0  0  0  0  0  0  0  0  0  0  0\\n   45.6080   44.5450   37.3200 C   0  0  0  0  0  0  0  0  0  0  0  0\\n   45.2780   43.3250   36.8270 F   0  0  0  0  0  0  0  0  0  0  0  0\\n   46.3630   44.6670   38.4980 C   0  0  0  0  0  0  0  0  0  0  0  0\\n   50.7810   49.3080   40.2880 C   0  0  0  0  0  0  0  0  0  0  0  0\\n   53.8870   47.9680   34.8090 H   0  0  0  0  0  0  0  0  0  0  0  0\\n   53.8200   49.5700   34.2770 H   0  0  0  0  0  0  0  0  0  0  0  0\\n   52.3110   48.6960   34.2330 H   0  0  0  0  0  0  0  0  0  0  0  0\\n   54.9020   50.3890   36.5720 H   0  0  0  0  0  0  0  0  0  0  0  0\\n   54.0570   49.6070   41.0820 H   0  0  0  0  0  0  0  0  0  0  0  0\\n   53.1280   49.3650   43.3800 H   0  0  0  0  0  0  0  0  0  0  0  0\\n   50.8030   49.0100   43.7430 H   0  0  0  0  0  0  0  0  0  0  0  0\\n   48.6570   49.2770   43.0660 H   0  0  0  0  0  0  0  0  0  0  0  0\\n   48.2090   49.5880   41.3690 H   0  0  0  0  0  0  0  0  0  0  0  0\\n   47.0360   44.1200   41.0770 H   0  0  0  0  0  0  0  0  0  0  0  0\\n   48.0310   44.6120   43.3270 H   0  0  0  0  0  0  0  0  0  0  0  0\\n   46.5080   48.0300   38.6740 H   0  0  0  0  0  0  0  0  0  0  0  0\\n   44.4700   45.5190   35.8120 H   0  0  0  0  0  0  0  0  0  0  0  0\\n   46.7450   43.7830   39.0020 H   0  0  0  0  0  0  0  0  0  0  0  0\\n   50.0750   49.2290   39.4660 H   0  0  0  0  0  0  0  0  0  0  0  0\\n  2  1  1  0\\n  3  2  1  0\\n  4  3  1  0\\n  5  4  1  0\\n  6  2  1  0\\n  6  5  1  0\\n  7  5  1  0\\n  8  7  1  0\\n  9  8  1  0\\n 10  9  1  0\\n 11 10  1  0\\n 12 11  1  0\\n 13 12  1  0\\n 14 13  1  0\\n 15 14  1  0\\n 16 15  1  0\\n 17 16  1  0\\n 18 17  1  0\\n 18 13  1  0\\n 19 18  1  0\\n 20 15  1  0\\n 21 20  1  0\\n 22 21  1  0\\n 23 22  1  0\\n 24 22  1  0\\n 25 24  1  0\\n 26 25  1  0\\n 27 25  1  0\\n 27 20  1  0\\n 28 11  1  0\\n 28  7  1  0\\n 29  1  1  0\\n 30  1  1  0\\n 31  1  1  0\\n 32  3  1  0\\n 33  8  1  0\\n 34  9  1  0\\n 35 10  1  0\\n 36 12  1  0\\n 37 12  1  0\\n 38 16  1  0\\n 39 17  1  0\\n 40 21  1  0\\n 41 24  1  0\\n 42 27  1  0\\n 43 28  1  0\\nM  END\\n\",\"mol0\");\n\tviewergrid_16954009544492617[1][0].addModel(\"\\n     RDKit          3D\\n\\n 63 67  0  0  0  0  0  0  0  0999 V2000\\n   48.3860   52.5490   45.1910 O   0  0  0  0  0  0  0  0  0  0  0  0\\n   47.6210   52.3730   44.2990 C   0  0  0  0  0  0  0  0  0  0  0  0\\n   47.1480   51.0560   43.9300 C   0  0  0  0  0  0  0  0  0  0  0  0\\n   46.1570   50.7810   42.9540 C   0  0  0  0  0  0  0  0  0  0  0  0\\n   45.5900   51.9140   42.1860 C   0  0  0  0  0  0  0  0  0  0  0  0\\n   46.0910   53.1080   42.4160 N   0  0  0  0  0  0  0  0  0  0  0  0\\n   47.0690   53.3190   43.4150 N   0  0  0  0  0  0  0  0  0  0  0  0\\n   47.3590   54.7700   43.6860 C   0  0  0  0  0  0  0  0  0  0  0  0\\n   48.6690   55.2080   43.2650 C   0  0  0  0  0  0  0  0  0  0  0  0\\n   49.6960   55.3470   44.2520 C   0  0  0  0  0  0  0  0  0  0  0  0\\n   50.9240   55.8630   43.8930 C   0  0  0  0  0  0  0  0  0  0  0  0\\n   51.2430   56.2770   42.6110 C   0  0  0  0  0  0  0  0  0  0  0  0\\n   50.2260   56.1940   41.6370 C   0  0  0  0  0  0  0  0  0  0  0  0\\n   49.0030   55.5540   41.9760 C   0  0  0  0  0  0  0  0  0  0  0  0\\n   50.4300   56.5310   40.1850 C   0  0  0  0  0  0  0  0  0  0  0  0\\n   51.6470   56.9720   39.8920 N   0  0  0  0  0  0  0  0  0  0  0  0\\n   51.9970   57.1230   38.6140 C   0  0  0  0  0  0  0  0  0  0  0  0\\n   51.1500   56.9200   37.5330 C   0  0  0  0  0  0  0  0  0  0  0  0\\n   51.5720   57.2510   36.2330 O   0  0  0  0  0  0  0  0  0  0  0  0\\n   50.8050   56.8070   35.0850 C   0  0  0  0  0  0  0  0  0  0  0  0\\n   51.0660   55.2890   34.7790 C   0  0  0  0  0  0  0  0  0  0  0  0\\n   51.7160   55.1230   33.4680 N   0  0  0  0  0  0  0  0  0  0  0  0\\n   51.5080   53.7700   32.7540 C   0  0  0  0  0  0  0  0  0  0  0  0\\n   52.1780   53.6660   31.3940 C   0  0  0  0  0  0  0  0  0  0  0  0\\n   53.5990   53.8430   31.5730 O   0  0  0  0  0  0  0  0  0  0  0  0\\n   53.8160   55.2210   32.0210 C   0  0  0  0  0  0  0  0  0  0  0  0\\n   53.1280   55.4530   33.4570 C   0  0  0  0  0  0  0  0  0  0  0  0\\n   49.8990   56.3380   37.9170 C   0  0  0  0  0  0  0  0  0  0  0  0\\n   49.5940   56.0670   39.1960 N   0  0  0  0  0  0  0  0  0  0  0  0\\n   44.6050   51.6380   41.0780 C   0  0  0  0  0  0  0  0  0  0  0  0\\n   44.7010   52.2490   39.8060 C   0  0  0  0  0  0  0  0  0  0  0  0\\n   43.7670   51.8890   38.8540 C   0  0  0  0  0  0  0  0  0  0  0  0\\n   42.8360   50.9860   39.0140 C   0  0  0  0  0  0  0  0  0  0  0  0\\n   42.7120   50.3300   40.1950 C   0  0  0  0  0  0  0  0  0  0  0  0\\n   43.6250   50.6290   41.2690 C   0  0  0  0  0  0  0  0  0  0  0  0\\n   41.7990   49.3190   40.2500 C   0  0  0  0  0  0  0  0  0  0  0  0\\n   41.0460   48.4490   40.2410 N   0  0  0  0  0  0  0  0  0  0  0  0\\n   47.6950   50.2830   44.4570 H   0  0  0  0  0  0  0  0  0  0  0  0\\n   45.8380   49.7550   42.8090 H   0  0  0  0  0  0  0  0  0  0  0  0\\n   47.2920   54.9270   44.7700 H   0  0  0  0  0  0  0  0  0  0  0  0\\n   46.6240   55.4460   43.2320 H   0  0  0  0  0  0  0  0  0  0  0  0\\n   49.4190   55.1170   45.2770 H   0  0  0  0  0  0  0  0  0  0  0  0\\n   51.6610   56.0290   44.6730 H   0  0  0  0  0  0  0  0  0  0  0  0\\n   52.2440   56.6220   42.3690 H   0  0  0  0  0  0  0  0  0  0  0  0\\n   48.2410   55.3890   41.2200 H   0  0  0  0  0  0  0  0  0  0  0  0\\n   53.0070   57.5190   38.5170 H   0  0  0  0  0  0  0  0  0  0  0  0\\n   50.9620   57.5010   34.2490 H   0  0  0  0  0  0  0  0  0  0  0  0\\n   49.7390   56.9350   35.3110 H   0  0  0  0  0  0  0  0  0  0  0  0\\n   50.0970   54.7750   34.7640 H   0  0  0  0  0  0  0  0  0  0  0  0\\n   51.7260   54.7400   35.4620 H   0  0  0  0  0  0  0  0  0  0  0  0\\n   51.8570   52.9380   33.3780 H   0  0  0  0  0  0  0  0  0  0  0  0\\n   50.4430   53.5120   32.7010 H   0  0  0  0  0  0  0  0  0  0  0  0\\n   51.8750   52.6700   31.0500 H   0  0  0  0  0  0  0  0  0  0  0  0\\n   51.8050   54.3450   30.6180 H   0  0  0  0  0  0  0  0  0  0  0  0\\n   54.8790   55.4750   32.1140 H   0  0  0  0  0  0  0  0  0  0  0  0\\n   53.4190   55.9190   31.2740 H   0  0  0  0  0  0  0  0  0  0  0  0\\n   53.6500   54.8390   34.2010 H   0  0  0  0  0  0  0  0  0  0  0  0\\n   53.2880   56.5180   33.6690 H   0  0  0  0  0  0  0  0  0  0  0  0\\n   49.1290   56.1060   37.1820 H   0  0  0  0  0  0  0  0  0  0  0  0\\n   45.4990   52.9480   39.5760 H   0  0  0  0  0  0  0  0  0  0  0  0\\n   43.8560   52.3730   37.8860 H   0  0  0  0  0  0  0  0  0  0  0  0\\n   42.2760   50.7170   38.1230 H   0  0  0  0  0  0  0  0  0  0  0  0\\n   43.4370   50.0840   42.1900 H   0  0  0  0  0  0  0  0  0  0  0  0\\n  2  1  1  0\\n  3  2  1  0\\n  4  3  1  0\\n  5  4  1  0\\n  6  5  1  0\\n  7  6  1  0\\n  7  2  1  0\\n  8  7  1  0\\n  9  8  1  0\\n 10  9  1  0\\n 11 10  1  0\\n 12 11  1  0\\n 13 12  1  0\\n 14  9  1  0\\n 14 13  1  0\\n 15 13  1  0\\n 16 15  1  0\\n 17 16  1  0\\n 18 17  1  0\\n 19 18  1  0\\n 20 19  1  0\\n 21 20  1  0\\n 22 21  1  0\\n 23 22  1  0\\n 24 23  1  0\\n 25 24  1  0\\n 26 25  1  0\\n 27 26  1  0\\n 27 22  1  0\\n 28 18  1  0\\n 29 28  1  0\\n 29 15  1  0\\n 30  5  1  0\\n 31 30  1  0\\n 32 31  1  0\\n 33 32  1  0\\n 34 33  1  0\\n 35 34  1  0\\n 35 30  1  0\\n 36 34  1  0\\n 37 36  1  0\\n 38  3  1  0\\n 39  4  1  0\\n 40  8  1  0\\n 41  8  1  0\\n 42 10  1  0\\n 43 11  1  0\\n 44 12  1  0\\n 45 14  1  0\\n 46 17  1  0\\n 47 20  1  0\\n 48 20  1  0\\n 49 21  1  0\\n 50 21  1  0\\n 51 23  1  0\\n 52 23  1  0\\n 53 24  1  0\\n 54 24  1  0\\n 55 26  1  0\\n 56 26  1  0\\n 57 27  1  0\\n 58 27  1  0\\n 59 28  1  0\\n 60 31  1  0\\n 61 32  1  0\\n 62 33  1  0\\n 63 35  1  0\\nM  END\\n\",\"mol1\");\n\tviewergrid_16954009544492617[0][0].setStyle({\"model\": 0},{\"stick\": {\"colorscheme\": \"grayCarbon\", \"linewidth\": 0.1}});\n\tviewergrid_16954009544492617[1][0].setStyle({\"model\": 0},{\"stick\": {\"colorscheme\": \"grayCarbon\", \"linewidth\": 0.1}});\n\tviewergrid_16954009544492617[0][0].addSphere({\"center\": {\"x\": 53.219, \"y\": 48.838, \"z\": 34.831}, \"radius\": 0.5, \"color\": \"green\", \"alpha\": 0.8});\n\tviewergrid_16954009544492617[0][0].addLabel(\"0 \\u2192 18\",{\"position\": {\"x\": 53.219, \"y\": 48.838, \"z\": 34.831}});\n\tviewergrid_16954009544492617[1][0].addSphere({\"center\": {\"x\": 51.572, \"y\": 57.251, \"z\": 36.233}, \"radius\": 0.5, \"color\": \"green\", \"alpha\": 0.8});\n\tviewergrid_16954009544492617[1][0].addLabel(\"18 \\u2192 0\",{\"position\": {\"x\": 51.572, \"y\": 57.251, \"z\": 36.233}});\n\tviewergrid_16954009544492617[0][0].addSphere({\"center\": {\"x\": 53.03, \"y\": 49.24, \"z\": 36.31}, \"radius\": 0.5, \"color\": \"green\", \"alpha\": 0.8});\n\tviewergrid_16954009544492617[0][0].addLabel(\"1 \\u2192 17\",{\"position\": {\"x\": 53.03, \"y\": 49.24, \"z\": 36.31}});\n\tviewergrid_16954009544492617[1][0].addSphere({\"center\": {\"x\": 51.15, \"y\": 56.92, \"z\": 37.533}, \"radius\": 0.5, \"color\": \"green\", \"alpha\": 0.8});\n\tviewergrid_16954009544492617[1][0].addLabel(\"17 \\u2192 1\",{\"position\": {\"x\": 51.15, \"y\": 56.92, \"z\": 37.533}});\n\tviewergrid_16954009544492617[0][0].addSphere({\"center\": {\"x\": 54.009, \"y\": 49.928, \"z\": 36.973}, \"radius\": 0.5, \"color\": \"green\", \"alpha\": 0.8});\n\tviewergrid_16954009544492617[0][0].addLabel(\"2 \\u2192 16\",{\"position\": {\"x\": 54.009, \"y\": 49.928, \"z\": 36.973}});\n\tviewergrid_16954009544492617[1][0].addSphere({\"center\": {\"x\": 51.997, \"y\": 57.123, \"z\": 38.614}, \"radius\": 0.5, \"color\": \"green\", \"alpha\": 0.8});\n\tviewergrid_16954009544492617[1][0].addLabel(\"16 \\u2192 2\",{\"position\": {\"x\": 51.997, \"y\": 57.123, \"z\": 38.614}});\n\tviewergrid_16954009544492617[0][0].addSphere({\"center\": {\"x\": 53.793, \"y\": 49.973, \"z\": 38.333}, \"radius\": 0.5, \"color\": \"green\", \"alpha\": 0.8});\n\tviewergrid_16954009544492617[0][0].addLabel(\"3 \\u2192 15\",{\"position\": {\"x\": 53.793, \"y\": 49.973, \"z\": 38.333}});\n\tviewergrid_16954009544492617[1][0].addSphere({\"center\": {\"x\": 51.647, \"y\": 56.972, \"z\": 39.892}, \"radius\": 0.5, \"color\": \"green\", \"alpha\": 0.8});\n\tviewergrid_16954009544492617[1][0].addLabel(\"15 \\u2192 3\",{\"position\": {\"x\": 51.647, \"y\": 56.972, \"z\": 39.892}});\n\tviewergrid_16954009544492617[0][0].addSphere({\"center\": {\"x\": 52.681, \"y\": 49.367, \"z\": 38.681}, \"radius\": 0.5, \"color\": \"green\", \"alpha\": 0.8});\n\tviewergrid_16954009544492617[0][0].addLabel(\"4 \\u2192 14\",{\"position\": {\"x\": 52.681, \"y\": 49.367, \"z\": 38.681}});\n\tviewergrid_16954009544492617[1][0].addSphere({\"center\": {\"x\": 50.43, \"y\": 56.531, \"z\": 40.185}, \"radius\": 0.5, \"color\": \"green\", \"alpha\": 0.8});\n\tviewergrid_16954009544492617[1][0].addLabel(\"14 \\u2192 4\",{\"position\": {\"x\": 50.43, \"y\": 56.531, \"z\": 40.185}});\n\tviewergrid_16954009544492617[0][0].addSphere({\"center\": {\"x\": 52.171, \"y\": 49.33, \"z\": 40.065}, \"radius\": 0.5, \"color\": \"green\", \"alpha\": 0.8});\n\tviewergrid_16954009544492617[0][0].addLabel(\"6 \\u2192 12\",{\"position\": {\"x\": 52.171, \"y\": 49.33, \"z\": 40.065}});\n\tviewergrid_16954009544492617[1][0].addSphere({\"center\": {\"x\": 50.226, \"y\": 56.194, \"z\": 41.637}, \"radius\": 0.5, \"color\": \"green\", \"alpha\": 0.8});\n\tviewergrid_16954009544492617[1][0].addLabel(\"12 \\u2192 6\",{\"position\": {\"x\": 50.226, \"y\": 56.194, \"z\": 41.637}});\n\tviewergrid_16954009544492617[0][0].addSphere({\"center\": {\"x\": 52.989, \"y\": 49.457, \"z\": 41.206}, \"radius\": 0.5, \"color\": \"green\", \"alpha\": 0.8});\n\tviewergrid_16954009544492617[0][0].addLabel(\"7 \\u2192 11\",{\"position\": {\"x\": 52.989, \"y\": 49.457, \"z\": 41.206}});\n\tviewergrid_16954009544492617[1][0].addSphere({\"center\": {\"x\": 51.243, \"y\": 56.277, \"z\": 42.611}, \"radius\": 0.5, \"color\": \"green\", \"alpha\": 0.8});\n\tviewergrid_16954009544492617[1][0].addLabel(\"11 \\u2192 7\",{\"position\": {\"x\": 51.243, \"y\": 56.277, \"z\": 42.611}});\n\tviewergrid_16954009544492617[0][0].addSphere({\"center\": {\"x\": 52.495, \"y\": 49.326, \"z\": 42.499}, \"radius\": 0.5, \"color\": \"green\", \"alpha\": 0.8});\n\tviewergrid_16954009544492617[0][0].addLabel(\"8 \\u2192 10\",{\"position\": {\"x\": 52.495, \"y\": 49.326, \"z\": 42.499}});\n\tviewergrid_16954009544492617[1][0].addSphere({\"center\": {\"x\": 50.924, \"y\": 55.863, \"z\": 43.893}, \"radius\": 0.5, \"color\": \"green\", \"alpha\": 0.8});\n\tviewergrid_16954009544492617[1][0].addLabel(\"10 \\u2192 8\",{\"position\": {\"x\": 50.924, \"y\": 55.863, \"z\": 43.893}});\n\tviewergrid_16954009544492617[0][0].addSphere({\"center\": {\"x\": 51.163, \"y\": 49.148, \"z\": 42.728}, \"radius\": 0.5, \"color\": \"green\", \"alpha\": 0.8});\n\tviewergrid_16954009544492617[0][0].addLabel(\"9 \\u2192 9\",{\"position\": {\"x\": 51.163, \"y\": 49.148, \"z\": 42.728}});\n\tviewergrid_16954009544492617[1][0].addSphere({\"center\": {\"x\": 49.696, \"y\": 55.347, \"z\": 44.252}, \"radius\": 0.5, \"color\": \"green\", \"alpha\": 0.8});\n\tviewergrid_16954009544492617[1][0].addLabel(\"9 \\u2192 9\",{\"position\": {\"x\": 49.696, \"y\": 55.347, \"z\": 44.252}});\n\tviewergrid_16954009544492617[0][0].addSphere({\"center\": {\"x\": 50.318, \"y\": 49.205, \"z\": 41.66}, \"radius\": 0.5, \"color\": \"green\", \"alpha\": 0.8});\n\tviewergrid_16954009544492617[0][0].addLabel(\"10 \\u2192 8\",{\"position\": {\"x\": 50.318, \"y\": 49.205, \"z\": 41.66}});\n\tviewergrid_16954009544492617[1][0].addSphere({\"center\": {\"x\": 48.669, \"y\": 55.208, \"z\": 43.265}, \"radius\": 0.5, \"color\": \"green\", \"alpha\": 0.8});\n\tviewergrid_16954009544492617[1][0].addLabel(\"8 \\u2192 10\",{\"position\": {\"x\": 48.669, \"y\": 55.208, \"z\": 43.265}});\n\tviewergrid_16954009544492617[0][0].addSphere({\"center\": {\"x\": 48.828, \"y\": 48.966, \"z\": 42.028}, \"radius\": 0.5, \"color\": \"green\", \"alpha\": 0.8});\n\tviewergrid_16954009544492617[0][0].addLabel(\"11 \\u2192 7\",{\"position\": {\"x\": 48.828, \"y\": 48.966, \"z\": 42.028}});\n\tviewergrid_16954009544492617[1][0].addSphere({\"center\": {\"x\": 47.359, \"y\": 54.77, \"z\": 43.686}, \"radius\": 0.5, \"color\": \"green\", \"alpha\": 0.8});\n\tviewergrid_16954009544492617[1][0].addLabel(\"7 \\u2192 11\",{\"position\": {\"x\": 47.359, \"y\": 54.77, \"z\": 43.686}});\n\tviewergrid_16954009544492617[0][0].addSphere({\"center\": {\"x\": 48.445, \"y\": 47.58, \"z\": 41.848}, \"radius\": 0.5, \"color\": \"green\", \"alpha\": 0.8});\n\tviewergrid_16954009544492617[0][0].addLabel(\"12 \\u2192 6\",{\"position\": {\"x\": 48.445, \"y\": 47.58, \"z\": 41.848}});\n\tviewergrid_16954009544492617[1][0].addSphere({\"center\": {\"x\": 47.069, \"y\": 53.319, \"z\": 43.415}, \"radius\": 0.5, \"color\": \"green\", \"alpha\": 0.8});\n\tviewergrid_16954009544492617[1][0].addLabel(\"6 \\u2192 12\",{\"position\": {\"x\": 47.069, \"y\": 53.319, \"z\": 43.415}});\n\tviewergrid_16954009544492617[0][0].addSphere({\"center\": {\"x\": 47.952, \"y\": 47.257, \"z\": 40.645}, \"radius\": 0.5, \"color\": \"green\", \"alpha\": 0.8});\n\tviewergrid_16954009544492617[0][0].addLabel(\"13 \\u2192 5\",{\"position\": {\"x\": 47.952, \"y\": 47.257, \"z\": 40.645}});\n\tviewergrid_16954009544492617[1][0].addSphere({\"center\": {\"x\": 46.091, \"y\": 53.108, \"z\": 42.416}, \"radius\": 0.5, \"color\": \"green\", \"alpha\": 0.8});\n\tviewergrid_16954009544492617[1][0].addLabel(\"5 \\u2192 13\",{\"position\": {\"x\": 46.091, \"y\": 53.108, \"z\": 42.416}});\n\tviewergrid_16954009544492617[0][0].addSphere({\"center\": {\"x\": 47.407, \"y\": 46.124, \"z\": 40.353}, \"radius\": 0.5, \"color\": \"green\", \"alpha\": 0.8});\n\tviewergrid_16954009544492617[0][0].addLabel(\"14 \\u2192 4\",{\"position\": {\"x\": 47.407, \"y\": 46.124, \"z\": 40.353}});\n\tviewergrid_16954009544492617[1][0].addSphere({\"center\": {\"x\": 45.59, \"y\": 51.914, \"z\": 42.186}, \"radius\": 0.5, \"color\": \"green\", \"alpha\": 0.8});\n\tviewergrid_16954009544492617[1][0].addLabel(\"4 \\u2192 14\",{\"position\": {\"x\": 45.59, \"y\": 51.914, \"z\": 42.186}});\n\tviewergrid_16954009544492617[0][0].addSphere({\"center\": {\"x\": 47.455, \"y\": 45.097, \"z\": 41.287}, \"radius\": 0.5, \"color\": \"green\", \"alpha\": 0.8});\n\tviewergrid_16954009544492617[0][0].addLabel(\"15 \\u2192 3\",{\"position\": {\"x\": 47.455, \"y\": 45.097, \"z\": 41.287}});\n\tviewergrid_16954009544492617[1][0].addSphere({\"center\": {\"x\": 46.157, \"y\": 50.781, \"z\": 42.954}, \"radius\": 0.5, \"color\": \"green\", \"alpha\": 0.8});\n\tviewergrid_16954009544492617[1][0].addLabel(\"3 \\u2192 15\",{\"position\": {\"x\": 46.157, \"y\": 50.781, \"z\": 42.954}});\n\tviewergrid_16954009544492617[0][0].addSphere({\"center\": {\"x\": 47.925, \"y\": 45.365, \"z\": 42.554}, \"radius\": 0.5, \"color\": \"green\", \"alpha\": 0.8});\n\tviewergrid_16954009544492617[0][0].addLabel(\"16 \\u2192 2\",{\"position\": {\"x\": 47.925, \"y\": 45.365, \"z\": 42.554}});\n\tviewergrid_16954009544492617[1][0].addSphere({\"center\": {\"x\": 47.148, \"y\": 51.056, \"z\": 43.93}, \"radius\": 0.5, \"color\": \"green\", \"alpha\": 0.8});\n\tviewergrid_16954009544492617[1][0].addLabel(\"2 \\u2192 16\",{\"position\": {\"x\": 47.148, \"y\": 51.056, \"z\": 43.93}});\n\tviewergrid_16954009544492617[0][0].addSphere({\"center\": {\"x\": 48.525, \"y\": 46.623, \"z\": 42.919}, \"radius\": 0.5, \"color\": \"green\", \"alpha\": 0.8});\n\tviewergrid_16954009544492617[0][0].addLabel(\"17 \\u2192 1\",{\"position\": {\"x\": 48.525, \"y\": 46.623, \"z\": 42.919}});\n\tviewergrid_16954009544492617[1][0].addSphere({\"center\": {\"x\": 47.621, \"y\": 52.373, \"z\": 44.299}, \"radius\": 0.5, \"color\": \"green\", \"alpha\": 0.8});\n\tviewergrid_16954009544492617[1][0].addLabel(\"1 \\u2192 17\",{\"position\": {\"x\": 47.621, \"y\": 52.373, \"z\": 44.299}});\n\tviewergrid_16954009544492617[0][0].addSphere({\"center\": {\"x\": 48.878, \"y\": 46.911, \"z\": 44.072}, \"radius\": 0.5, \"color\": \"green\", \"alpha\": 0.8});\n\tviewergrid_16954009544492617[0][0].addLabel(\"18 \\u2192 0\",{\"position\": {\"x\": 48.878, \"y\": 46.911, \"z\": 44.072}});\n\tviewergrid_16954009544492617[1][0].addSphere({\"center\": {\"x\": 48.386, \"y\": 52.549, \"z\": 45.191}, \"radius\": 0.5, \"color\": \"green\", \"alpha\": 0.8});\n\tviewergrid_16954009544492617[1][0].addLabel(\"0 \\u2192 18\",{\"position\": {\"x\": 48.386, \"y\": 52.549, \"z\": 45.191}});\n\tviewergrid_16954009544492617[0][0].addSphere({\"center\": {\"x\": 46.707, \"y\": 45.883, \"z\": 39.063}, \"radius\": 0.5, \"color\": \"green\", \"alpha\": 0.8});\n\tviewergrid_16954009544492617[0][0].addLabel(\"19 \\u2192 29\",{\"position\": {\"x\": 46.707, \"y\": 45.883, \"z\": 39.063}});\n\tviewergrid_16954009544492617[1][0].addSphere({\"center\": {\"x\": 44.605, \"y\": 51.638, \"z\": 41.078}, \"radius\": 0.5, \"color\": \"green\", \"alpha\": 0.8});\n\tviewergrid_16954009544492617[1][0].addLabel(\"29 \\u2192 19\",{\"position\": {\"x\": 44.605, \"y\": 51.638, \"z\": 41.078}});\n\tviewergrid_16954009544492617[0][0].addSphere({\"center\": {\"x\": 46.221, \"y\": 47.031, \"z\": 38.36}, \"radius\": 0.5, \"color\": \"green\", \"alpha\": 0.8});\n\tviewergrid_16954009544492617[0][0].addLabel(\"20 \\u2192 30\",{\"position\": {\"x\": 46.221, \"y\": 47.031, \"z\": 38.36}});\n\tviewergrid_16954009544492617[1][0].addSphere({\"center\": {\"x\": 44.701, \"y\": 52.249, \"z\": 39.806}, \"radius\": 0.5, \"color\": \"green\", \"alpha\": 0.8});\n\tviewergrid_16954009544492617[1][0].addLabel(\"30 \\u2192 20\",{\"position\": {\"x\": 44.701, \"y\": 52.249, \"z\": 39.806}});\n\tviewergrid_16954009544492617[0][0].addSphere({\"center\": {\"x\": 45.382, \"y\": 46.961, \"z\": 37.204}, \"radius\": 0.5, \"color\": \"green\", \"alpha\": 0.8});\n\tviewergrid_16954009544492617[0][0].addLabel(\"21 \\u2192 31\",{\"position\": {\"x\": 45.382, \"y\": 46.961, \"z\": 37.204}});\n\tviewergrid_16954009544492617[1][0].addSphere({\"center\": {\"x\": 43.767, \"y\": 51.889, \"z\": 38.854}, \"radius\": 0.5, \"color\": \"green\", \"alpha\": 0.8});\n\tviewergrid_16954009544492617[1][0].addLabel(\"31 \\u2192 21\",{\"position\": {\"x\": 43.767, \"y\": 51.889, \"z\": 38.854}});\n\tviewergrid_16954009544492617[0][0].addSphere({\"center\": {\"x\": 45.064, \"y\": 45.693, \"z\": 36.703}, \"radius\": 0.5, \"color\": \"green\", \"alpha\": 0.8});\n\tviewergrid_16954009544492617[0][0].addLabel(\"23 \\u2192 32\",{\"position\": {\"x\": 45.064, \"y\": 45.693, \"z\": 36.703}});\n\tviewergrid_16954009544492617[1][0].addSphere({\"center\": {\"x\": 42.836, \"y\": 50.986, \"z\": 39.014}, \"radius\": 0.5, \"color\": \"green\", \"alpha\": 0.8});\n\tviewergrid_16954009544492617[1][0].addLabel(\"32 \\u2192 23\",{\"position\": {\"x\": 42.836, \"y\": 50.986, \"z\": 39.014}});\n\tviewergrid_16954009544492617[0][0].addSphere({\"center\": {\"x\": 45.608, \"y\": 44.545, \"z\": 37.32}, \"radius\": 0.5, \"color\": \"green\", \"alpha\": 0.8});\n\tviewergrid_16954009544492617[0][0].addLabel(\"24 \\u2192 33\",{\"position\": {\"x\": 45.608, \"y\": 44.545, \"z\": 37.32}});\n\tviewergrid_16954009544492617[1][0].addSphere({\"center\": {\"x\": 42.712, \"y\": 50.33, \"z\": 40.195}, \"radius\": 0.5, \"color\": \"green\", \"alpha\": 0.8});\n\tviewergrid_16954009544492617[1][0].addLabel(\"33 \\u2192 24\",{\"position\": {\"x\": 42.712, \"y\": 50.33, \"z\": 40.195}});\n\tviewergrid_16954009544492617[0][0].addSphere({\"center\": {\"x\": 45.278, \"y\": 43.325, \"z\": 36.827}, \"radius\": 0.5, \"color\": \"green\", \"alpha\": 0.8});\n\tviewergrid_16954009544492617[0][0].addLabel(\"25 \\u2192 35\",{\"position\": {\"x\": 45.278, \"y\": 43.325, \"z\": 36.827}});\n\tviewergrid_16954009544492617[1][0].addSphere({\"center\": {\"x\": 41.799, \"y\": 49.319, \"z\": 40.25}, \"radius\": 0.5, \"color\": \"green\", \"alpha\": 0.8});\n\tviewergrid_16954009544492617[1][0].addLabel(\"35 \\u2192 25\",{\"position\": {\"x\": 41.799, \"y\": 49.319, \"z\": 40.25}});\n\tviewergrid_16954009544492617[0][0].addSphere({\"center\": {\"x\": 46.363, \"y\": 44.667, \"z\": 38.498}, \"radius\": 0.5, \"color\": \"green\", \"alpha\": 0.8});\n\tviewergrid_16954009544492617[0][0].addLabel(\"26 \\u2192 34\",{\"position\": {\"x\": 46.363, \"y\": 44.667, \"z\": 38.498}});\n\tviewergrid_16954009544492617[1][0].addSphere({\"center\": {\"x\": 43.625, \"y\": 50.629, \"z\": 41.269}, \"radius\": 0.5, \"color\": \"green\", \"alpha\": 0.8});\n\tviewergrid_16954009544492617[1][0].addLabel(\"34 \\u2192 26\",{\"position\": {\"x\": 43.625, \"y\": 50.629, \"z\": 41.269}});\n\tviewergrid_16954009544492617[0][0].addSphere({\"center\": {\"x\": 50.781, \"y\": 49.308, \"z\": 40.288}, \"radius\": 0.5, \"color\": \"green\", \"alpha\": 0.8});\n\tviewergrid_16954009544492617[0][0].addLabel(\"27 \\u2192 13\",{\"position\": {\"x\": 50.781, \"y\": 49.308, \"z\": 40.288}});\n\tviewergrid_16954009544492617[1][0].addSphere({\"center\": {\"x\": 49.003, \"y\": 55.554, \"z\": 41.976}, \"radius\": 0.5, \"color\": \"green\", \"alpha\": 0.8});\n\tviewergrid_16954009544492617[1][0].addLabel(\"13 \\u2192 27\",{\"position\": {\"x\": 49.003, \"y\": 55.554, \"z\": 41.976}});\n\tviewergrid_16954009544492617[0][0].addSphere({\"center\": {\"x\": 54.902, \"y\": 50.389, \"z\": 36.572}, \"radius\": 0.5, \"color\": \"green\", \"alpha\": 0.8});\n\tviewergrid_16954009544492617[0][0].addLabel(\"31 \\u2192 45\",{\"position\": {\"x\": 54.902, \"y\": 50.389, \"z\": 36.572}});\n\tviewergrid_16954009544492617[1][0].addSphere({\"center\": {\"x\": 53.007, \"y\": 57.519, \"z\": 38.517}, \"radius\": 0.5, \"color\": \"green\", \"alpha\": 0.8});\n\tviewergrid_16954009544492617[1][0].addLabel(\"45 \\u2192 31\",{\"position\": {\"x\": 53.007, \"y\": 57.519, \"z\": 38.517}});\n\tviewergrid_16954009544492617[0][0].addSphere({\"center\": {\"x\": 54.057, \"y\": 49.607, \"z\": 41.082}, \"radius\": 0.5, \"color\": \"green\", \"alpha\": 0.8});\n\tviewergrid_16954009544492617[0][0].addLabel(\"32 \\u2192 43\",{\"position\": {\"x\": 54.057, \"y\": 49.607, \"z\": 41.082}});\n\tviewergrid_16954009544492617[1][0].addSphere({\"center\": {\"x\": 52.244, \"y\": 56.622, \"z\": 42.369}, \"radius\": 0.5, \"color\": \"green\", \"alpha\": 0.8});\n\tviewergrid_16954009544492617[1][0].addLabel(\"43 \\u2192 32\",{\"position\": {\"x\": 52.244, \"y\": 56.622, \"z\": 42.369}});\n\tviewergrid_16954009544492617[0][0].addSphere({\"center\": {\"x\": 53.128, \"y\": 49.365, \"z\": 43.38}, \"radius\": 0.5, \"color\": \"green\", \"alpha\": 0.8});\n\tviewergrid_16954009544492617[0][0].addLabel(\"33 \\u2192 42\",{\"position\": {\"x\": 53.128, \"y\": 49.365, \"z\": 43.38}});\n\tviewergrid_16954009544492617[1][0].addSphere({\"center\": {\"x\": 51.661, \"y\": 56.029, \"z\": 44.673}, \"radius\": 0.5, \"color\": \"green\", \"alpha\": 0.8});\n\tviewergrid_16954009544492617[1][0].addLabel(\"42 \\u2192 33\",{\"position\": {\"x\": 51.661, \"y\": 56.029, \"z\": 44.673}});\n\tviewergrid_16954009544492617[0][0].addSphere({\"center\": {\"x\": 50.803, \"y\": 49.01, \"z\": 43.743}, \"radius\": 0.5, \"color\": \"green\", \"alpha\": 0.8});\n\tviewergrid_16954009544492617[0][0].addLabel(\"34 \\u2192 41\",{\"position\": {\"x\": 50.803, \"y\": 49.01, \"z\": 43.743}});\n\tviewergrid_16954009544492617[1][0].addSphere({\"center\": {\"x\": 49.419, \"y\": 55.117, \"z\": 45.277}, \"radius\": 0.5, \"color\": \"green\", \"alpha\": 0.8});\n\tviewergrid_16954009544492617[1][0].addLabel(\"41 \\u2192 34\",{\"position\": {\"x\": 49.419, \"y\": 55.117, \"z\": 45.277}});\n\tviewergrid_16954009544492617[0][0].addSphere({\"center\": {\"x\": 48.657, \"y\": 49.277, \"z\": 43.066}, \"radius\": 0.5, \"color\": \"green\", \"alpha\": 0.8});\n\tviewergrid_16954009544492617[0][0].addLabel(\"35 \\u2192 39\",{\"position\": {\"x\": 48.657, \"y\": 49.277, \"z\": 43.066}});\n\tviewergrid_16954009544492617[1][0].addSphere({\"center\": {\"x\": 47.292, \"y\": 54.927, \"z\": 44.77}, \"radius\": 0.5, \"color\": \"green\", \"alpha\": 0.8});\n\tviewergrid_16954009544492617[1][0].addLabel(\"39 \\u2192 35\",{\"position\": {\"x\": 47.292, \"y\": 54.927, \"z\": 44.77}});\n\tviewergrid_16954009544492617[0][0].addSphere({\"center\": {\"x\": 48.209, \"y\": 49.588, \"z\": 41.369}, \"radius\": 0.5, \"color\": \"green\", \"alpha\": 0.8});\n\tviewergrid_16954009544492617[0][0].addLabel(\"36 \\u2192 40\",{\"position\": {\"x\": 48.209, \"y\": 49.588, \"z\": 41.369}});\n\tviewergrid_16954009544492617[1][0].addSphere({\"center\": {\"x\": 46.624, \"y\": 55.446, \"z\": 43.232}, \"radius\": 0.5, \"color\": \"green\", \"alpha\": 0.8});\n\tviewergrid_16954009544492617[1][0].addLabel(\"40 \\u2192 36\",{\"position\": {\"x\": 46.624, \"y\": 55.446, \"z\": 43.232}});\n\tviewergrid_16954009544492617[0][0].addSphere({\"center\": {\"x\": 47.036, \"y\": 44.12, \"z\": 41.077}, \"radius\": 0.5, \"color\": \"green\", \"alpha\": 0.8});\n\tviewergrid_16954009544492617[0][0].addLabel(\"37 \\u2192 38\",{\"position\": {\"x\": 47.036, \"y\": 44.12, \"z\": 41.077}});\n\tviewergrid_16954009544492617[1][0].addSphere({\"center\": {\"x\": 45.838, \"y\": 49.755, \"z\": 42.809}, \"radius\": 0.5, \"color\": \"green\", \"alpha\": 0.8});\n\tviewergrid_16954009544492617[1][0].addLabel(\"38 \\u2192 37\",{\"position\": {\"x\": 45.838, \"y\": 49.755, \"z\": 42.809}});\n\tviewergrid_16954009544492617[0][0].addSphere({\"center\": {\"x\": 48.031, \"y\": 44.612, \"z\": 43.327}, \"radius\": 0.5, \"color\": \"green\", \"alpha\": 0.8});\n\tviewergrid_16954009544492617[0][0].addLabel(\"38 \\u2192 37\",{\"position\": {\"x\": 48.031, \"y\": 44.612, \"z\": 43.327}});\n\tviewergrid_16954009544492617[1][0].addSphere({\"center\": {\"x\": 47.695, \"y\": 50.283, \"z\": 44.457}, \"radius\": 0.5, \"color\": \"green\", \"alpha\": 0.8});\n\tviewergrid_16954009544492617[1][0].addLabel(\"37 \\u2192 38\",{\"position\": {\"x\": 47.695, \"y\": 50.283, \"z\": 44.457}});\n\tviewergrid_16954009544492617[0][0].addSphere({\"center\": {\"x\": 46.508, \"y\": 48.03, \"z\": 38.674}, \"radius\": 0.5, \"color\": \"green\", \"alpha\": 0.8});\n\tviewergrid_16954009544492617[0][0].addLabel(\"39 \\u2192 59\",{\"position\": {\"x\": 46.508, \"y\": 48.03, \"z\": 38.674}});\n\tviewergrid_16954009544492617[1][0].addSphere({\"center\": {\"x\": 45.499, \"y\": 52.948, \"z\": 39.576}, \"radius\": 0.5, \"color\": \"green\", \"alpha\": 0.8});\n\tviewergrid_16954009544492617[1][0].addLabel(\"59 \\u2192 39\",{\"position\": {\"x\": 45.499, \"y\": 52.948, \"z\": 39.576}});\n\tviewergrid_16954009544492617[0][0].addSphere({\"center\": {\"x\": 44.47, \"y\": 45.519, \"z\": 35.812}, \"radius\": 0.5, \"color\": \"green\", \"alpha\": 0.8});\n\tviewergrid_16954009544492617[0][0].addLabel(\"40 \\u2192 61\",{\"position\": {\"x\": 44.47, \"y\": 45.519, \"z\": 35.812}});\n\tviewergrid_16954009544492617[1][0].addSphere({\"center\": {\"x\": 42.276, \"y\": 50.717, \"z\": 38.123}, \"radius\": 0.5, \"color\": \"green\", \"alpha\": 0.8});\n\tviewergrid_16954009544492617[1][0].addLabel(\"61 \\u2192 40\",{\"position\": {\"x\": 42.276, \"y\": 50.717, \"z\": 38.123}});\n\tviewergrid_16954009544492617[0][0].addSphere({\"center\": {\"x\": 46.745, \"y\": 43.783, \"z\": 39.002}, \"radius\": 0.5, \"color\": \"green\", \"alpha\": 0.8});\n\tviewergrid_16954009544492617[0][0].addLabel(\"41 \\u2192 62\",{\"position\": {\"x\": 46.745, \"y\": 43.783, \"z\": 39.002}});\n\tviewergrid_16954009544492617[1][0].addSphere({\"center\": {\"x\": 43.437, \"y\": 50.084, \"z\": 42.19}, \"radius\": 0.5, \"color\": \"green\", \"alpha\": 0.8});\n\tviewergrid_16954009544492617[1][0].addLabel(\"62 \\u2192 41\",{\"position\": {\"x\": 43.437, \"y\": 50.084, \"z\": 42.19}});\n\tviewergrid_16954009544492617[0][0].addSphere({\"center\": {\"x\": 50.075, \"y\": 49.229, \"z\": 39.466}, \"radius\": 0.5, \"color\": \"green\", \"alpha\": 0.8});\n\tviewergrid_16954009544492617[0][0].addLabel(\"42 \\u2192 44\",{\"position\": {\"x\": 50.075, \"y\": 49.229, \"z\": 39.466}});\n\tviewergrid_16954009544492617[1][0].addSphere({\"center\": {\"x\": 48.241, \"y\": 55.389, \"z\": 41.22}, \"radius\": 0.5, \"color\": \"green\", \"alpha\": 0.8});\n\tviewergrid_16954009544492617[1][0].addLabel(\"44 \\u2192 42\",{\"position\": {\"x\": 48.241, \"y\": 55.389, \"z\": 41.22}});\n\tviewergrid_16954009544492617[0][0].setBackgroundColor(\"white\");\n\tviewergrid_16954009544492617[1][0].setBackgroundColor(\"white\");\n\tviewergrid_16954009544492617[0][0].zoomTo();\n\tviewergrid_16954009544492617[1][0].zoomTo();\nviewergrid_16954009544492617[1][0].render();\nviewergrid_16954009544492617[0][0].render();\n});\n</script>",
      "text/html": [
       "<div id=\"3dmolviewer_16954009544492617\"  style=\"position: relative; width: 450.0; height: 900px\">\n",
       "        <p id=\"3dmolwarning_16954009544492617\" style=\"background-color:#ffcccc;color:black\">You appear to be running in JupyterLab (or JavaScript failed to load for some other reason).  You need to install the 3dmol extension: <br>\n",
       "        <tt>jupyter labextension install jupyterlab_3dmol</tt></p>\n",
       "        </div>\n",
       "<script>\n",
       "\n",
       "var loadScriptAsync = function(uri){\n",
       "  return new Promise((resolve, reject) => {\n",
       "    //this is to ignore the existence of requirejs amd\n",
       "    var savedexports, savedmodule;\n",
       "    if (typeof exports !== 'undefined') savedexports = exports;\n",
       "    else exports = {}\n",
       "    if (typeof module !== 'undefined') savedmodule = module;\n",
       "    else module = {}\n",
       "\n",
       "    var tag = document.createElement('script');\n",
       "    tag.src = uri;\n",
       "    tag.async = true;\n",
       "    tag.onload = () => {\n",
       "        exports = savedexports;\n",
       "        module = savedmodule;\n",
       "        resolve();\n",
       "    };\n",
       "  var firstScriptTag = document.getElementsByTagName('script')[0];\n",
       "  firstScriptTag.parentNode.insertBefore(tag, firstScriptTag);\n",
       "});\n",
       "};\n",
       "\n",
       "if(typeof $3Dmolpromise === 'undefined') {\n",
       "$3Dmolpromise = null;\n",
       "  $3Dmolpromise = loadScriptAsync('https://cdnjs.cloudflare.com/ajax/libs/3Dmol/2.0.1/3Dmol-min.js');\n",
       "}\n",
       "\n",
       "var viewer_16954009544492617 = null;\n",
       "var warn = document.getElementById(\"3dmolwarning_16954009544492617\");\n",
       "if(warn) {\n",
       "    warn.parentNode.removeChild(warn);\n",
       "}\n",
       "$3Dmolpromise.then(function() {\n",
       "var viewergrid_16954009544492617 = null;\n",
       "viewergrid_16954009544492617 = $3Dmol.createViewerGrid(document.getElementById(\"3dmolviewer_16954009544492617\"),{rows: 2, cols: 1, control_all: false},{backgroundColor:\"white\"});\n",
       "viewer_16954009544492617 = viewergrid_16954009544492617[0][0];\n",
       "viewergrid_16954009544492617[0][0].zoomTo();viewergrid_16954009544492617[1][0].zoomTo();\tviewergrid_16954009544492617[0][0].addModel(\"\\n     RDKit          3D\\n\\n 43 46  0  0  0  0  0  0  0  0999 V2000\\n   53.2190   48.8380   34.8310 C   0  0  0  0  0  0  0  0  0  0  0  0\\n   53.0300   49.2400   36.3100 C   0  0  0  0  0  0  0  0  0  0  0  0\\n   54.0090   49.9280   36.9730 C   0  0  0  0  0  0  0  0  0  0  0  0\\n   53.7930   49.9730   38.3330 N   0  0  0  0  0  0  0  0  0  0  0  0\\n   52.6810   49.3670   38.6810 C   0  0  0  0  0  0  0  0  0  0  0  0\\n   51.8230   48.5650   37.3970 S   0  0  0  0  0  0  0  0  0  0  0  0\\n   52.1710   49.3300   40.0650 C   0  0  0  0  0  0  0  0  0  0  0  0\\n   52.9890   49.4570   41.2060 C   0  0  0  0  0  0  0  0  0  0  0  0\\n   52.4950   49.3260   42.4990 C   0  0  0  0  0  0  0  0  0  0  0  0\\n   51.1630   49.1480   42.7280 C   0  0  0  0  0  0  0  0  0  0  0  0\\n   50.3180   49.2050   41.6600 C   0  0  0  0  0  0  0  0  0  0  0  0\\n   48.8280   48.9660   42.0280 C   0  0  0  0  0  0  0  0  0  0  0  0\\n   48.4450   47.5800   41.8480 N   0  0  0  0  0  0  0  0  0  0  0  0\\n   47.9520   47.2570   40.6450 N   0  0  0  0  0  0  0  0  0  0  0  0\\n   47.4070   46.1240   40.3530 C   0  0  0  0  0  0  0  0  0  0  0  0\\n   47.4550   45.0970   41.2870 C   0  0  0  0  0  0  0  0  0  0  0  0\\n   47.9250   45.3650   42.5540 C   0  0  0  0  0  0  0  0  0  0  0  0\\n   48.5250   46.6230   42.9190 C   0  0  0  0  0  0  0  0  0  0  0  0\\n   48.8780   46.9110   44.0720 O   0  0  0  0  0  0  0  0  0  0  0  0\\n   46.7070   45.8830   39.0630 C   0  0  0  0  0  0  0  0  0  0  0  0\\n   46.2210   47.0310   38.3600 C   0  0  0  0  0  0  0  0  0  0  0  0\\n   45.3820   46.9610   37.2040 C   0  0  0  0  0  0  0  0  0  0  0  0\\n   45.0690   48.0230   36.4860 F   0  0  0  0  0  0  0  0  0  0  0  0\\n   45.0640   45.6930   36.7030 C   0  0  0  0  0  0  0  0  0  0  0  0\\n   45.6080   44.5450   37.3200 C   0  0  0  0  0  0  0  0  0  0  0  0\\n   45.2780   43.3250   36.8270 F   0  0  0  0  0  0  0  0  0  0  0  0\\n   46.3630   44.6670   38.4980 C   0  0  0  0  0  0  0  0  0  0  0  0\\n   50.7810   49.3080   40.2880 C   0  0  0  0  0  0  0  0  0  0  0  0\\n   53.8870   47.9680   34.8090 H   0  0  0  0  0  0  0  0  0  0  0  0\\n   53.8200   49.5700   34.2770 H   0  0  0  0  0  0  0  0  0  0  0  0\\n   52.3110   48.6960   34.2330 H   0  0  0  0  0  0  0  0  0  0  0  0\\n   54.9020   50.3890   36.5720 H   0  0  0  0  0  0  0  0  0  0  0  0\\n   54.0570   49.6070   41.0820 H   0  0  0  0  0  0  0  0  0  0  0  0\\n   53.1280   49.3650   43.3800 H   0  0  0  0  0  0  0  0  0  0  0  0\\n   50.8030   49.0100   43.7430 H   0  0  0  0  0  0  0  0  0  0  0  0\\n   48.6570   49.2770   43.0660 H   0  0  0  0  0  0  0  0  0  0  0  0\\n   48.2090   49.5880   41.3690 H   0  0  0  0  0  0  0  0  0  0  0  0\\n   47.0360   44.1200   41.0770 H   0  0  0  0  0  0  0  0  0  0  0  0\\n   48.0310   44.6120   43.3270 H   0  0  0  0  0  0  0  0  0  0  0  0\\n   46.5080   48.0300   38.6740 H   0  0  0  0  0  0  0  0  0  0  0  0\\n   44.4700   45.5190   35.8120 H   0  0  0  0  0  0  0  0  0  0  0  0\\n   46.7450   43.7830   39.0020 H   0  0  0  0  0  0  0  0  0  0  0  0\\n   50.0750   49.2290   39.4660 H   0  0  0  0  0  0  0  0  0  0  0  0\\n  2  1  1  0\\n  3  2  1  0\\n  4  3  1  0\\n  5  4  1  0\\n  6  2  1  0\\n  6  5  1  0\\n  7  5  1  0\\n  8  7  1  0\\n  9  8  1  0\\n 10  9  1  0\\n 11 10  1  0\\n 12 11  1  0\\n 13 12  1  0\\n 14 13  1  0\\n 15 14  1  0\\n 16 15  1  0\\n 17 16  1  0\\n 18 17  1  0\\n 18 13  1  0\\n 19 18  1  0\\n 20 15  1  0\\n 21 20  1  0\\n 22 21  1  0\\n 23 22  1  0\\n 24 22  1  0\\n 25 24  1  0\\n 26 25  1  0\\n 27 25  1  0\\n 27 20  1  0\\n 28 11  1  0\\n 28  7  1  0\\n 29  1  1  0\\n 30  1  1  0\\n 31  1  1  0\\n 32  3  1  0\\n 33  8  1  0\\n 34  9  1  0\\n 35 10  1  0\\n 36 12  1  0\\n 37 12  1  0\\n 38 16  1  0\\n 39 17  1  0\\n 40 21  1  0\\n 41 24  1  0\\n 42 27  1  0\\n 43 28  1  0\\nM  END\\n\",\"mol0\");\n",
       "\tviewergrid_16954009544492617[1][0].addModel(\"\\n     RDKit          3D\\n\\n 63 67  0  0  0  0  0  0  0  0999 V2000\\n   48.3860   52.5490   45.1910 O   0  0  0  0  0  0  0  0  0  0  0  0\\n   47.6210   52.3730   44.2990 C   0  0  0  0  0  0  0  0  0  0  0  0\\n   47.1480   51.0560   43.9300 C   0  0  0  0  0  0  0  0  0  0  0  0\\n   46.1570   50.7810   42.9540 C   0  0  0  0  0  0  0  0  0  0  0  0\\n   45.5900   51.9140   42.1860 C   0  0  0  0  0  0  0  0  0  0  0  0\\n   46.0910   53.1080   42.4160 N   0  0  0  0  0  0  0  0  0  0  0  0\\n   47.0690   53.3190   43.4150 N   0  0  0  0  0  0  0  0  0  0  0  0\\n   47.3590   54.7700   43.6860 C   0  0  0  0  0  0  0  0  0  0  0  0\\n   48.6690   55.2080   43.2650 C   0  0  0  0  0  0  0  0  0  0  0  0\\n   49.6960   55.3470   44.2520 C   0  0  0  0  0  0  0  0  0  0  0  0\\n   50.9240   55.8630   43.8930 C   0  0  0  0  0  0  0  0  0  0  0  0\\n   51.2430   56.2770   42.6110 C   0  0  0  0  0  0  0  0  0  0  0  0\\n   50.2260   56.1940   41.6370 C   0  0  0  0  0  0  0  0  0  0  0  0\\n   49.0030   55.5540   41.9760 C   0  0  0  0  0  0  0  0  0  0  0  0\\n   50.4300   56.5310   40.1850 C   0  0  0  0  0  0  0  0  0  0  0  0\\n   51.6470   56.9720   39.8920 N   0  0  0  0  0  0  0  0  0  0  0  0\\n   51.9970   57.1230   38.6140 C   0  0  0  0  0  0  0  0  0  0  0  0\\n   51.1500   56.9200   37.5330 C   0  0  0  0  0  0  0  0  0  0  0  0\\n   51.5720   57.2510   36.2330 O   0  0  0  0  0  0  0  0  0  0  0  0\\n   50.8050   56.8070   35.0850 C   0  0  0  0  0  0  0  0  0  0  0  0\\n   51.0660   55.2890   34.7790 C   0  0  0  0  0  0  0  0  0  0  0  0\\n   51.7160   55.1230   33.4680 N   0  0  0  0  0  0  0  0  0  0  0  0\\n   51.5080   53.7700   32.7540 C   0  0  0  0  0  0  0  0  0  0  0  0\\n   52.1780   53.6660   31.3940 C   0  0  0  0  0  0  0  0  0  0  0  0\\n   53.5990   53.8430   31.5730 O   0  0  0  0  0  0  0  0  0  0  0  0\\n   53.8160   55.2210   32.0210 C   0  0  0  0  0  0  0  0  0  0  0  0\\n   53.1280   55.4530   33.4570 C   0  0  0  0  0  0  0  0  0  0  0  0\\n   49.8990   56.3380   37.9170 C   0  0  0  0  0  0  0  0  0  0  0  0\\n   49.5940   56.0670   39.1960 N   0  0  0  0  0  0  0  0  0  0  0  0\\n   44.6050   51.6380   41.0780 C   0  0  0  0  0  0  0  0  0  0  0  0\\n   44.7010   52.2490   39.8060 C   0  0  0  0  0  0  0  0  0  0  0  0\\n   43.7670   51.8890   38.8540 C   0  0  0  0  0  0  0  0  0  0  0  0\\n   42.8360   50.9860   39.0140 C   0  0  0  0  0  0  0  0  0  0  0  0\\n   42.7120   50.3300   40.1950 C   0  0  0  0  0  0  0  0  0  0  0  0\\n   43.6250   50.6290   41.2690 C   0  0  0  0  0  0  0  0  0  0  0  0\\n   41.7990   49.3190   40.2500 C   0  0  0  0  0  0  0  0  0  0  0  0\\n   41.0460   48.4490   40.2410 N   0  0  0  0  0  0  0  0  0  0  0  0\\n   47.6950   50.2830   44.4570 H   0  0  0  0  0  0  0  0  0  0  0  0\\n   45.8380   49.7550   42.8090 H   0  0  0  0  0  0  0  0  0  0  0  0\\n   47.2920   54.9270   44.7700 H   0  0  0  0  0  0  0  0  0  0  0  0\\n   46.6240   55.4460   43.2320 H   0  0  0  0  0  0  0  0  0  0  0  0\\n   49.4190   55.1170   45.2770 H   0  0  0  0  0  0  0  0  0  0  0  0\\n   51.6610   56.0290   44.6730 H   0  0  0  0  0  0  0  0  0  0  0  0\\n   52.2440   56.6220   42.3690 H   0  0  0  0  0  0  0  0  0  0  0  0\\n   48.2410   55.3890   41.2200 H   0  0  0  0  0  0  0  0  0  0  0  0\\n   53.0070   57.5190   38.5170 H   0  0  0  0  0  0  0  0  0  0  0  0\\n   50.9620   57.5010   34.2490 H   0  0  0  0  0  0  0  0  0  0  0  0\\n   49.7390   56.9350   35.3110 H   0  0  0  0  0  0  0  0  0  0  0  0\\n   50.0970   54.7750   34.7640 H   0  0  0  0  0  0  0  0  0  0  0  0\\n   51.7260   54.7400   35.4620 H   0  0  0  0  0  0  0  0  0  0  0  0\\n   51.8570   52.9380   33.3780 H   0  0  0  0  0  0  0  0  0  0  0  0\\n   50.4430   53.5120   32.7010 H   0  0  0  0  0  0  0  0  0  0  0  0\\n   51.8750   52.6700   31.0500 H   0  0  0  0  0  0  0  0  0  0  0  0\\n   51.8050   54.3450   30.6180 H   0  0  0  0  0  0  0  0  0  0  0  0\\n   54.8790   55.4750   32.1140 H   0  0  0  0  0  0  0  0  0  0  0  0\\n   53.4190   55.9190   31.2740 H   0  0  0  0  0  0  0  0  0  0  0  0\\n   53.6500   54.8390   34.2010 H   0  0  0  0  0  0  0  0  0  0  0  0\\n   53.2880   56.5180   33.6690 H   0  0  0  0  0  0  0  0  0  0  0  0\\n   49.1290   56.1060   37.1820 H   0  0  0  0  0  0  0  0  0  0  0  0\\n   45.4990   52.9480   39.5760 H   0  0  0  0  0  0  0  0  0  0  0  0\\n   43.8560   52.3730   37.8860 H   0  0  0  0  0  0  0  0  0  0  0  0\\n   42.2760   50.7170   38.1230 H   0  0  0  0  0  0  0  0  0  0  0  0\\n   43.4370   50.0840   42.1900 H   0  0  0  0  0  0  0  0  0  0  0  0\\n  2  1  1  0\\n  3  2  1  0\\n  4  3  1  0\\n  5  4  1  0\\n  6  5  1  0\\n  7  6  1  0\\n  7  2  1  0\\n  8  7  1  0\\n  9  8  1  0\\n 10  9  1  0\\n 11 10  1  0\\n 12 11  1  0\\n 13 12  1  0\\n 14  9  1  0\\n 14 13  1  0\\n 15 13  1  0\\n 16 15  1  0\\n 17 16  1  0\\n 18 17  1  0\\n 19 18  1  0\\n 20 19  1  0\\n 21 20  1  0\\n 22 21  1  0\\n 23 22  1  0\\n 24 23  1  0\\n 25 24  1  0\\n 26 25  1  0\\n 27 26  1  0\\n 27 22  1  0\\n 28 18  1  0\\n 29 28  1  0\\n 29 15  1  0\\n 30  5  1  0\\n 31 30  1  0\\n 32 31  1  0\\n 33 32  1  0\\n 34 33  1  0\\n 35 34  1  0\\n 35 30  1  0\\n 36 34  1  0\\n 37 36  1  0\\n 38  3  1  0\\n 39  4  1  0\\n 40  8  1  0\\n 41  8  1  0\\n 42 10  1  0\\n 43 11  1  0\\n 44 12  1  0\\n 45 14  1  0\\n 46 17  1  0\\n 47 20  1  0\\n 48 20  1  0\\n 49 21  1  0\\n 50 21  1  0\\n 51 23  1  0\\n 52 23  1  0\\n 53 24  1  0\\n 54 24  1  0\\n 55 26  1  0\\n 56 26  1  0\\n 57 27  1  0\\n 58 27  1  0\\n 59 28  1  0\\n 60 31  1  0\\n 61 32  1  0\\n 62 33  1  0\\n 63 35  1  0\\nM  END\\n\",\"mol1\");\n",
       "\tviewergrid_16954009544492617[0][0].setStyle({\"model\": 0},{\"stick\": {\"colorscheme\": \"grayCarbon\", \"linewidth\": 0.1}});\n",
       "\tviewergrid_16954009544492617[1][0].setStyle({\"model\": 0},{\"stick\": {\"colorscheme\": \"grayCarbon\", \"linewidth\": 0.1}});\n",
       "\tviewergrid_16954009544492617[0][0].addSphere({\"center\": {\"x\": 53.219, \"y\": 48.838, \"z\": 34.831}, \"radius\": 0.5, \"color\": \"green\", \"alpha\": 0.8});\n",
       "\tviewergrid_16954009544492617[0][0].addLabel(\"0 \\u2192 18\",{\"position\": {\"x\": 53.219, \"y\": 48.838, \"z\": 34.831}});\n",
       "\tviewergrid_16954009544492617[1][0].addSphere({\"center\": {\"x\": 51.572, \"y\": 57.251, \"z\": 36.233}, \"radius\": 0.5, \"color\": \"green\", \"alpha\": 0.8});\n",
       "\tviewergrid_16954009544492617[1][0].addLabel(\"18 \\u2192 0\",{\"position\": {\"x\": 51.572, \"y\": 57.251, \"z\": 36.233}});\n",
       "\tviewergrid_16954009544492617[0][0].addSphere({\"center\": {\"x\": 53.03, \"y\": 49.24, \"z\": 36.31}, \"radius\": 0.5, \"color\": \"green\", \"alpha\": 0.8});\n",
       "\tviewergrid_16954009544492617[0][0].addLabel(\"1 \\u2192 17\",{\"position\": {\"x\": 53.03, \"y\": 49.24, \"z\": 36.31}});\n",
       "\tviewergrid_16954009544492617[1][0].addSphere({\"center\": {\"x\": 51.15, \"y\": 56.92, \"z\": 37.533}, \"radius\": 0.5, \"color\": \"green\", \"alpha\": 0.8});\n",
       "\tviewergrid_16954009544492617[1][0].addLabel(\"17 \\u2192 1\",{\"position\": {\"x\": 51.15, \"y\": 56.92, \"z\": 37.533}});\n",
       "\tviewergrid_16954009544492617[0][0].addSphere({\"center\": {\"x\": 54.009, \"y\": 49.928, \"z\": 36.973}, \"radius\": 0.5, \"color\": \"green\", \"alpha\": 0.8});\n",
       "\tviewergrid_16954009544492617[0][0].addLabel(\"2 \\u2192 16\",{\"position\": {\"x\": 54.009, \"y\": 49.928, \"z\": 36.973}});\n",
       "\tviewergrid_16954009544492617[1][0].addSphere({\"center\": {\"x\": 51.997, \"y\": 57.123, \"z\": 38.614}, \"radius\": 0.5, \"color\": \"green\", \"alpha\": 0.8});\n",
       "\tviewergrid_16954009544492617[1][0].addLabel(\"16 \\u2192 2\",{\"position\": {\"x\": 51.997, \"y\": 57.123, \"z\": 38.614}});\n",
       "\tviewergrid_16954009544492617[0][0].addSphere({\"center\": {\"x\": 53.793, \"y\": 49.973, \"z\": 38.333}, \"radius\": 0.5, \"color\": \"green\", \"alpha\": 0.8});\n",
       "\tviewergrid_16954009544492617[0][0].addLabel(\"3 \\u2192 15\",{\"position\": {\"x\": 53.793, \"y\": 49.973, \"z\": 38.333}});\n",
       "\tviewergrid_16954009544492617[1][0].addSphere({\"center\": {\"x\": 51.647, \"y\": 56.972, \"z\": 39.892}, \"radius\": 0.5, \"color\": \"green\", \"alpha\": 0.8});\n",
       "\tviewergrid_16954009544492617[1][0].addLabel(\"15 \\u2192 3\",{\"position\": {\"x\": 51.647, \"y\": 56.972, \"z\": 39.892}});\n",
       "\tviewergrid_16954009544492617[0][0].addSphere({\"center\": {\"x\": 52.681, \"y\": 49.367, \"z\": 38.681}, \"radius\": 0.5, \"color\": \"green\", \"alpha\": 0.8});\n",
       "\tviewergrid_16954009544492617[0][0].addLabel(\"4 \\u2192 14\",{\"position\": {\"x\": 52.681, \"y\": 49.367, \"z\": 38.681}});\n",
       "\tviewergrid_16954009544492617[1][0].addSphere({\"center\": {\"x\": 50.43, \"y\": 56.531, \"z\": 40.185}, \"radius\": 0.5, \"color\": \"green\", \"alpha\": 0.8});\n",
       "\tviewergrid_16954009544492617[1][0].addLabel(\"14 \\u2192 4\",{\"position\": {\"x\": 50.43, \"y\": 56.531, \"z\": 40.185}});\n",
       "\tviewergrid_16954009544492617[0][0].addSphere({\"center\": {\"x\": 52.171, \"y\": 49.33, \"z\": 40.065}, \"radius\": 0.5, \"color\": \"green\", \"alpha\": 0.8});\n",
       "\tviewergrid_16954009544492617[0][0].addLabel(\"6 \\u2192 12\",{\"position\": {\"x\": 52.171, \"y\": 49.33, \"z\": 40.065}});\n",
       "\tviewergrid_16954009544492617[1][0].addSphere({\"center\": {\"x\": 50.226, \"y\": 56.194, \"z\": 41.637}, \"radius\": 0.5, \"color\": \"green\", \"alpha\": 0.8});\n",
       "\tviewergrid_16954009544492617[1][0].addLabel(\"12 \\u2192 6\",{\"position\": {\"x\": 50.226, \"y\": 56.194, \"z\": 41.637}});\n",
       "\tviewergrid_16954009544492617[0][0].addSphere({\"center\": {\"x\": 52.989, \"y\": 49.457, \"z\": 41.206}, \"radius\": 0.5, \"color\": \"green\", \"alpha\": 0.8});\n",
       "\tviewergrid_16954009544492617[0][0].addLabel(\"7 \\u2192 11\",{\"position\": {\"x\": 52.989, \"y\": 49.457, \"z\": 41.206}});\n",
       "\tviewergrid_16954009544492617[1][0].addSphere({\"center\": {\"x\": 51.243, \"y\": 56.277, \"z\": 42.611}, \"radius\": 0.5, \"color\": \"green\", \"alpha\": 0.8});\n",
       "\tviewergrid_16954009544492617[1][0].addLabel(\"11 \\u2192 7\",{\"position\": {\"x\": 51.243, \"y\": 56.277, \"z\": 42.611}});\n",
       "\tviewergrid_16954009544492617[0][0].addSphere({\"center\": {\"x\": 52.495, \"y\": 49.326, \"z\": 42.499}, \"radius\": 0.5, \"color\": \"green\", \"alpha\": 0.8});\n",
       "\tviewergrid_16954009544492617[0][0].addLabel(\"8 \\u2192 10\",{\"position\": {\"x\": 52.495, \"y\": 49.326, \"z\": 42.499}});\n",
       "\tviewergrid_16954009544492617[1][0].addSphere({\"center\": {\"x\": 50.924, \"y\": 55.863, \"z\": 43.893}, \"radius\": 0.5, \"color\": \"green\", \"alpha\": 0.8});\n",
       "\tviewergrid_16954009544492617[1][0].addLabel(\"10 \\u2192 8\",{\"position\": {\"x\": 50.924, \"y\": 55.863, \"z\": 43.893}});\n",
       "\tviewergrid_16954009544492617[0][0].addSphere({\"center\": {\"x\": 51.163, \"y\": 49.148, \"z\": 42.728}, \"radius\": 0.5, \"color\": \"green\", \"alpha\": 0.8});\n",
       "\tviewergrid_16954009544492617[0][0].addLabel(\"9 \\u2192 9\",{\"position\": {\"x\": 51.163, \"y\": 49.148, \"z\": 42.728}});\n",
       "\tviewergrid_16954009544492617[1][0].addSphere({\"center\": {\"x\": 49.696, \"y\": 55.347, \"z\": 44.252}, \"radius\": 0.5, \"color\": \"green\", \"alpha\": 0.8});\n",
       "\tviewergrid_16954009544492617[1][0].addLabel(\"9 \\u2192 9\",{\"position\": {\"x\": 49.696, \"y\": 55.347, \"z\": 44.252}});\n",
       "\tviewergrid_16954009544492617[0][0].addSphere({\"center\": {\"x\": 50.318, \"y\": 49.205, \"z\": 41.66}, \"radius\": 0.5, \"color\": \"green\", \"alpha\": 0.8});\n",
       "\tviewergrid_16954009544492617[0][0].addLabel(\"10 \\u2192 8\",{\"position\": {\"x\": 50.318, \"y\": 49.205, \"z\": 41.66}});\n",
       "\tviewergrid_16954009544492617[1][0].addSphere({\"center\": {\"x\": 48.669, \"y\": 55.208, \"z\": 43.265}, \"radius\": 0.5, \"color\": \"green\", \"alpha\": 0.8});\n",
       "\tviewergrid_16954009544492617[1][0].addLabel(\"8 \\u2192 10\",{\"position\": {\"x\": 48.669, \"y\": 55.208, \"z\": 43.265}});\n",
       "\tviewergrid_16954009544492617[0][0].addSphere({\"center\": {\"x\": 48.828, \"y\": 48.966, \"z\": 42.028}, \"radius\": 0.5, \"color\": \"green\", \"alpha\": 0.8});\n",
       "\tviewergrid_16954009544492617[0][0].addLabel(\"11 \\u2192 7\",{\"position\": {\"x\": 48.828, \"y\": 48.966, \"z\": 42.028}});\n",
       "\tviewergrid_16954009544492617[1][0].addSphere({\"center\": {\"x\": 47.359, \"y\": 54.77, \"z\": 43.686}, \"radius\": 0.5, \"color\": \"green\", \"alpha\": 0.8});\n",
       "\tviewergrid_16954009544492617[1][0].addLabel(\"7 \\u2192 11\",{\"position\": {\"x\": 47.359, \"y\": 54.77, \"z\": 43.686}});\n",
       "\tviewergrid_16954009544492617[0][0].addSphere({\"center\": {\"x\": 48.445, \"y\": 47.58, \"z\": 41.848}, \"radius\": 0.5, \"color\": \"green\", \"alpha\": 0.8});\n",
       "\tviewergrid_16954009544492617[0][0].addLabel(\"12 \\u2192 6\",{\"position\": {\"x\": 48.445, \"y\": 47.58, \"z\": 41.848}});\n",
       "\tviewergrid_16954009544492617[1][0].addSphere({\"center\": {\"x\": 47.069, \"y\": 53.319, \"z\": 43.415}, \"radius\": 0.5, \"color\": \"green\", \"alpha\": 0.8});\n",
       "\tviewergrid_16954009544492617[1][0].addLabel(\"6 \\u2192 12\",{\"position\": {\"x\": 47.069, \"y\": 53.319, \"z\": 43.415}});\n",
       "\tviewergrid_16954009544492617[0][0].addSphere({\"center\": {\"x\": 47.952, \"y\": 47.257, \"z\": 40.645}, \"radius\": 0.5, \"color\": \"green\", \"alpha\": 0.8});\n",
       "\tviewergrid_16954009544492617[0][0].addLabel(\"13 \\u2192 5\",{\"position\": {\"x\": 47.952, \"y\": 47.257, \"z\": 40.645}});\n",
       "\tviewergrid_16954009544492617[1][0].addSphere({\"center\": {\"x\": 46.091, \"y\": 53.108, \"z\": 42.416}, \"radius\": 0.5, \"color\": \"green\", \"alpha\": 0.8});\n",
       "\tviewergrid_16954009544492617[1][0].addLabel(\"5 \\u2192 13\",{\"position\": {\"x\": 46.091, \"y\": 53.108, \"z\": 42.416}});\n",
       "\tviewergrid_16954009544492617[0][0].addSphere({\"center\": {\"x\": 47.407, \"y\": 46.124, \"z\": 40.353}, \"radius\": 0.5, \"color\": \"green\", \"alpha\": 0.8});\n",
       "\tviewergrid_16954009544492617[0][0].addLabel(\"14 \\u2192 4\",{\"position\": {\"x\": 47.407, \"y\": 46.124, \"z\": 40.353}});\n",
       "\tviewergrid_16954009544492617[1][0].addSphere({\"center\": {\"x\": 45.59, \"y\": 51.914, \"z\": 42.186}, \"radius\": 0.5, \"color\": \"green\", \"alpha\": 0.8});\n",
       "\tviewergrid_16954009544492617[1][0].addLabel(\"4 \\u2192 14\",{\"position\": {\"x\": 45.59, \"y\": 51.914, \"z\": 42.186}});\n",
       "\tviewergrid_16954009544492617[0][0].addSphere({\"center\": {\"x\": 47.455, \"y\": 45.097, \"z\": 41.287}, \"radius\": 0.5, \"color\": \"green\", \"alpha\": 0.8});\n",
       "\tviewergrid_16954009544492617[0][0].addLabel(\"15 \\u2192 3\",{\"position\": {\"x\": 47.455, \"y\": 45.097, \"z\": 41.287}});\n",
       "\tviewergrid_16954009544492617[1][0].addSphere({\"center\": {\"x\": 46.157, \"y\": 50.781, \"z\": 42.954}, \"radius\": 0.5, \"color\": \"green\", \"alpha\": 0.8});\n",
       "\tviewergrid_16954009544492617[1][0].addLabel(\"3 \\u2192 15\",{\"position\": {\"x\": 46.157, \"y\": 50.781, \"z\": 42.954}});\n",
       "\tviewergrid_16954009544492617[0][0].addSphere({\"center\": {\"x\": 47.925, \"y\": 45.365, \"z\": 42.554}, \"radius\": 0.5, \"color\": \"green\", \"alpha\": 0.8});\n",
       "\tviewergrid_16954009544492617[0][0].addLabel(\"16 \\u2192 2\",{\"position\": {\"x\": 47.925, \"y\": 45.365, \"z\": 42.554}});\n",
       "\tviewergrid_16954009544492617[1][0].addSphere({\"center\": {\"x\": 47.148, \"y\": 51.056, \"z\": 43.93}, \"radius\": 0.5, \"color\": \"green\", \"alpha\": 0.8});\n",
       "\tviewergrid_16954009544492617[1][0].addLabel(\"2 \\u2192 16\",{\"position\": {\"x\": 47.148, \"y\": 51.056, \"z\": 43.93}});\n",
       "\tviewergrid_16954009544492617[0][0].addSphere({\"center\": {\"x\": 48.525, \"y\": 46.623, \"z\": 42.919}, \"radius\": 0.5, \"color\": \"green\", \"alpha\": 0.8});\n",
       "\tviewergrid_16954009544492617[0][0].addLabel(\"17 \\u2192 1\",{\"position\": {\"x\": 48.525, \"y\": 46.623, \"z\": 42.919}});\n",
       "\tviewergrid_16954009544492617[1][0].addSphere({\"center\": {\"x\": 47.621, \"y\": 52.373, \"z\": 44.299}, \"radius\": 0.5, \"color\": \"green\", \"alpha\": 0.8});\n",
       "\tviewergrid_16954009544492617[1][0].addLabel(\"1 \\u2192 17\",{\"position\": {\"x\": 47.621, \"y\": 52.373, \"z\": 44.299}});\n",
       "\tviewergrid_16954009544492617[0][0].addSphere({\"center\": {\"x\": 48.878, \"y\": 46.911, \"z\": 44.072}, \"radius\": 0.5, \"color\": \"green\", \"alpha\": 0.8});\n",
       "\tviewergrid_16954009544492617[0][0].addLabel(\"18 \\u2192 0\",{\"position\": {\"x\": 48.878, \"y\": 46.911, \"z\": 44.072}});\n",
       "\tviewergrid_16954009544492617[1][0].addSphere({\"center\": {\"x\": 48.386, \"y\": 52.549, \"z\": 45.191}, \"radius\": 0.5, \"color\": \"green\", \"alpha\": 0.8});\n",
       "\tviewergrid_16954009544492617[1][0].addLabel(\"0 \\u2192 18\",{\"position\": {\"x\": 48.386, \"y\": 52.549, \"z\": 45.191}});\n",
       "\tviewergrid_16954009544492617[0][0].addSphere({\"center\": {\"x\": 46.707, \"y\": 45.883, \"z\": 39.063}, \"radius\": 0.5, \"color\": \"green\", \"alpha\": 0.8});\n",
       "\tviewergrid_16954009544492617[0][0].addLabel(\"19 \\u2192 29\",{\"position\": {\"x\": 46.707, \"y\": 45.883, \"z\": 39.063}});\n",
       "\tviewergrid_16954009544492617[1][0].addSphere({\"center\": {\"x\": 44.605, \"y\": 51.638, \"z\": 41.078}, \"radius\": 0.5, \"color\": \"green\", \"alpha\": 0.8});\n",
       "\tviewergrid_16954009544492617[1][0].addLabel(\"29 \\u2192 19\",{\"position\": {\"x\": 44.605, \"y\": 51.638, \"z\": 41.078}});\n",
       "\tviewergrid_16954009544492617[0][0].addSphere({\"center\": {\"x\": 46.221, \"y\": 47.031, \"z\": 38.36}, \"radius\": 0.5, \"color\": \"green\", \"alpha\": 0.8});\n",
       "\tviewergrid_16954009544492617[0][0].addLabel(\"20 \\u2192 30\",{\"position\": {\"x\": 46.221, \"y\": 47.031, \"z\": 38.36}});\n",
       "\tviewergrid_16954009544492617[1][0].addSphere({\"center\": {\"x\": 44.701, \"y\": 52.249, \"z\": 39.806}, \"radius\": 0.5, \"color\": \"green\", \"alpha\": 0.8});\n",
       "\tviewergrid_16954009544492617[1][0].addLabel(\"30 \\u2192 20\",{\"position\": {\"x\": 44.701, \"y\": 52.249, \"z\": 39.806}});\n",
       "\tviewergrid_16954009544492617[0][0].addSphere({\"center\": {\"x\": 45.382, \"y\": 46.961, \"z\": 37.204}, \"radius\": 0.5, \"color\": \"green\", \"alpha\": 0.8});\n",
       "\tviewergrid_16954009544492617[0][0].addLabel(\"21 \\u2192 31\",{\"position\": {\"x\": 45.382, \"y\": 46.961, \"z\": 37.204}});\n",
       "\tviewergrid_16954009544492617[1][0].addSphere({\"center\": {\"x\": 43.767, \"y\": 51.889, \"z\": 38.854}, \"radius\": 0.5, \"color\": \"green\", \"alpha\": 0.8});\n",
       "\tviewergrid_16954009544492617[1][0].addLabel(\"31 \\u2192 21\",{\"position\": {\"x\": 43.767, \"y\": 51.889, \"z\": 38.854}});\n",
       "\tviewergrid_16954009544492617[0][0].addSphere({\"center\": {\"x\": 45.064, \"y\": 45.693, \"z\": 36.703}, \"radius\": 0.5, \"color\": \"green\", \"alpha\": 0.8});\n",
       "\tviewergrid_16954009544492617[0][0].addLabel(\"23 \\u2192 32\",{\"position\": {\"x\": 45.064, \"y\": 45.693, \"z\": 36.703}});\n",
       "\tviewergrid_16954009544492617[1][0].addSphere({\"center\": {\"x\": 42.836, \"y\": 50.986, \"z\": 39.014}, \"radius\": 0.5, \"color\": \"green\", \"alpha\": 0.8});\n",
       "\tviewergrid_16954009544492617[1][0].addLabel(\"32 \\u2192 23\",{\"position\": {\"x\": 42.836, \"y\": 50.986, \"z\": 39.014}});\n",
       "\tviewergrid_16954009544492617[0][0].addSphere({\"center\": {\"x\": 45.608, \"y\": 44.545, \"z\": 37.32}, \"radius\": 0.5, \"color\": \"green\", \"alpha\": 0.8});\n",
       "\tviewergrid_16954009544492617[0][0].addLabel(\"24 \\u2192 33\",{\"position\": {\"x\": 45.608, \"y\": 44.545, \"z\": 37.32}});\n",
       "\tviewergrid_16954009544492617[1][0].addSphere({\"center\": {\"x\": 42.712, \"y\": 50.33, \"z\": 40.195}, \"radius\": 0.5, \"color\": \"green\", \"alpha\": 0.8});\n",
       "\tviewergrid_16954009544492617[1][0].addLabel(\"33 \\u2192 24\",{\"position\": {\"x\": 42.712, \"y\": 50.33, \"z\": 40.195}});\n",
       "\tviewergrid_16954009544492617[0][0].addSphere({\"center\": {\"x\": 45.278, \"y\": 43.325, \"z\": 36.827}, \"radius\": 0.5, \"color\": \"green\", \"alpha\": 0.8});\n",
       "\tviewergrid_16954009544492617[0][0].addLabel(\"25 \\u2192 35\",{\"position\": {\"x\": 45.278, \"y\": 43.325, \"z\": 36.827}});\n",
       "\tviewergrid_16954009544492617[1][0].addSphere({\"center\": {\"x\": 41.799, \"y\": 49.319, \"z\": 40.25}, \"radius\": 0.5, \"color\": \"green\", \"alpha\": 0.8});\n",
       "\tviewergrid_16954009544492617[1][0].addLabel(\"35 \\u2192 25\",{\"position\": {\"x\": 41.799, \"y\": 49.319, \"z\": 40.25}});\n",
       "\tviewergrid_16954009544492617[0][0].addSphere({\"center\": {\"x\": 46.363, \"y\": 44.667, \"z\": 38.498}, \"radius\": 0.5, \"color\": \"green\", \"alpha\": 0.8});\n",
       "\tviewergrid_16954009544492617[0][0].addLabel(\"26 \\u2192 34\",{\"position\": {\"x\": 46.363, \"y\": 44.667, \"z\": 38.498}});\n",
       "\tviewergrid_16954009544492617[1][0].addSphere({\"center\": {\"x\": 43.625, \"y\": 50.629, \"z\": 41.269}, \"radius\": 0.5, \"color\": \"green\", \"alpha\": 0.8});\n",
       "\tviewergrid_16954009544492617[1][0].addLabel(\"34 \\u2192 26\",{\"position\": {\"x\": 43.625, \"y\": 50.629, \"z\": 41.269}});\n",
       "\tviewergrid_16954009544492617[0][0].addSphere({\"center\": {\"x\": 50.781, \"y\": 49.308, \"z\": 40.288}, \"radius\": 0.5, \"color\": \"green\", \"alpha\": 0.8});\n",
       "\tviewergrid_16954009544492617[0][0].addLabel(\"27 \\u2192 13\",{\"position\": {\"x\": 50.781, \"y\": 49.308, \"z\": 40.288}});\n",
       "\tviewergrid_16954009544492617[1][0].addSphere({\"center\": {\"x\": 49.003, \"y\": 55.554, \"z\": 41.976}, \"radius\": 0.5, \"color\": \"green\", \"alpha\": 0.8});\n",
       "\tviewergrid_16954009544492617[1][0].addLabel(\"13 \\u2192 27\",{\"position\": {\"x\": 49.003, \"y\": 55.554, \"z\": 41.976}});\n",
       "\tviewergrid_16954009544492617[0][0].addSphere({\"center\": {\"x\": 54.902, \"y\": 50.389, \"z\": 36.572}, \"radius\": 0.5, \"color\": \"green\", \"alpha\": 0.8});\n",
       "\tviewergrid_16954009544492617[0][0].addLabel(\"31 \\u2192 45\",{\"position\": {\"x\": 54.902, \"y\": 50.389, \"z\": 36.572}});\n",
       "\tviewergrid_16954009544492617[1][0].addSphere({\"center\": {\"x\": 53.007, \"y\": 57.519, \"z\": 38.517}, \"radius\": 0.5, \"color\": \"green\", \"alpha\": 0.8});\n",
       "\tviewergrid_16954009544492617[1][0].addLabel(\"45 \\u2192 31\",{\"position\": {\"x\": 53.007, \"y\": 57.519, \"z\": 38.517}});\n",
       "\tviewergrid_16954009544492617[0][0].addSphere({\"center\": {\"x\": 54.057, \"y\": 49.607, \"z\": 41.082}, \"radius\": 0.5, \"color\": \"green\", \"alpha\": 0.8});\n",
       "\tviewergrid_16954009544492617[0][0].addLabel(\"32 \\u2192 43\",{\"position\": {\"x\": 54.057, \"y\": 49.607, \"z\": 41.082}});\n",
       "\tviewergrid_16954009544492617[1][0].addSphere({\"center\": {\"x\": 52.244, \"y\": 56.622, \"z\": 42.369}, \"radius\": 0.5, \"color\": \"green\", \"alpha\": 0.8});\n",
       "\tviewergrid_16954009544492617[1][0].addLabel(\"43 \\u2192 32\",{\"position\": {\"x\": 52.244, \"y\": 56.622, \"z\": 42.369}});\n",
       "\tviewergrid_16954009544492617[0][0].addSphere({\"center\": {\"x\": 53.128, \"y\": 49.365, \"z\": 43.38}, \"radius\": 0.5, \"color\": \"green\", \"alpha\": 0.8});\n",
       "\tviewergrid_16954009544492617[0][0].addLabel(\"33 \\u2192 42\",{\"position\": {\"x\": 53.128, \"y\": 49.365, \"z\": 43.38}});\n",
       "\tviewergrid_16954009544492617[1][0].addSphere({\"center\": {\"x\": 51.661, \"y\": 56.029, \"z\": 44.673}, \"radius\": 0.5, \"color\": \"green\", \"alpha\": 0.8});\n",
       "\tviewergrid_16954009544492617[1][0].addLabel(\"42 \\u2192 33\",{\"position\": {\"x\": 51.661, \"y\": 56.029, \"z\": 44.673}});\n",
       "\tviewergrid_16954009544492617[0][0].addSphere({\"center\": {\"x\": 50.803, \"y\": 49.01, \"z\": 43.743}, \"radius\": 0.5, \"color\": \"green\", \"alpha\": 0.8});\n",
       "\tviewergrid_16954009544492617[0][0].addLabel(\"34 \\u2192 41\",{\"position\": {\"x\": 50.803, \"y\": 49.01, \"z\": 43.743}});\n",
       "\tviewergrid_16954009544492617[1][0].addSphere({\"center\": {\"x\": 49.419, \"y\": 55.117, \"z\": 45.277}, \"radius\": 0.5, \"color\": \"green\", \"alpha\": 0.8});\n",
       "\tviewergrid_16954009544492617[1][0].addLabel(\"41 \\u2192 34\",{\"position\": {\"x\": 49.419, \"y\": 55.117, \"z\": 45.277}});\n",
       "\tviewergrid_16954009544492617[0][0].addSphere({\"center\": {\"x\": 48.657, \"y\": 49.277, \"z\": 43.066}, \"radius\": 0.5, \"color\": \"green\", \"alpha\": 0.8});\n",
       "\tviewergrid_16954009544492617[0][0].addLabel(\"35 \\u2192 39\",{\"position\": {\"x\": 48.657, \"y\": 49.277, \"z\": 43.066}});\n",
       "\tviewergrid_16954009544492617[1][0].addSphere({\"center\": {\"x\": 47.292, \"y\": 54.927, \"z\": 44.77}, \"radius\": 0.5, \"color\": \"green\", \"alpha\": 0.8});\n",
       "\tviewergrid_16954009544492617[1][0].addLabel(\"39 \\u2192 35\",{\"position\": {\"x\": 47.292, \"y\": 54.927, \"z\": 44.77}});\n",
       "\tviewergrid_16954009544492617[0][0].addSphere({\"center\": {\"x\": 48.209, \"y\": 49.588, \"z\": 41.369}, \"radius\": 0.5, \"color\": \"green\", \"alpha\": 0.8});\n",
       "\tviewergrid_16954009544492617[0][0].addLabel(\"36 \\u2192 40\",{\"position\": {\"x\": 48.209, \"y\": 49.588, \"z\": 41.369}});\n",
       "\tviewergrid_16954009544492617[1][0].addSphere({\"center\": {\"x\": 46.624, \"y\": 55.446, \"z\": 43.232}, \"radius\": 0.5, \"color\": \"green\", \"alpha\": 0.8});\n",
       "\tviewergrid_16954009544492617[1][0].addLabel(\"40 \\u2192 36\",{\"position\": {\"x\": 46.624, \"y\": 55.446, \"z\": 43.232}});\n",
       "\tviewergrid_16954009544492617[0][0].addSphere({\"center\": {\"x\": 47.036, \"y\": 44.12, \"z\": 41.077}, \"radius\": 0.5, \"color\": \"green\", \"alpha\": 0.8});\n",
       "\tviewergrid_16954009544492617[0][0].addLabel(\"37 \\u2192 38\",{\"position\": {\"x\": 47.036, \"y\": 44.12, \"z\": 41.077}});\n",
       "\tviewergrid_16954009544492617[1][0].addSphere({\"center\": {\"x\": 45.838, \"y\": 49.755, \"z\": 42.809}, \"radius\": 0.5, \"color\": \"green\", \"alpha\": 0.8});\n",
       "\tviewergrid_16954009544492617[1][0].addLabel(\"38 \\u2192 37\",{\"position\": {\"x\": 45.838, \"y\": 49.755, \"z\": 42.809}});\n",
       "\tviewergrid_16954009544492617[0][0].addSphere({\"center\": {\"x\": 48.031, \"y\": 44.612, \"z\": 43.327}, \"radius\": 0.5, \"color\": \"green\", \"alpha\": 0.8});\n",
       "\tviewergrid_16954009544492617[0][0].addLabel(\"38 \\u2192 37\",{\"position\": {\"x\": 48.031, \"y\": 44.612, \"z\": 43.327}});\n",
       "\tviewergrid_16954009544492617[1][0].addSphere({\"center\": {\"x\": 47.695, \"y\": 50.283, \"z\": 44.457}, \"radius\": 0.5, \"color\": \"green\", \"alpha\": 0.8});\n",
       "\tviewergrid_16954009544492617[1][0].addLabel(\"37 \\u2192 38\",{\"position\": {\"x\": 47.695, \"y\": 50.283, \"z\": 44.457}});\n",
       "\tviewergrid_16954009544492617[0][0].addSphere({\"center\": {\"x\": 46.508, \"y\": 48.03, \"z\": 38.674}, \"radius\": 0.5, \"color\": \"green\", \"alpha\": 0.8});\n",
       "\tviewergrid_16954009544492617[0][0].addLabel(\"39 \\u2192 59\",{\"position\": {\"x\": 46.508, \"y\": 48.03, \"z\": 38.674}});\n",
       "\tviewergrid_16954009544492617[1][0].addSphere({\"center\": {\"x\": 45.499, \"y\": 52.948, \"z\": 39.576}, \"radius\": 0.5, \"color\": \"green\", \"alpha\": 0.8});\n",
       "\tviewergrid_16954009544492617[1][0].addLabel(\"59 \\u2192 39\",{\"position\": {\"x\": 45.499, \"y\": 52.948, \"z\": 39.576}});\n",
       "\tviewergrid_16954009544492617[0][0].addSphere({\"center\": {\"x\": 44.47, \"y\": 45.519, \"z\": 35.812}, \"radius\": 0.5, \"color\": \"green\", \"alpha\": 0.8});\n",
       "\tviewergrid_16954009544492617[0][0].addLabel(\"40 \\u2192 61\",{\"position\": {\"x\": 44.47, \"y\": 45.519, \"z\": 35.812}});\n",
       "\tviewergrid_16954009544492617[1][0].addSphere({\"center\": {\"x\": 42.276, \"y\": 50.717, \"z\": 38.123}, \"radius\": 0.5, \"color\": \"green\", \"alpha\": 0.8});\n",
       "\tviewergrid_16954009544492617[1][0].addLabel(\"61 \\u2192 40\",{\"position\": {\"x\": 42.276, \"y\": 50.717, \"z\": 38.123}});\n",
       "\tviewergrid_16954009544492617[0][0].addSphere({\"center\": {\"x\": 46.745, \"y\": 43.783, \"z\": 39.002}, \"radius\": 0.5, \"color\": \"green\", \"alpha\": 0.8});\n",
       "\tviewergrid_16954009544492617[0][0].addLabel(\"41 \\u2192 62\",{\"position\": {\"x\": 46.745, \"y\": 43.783, \"z\": 39.002}});\n",
       "\tviewergrid_16954009544492617[1][0].addSphere({\"center\": {\"x\": 43.437, \"y\": 50.084, \"z\": 42.19}, \"radius\": 0.5, \"color\": \"green\", \"alpha\": 0.8});\n",
       "\tviewergrid_16954009544492617[1][0].addLabel(\"62 \\u2192 41\",{\"position\": {\"x\": 43.437, \"y\": 50.084, \"z\": 42.19}});\n",
       "\tviewergrid_16954009544492617[0][0].addSphere({\"center\": {\"x\": 50.075, \"y\": 49.229, \"z\": 39.466}, \"radius\": 0.5, \"color\": \"green\", \"alpha\": 0.8});\n",
       "\tviewergrid_16954009544492617[0][0].addLabel(\"42 \\u2192 44\",{\"position\": {\"x\": 50.075, \"y\": 49.229, \"z\": 39.466}});\n",
       "\tviewergrid_16954009544492617[1][0].addSphere({\"center\": {\"x\": 48.241, \"y\": 55.389, \"z\": 41.22}, \"radius\": 0.5, \"color\": \"green\", \"alpha\": 0.8});\n",
       "\tviewergrid_16954009544492617[1][0].addLabel(\"44 \\u2192 42\",{\"position\": {\"x\": 48.241, \"y\": 55.389, \"z\": 41.22}});\n",
       "\tviewergrid_16954009544492617[0][0].setBackgroundColor(\"white\");\n",
       "\tviewergrid_16954009544492617[1][0].setBackgroundColor(\"white\");\n",
       "\tviewergrid_16954009544492617[0][0].zoomTo();\n",
       "\tviewergrid_16954009544492617[1][0].zoomTo();\n",
       "viewergrid_16954009544492617[1][0].render();\n",
       "viewergrid_16954009544492617[0][0].render();\n",
       "});\n",
       "</script>"
      ]
     },
     "metadata": {},
     "output_type": "display_data"
    },
    {
     "data": {
      "text/plain": [
       "<py3Dmol.view at 0x7f1f4f936c10>"
      ]
     },
     "execution_count": 14,
     "metadata": {},
     "output_type": "execute_result"
    }
   ],
   "source": [
    "view = view_mapping(lig_0, lig_1, mapping)\n",
    "view"
   ]
  },
  {
   "cell_type": "code",
   "execution_count": 5,
   "metadata": {},
   "outputs": [
    {
     "name": "stderr",
     "output_type": "stream",
     "text": [
      "/home/anna/anaconda3/envs/biosimspace-dev/lib/python3.9/tempfile.py:821: ResourceWarning: Implicitly cleaning up <TemporaryDirectory '/tmp/tmp4tc202c7'>\n",
      "  _warnings.warn(warn_message, ResourceWarning)\n",
      "/home/anna/anaconda3/envs/biosimspace-dev/lib/python3.9/tempfile.py:821: ResourceWarning: Implicitly cleaning up <TemporaryDirectory '/tmp/tmpw_8pyvkx'>\n",
      "  _warnings.warn(warn_message, ResourceWarning)\n",
      "/home/anna/anaconda3/envs/biosimspace-dev/lib/python3.9/tempfile.py:821: ResourceWarning: Implicitly cleaning up <TemporaryDirectory '/tmp/tmp_2dls3uz'>\n",
      "  _warnings.warn(warn_message, ResourceWarning)\n",
      "sys:1: ResourceWarning: Unclosed socket <zmq.Socket(zmq.PUSH) at 0x7f3532b3b760>\n",
      "ResourceWarning: Enable tracemalloc to get the object allocation traceback\n"
     ]
    },
    {
     "name": "stdout",
     "output_type": "stream",
     "text": [
      "mapping ligands...\n",
      "mapping atoms using rmsd_align, complete rings True, prune perturbed constraints True, prune crossing constraints True and prematch {}\n",
      "aligning and merging the ligands according to align to LIG0, allow ring breaking False, allow ring size change False...\n"
     ]
    },
    {
     "data": {
      "application/vnd.jupyter.widget-view+json": {
       "model_id": "6a2eca0bc13b44fabe637c427ae39c5e",
       "version_major": 2,
       "version_minor": 0
      },
      "text/plain": []
     },
     "metadata": {},
     "output_type": "display_data"
    },
    {
     "data": {
      "application/vnd.jupyter.widget-view+json": {
       "model_id": "72f9293804504bc897a5e6d7e7139ffb",
       "version_major": 2,
       "version_minor": 0
      },
      "text/plain": [
       "ThemeManager()"
      ]
     },
     "metadata": {},
     "output_type": "display_data"
    },
    {
     "data": {
      "application/vnd.jupyter.widget-view+json": {
       "model_id": "855827bdc0244780bc82d7590b174798",
       "version_major": 2,
       "version_minor": 0
      },
      "text/plain": [
       "NGLWidget(gui_style='ngl')"
      ]
     },
     "metadata": {},
     "output_type": "display_data"
    }
   ],
   "source": [
    "merge_molecule = merge.merge_ligands(lig_0, lig_1, **kwargs)\n",
    "\n",
    "BSS.Notebook.View(merge_molecule).system()"
   ]
  },
  {
   "cell_type": "code",
   "execution_count": 12,
   "metadata": {},
   "outputs": [],
   "source": [
    "# changes to mapping\n",
    "\n",
    "del mapping[29]\n",
    "# mapping[37] = 13"
   ]
  },
  {
   "cell_type": "code",
   "execution_count": 15,
   "metadata": {},
   "outputs": [
    {
     "name": "stdout",
     "output_type": "stream",
     "text": [
      "{0: 18, 1: 17, 2: 16, 3: 15, 4: 14, 6: 12, 7: 11, 8: 10, 9: 9, 10: 8, 11: 7, 12: 6, 13: 5, 14: 4, 15: 3, 16: 2, 17: 1, 18: 0, 19: 29, 20: 30, 21: 31, 23: 32, 24: 33, 25: 35, 26: 34, 27: 13, 31: 45, 32: 43, 33: 42, 34: 41, 35: 39, 36: 40, 37: 38, 38: 37, 39: 59, 40: 61, 41: 62, 42: 44}\n"
     ]
    }
   ],
   "source": [
    "print(mapping)\n",
    "\n",
    "with open(\n",
    "    f\"/home/anna/Documents/placement_test/cmet/inputs/mapping/{lig1}~{lig2}_mapping_dict.pickle\",\n",
    "    \"wb\",\n",
    ") as handle:\n",
    "    pickle.dump(mapping, handle)"
   ]
  },
  {
   "cell_type": "code",
   "execution_count": null,
   "metadata": {},
   "outputs": [],
   "source": [
    "view = draw_labelled_molecule(lig_0)\n",
    "view"
   ]
  },
  {
   "cell_type": "code",
   "execution_count": null,
   "metadata": {},
   "outputs": [],
   "source": [
    "view = draw_labelled_molecule(lig_1)\n",
    "view"
   ]
  }
 ],
 "metadata": {
  "kernelspec": {
   "display_name": "biosimspace-dev",
   "language": "python",
   "name": "python3"
  },
  "language_info": {
   "codemirror_mode": {
    "name": "ipython",
    "version": 3
   },
   "file_extension": ".py",
   "mimetype": "text/x-python",
   "name": "python",
   "nbconvert_exporter": "python",
   "pygments_lexer": "ipython3",
   "version": "3.9.16"
  },
  "orig_nbformat": 4
 },
 "nbformat": 4,
 "nbformat_minor": 2
}
