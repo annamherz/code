{
 "cells": [
  {
   "cell_type": "code",
   "execution_count": null,
   "metadata": {},
   "outputs": [],
   "source": [
    "# import libraries\n",
    "\n",
    "from scipy.stats import sem as sem\n",
    "import sys\n",
    "import os\n",
    "import glob\n",
    "import BioSimSpace as BSS\n",
    "\n",
    "if \"/home/anna/Documents/cinnabar\" not in sys.path:\n",
    "    sys.path.insert(1, \"/home/anna/Documents/cinnabar\")\n",
    "import cinnabar\n",
    "\n",
    "print(\"adding code to the pythonpath...\")\n",
    "code = \"/home/anna/Documents/code/python\"\n",
    "if code not in sys.path:\n",
    "    sys.path.insert(1, code)\n",
    "import pipeline\n",
    "\n",
    "print(cinnabar.__file__)\n",
    "\n",
    "from pipeline import *\n",
    "from pipeline.utils import *\n",
    "from pipeline.analysis import *"
   ]
  },
  {
   "cell_type": "code",
   "execution_count": null,
   "metadata": {},
   "outputs": [],
   "source": [
    "bench_folder = f\"/home/anna/Documents/benchmark\"\n",
    "protein = \"tyk2\"\n",
    "main_dir = f\"{bench_folder}/extracted/{protein}\"\n",
    "\n",
    "# choose location for the files\n",
    "net_file = f\"{main_dir}/execution_model/network_lomap.dat\"\n",
    "ana_file = f\"{main_dir}/execution_model/analysis_protocol.dat\"\n",
    "exp_file = f\"{bench_folder}/inputs/experimental/{protein}.yml\"\n",
    "\n",
    "if os.path.exists(f\"{main_dir}/outputs_extracted/results\"):\n",
    "    results_folder = f\"{main_dir}/outputs_extracted/results\"\n",
    "elif os.path.exists(f\"{main_dir}/outputs/results\"):\n",
    "    results_folder = f\"{main_dir}/outputs/results\"\n",
    "# else:\n",
    "#     raise ValueError(f\"results directory not found in the {main_dir}. please make sure results were written using the analysis script previously in the pipeline\")\n",
    "\n",
    "output_folder = validate.folder_path(\n",
    "    f\"{main_dir}/analysis/comparing_methods\", create=True\n",
    ")"
   ]
  },
  {
   "cell_type": "code",
   "execution_count": null,
   "metadata": {},
   "outputs": [],
   "source": [
    "engine = \"AMBER\"\n",
    "all_analysis_object = analysis_network(\n",
    "    results_folder,\n",
    "    exp_file=exp_file,\n",
    "    net_file=net_file,\n",
    "    engines=engine,\n",
    "    output_folder=output_folder,\n",
    "    analysis_ext=ana_file,\n",
    ")\n",
    "\n",
    "# can add any other results files\n",
    "# all_analysis_object.compute_other_results(file_name=None, name=None)\n",
    "all_analysis_object.compute(cycle_closure=False)"
   ]
  },
  {
   "cell_type": "code",
   "execution_count": null,
   "metadata": {},
   "outputs": [],
   "source": [
    "# can write modified results files\n",
    "\n",
    "write_modified_results_files(\n",
    "    f\"{results_folder}/final_summary_GROMACS_MBAR_alchemlyb_None_eqfalse_statsfalse_truncate0end.csv\",\n",
    "    name=\"switch\",\n",
    "    engine=\"GROMACS\",\n",
    ")"
   ]
  },
  {
   "cell_type": "code",
   "execution_count": null,
   "metadata": {},
   "outputs": [],
   "source": [
    "print(all_analysis_object.successful_runs(eng=engine))\n",
    "# all_analysis_object.draw_graph()\n",
    "all_analysis_object.remove_perturbations(all_analysis_object.failed_runs(eng=engine))\n",
    "all_analysis_object.remove_ligands(all_analysis_object.disconnected_ligands(eng=engine))\n",
    "all_analysis_object.compute(cycle_closure=True)\n",
    "all_analysis_object.draw_graph()"
   ]
  },
  {
   "cell_type": "code",
   "execution_count": null,
   "metadata": {},
   "outputs": [],
   "source": []
  },
  {
   "cell_type": "code",
   "execution_count": null,
   "metadata": {},
   "outputs": [],
   "source": [
    "for eng in all_analysis_object.engines:\n",
    "    other_results = glob.glob(\n",
    "        f\"{bench_folder}/extracted/{protein}/outputs_extracted/results/final_summary_{eng}_MBAR_alchemlyb_None_eqfalse_statsfalse_truncate0end.csv\"\n",
    "    )\n",
    "    bound_results = glob.glob(\n",
    "        f\"{bench_folder}/extracted/{protein}/outputs_extracted/results/bound_*_{eng}_MBAR_alchemlyb_None_eqfalse_statsfalse_truncate0end.csv\"\n",
    "    )\n",
    "    free_results = glob.glob(\n",
    "        f\"{bench_folder}/extracted/{protein}/outputs_extracted/results/free_*_{eng}_MBAR_alchemlyb_None_eqfalse_statsfalse_truncate0end.csv\"\n",
    "    )\n",
    "    all_analysis_object.compute_other_results(\n",
    "        other_results,\n",
    "        name=f\"prev_{eng}\",\n",
    "        method=None,\n",
    "        bound_files=bound_results,\n",
    "        free_files=free_results,\n",
    "    )"
   ]
  },
  {
   "cell_type": "code",
   "execution_count": null,
   "metadata": {},
   "outputs": [],
   "source": [
    "eng = \"GROMACS\"\n",
    "\n",
    "for name in [\"ambersc3\", \"ambersc\", \"scamber2\"]:\n",
    "    other_results = glob.glob(\n",
    "        f\"{results_folder}/final_summary_{eng}_MBAR_alchemlyb_None_eqfalse_statsfalse_truncate0end.csv\"\n",
    "    )\n",
    "    bound_results = glob.glob(\n",
    "        f\"{results_folder}/bound_*_{eng}_MBAR_alchemlyb_None_eqfalse_statsfalse_truncate0end.csv\"\n",
    "    )\n",
    "    free_results = glob.glob(\n",
    "        f\"{results_folder}/free_*_{eng}_MBAR_alchemlyb_None_eqfalse_statsfalse_truncate0end.csv\"\n",
    "    )\n",
    "    all_analysis_object.compute_other_results(\n",
    "        other_results,\n",
    "        name=f\"{name}\",\n",
    "        method=f\"{name}\",\n",
    "        use_cinnabar=False,\n",
    "        bound_files=bound_results,\n",
    "        free_files=free_results,\n",
    "    )"
   ]
  },
  {
   "cell_type": "code",
   "execution_count": null,
   "metadata": {},
   "outputs": [],
   "source": [
    "perts, ligs = get_info_network(\n",
    "    \"/backup/42_reruns/tyk2/execution_model/network_combined_reruns_ejm42.dat\"\n",
    ")\n",
    "\n",
    "for eng in all_analysis_object.engines:\n",
    "    other_results = glob.glob(\n",
    "        f\"/backup/42_reruns/tyk2/outputs_extracted/results/final_summary_{eng}_MBAR_alchemlyb_None_eqfalse_statsfalse_truncate0end.csv\"\n",
    "    )\n",
    "    all_analysis_object.compute_other_results(other_results, name=f\"{eng}_reruns\")\n",
    "    # all_analysis_object.plot_other_results(\n",
    "    #     name=f\"{eng}_reruns\", engine=eng, pert_val=\"pert\"\n",
    "    # )\n",
    "    all_analysis_object.plot_bar_pert(\n",
    "        engine=[eng, f\"{eng}_reruns\"], **{\"values\": perts}\n",
    "    )\n",
    "    res1 = all_analysis_object._stats_object.compute_mue(\"pert\", y=eng)\n",
    "    res2 = all_analysis_object._stats_object.compute_mue(\"pert\", y=f\"{eng}_reruns\")\n",
    "    res3 = all_analysis_object._stats_object.compute_mue(\n",
    "        \"pert\", y=eng, x=f\"{eng}_reruns\"\n",
    "    )\n",
    "    print(\n",
    "        f\"og vs exp is {res1[0]}, reruns vs exp is {res2[0]}, and compared to each other theya re {res3[0]}\"\n",
    "    )\n",
    "\n",
    "all_analysis_object.plot_bar_pert(\n",
    "    engine=all_analysis_object.engines + all_analysis_object.other_results_names,\n",
    "    **{\"values\": perts},\n",
    ")"
   ]
  },
  {
   "cell_type": "markdown",
   "metadata": {},
   "source": [
    "compare to the fwf analysis"
   ]
  },
  {
   "cell_type": "code",
   "execution_count": null,
   "metadata": {},
   "outputs": [],
   "source": [
    "# choose an engine\n",
    "eng = \"SOMD\"\n",
    "\n",
    "# first need to add the fwf path\n",
    "all_analysis_object._add_fwf_path(\n",
    "    \"/home/anna/Documents/freenrgworkflows/networkanalysis\"\n",
    ")\n",
    "\n",
    "# get the experimental dictionary\n",
    "exp_dicts = all_analysis_object._get_exp_fwf()\n",
    "for key in exp_dicts[0]:\n",
    "    print(f\"{key} : {exp_dicts[0][key][0]}, {exp_dicts[0][key][1]}\")\n",
    "\n",
    "# get the network analysis\n",
    "fwf_dict = all_analysis_object._get_ana_fwf(engine=eng)\n",
    "for key in fwf_dict:\n",
    "    print(f\"{key} : {fwf_dict[key][0]}, {fwf_dict[key][1]}\")\n",
    "\n",
    "# get fwf stats\n",
    "fwf_stats = all_analysis_object._get_stats_fwf(engine=eng)"
   ]
  },
  {
   "cell_type": "markdown",
   "metadata": {},
   "source": [
    "plotting just fwf data per ligand"
   ]
  },
  {
   "cell_type": "code",
   "execution_count": null,
   "metadata": {},
   "outputs": [],
   "source": [
    "dict_y = fwf_dict\n",
    "dict_exp = exp_dicts[0]\n",
    "\n",
    "df1 = plotting_engines.match_dicts_to_df(dict_exp, dict_y, \"experimental\", \"fwf\")\n",
    "df1\n",
    "\n",
    "df1.plot.bar(\n",
    "    y=[\"freenrg_fwf\", \"freenrg_experimental\"],\n",
    "    yerr=df1[[\"err_fwf\", \"err_experimental\"]].T.values,\n",
    "    title=f\"fwf, experimental, {eng}\",\n",
    "    xlabel=\"ligands\",\n",
    "    ylabel=\"dG (kcal/mol)\",\n",
    ")\n",
    "\n",
    "df1.dropna()\n",
    "df1.plot.scatter(\n",
    "    x=\"freenrg_experimental\",\n",
    "    y=\"freenrg_fwf\",\n",
    "    xerr=\"err_experimental\",\n",
    "    yerr=\"err_fwf\",\n",
    "    title=f\"fwf, {eng}\",\n",
    "    xlabel=\"experimental dG (kcal/mol)\",\n",
    "    ylabel=\"fwf dG (kcal/mol)\",\n",
    ")\n",
    "\n",
    "# calculating using the cinnabar stats\n",
    "f_mae = all_analysis_object._stats_object._compute_stats(\n",
    "    x=df1[\"freenrg_experimental\"],\n",
    "    y=df1[\"freenrg_fwf\"],\n",
    "    xerr=df1[\"err_experimental\"],\n",
    "    yerr=df1[\"err_fwf\"],\n",
    "    statistic=\"MUE\",\n",
    ")\n",
    "print(f_mae)"
   ]
  },
  {
   "cell_type": "markdown",
   "metadata": {},
   "source": [
    "# summary of analysis\n",
    "\n",
    "compare fwf, cinnabar, mbarnet\n"
   ]
  },
  {
   "cell_type": "markdown",
   "metadata": {},
   "source": []
  }
 ],
 "metadata": {
  "kernelspec": {
   "display_name": "Python 3",
   "language": "python",
   "name": "python3"
  },
  "language_info": {
   "codemirror_mode": {
    "name": "ipython",
    "version": 3
   },
   "file_extension": ".py",
   "mimetype": "text/x-python",
   "name": "python",
   "nbconvert_exporter": "python",
   "pygments_lexer": "ipython3",
   "version": "3.9.15"
  },
  "orig_nbformat": 4
 },
 "nbformat": 4,
 "nbformat_minor": 2
}
