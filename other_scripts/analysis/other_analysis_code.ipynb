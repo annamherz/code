{
 "cells": [
  {
   "cell_type": "code",
   "execution_count": null,
   "metadata": {},
   "outputs": [],
   "source": [
    "import sys\n",
    "\n",
    "sys.path.insert(1, \"/home/anna/Documents/code/python\")\n",
    "\n",
    "# import libraries\n",
    "\n",
    "from scipy.stats import sem as sem\n",
    "import sys\n",
    "import glob\n",
    "import itertools as it\n",
    "\n",
    "import logging\n",
    "\n",
    "logging.getLogger().setLevel(logging.INFO)\n",
    "\n",
    "from pipeline import *\n",
    "from pipeline.utils import validate\n",
    "from pipeline.analysis import *"
   ]
  },
  {
   "cell_type": "code",
   "execution_count": null,
   "metadata": {},
   "outputs": [],
   "source": [
    "ligands = [lig.split(\"/\")[-1].split(\".\")[0] for lig in glob.glob(\"/home/anna/Documents/placement_test/syk/inputs/ligands/neutral/*\")]\n",
    "perturbations = [f\"{a}~{b}\" for a,b in it.product(ligands, ligands)]\n",
    "graph = network_graph(ligands, perturbations, ligands_folder=\"/home/anna/Documents/placement_test/syk/inputs/ligands/neutral\")\n",
    "graph.draw_all_ligands(figsize=(10,30))"
   ]
  },
  {
   "cell_type": "code",
   "execution_count": null,
   "metadata": {},
   "outputs": [],
   "source": []
  },
  {
   "cell_type": "code",
   "execution_count": null,
   "metadata": {},
   "outputs": [],
   "source": [
    "all_analysis_object.perturbing_atoms_and_overlap(\n",
    "    prep_dir=f\"/home/anna/Documents/benchmark/{protein}_benchmark/prep\",\n",
    "    outputs_dir=f\"{main_dir}/outputs_extracted\",\n",
    ")"
   ]
  },
  {
   "cell_type": "code",
   "execution_count": null,
   "metadata": {},
   "outputs": [],
   "source": []
  },
  {
   "cell_type": "code",
   "execution_count": null,
   "metadata": {},
   "outputs": [],
   "source": [
    "all_analysis_object._initialise_stats_object()\n",
    "mae = all_analysis_object._stats_object.compute_mue(y=\"GROMACS\", pert_val=\"val\")\n",
    "stats_string = f\"MAE: {mae[0]:.2f} +/- {mae[1]:.2f} kcal/mol\"\n",
    "print(stats_string)"
   ]
  },
  {
   "cell_type": "code",
   "execution_count": null,
   "metadata": {},
   "outputs": [],
   "source": []
  },
  {
   "cell_type": "code",
   "execution_count": null,
   "metadata": {},
   "outputs": [],
   "source": [
    "calculate only the experimental results for some of the perturbations\n",
    "protein = \"mcl1\"\n",
    "\n",
    "bench_folder = f\"/home/anna/Documents/benchmark\"\n",
    "main_dir = f\"{bench_folder}/extracted/{protein}\"\n",
    "\n",
    "# choose location for the files\n",
    "# net_file = f\"{main_dir}/execution_model/network_lomap.dat\"\n",
    "ana_file = f\"{main_dir}/execution_model/analysis_protocol.dat\"\n",
    "# exp_file = f\"{bench_folder}/inputs/experimental/tyk2.yml\"\n",
    "exp_file = f\"/home/anna/Documents/benchmark/inputs/experimental/{protein}.yml\"\n",
    "\n",
    "output_folder = validate.folder_path(f\"{main_dir}/diff_methods_analysis\", create=True)\n",
    "results_folder = f\"{main_dir}/diff_methods_analysis/results\"\n",
    "\n",
    "all_analysis_object = analysis_network(exp_file=exp_file)\n",
    "\n",
    "all_analysis_object.perturbations = [\n",
    "    \"lig_27~lig_59\",\n",
    "    \"lig_27~lig_48\",\n",
    "    \"lig_28~lig_47\",\n",
    "    \"lig_35~lig_52\",\n",
    "    \"lig_38~lig_48\",\n",
    "    \"lig_43~lig_45\",\n",
    "    \"lig_53~lig_56\",\n",
    "    \"lig_30~lig_40\",\n",
    "    \"lig_27~lig_48\",\n",
    "]\n",
    "all_analysis_object.ligands = get_ligands_from_perts(all_analysis_object.perturbations)\n",
    "all_analysis_object.get_experimental()"
   ]
  },
  {
   "cell_type": "code",
   "execution_count": null,
   "metadata": {},
   "outputs": [],
   "source": []
  },
  {
   "cell_type": "code",
   "execution_count": null,
   "metadata": {},
   "outputs": [],
   "source": [
    "# cycle closures\n",
    "all_analysis_object.compute_cycle_closures()\n",
    "cycles = all_analysis_object.network_graph.cycle_closures()"
   ]
  },
  {
   "cell_type": "code",
   "execution_count": null,
   "metadata": {},
   "outputs": [],
   "source": []
  },
  {
   "cell_type": "markdown",
   "metadata": {},
   "source": [
    "plotting with stats as title"
   ]
  },
  {
   "cell_type": "code",
   "execution_count": null,
   "metadata": {},
   "outputs": [],
   "source": [
    "# MAE calculate\n",
    "for eng in all_analysis_object.engines:\n",
    "    mae = all_analysis_object._stats_object.compute_mue(y=eng, pert_val=\"pert\")\n",
    "    stats_string = f\"MAE: {mae[0]:.2f} +/- {mae[1]:.2f} kcal/mol\"\n",
    "    all_analysis_object.plot_scatter_ddG(\n",
    "        engine=eng,\n",
    "        **{\n",
    "            \"title\": stats_string,\n",
    "            \"key\": False,\n",
    "            #    \"save\": f\"/home/anna/Desktop/{eng}\"\n",
    "        },\n",
    "    )"
   ]
  }
 ],
 "metadata": {
  "kernelspec": {
   "display_name": "openbiosim-dev",
   "language": "python",
   "name": "python3"
  },
  "language_info": {
   "codemirror_mode": {
    "name": "ipython",
    "version": 3
   },
   "file_extension": ".py",
   "mimetype": "text/x-python",
   "name": "python",
   "nbconvert_exporter": "python",
   "pygments_lexer": "ipython3",
   "version": "3.9.16"
  },
  "orig_nbformat": 4
 },
 "nbformat": 4,
 "nbformat_minor": 2
}
