{
 "cells": [
  {
   "cell_type": "code",
   "execution_count": null,
   "metadata": {},
   "outputs": [],
   "source": [
    "all_analysis_object.perturbing_atoms_and_overlap(prep_dir=f\"/home/anna/Documents/benchmark/{protein}_benchmark/prep\", outputs_dir=f\"{main_dir}/outputs_extracted\")"
   ]
  },
  {
   "cell_type": "code",
   "execution_count": null,
   "metadata": {},
   "outputs": [],
   "source": []
  },
  {
   "cell_type": "code",
   "execution_count": null,
   "metadata": {},
   "outputs": [],
   "source": [
    "all_analysis_object._initialise_stats_object()\n",
    "mae = all_analysis_object._stats_object.compute_mue(y=\"GROMACS\", pert_val=\"val\")\n",
    "stats_string = f\"MAE: {mae[0]:.2f} +/- {mae[1]:.2f} kcal/mol\"\n",
    "print(stats_string)"
   ]
  },
  {
   "cell_type": "code",
   "execution_count": null,
   "metadata": {},
   "outputs": [],
   "source": []
  },
  {
   "cell_type": "code",
   "execution_count": null,
   "metadata": {},
   "outputs": [],
   "source": [
    "calculate only the experimental results for some of the perturbations\n",
    "protein = \"mcl1\"\n",
    "\n",
    "bench_folder = f\"/home/anna/Documents/benchmark\"\n",
    "main_dir = f\"{bench_folder}/extracted/{protein}\"\n",
    "\n",
    "# choose location for the files\n",
    "# net_file = f\"{main_dir}/execution_model/network_lomap.dat\"\n",
    "ana_file = f\"{main_dir}/execution_model/analysis_protocol.dat\"\n",
    "# exp_file = f\"{bench_folder}/inputs/experimental/tyk2.yml\"\n",
    "exp_file = f\"/home/anna/Documents/benchmark/inputs/experimental/{protein}.yml\"\n",
    "\n",
    "output_folder = validate.folder_path(f\"{main_dir}/diff_methods_analysis\", create=True)\n",
    "results_folder = f\"{main_dir}/diff_methods_analysis/results\"\n",
    "\n",
    "all_analysis_object = analysis_network(exp_file=exp_file)\n",
    "\n",
    "all_analysis_object.perturbations = [\n",
    "    \"lig_27~lig_59\",\n",
    "    \"lig_27~lig_48\",\n",
    "    \"lig_28~lig_47\",\n",
    "    \"lig_35~lig_52\",\n",
    "    \"lig_38~lig_48\",\n",
    "    \"lig_43~lig_45\",\n",
    "    \"lig_53~lig_56\",\n",
    "    \"lig_30~lig_40\",\n",
    "    \"lig_27~lig_48\",\n",
    "]\n",
    "all_analysis_object.ligands = get_ligands_from_perts(all_analysis_object.perturbations)\n",
    "all_analysis_object.get_experimental()\n",
    "all_analysis_object.get_experimental_pert()"
   ]
  },
  {
   "cell_type": "code",
   "execution_count": null,
   "metadata": {},
   "outputs": [],
   "source": []
  },
  {
   "cell_type": "code",
   "execution_count": null,
   "metadata": {},
   "outputs": [],
   "source": [
    "# cycle closures\n",
    "all_analysis_object.compute_cycle_closures()\n",
    "cycles = all_analysis_object.network_graph.cycle_closures()"
   ]
  },
  {
   "cell_type": "code",
   "execution_count": null,
   "metadata": {},
   "outputs": [],
   "source": []
  },
  {
   "cell_type": "markdown",
   "metadata": {},
   "source": [
    "plotting with stats as title"
   ]
  },
  {
   "cell_type": "code",
   "execution_count": null,
   "metadata": {},
   "outputs": [],
   "source": [
    "# MAE calculate\n",
    "for eng in all_analysis_object.engines:\n",
    "    mae = all_analysis_object._stats_object.compute_mue(y=eng, pert_val=\"pert\")\n",
    "    stats_string = f\"MAE: {mae[0]:.2f} +/- {mae[1]:.2f} kcal/mol\"\n",
    "    all_analysis_object.plot_scatter_pert(\n",
    "        engine=eng,\n",
    "        **{\"title\": stats_string, \"key\": False,\n",
    "        #    \"save\": f\"/home/anna/Desktop/{eng}\"\n",
    "           },\n",
    "    )"
   ]
  }
 ],
 "metadata": {
  "language_info": {
   "name": "python"
  },
  "orig_nbformat": 4
 },
 "nbformat": 4,
 "nbformat_minor": 2
}
