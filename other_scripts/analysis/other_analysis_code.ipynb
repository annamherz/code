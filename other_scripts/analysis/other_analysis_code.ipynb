{
 "cells": [
  {
   "cell_type": "code",
   "execution_count": null,
   "metadata": {},
   "outputs": [],
   "source": [
    "import sire as sr"
   ]
  },
  {
   "cell_type": "code",
   "execution_count": null,
   "metadata": {},
   "outputs": [],
   "source": [
    "import sys\n",
    "\n",
    "sys.path.insert(1, \"/home/anna/Documents/code/python\")\n",
    "\n",
    "# import libraries\n",
    "\n",
    "from scipy.stats import sem as sem\n",
    "import sys\n",
    "import glob\n",
    "import itertools as it\n",
    "\n",
    "import logging\n",
    "\n",
    "logging.getLogger().setLevel(logging.INFO)\n",
    "\n",
    "from pipeline import *\n",
    "from pipeline.utils import validate\n",
    "from pipeline.analysis import *\n",
    "\n"
   ]
  },
  {
   "cell_type": "code",
   "execution_count": null,
   "metadata": {},
   "outputs": [],
   "source": [
    "# ligands = [lig.split(\"/\")[-1].split(\".\")[0] for lig in glob.glob(\"/home/anna/Documents/placement_test/syk/inputs/ligands/neutral/*\")]\n",
    "# perturbations = [f\"{a}~{b}\" for a,b in it.product(ligands, ligands)]\n",
    "# graph = network_graph(ligands, perturbations, ligands_folder=\"/home/anna/Documents/placement_test/syk/inputs/ligands/neutral\")\n",
    "# graph.draw_all_ligands(figsize=(10,30))"
   ]
  },
  {
   "cell_type": "code",
   "execution_count": null,
   "metadata": {},
   "outputs": [],
   "source": [
    "perts, ligs = pipeline.utils.get_info_network(\n",
    "    \"/backup/42_reruns/tyk2/execution_model/network_combined_reruns_ejm42.dat\"\n",
    ")\n",
    "\n",
    "for eng in all_analysis_object.engines:\n",
    "    other_results = glob.glob(\n",
    "        f\"/backup/42_reruns/tyk2/outputs_extracted/results/final_summary_{eng}_MBAR_alchemlyb_None_eqfalse_statsfalse_truncate0end.csv\"\n",
    "    )\n",
    "    all_analysis_object.compute_other_results(other_results, name=f\"{eng}_reruns\")\n",
    "    # all_analysis_object.plot_other_results(\n",
    "    #     name=f\"{eng}_reruns\", engine=eng, pert_val=\"pert\"\n",
    "    # )\n",
    "    all_analysis_object.plot_bar_ddG(\n",
    "        engine=[eng, f\"{eng}_reruns\"], **{\"values\": perts}\n",
    "    )\n",
    "    res1 = all_analysis_object._stats_object.compute_mue(\"pert\", y=eng)\n",
    "    res2 = all_analysis_object._stats_object.compute_mue(\"pert\", y=f\"{eng}_reruns\")\n",
    "    res3 = all_analysis_object._stats_object.compute_mue(\n",
    "        \"pert\", y=eng, x=f\"{eng}_reruns\"\n",
    "    )\n",
    "    print(\n",
    "        f\"og vs exp is {res1[0]}, reruns vs exp is {res2[0]}, and compared to each other theya re {res3[0]}\"\n",
    "    )\n",
    "\n",
    "all_analysis_object.plot_bar_ddG(\n",
    "    engine=all_analysis_object.engines + all_analysis_object.other_results_names,\n",
    "    **{\"values\": perts},\n",
    ")"
   ]
  },
  {
   "cell_type": "code",
   "execution_count": null,
   "metadata": {},
   "outputs": [],
   "source": [
    "bench_folder = f\"/home/anna/Documents/placement_test\"\n",
    "protein = \"cmet\"\n",
    "main_dir = f\"{bench_folder}/{protein}\"\n",
    "\n",
    "# choose location for the files\n",
    "net_file = f\"{main_dir}/execution_model/network.dat\"\n",
    "ana_file = f\"{main_dir}/execution_model/analysis_protocol.dat\"\n",
    "exp_file = f\"{main_dir}/inputs/{protein}.yml\"\n",
    "output_folder = f\"{main_dir}/outputs_extracted\""
   ]
  },
  {
   "cell_type": "code",
   "execution_count": null,
   "metadata": {},
   "outputs": [],
   "source": [
    "prot_file = f\"{main_dir}/execution_model/protocol_int2.dat\"\n",
    "pipeline_prot = pipeline_protocol(prot_file, auto_validate=True)\n",
    "pipeline_prot.name()"
   ]
  },
  {
   "cell_type": "code",
   "execution_count": null,
   "metadata": {},
   "outputs": [],
   "source": [
    "all_analysis_object = analysis_network(\n",
    "    output_folder,\n",
    "    exp_file=exp_file,\n",
    "    # net_file=net_file,\n",
    "    analysis_prot=ana_file,\n",
    "    method = pipeline_prot.name(), # if the protocol had a name\n",
    "    engines=\"SOMD\"\n",
    ")"
   ]
  },
  {
   "cell_type": "code",
   "execution_count": null,
   "metadata": {},
   "outputs": [],
   "source": [
    "all_analysis_object.change_name(\"SOMD\", \"delta1_coulomb1_dielectric82.0\")\n"
   ]
  },
  {
   "cell_type": "code",
   "execution_count": null,
   "metadata": {},
   "outputs": [],
   "source": [
    "all_analysis_object.calc_pert_dict"
   ]
  },
  {
   "cell_type": "code",
   "execution_count": null,
   "metadata": {},
   "outputs": [],
   "source": [
    "other_results_files = glob.glob(\n",
    "    f\"{output_folder}/results/freenrg_*_SOMD_MBAR_alchemlyb_None_eqfalse_statsfalse_truncate0end.csv\"\n",
    ")\n",
    "\n",
    "all_analysis_object.compute_other_results(other_results_files, method=\"flarenet\", name=\"delta1_coulomb1_dielectric78.3\")"
   ]
  },
  {
   "cell_type": "code",
   "execution_count": null,
   "metadata": {},
   "outputs": [],
   "source": [
    "all_analysis_object.exper_pert_dict"
   ]
  },
  {
   "cell_type": "code",
   "execution_count": null,
   "metadata": {},
   "outputs": [],
   "source": [
    "all_analysis_object.plot_bar_ddG(\n",
    "    engines=[\"delta1_coulomb1_dielectric78.3\",\"delta1_coulomb1_dielectric82.0\"],\n",
    "    **{\"values\":[\"lig_18~lig_4\",\"lig_4~lig_18\"]}\n",
    "    )"
   ]
  },
  {
   "cell_type": "code",
   "execution_count": null,
   "metadata": {},
   "outputs": [],
   "source": [
    "all_analysis_object.perturbing_atoms_and_overlap(\n",
    "    prep_dir=f\"/home/anna/Documents/benchmark/{protein}_benchmark/prep\",\n",
    "    outputs_dir=f\"{main_dir}/outputs_extracted\",\n",
    ")"
   ]
  },
  {
   "cell_type": "code",
   "execution_count": null,
   "metadata": {},
   "outputs": [],
   "source": []
  },
  {
   "cell_type": "code",
   "execution_count": null,
   "metadata": {},
   "outputs": [],
   "source": [
    "all_analysis_object._initialise_stats_object()\n",
    "mae = all_analysis_object._stats_object.compute_mue(y=\"GROMACS\", pert_val=\"val\")\n",
    "stats_string = f\"MAE: {mae[0]:.2f} +/- {mae[1]:.2f} kcal/mol\"\n",
    "print(stats_string)"
   ]
  },
  {
   "cell_type": "code",
   "execution_count": null,
   "metadata": {},
   "outputs": [],
   "source": []
  },
  {
   "cell_type": "code",
   "execution_count": null,
   "metadata": {},
   "outputs": [],
   "source": [
    "calculate only the experimental results for some of the perturbations\n",
    "protein = \"mcl1\"\n",
    "\n",
    "bench_folder = f\"/home/anna/Documents/benchmark\"\n",
    "main_dir = f\"{bench_folder}/extracted/{protein}\"\n",
    "\n",
    "# choose location for the files\n",
    "# net_file = f\"{main_dir}/execution_model/network_lomap.dat\"\n",
    "ana_file = f\"{main_dir}/execution_model/analysis_protocol.dat\"\n",
    "# exp_file = f\"{bench_folder}/inputs/experimental/tyk2.yml\"\n",
    "exp_file = f\"/home/anna/Documents/benchmark/inputs/experimental/{protein}.yml\"\n",
    "\n",
    "output_folder = validate.folder_path(f\"{main_dir}/diff_methods_analysis\", create=True)\n",
    "results_folder = f\"{main_dir}/diff_methods_analysis/results\"\n",
    "\n",
    "all_analysis_object = analysis_network(exp_file=exp_file)\n",
    "\n",
    "all_analysis_object.perturbations = [\n",
    "    \"lig_27~lig_59\",\n",
    "    \"lig_27~lig_48\",\n",
    "    \"lig_28~lig_47\",\n",
    "    \"lig_35~lig_52\",\n",
    "    \"lig_38~lig_48\",\n",
    "    \"lig_43~lig_45\",\n",
    "    \"lig_53~lig_56\",\n",
    "    \"lig_30~lig_40\",\n",
    "    \"lig_27~lig_48\",\n",
    "]\n",
    "all_analysis_object.ligands = get_ligands_from_perts(all_analysis_object.perturbations)\n",
    "all_analysis_object.get_experimental()"
   ]
  },
  {
   "cell_type": "code",
   "execution_count": null,
   "metadata": {},
   "outputs": [],
   "source": []
  },
  {
   "cell_type": "code",
   "execution_count": null,
   "metadata": {},
   "outputs": [],
   "source": [
    "# cycle closures\n",
    "all_analysis_object.compute_cycle_closures()\n",
    "cycles = all_analysis_object.network_graph.cycle_closures()"
   ]
  },
  {
   "cell_type": "code",
   "execution_count": null,
   "metadata": {},
   "outputs": [],
   "source": []
  },
  {
   "cell_type": "markdown",
   "metadata": {},
   "source": [
    "plotting with stats as title"
   ]
  },
  {
   "cell_type": "code",
   "execution_count": null,
   "metadata": {},
   "outputs": [],
   "source": [
    "# MAE calculate\n",
    "for eng in all_analysis_object.engines:\n",
    "    mae = all_analysis_object._stats_object.compute_mue(y=eng, pert_val=\"pert\")\n",
    "    stats_string = f\"MAE: {mae[0]:.2f} +/- {mae[1]:.2f} kcal/mol\"\n",
    "    all_analysis_object.plot_scatter_ddG(\n",
    "        engine=eng,\n",
    "        **{\n",
    "            \"title\": stats_string,\n",
    "            \"key\": False,\n",
    "            #    \"save\": f\"/home/anna/Desktop/{eng}\"\n",
    "        },\n",
    "    )"
   ]
  }
 ],
 "metadata": {
  "kernelspec": {
   "display_name": "openbiosim-dev",
   "language": "python",
   "name": "python3"
  },
  "language_info": {
   "codemirror_mode": {
    "name": "ipython",
    "version": 3
   },
   "file_extension": ".py",
   "mimetype": "text/x-python",
   "name": "python",
   "nbconvert_exporter": "python",
   "pygments_lexer": "ipython3",
   "version": "3.9.16"
  },
  "orig_nbformat": 4
 },
 "nbformat": 4,
 "nbformat_minor": 2
}
