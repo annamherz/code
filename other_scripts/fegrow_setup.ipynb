{
 "cells": [
  {
   "cell_type": "markdown",
   "id": "ba86bf5e",
   "metadata": {},
   "source": [
    "## FEGROW\n"
   ]
  },
  {
   "cell_type": "code",
   "execution_count": null,
   "id": "10a1f1b0",
   "metadata": {},
   "outputs": [],
   "source": [
    "import copy\n",
    "\n",
    "import prody\n",
    "from rdkit import Chem\n",
    "from rdkit.Chem import AllChem\n",
    "\n",
    "import fegrow\n",
    "from fegrow import RGroups\n",
    "\n",
    "import os"
   ]
  },
  {
   "cell_type": "markdown",
   "id": "cd53ff25",
   "metadata": {},
   "source": [
    "# For each protein\n"
   ]
  },
  {
   "cell_type": "markdown",
   "id": "00adb1dd",
   "metadata": {},
   "source": [
    "### attachments carried out\n",
    "\n",
    "## tyk2\n",
    "\n",
    "'ejm31_core_h' attach all to index 19. Five ligands grown, ['ejm44', 'ejm49', 'ejm51', 'ejm52', 'ejm53'].\n",
    "\n",
    "## p38a\n",
    "'2v_sub_h', attach index H4 - there are two Hs on the N so make sure correct is picked. Otherwise grows weirdly into ring. This is for 2cc and 2dd.\n",
    "'2k_nosub', attach index H42. for 2q and 2u.\n",
    "\n",
    "## mcl1\n",
    "remove the following ligs from the r_groups : ['lig_39','lig_41','lig_51','lig_54','lig_55','lig_57','lig_62','lig_64','lig_66','lig_68']   \n",
    "27_core_h, attach index 0, grows 'lig_29','lig_38','lig_40','lig_42','lig_44','lig_45'\n",
    "60_sub_h, attach index 16, grows 'lig_23'\n",
    "67_sub_h, attach index 16, grows 'lig_26'\n",
    "from the newly grown ligands,\n",
    "lig_42 is used as a template ligand, attach index X, grows lig_59\n"
   ]
  },
  {
   "cell_type": "code",
   "execution_count": null,
   "id": "7b1f8155",
   "metadata": {},
   "outputs": [],
   "source": [
    "# file locations, rename protein as needed\n",
    "protein = \"tyk2\"\n",
    "protein_folder = f\"{protein}/fegrow\"\n",
    "protein_file = f\"{protein}/protein/{protein}_parameterised.pdb\"\n",
    "r_group_folder = f\"{protein_folder}/r_groups\" # these are going to get made\n",
    "smiles_file = f\"{protein_folder}/r_groups/smiles.dat\"\n",
    "template_mol_folder = f\"{protein_folder}/template_mol\"\n",
    "\n",
    "grown_mols_folder = f\"{protein_folder}/final_noani\"\n",
    "pre_opt_folder = f\"{protein_folder}/confomer_pre_optimisation\"\n",
    "\n",
    "# folders that need to be grown\n",
    "folders = [grown_mols_folder, pre_opt_folder]\n",
    "for folder in folders:\n",
    "    if not os.path.isdir(folder):\n",
    "        os.mkdir(folder)\n",
    "        print(f\"made dir {folder}\")"
   ]
  },
  {
   "cell_type": "code",
   "execution_count": null,
   "id": "dbf0a230",
   "metadata": {},
   "outputs": [],
   "source": [
    "# want to make a list of dictionaries for the name, smiles, and attachment index\n",
    "r_groups_dict_list = []\n",
    "\n",
    "# open the smiles file\n",
    "with open(smiles_file) as f:\n",
    "    for line in f.readlines():\n",
    "        smiles_string = line.split(',')[1]\n",
    "        name = line.split(',')[0]\n",
    "\n",
    "        # make from smiles\n",
    "        smile = Chem.MolFromSmiles(f'{smiles_string}')\n",
    "        # give molecule a name\n",
    "        smile.SetProp(\"_Name\",f\"{name}\")\n",
    "        # add Hs to the molecule - this is important for adding 3D coordinates next\n",
    "        smile_h = Chem.AddHs(smile)\n",
    "        # add 3D coordinates by embedding the molecule, uses the ETKDG method\n",
    "        # this is important so that not all the bonds are flat\n",
    "        AllChem.EmbedMolecule(smile_h,\n",
    "                                #randomSeed=0xf00d # this is for reproducibility\n",
    "                                )\n",
    "\n",
    "        # next want to dave this as a mol file, so that have and can also reopen for adding to rmols\n",
    "        smile_mol = Chem.MolToMolBlock(smile_h)\n",
    "        print(smile_mol,file=open(f'{r_group_folder}/{name}.mol','w+'))\n",
    "\n",
    "# # adding r groups to a list\n",
    "# selected_rgroups = []\n",
    "\n",
    "# add your own R-groups files\n",
    "for file in sorted(os.listdir(f\"{r_group_folder}\")):\n",
    "    if file.endswith(\".mol\"):\n",
    "        try:\n",
    "            name = file.split(\".\")[0]\n",
    "            r_group = Chem.MolFromMolFile(f\"{r_group_folder}/{file}\", removeHs=False)\n",
    "            # append name to dictionary\n",
    "            r_groups_dict_list.append({\"name\":f\"{name}\",\"r_group\":r_group,\"attach_idx\":None, \"template_mol\":None})\n",
    "        except:\n",
    "            print(f\"{file} could not be opened\")\n"
   ]
  },
  {
   "cell_type": "code",
   "execution_count": null,
   "id": "a1e2557d",
   "metadata": {},
   "outputs": [],
   "source": [
    "# print specific r group if wanted\n",
    "r_groups_dict_list[3][\"r_group\"]\n"
   ]
  },
  {
   "cell_type": "code",
   "execution_count": null,
   "id": "5cc2b469",
   "metadata": {},
   "outputs": [],
   "source": [
    "# remove any r groups\n",
    "r_groups_remove = ['lig_39','lig_41','lig_51','lig_54','lig_55','lig_57','lig_62','lig_64','lig_66','lig_68']\n",
    "\n",
    "for r_dict in r_groups_dict_list:\n",
    "    if r_dict['name'] in r_groups_remove:\n",
    "        r_groups_dict_list.remove(r_dict)\n",
    "\n",
    "# r_groups_dict_list"
   ]
  },
  {
   "cell_type": "code",
   "execution_count": null,
   "id": "793d2843",
   "metadata": {},
   "outputs": [],
   "source": [
    "# !obabel coreh.pdb -O coreh.sdf -p 7\n",
    "\n",
    "# make a dictionary\n",
    "template_mol_dict = {}\n",
    "\n",
    "# loading in the different templates, these are in sdf\n",
    "for file in sorted(os.listdir(f\"{template_mol_folder}\")):\n",
    "    if file.endswith(\".sdf\"):\n",
    "        print(file)\n",
    "        try:\n",
    "            name = file.split(\".\")[0]\n",
    "            # load in the template mols\n",
    "            init_mol = Chem.SDMolSupplier(f'{template_mol_folder}/{file}', removeHs=False)[0]\n",
    "            init_mol_h = Chem.AddHs(init_mol) # add H incase\n",
    "            template_mol = fegrow.RMol(init_mol_h) # turn into fegrow template\n",
    "            # append name to dictionary\n",
    "            template_mol_dict[f\"{name}\"]=template_mol\n",
    "        except:\n",
    "            print(f\"{file} could not be opened\")\n",
    "\n",
    "print(template_mol_dict)"
   ]
  },
  {
   "cell_type": "code",
   "execution_count": null,
   "id": "d5edceaf",
   "metadata": {},
   "outputs": [],
   "source": [
    "# visualise the different template mols\n",
    "# can change based on name\n",
    "template_mol_dict[\"ejm31_core_h\"].rep2D(idx=True, size=(500, 500))"
   ]
  },
  {
   "cell_type": "code",
   "execution_count": null,
   "id": "7431c77f",
   "metadata": {},
   "outputs": [],
   "source": [
    "# add the attachment index for each group. the length of the dictionary is:\n",
    "print(f\"no of indexes is {len(r_groups_dict_list)-1}, starting at 0. ({len(r_groups_dict_list)} in total)\")\n",
    "\n",
    "# for each index starting from 0, visualise the group\n",
    "index_considering = 2\n",
    "print(r_groups_dict_list[index_considering][\"name\"])\n",
    "r_groups_dict_list[index_considering][\"r_group\"]"
   ]
  },
  {
   "cell_type": "code",
   "execution_count": null,
   "id": "02a0fcfd",
   "metadata": {},
   "outputs": [],
   "source": [
    "# Then add the attachment index and mol for that group that was just visualised\n",
    "r_groups_dict_list[index_considering][\"template_mol\"]=\"2k_nosub\" # pick which\n",
    "r_groups_dict_list[index_considering][\"attach_idx\"]=[42]\n"
   ]
  },
  {
   "cell_type": "code",
   "execution_count": null,
   "id": "f091f7d5",
   "metadata": {},
   "outputs": [],
   "source": [
    "# if want the same attachment index for all groups, use the below:\n",
    "for r_group_dict in r_groups_dict_list:\n",
    "    r_group_dict[\"attach_idx\"]=[19]\n",
    "    r_group_dict[\"template_mol\"]=\"ejm31_core_h\""
   ]
  },
  {
   "cell_type": "code",
   "execution_count": null,
   "id": "baa6a512",
   "metadata": {},
   "outputs": [],
   "source": [
    "# if want a certain attachment for list of ligands\n",
    "# write list of ligs\n",
    "attach_ligs = ['lig_29','lig_38','lig_40','lig_42','lig_44','lig_45']\n",
    "# write for those in dict\n",
    "for r_group_dict in r_groups_dict_list:\n",
    "    if r_group_dict[\"name\"] in attach_ligs:\n",
    "        r_group_dict[\"attach_idx\"]=[0]\n",
    "        r_group_dict[\"template_mol\"]=\"27_core_h\""
   ]
  },
  {
   "cell_type": "code",
   "execution_count": null,
   "id": "64d347b3",
   "metadata": {},
   "outputs": [],
   "source": [
    "for r_dict in r_groups_dict_list:\n",
    "    print(r_dict)\n",
    "\n",
    "# if want to add to a molecule that needs to be grown first, the template_mol should be left empty\n",
    "# check if all the entries are what they should be"
   ]
  },
  {
   "cell_type": "markdown",
   "id": "d2ab0ba4",
   "metadata": {},
   "source": [
    "grow the molecules:"
   ]
  },
  {
   "cell_type": "code",
   "execution_count": null,
   "id": "79c7355a",
   "metadata": {},
   "outputs": [],
   "source": [
    "# dict of all the made fegrow molecules\n",
    "rmols_single = {}\n",
    "\n",
    "# list for r groups with no template mol to attach to yet\n",
    "r_group_no_temp = []\n",
    "# list for newly made molecules\n",
    "r_group_new_mols = []\n",
    "\n",
    "for r_group_dict in r_groups_dict_list:\n",
    "  if not r_group_dict['template_mol']:\n",
    "    r_group_no_temp.append(r_group_dict[\"name\"])\n",
    "  else:\n",
    "    mol = fegrow.build_molecules(template_mol_dict[f\"{r_group_dict['template_mol']}\"], \n",
    "                                r_group_dict[\"attach_idx\"], \n",
    "                                [r_group_dict[\"r_group\"]])\n",
    "    rmols_single[r_group_dict[\"name\"]]=mol\n",
    "    r_group_new_mols.append(r_group_dict[\"name\"])\n",
    "\n",
    "print(f\"new mols made: {r_group_new_mols}\")\n",
    "print(f\"no template yet: {r_group_no_temp}\")"
   ]
  },
  {
   "cell_type": "code",
   "execution_count": null,
   "id": "49561712",
   "metadata": {},
   "outputs": [],
   "source": [
    "# if want to add any of the no template yet to a newly made molecule:\n",
    "\n",
    "# first want to add the new template molecule to the dict for it\n",
    "# make list for new template mols\n",
    "new_template_mols_name = ['lig_42']\n",
    "\n",
    "for mol_name in new_template_mols_name:\n",
    "    name = f\"{mol_name}\"\n",
    "    template_mol = rmols_single[name]\n",
    "    # append name to dictionary\n",
    "    template_mol_dict[f\"{name}\"]=template_mol[0]"
   ]
  },
  {
   "cell_type": "code",
   "execution_count": null,
   "id": "7d39d0e5",
   "metadata": {},
   "outputs": [],
   "source": [
    "print(template_mol_dict)\n",
    "# visualise the new template mol so can pick attachment index\n",
    "template_mol_dict[\"lig_42\"].rep2D(idx=True, size=(500, 500))"
   ]
  },
  {
   "cell_type": "code",
   "execution_count": null,
   "id": "30e986e7",
   "metadata": {},
   "outputs": [],
   "source": [
    "# add the template lig and attachment to the dict\n",
    "# rerun this cell as needed to go through the new template mols added above\n",
    "ligs_to_grow = [\"lig_59\"]\n",
    "\n",
    "for r_group_dict in r_groups_dict_list:\n",
    "    # if r_group_dict[\"name\"] in r_group_no_temp:\n",
    "    if r_group_dict[\"name\"] in ligs_to_grow:\n",
    "        r_group_dict[\"attach_idx\"]=[22]\n",
    "        r_group_dict[\"template_mol\"]=\"lig_42\""
   ]
  },
  {
   "cell_type": "code",
   "execution_count": null,
   "id": "fefc389b",
   "metadata": {},
   "outputs": [],
   "source": [
    "# run this cell, which is a repeat of the previous one\n",
    "# it will make a new list for any molecules that are still missing\n",
    "# the rmols single will be updated \n",
    "\n",
    "# list for r groups with no template mol to attach to yet\n",
    "r_group_no_temp = []\n",
    "# list for newly made molecules\n",
    "r_group_new_mols = []\n",
    "\n",
    "for r_group_dict in r_groups_dict_list:\n",
    "  if not r_group_dict['template_mol']:\n",
    "    r_group_no_temp.append(r_group_dict[\"name\"])\n",
    "  else:\n",
    "    print(r_group_dict[\"name\"])\n",
    "    mol = fegrow.build_molecules(template_mol_dict[f\"{r_group_dict['template_mol']}\"], \n",
    "                                r_group_dict[\"attach_idx\"], \n",
    "                                [r_group_dict[\"r_group\"]])\n",
    "    rmols_single[r_group_dict[\"name\"]]=mol\n",
    "    r_group_new_mols.append(r_group_dict[\"name\"])\n",
    "\n",
    "print(f\"new mols made: {r_group_new_mols}\")\n",
    "print(f\"no template yet: {r_group_no_temp}\")\n",
    "\n",
    "# if there is still no template yet, repeat the above cells"
   ]
  },
  {
   "cell_type": "code",
   "execution_count": null,
   "id": "e0cd602f",
   "metadata": {},
   "outputs": [],
   "source": [
    "# sorted list of all the made molecules\n",
    "made_rmols = []\n",
    "\n",
    "# combine into single rmols file\n",
    "rmols = fegrow.RList()\n",
    "id_counter = 0\n",
    "for key in rmols_single.keys():\n",
    "  mol = rmols_single[key][0]\n",
    "  mol.id = id_counter\n",
    "  rmols.append(mol)\n",
    "  made_rmols.append(key)\n",
    "  id_counter += 1\n",
    "\n",
    "print(made_rmols)\n",
    "rmols\n",
    "# rmols.rep2D()"
   ]
  },
  {
   "cell_type": "code",
   "execution_count": null,
   "id": "046a7faf",
   "metadata": {},
   "outputs": [],
   "source": [
    "# visualise if needed\n",
    "rmols[0].rep3D()"
   ]
  },
  {
   "cell_type": "markdown",
   "id": "96e85edd",
   "metadata": {},
   "source": [
    "For each ligand, a specified number of conformers (`num_conf`) is generated by using the RDKit [ETKDG algorithm](https://doi.org/10.1021/acs.jcim.5b00654). Conformers that are too similar to an existing structure are discarded. Empirically, we have found that `num_conf=200` gives an exhaustive search, and `num_conf=50` gives a reasonable, fast search, in most cases.\n",
    "\n",
    "If required, a third argument can be added `flexible=[0,1,...]`, which provides a list of additional atoms in the core that are allowed to be flexible. This is useful, for example, if growing from a methyl group and you would like the added R-group to freely rotate."
   ]
  },
  {
   "cell_type": "code",
   "execution_count": null,
   "id": "0c07ab01",
   "metadata": {},
   "outputs": [],
   "source": [
    "rmols.generate_conformers(num_conf=50, \n",
    "                          minimum_conf_rms=0.5, \n",
    "                          # flexible=[12,13,14]\n",
    "                        )"
   ]
  },
  {
   "cell_type": "code",
   "execution_count": null,
   "id": "b5667599",
   "metadata": {},
   "outputs": [],
   "source": [
    "# load back into prody\n",
    "rec_final = prody.parsePDB(f\"{protein_file}\")"
   ]
  },
  {
   "cell_type": "code",
   "execution_count": null,
   "id": "61f05bae",
   "metadata": {},
   "outputs": [],
   "source": [
    "rmols[2].rep2D()"
   ]
  },
  {
   "cell_type": "code",
   "execution_count": null,
   "id": "686b93fe",
   "metadata": {},
   "outputs": [],
   "source": [
    "# can visualise the diff conformers in the protein\n",
    "rmols[2].rep3D(prody=rec_final)"
   ]
  },
  {
   "cell_type": "code",
   "execution_count": null,
   "id": "858739ac",
   "metadata": {},
   "outputs": [],
   "source": [
    "# remove any clashing confomers\n",
    "rmols.remove_clashing_confs(rec_final)\n",
    "# does this for all rmols indexes, not just the one visualised."
   ]
  },
  {
   "cell_type": "code",
   "execution_count": null,
   "id": "d30c0540",
   "metadata": {},
   "outputs": [],
   "source": [
    "# can visualise again\n",
    "rmols[1].rep3D(prody=rec_final)"
   ]
  },
  {
   "cell_type": "code",
   "execution_count": null,
   "id": "48704b29",
   "metadata": {},
   "outputs": [],
   "source": [
    "# save the confomers for comparison to optimise in receptor\n",
    "\n",
    "with Chem.SDWriter(f'{pre_opt_folder}/best_confomer_each.sdf') as w:\n",
    "    for m, name in zip(rmols, made_rmols):\n",
    "        m.SetProp(\"_Name\",f\"{name}\")\n",
    "        w.write(m)\n"
   ]
  },
  {
   "cell_type": "markdown",
   "id": "066014d6",
   "metadata": {},
   "source": [
    "### Optimise conformers in context of protein"
   ]
  },
  {
   "cell_type": "markdown",
   "id": "b02e8d1b",
   "metadata": {},
   "source": [
    "The remaining conformers are optimised using hybrid machine learning / molecular mechanics (ML/MM), using the [ANI2x](https://doi.org/10.1021/acs.jctc.0c00121) neural nework potential for the ligand energetics (as long as it contains only the atoms H, C, N, O, F, S, Cl). Note that the Open Force Field [Parsley](https://doi.org/10.1021/acs.jctc.1c00571) force field is used for intermolecular interactions with the receptor.\n",
    "\n",
    "`sigma_scale_factor`: is used to scale the Lennard-Jones radii of the atoms.\n",
    "\n",
    "`relative_permittivity`: is used to scale the electrostatic interactions with the protein.\n",
    "\n",
    "`water_model`: can be used to set the force field for any water molecules present in the binding site."
   ]
  },
  {
   "cell_type": "code",
   "execution_count": null,
   "id": "d35f2ca1",
   "metadata": {},
   "outputs": [],
   "source": [
    "# opt_mol, energies\n",
    "energies = rmols.optimise_in_receptor(\n",
    "    receptor_file=protein_file, \n",
    "    ligand_force_field=\"gaff\", \n",
    "    use_ani=False,\n",
    "    sigma_scale_factor=0.8,\n",
    "    relative_permittivity=4,\n",
    "    water_model = \"tip3p.xml\"\n",
    ")"
   ]
  },
  {
   "cell_type": "markdown",
   "id": "a416d638",
   "metadata": {},
   "source": [
    "Any of the rmols that have no available conformers (due to unresolvable steric clashes with the protein) can be discarded using the `.discard_missing()` function. This function also returns a list of the indices that were removed, which can be helpful when carrying out data analysis."
   ]
  },
  {
   "cell_type": "code",
   "execution_count": null,
   "id": "c4d41da2",
   "metadata": {},
   "outputs": [],
   "source": [
    "missing_ids = rmols.discard_missing()"
   ]
  },
  {
   "cell_type": "markdown",
   "id": "698fecce",
   "metadata": {},
   "source": [
    "Optionally, display the final optimised conformers. Note that, unlike classical force fields, ANI allows bond breaking. You may occasionally see ligands with distorted structures and very long bonds, but in our experience these are rarely amongst the low energy structures and can be ignored."
   ]
  },
  {
   "cell_type": "code",
   "execution_count": null,
   "id": "d59ef690",
   "metadata": {},
   "outputs": [],
   "source": [
    "rmols[4].rep3D(prody=rec_final)"
   ]
  },
  {
   "cell_type": "markdown",
   "id": "13fa9245",
   "metadata": {},
   "source": [
    "Conformers are now sorted by energy, only retaining those within 5 kcal/mol of the lowest energy structure:"
   ]
  },
  {
   "cell_type": "code",
   "execution_count": null,
   "id": "3a2d37ea",
   "metadata": {},
   "outputs": [],
   "source": [
    "final_energies = rmols.sort_conformers(energy_range=5)"
   ]
  },
  {
   "cell_type": "markdown",
   "id": "a8bde92b",
   "metadata": {},
   "source": [
    "Save all of the lowest energy conformers to files and print the sorted energies in kcal/mol (shifted so that the lowest energy conformer is zero)."
   ]
  },
  {
   "cell_type": "code",
   "execution_count": null,
   "id": "e2e3ec75",
   "metadata": {},
   "outputs": [],
   "source": [
    "# save the confomers for comparison to optimise in receptor\n",
    "\n",
    "with Chem.SDWriter(f'{grown_mols_folder}/best_confomer_each.sdf') as w:\n",
    "    for m, name in zip(rmols, made_rmols):\n",
    "        m.SetProp(\"_Name\",f\"{name}\")\n",
    "        w.write(m)\n"
   ]
  },
  {
   "cell_type": "code",
   "execution_count": null,
   "id": "bb3dc5a6",
   "metadata": {},
   "outputs": [],
   "source": [
    "# for wanting to seperate the written sdf files\n",
    "\n",
    "file = f\"{grown_mols_folder}/best_confomer_each.sdf\"\n",
    "\n",
    "#get all the ligand names from the file\n",
    "ligand_names = []\n",
    "\n",
    "with open(file, \"r\") as f:\n",
    "    for line in f.readlines():\n",
    "        if \"lig_\" in line:\n",
    "            name =f\"{line.split(' ')[0].strip()}\"\n",
    "            ligand_names.append(name)\n",
    "\n",
    "# for lig in ligand_names:\n",
    "#     if \"-\" in lig:\n",
    "#         ligand_names.remove(lig)\n",
    "\n",
    "print(ligand_names)\n"
   ]
  },
  {
   "cell_type": "code",
   "execution_count": null,
   "id": "d106ca23",
   "metadata": {},
   "outputs": [],
   "source": [
    "# load all molecules\n",
    "mols_file = Chem.SDMolSupplier(file, removeHs=False)\n",
    "\n",
    "count = 0\n",
    "\n",
    "# write all of the best confomers to their own file\n",
    "for mol in mols_file:\n",
    "    name = ligand_names[count]\n",
    "    # mol_h = Chem.AddHs(mol) # if need to add H\n",
    "    writer = Chem.rdmolfiles.SDWriter(f\"{grown_mols_folder}/{name}.sdf\")\n",
    "    writer.write(mol) # need to change this to mol_h then\n",
    "    count += 1"
   ]
  },
  {
   "cell_type": "code",
   "execution_count": null,
   "id": "22acce67",
   "metadata": {},
   "outputs": [],
   "source": [
    "# check if all names and files length match\n",
    "print(len(ligand_names))\n",
    "print(len(mols_file))"
   ]
  },
  {
   "cell_type": "code",
   "execution_count": null,
   "id": "8ad9d1a9",
   "metadata": {},
   "outputs": [],
   "source": [
    "print(final_energies)"
   ]
  },
  {
   "cell_type": "code",
   "execution_count": null,
   "id": "9d9f6dc6",
   "metadata": {},
   "outputs": [],
   "source": [
    "# fix H for single files\n",
    "# load all molecules\n",
    "folder_path = f\"{protein}/fegrow/final\"\n",
    "\n",
    "name = \"2u\"\n",
    "\n",
    "file = f\"{folder_path}/{name}.sdf\"\n",
    "mol = Chem.SDMolSupplier(file, removeHs=False)[0]\n",
    "print(mol.GetNumAtoms())\n",
    "mol_h = Chem.AddHs(mol)\n",
    "print(mol_h.GetNumAtoms())\n",
    "# AllChem.EmbedMolecule(mol_h,\n",
    "#                         #randomSeed=0xf00d # this is for reproducibility\n",
    "#                         )\n",
    "writer = Chem.rdmolfiles.SDWriter(f\"{protein}/ligands/{name}.sdf\")\n",
    "writer.write(mol_h)"
   ]
  },
  {
   "cell_type": "code",
   "execution_count": null,
   "id": "c9ad31a1",
   "metadata": {},
   "outputs": [],
   "source": [
    "## from old script\n",
    "\n",
    "# save the confomers and pdb and sdf\n",
    "[rmol.to_file(f\"{confomers_dir}/best_conformers_{i}.pdb\") for i, rmol in enumerate(rmols)]\n",
    "[rmol.to_file(f\"{confomers_dir}/best_conformers_{i}.sdf\") for i, rmol in enumerate(rmols)]\n",
    "\n",
    "# write the first of each so best conformation\n",
    "with Chem.SDWriter(f'{confomers_dir}/besteach.sdf') as w:\n",
    "    for m in rmols:\n",
    "        w.write(m)\n",
    "\n",
    "# rename to the ligand name and only save the best confomer\n",
    "pdb_ligand_files = sorted(glob.glob(f\"{confomers_dir}/best_conformers*.pdb\"))\n",
    "sdf_ligand_files = sorted(glob.glob(f\"{confomers_dir}/best_conformers*.sdf\"))\n",
    "\n",
    "files_ext = [pdb_ligand_files, sdf_ligand_files]\n",
    "extension = [\"pdb\",\"sdf\"]\n",
    "\n",
    "for files, ext in zip(files_ext, extension):\n",
    "    for file, name in zip(files, r_group_names):\n",
    "        with open(file,\"r\") as input:\n",
    "            with open(f\"{path_to_ligands}/{name}.{ext}\",\"w\") as output:\n",
    "                for line in input:\n",
    "                    output.write(line)\n",
    "                    if \"END\" in line:\n",
    "                        if ext == \"sdf\":\n",
    "                            output.write(\"$$$$\")\n",
    "                        break"
   ]
  }
 ],
 "metadata": {
  "kernelspec": {
   "display_name": "Python 3.9.13 ('fegrow': conda)",
   "language": "python",
   "name": "python3"
  },
  "language_info": {
   "codemirror_mode": {
    "name": "ipython",
    "version": 3
   },
   "file_extension": ".py",
   "mimetype": "text/x-python",
   "name": "python",
   "nbconvert_exporter": "python",
   "pygments_lexer": "ipython3",
   "version": "3.9.13"
  },
  "varInspector": {
   "cols": {
    "lenName": 16,
    "lenType": 16,
    "lenVar": 40
   },
   "kernels_config": {
    "python": {
     "delete_cmd_postfix": "",
     "delete_cmd_prefix": "del ",
     "library": "var_list.py",
     "varRefreshCmd": "print(var_dic_list())"
    },
    "r": {
     "delete_cmd_postfix": ") ",
     "delete_cmd_prefix": "rm(",
     "library": "var_list.r",
     "varRefreshCmd": "cat(var_dic_list()) "
    }
   },
   "types_to_exclude": [
    "module",
    "function",
    "builtin_function_or_method",
    "instance",
    "_Feature"
   ],
   "window_display": false
  },
  "vscode": {
   "interpreter": {
    "hash": "3c4142a46fc27c9da3b7d3d9513d8f502b91b2bccc68bfe8358ac013bc98cddc"
   }
  }
 },
 "nbformat": 4,
 "nbformat_minor": 5
}
