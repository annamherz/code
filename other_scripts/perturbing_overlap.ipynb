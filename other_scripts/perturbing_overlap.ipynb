{
 "cells": [
  {
   "cell_type": "code",
   "execution_count": null,
   "metadata": {},
   "outputs": [],
   "source": [
    "import sys\n",
    "import csv\n",
    "import pandas as pd\n",
    "import matplotlib.pyplot as plt\n",
    "\n",
    "pd.set_option('display.max_rows', None)\n",
    "\n",
    "from argparse import ArgumentParser\n",
    "import itertools as it\n",
    "\n",
    "print(\"adding code to the pythonpath...\")\n",
    "code = '/home/anna/Documents/code/python'\n",
    "if code not in sys.path:\n",
    "    sys.path.insert(1, code)\n",
    "import pipeline\n",
    "from pipeline.utils import validate"
   ]
  },
  {
   "cell_type": "code",
   "execution_count": null,
   "metadata": {},
   "outputs": [],
   "source": [
    "df_dict = {}\n",
    "\n",
    "for prot in [\"tyk2\",\"mcl1\",\"p38\"]:\n",
    "    file = f\"/home/anna/Documents/benchmark/extracted/{prot}/perturbing_overlap.dat\"\n",
    "    df = pd.read_csv(file)\n",
    "    df_dict[prot] = df\n",
    "\n",
    "frames = []\n",
    "for key in df_dict.keys():\n",
    "    frames.append(df_dict[key])\n",
    "\n",
    "all_df = pd.concat(frames)\n",
    "df = all_df\n",
    "# df = df_dict[\"p38\"]"
   ]
  },
  {
   "cell_type": "code",
   "execution_count": null,
   "metadata": {},
   "outputs": [],
   "source": [
    "# histogram of failed run in terms of perturbing atoms\n",
    "\n",
    "df_has = df[df[\"percen_overlap_okay\"] >= 0]\n",
    "df_none = pd.merge(df_has, df, how='outer', indicator=True).query(\"_merge != 'both'\").drop('_merge', axis=1).reset_index(drop=True)\n",
    "print(len(df_none))\n",
    "df_none[\"perturbing_atoms\"].plot.hist(bins=10)\n",
    "plt.xlabel(\"perturbing atoms\")"
   ]
  },
  {
   "cell_type": "code",
   "execution_count": null,
   "metadata": {},
   "outputs": [],
   "source": [
    "df_plot = df.dropna()\n",
    "\n",
    "df_plot.plot.scatter(\"perturbing_atoms\",\"percen_overlap_okay\",\n",
    "                     c='too_small_avg',\n",
    "                     colormap='viridis')\n",
    "# plt.title(f\"\")\n",
    "# plt.xlabel(\"no. of perturbing atoms\")\n",
    "# plt.ylabel(\"percentage of okay overlap\")"
   ]
  },
  {
   "cell_type": "code",
   "execution_count": null,
   "metadata": {},
   "outputs": [],
   "source": [
    "\n",
    "df_plot.plot.scatter(\"perturbing_atoms\",\"too_small_avg\",\n",
    "                     c='percen_overlap_okay',\n",
    "                     colormap='viridis')\n",
    "# plt.title(f\"\")\n",
    "# plt.xlabel(\"no. of perturbing atoms\")\n",
    "# plt.ylabel(\"average no. of too small off-diagonals per leg\")"
   ]
  },
  {
   "cell_type": "code",
   "execution_count": null,
   "metadata": {},
   "outputs": [],
   "source": [
    "df_plot.plot.scatter(\"percen_overlap_okay\",\"too_small_avg\",\n",
    "                     c='perturbing_atoms',\n",
    "                     colormap='viridis')"
   ]
  },
  {
   "cell_type": "code",
   "execution_count": null,
   "metadata": {},
   "outputs": [],
   "source": [
    "# exclude outliers as needed\n",
    "df3 = df_plot[df_plot[\"diff_to_exp\"] >= 20]\n",
    "df_out = pd.merge(df3, df_plot, how='outer', indicator=True).query(\"_merge != 'both'\").drop('_merge', axis=1).reset_index(drop=True)\n",
    "\n",
    "# df_out = df_plot\n",
    "\n",
    "df_out.plot.scatter(\"perturbing_atoms\",\"diff_to_exp\",\n",
    "                     c='percen_overlap_okay',\n",
    "                     colormap='viridis')"
   ]
  },
  {
   "cell_type": "code",
   "execution_count": null,
   "metadata": {},
   "outputs": [],
   "source": [
    "columns = [\"perturbing_atoms\",\"percen_overlap_okay\",\"too_small_avg\"]\n",
    "bins = [6, 3, 5]\n",
    "for column,bin in zip(columns, bins):\n",
    "    fig = plt.figure()\n",
    "    df_plot = df[column]\n",
    "    df_plot.plot.hist(subplots=True, bins=bin)\n",
    "    plt.title(column)\n"
   ]
  },
  {
   "cell_type": "code",
   "execution_count": null,
   "metadata": {},
   "outputs": [],
   "source": [
    "# for per engine\n",
    "eng = \"GROMACS\"\n",
    "df2 = df[df[\"engine\"] == eng]\n",
    "df_plot = df2.dropna()\n",
    "df_plot.plot.scatter(\"perturbing_atoms\",\"percen_overlap_okay\",\n",
    "                     c='too_small_avg',\n",
    "                     colormap='viridis')\n",
    "df_plot.plot.scatter(\"perturbing_atoms\",\"too_small_avg\",\n",
    "                     c='percen_overlap_okay',\n",
    "                     colormap='viridis')\n",
    "df_plot.plot.scatter(\"percen_overlap_okay\",\"too_small_avg\",\n",
    "                     c='perturbing_atoms',\n",
    "                     colormap='viridis')"
   ]
  },
  {
   "cell_type": "code",
   "execution_count": null,
   "metadata": {},
   "outputs": [],
   "source": [
    "engs = [\"AMBER\",\"SOMD\",\"GROMACS\"]\n",
    "eng_dict = {}\n",
    "\n",
    "col_dict = pipeline.analysis.plotting_engines._set_colours()\n",
    "\n",
    "for eng in engs:\n",
    "    df2 = df[df[\"engine\"] == eng]\n",
    "    eng_dict[eng] = df2\n",
    "\n",
    "for eng in engs:\n",
    "    df_plot = eng_dict[eng].dropna()\n",
    "    ax = df_plot.plot.scatter(\"perturbing_atoms\",\"percen_overlap_okay\",\n",
    "                        c=col_dict[eng])\n",
    "\n",
    "df_plot = eng_dict[\"AMBER\"].dropna()\n",
    "ax1 = df_plot.plot.scatter(\"perturbing_atoms\",\"percen_overlap_okay\",\n",
    "                    c=col_dict[\"AMBER\"])\n",
    "df_plot = eng_dict[\"SOMD\"].dropna()\n",
    "ax2 = df_plot.plot.scatter(\"perturbing_atoms\",\"percen_overlap_okay\",\n",
    "                    c=col_dict[\"SOMD\"], ax=ax1)\n",
    "df_plot = eng_dict[\"GROMACS\"].dropna()\n",
    "ax3 = df_plot.plot.scatter(\"perturbing_atoms\",\"percen_overlap_okay\",\n",
    "                    c=col_dict[\"GROMACS\"], ax=ax1)\n",
    "plt.legend(col_dict, loc=\"upper right\")\n",
    "print(ax1 == ax2 == ax3)"
   ]
  },
  {
   "cell_type": "code",
   "execution_count": null,
   "metadata": {},
   "outputs": [],
   "source": [
    "engs = [\"AMBER\",\"SOMD\",\"GROMACS\"]\n",
    "eng_dict = {}\n",
    "\n",
    "col_dict = pipeline.analysis.plotting_engines._set_colours()\n",
    "\n",
    "for eng in engs:\n",
    "    df2 = df[df[\"engine\"] == eng]\n",
    "    df3 = df2[df2[\"diff_to_exp\"] >= 5]\n",
    "    df4 = pd.merge(df3, df2, how='outer', indicator=True).query(\"_merge != 'both'\").drop('_merge', axis=1).reset_index(drop=True)\n",
    "    eng_dict[eng] = df4\n",
    "\n",
    "for eng in engs:\n",
    "    df_plot = eng_dict[eng].dropna()\n",
    "    ax = df_plot.plot.scatter(\"perturbing_atoms\",\"diff_to_exp\",\n",
    "                        c=col_dict[eng])\n",
    "\n",
    "df_plot = eng_dict[\"AMBER\"].dropna()\n",
    "ax1 = df_plot.plot.scatter(\"perturbing_atoms\",\"diff_to_exp\",\n",
    "                    c=col_dict[\"AMBER\"])\n",
    "df_plot = eng_dict[\"SOMD\"].dropna()\n",
    "ax2 = df_plot.plot.scatter(\"perturbing_atoms\",\"diff_to_exp\",\n",
    "                    c=col_dict[\"SOMD\"], ax=ax1)\n",
    "df_plot = eng_dict[\"GROMACS\"].dropna()\n",
    "ax3 = df_plot.plot.scatter(\"perturbing_atoms\",\"diff_to_exp\",\n",
    "                    c=col_dict[\"GROMACS\"], ax=ax1)\n",
    "plt.legend(col_dict, loc=\"upper right\")\n",
    "print(ax1 == ax2 == ax3)"
   ]
  },
  {
   "cell_type": "code",
   "execution_count": null,
   "metadata": {},
   "outputs": [],
   "source": []
  }
 ],
 "metadata": {
  "kernelspec": {
   "display_name": "Python 3",
   "language": "python",
   "name": "python3"
  },
  "language_info": {
   "codemirror_mode": {
    "name": "ipython",
    "version": 3
   },
   "file_extension": ".py",
   "mimetype": "text/x-python",
   "name": "python",
   "nbconvert_exporter": "python",
   "pygments_lexer": "ipython3",
   "version": "3.9.15"
  },
  "orig_nbformat": 4
 },
 "nbformat": 4,
 "nbformat_minor": 2
}
