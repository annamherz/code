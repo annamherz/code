{
 "cells": [
  {
   "cell_type": "markdown",
   "metadata": {},
   "source": [
    "First import all the libraries, check that the MD engines are present and all python libraries are present.\n",
    "Also checks if the other scripts are present."
   ]
  },
  {
   "cell_type": "code",
   "execution_count": 1,
   "metadata": {},
   "outputs": [
    {
     "ename": "ModuleNotFoundError",
     "evalue": "BioSimSpace currently requires the Sire Python interpreter: www.siremol.org",
     "output_type": "error",
     "traceback": [
      "\u001b[0;31m---------------------------------------------------------------------------\u001b[0m",
      "\u001b[0;31mModuleNotFoundError\u001b[0m                       Traceback (most recent call last)",
      "\u001b[0;32m~/BioSimSpace/python/BioSimSpace/__init__.py\u001b[0m in \u001b[0;36m<module>\u001b[0;34m\u001b[0m\n\u001b[1;32m     52\u001b[0m \u001b[0;32mtry\u001b[0m\u001b[0;34m:\u001b[0m\u001b[0;34m\u001b[0m\u001b[0;34m\u001b[0m\u001b[0m\n\u001b[0;32m---> 53\u001b[0;31m     \u001b[0;32mimport\u001b[0m \u001b[0mSire\u001b[0m\u001b[0;34m\u001b[0m\u001b[0;34m\u001b[0m\u001b[0m\n\u001b[0m\u001b[1;32m     54\u001b[0m     \u001b[0;32mdel\u001b[0m \u001b[0mSire\u001b[0m\u001b[0;34m\u001b[0m\u001b[0;34m\u001b[0m\u001b[0m\n",
      "\u001b[0;31mModuleNotFoundError\u001b[0m: No module named 'Sire'",
      "\nDuring handling of the above exception, another exception occurred:\n",
      "\u001b[0;31mModuleNotFoundError\u001b[0m                       Traceback (most recent call last)",
      "\u001b[0;32m/tmp/ipykernel_69754/3720360283.py\u001b[0m in \u001b[0;36m<module>\u001b[0;34m\u001b[0m\n\u001b[1;32m      1\u001b[0m \u001b[0;31m#import libraries\u001b[0m\u001b[0;34m\u001b[0m\u001b[0;34m\u001b[0m\u001b[0m\n\u001b[0;32m----> 2\u001b[0;31m \u001b[0;32mimport\u001b[0m \u001b[0mBioSimSpace\u001b[0m \u001b[0;32mas\u001b[0m \u001b[0mBSS\u001b[0m\u001b[0;34m\u001b[0m\u001b[0;34m\u001b[0m\u001b[0m\n\u001b[0m\u001b[1;32m      3\u001b[0m \u001b[0;32mimport\u001b[0m \u001b[0mglob\u001b[0m\u001b[0;34m\u001b[0m\u001b[0;34m\u001b[0m\u001b[0m\n\u001b[1;32m      4\u001b[0m \u001b[0;32mimport\u001b[0m \u001b[0mcsv\u001b[0m\u001b[0;34m\u001b[0m\u001b[0;34m\u001b[0m\u001b[0m\n\u001b[1;32m      5\u001b[0m \u001b[0;32mimport\u001b[0m \u001b[0mnumpy\u001b[0m \u001b[0;32mas\u001b[0m \u001b[0mnp\u001b[0m\u001b[0;34m\u001b[0m\u001b[0;34m\u001b[0m\u001b[0m\n",
      "\u001b[0;32m~/BioSimSpace/python/BioSimSpace/__init__.py\u001b[0m in \u001b[0;36m<module>\u001b[0;34m\u001b[0m\n\u001b[1;32m     54\u001b[0m     \u001b[0;32mdel\u001b[0m \u001b[0mSire\u001b[0m\u001b[0;34m\u001b[0m\u001b[0;34m\u001b[0m\u001b[0m\n\u001b[1;32m     55\u001b[0m \u001b[0;32mexcept\u001b[0m \u001b[0mModuleNotFoundError\u001b[0m\u001b[0;34m:\u001b[0m\u001b[0;34m\u001b[0m\u001b[0;34m\u001b[0m\u001b[0m\n\u001b[0;32m---> 56\u001b[0;31m     raise ModuleNotFoundError(\"BioSimSpace currently requires the Sire \"\n\u001b[0m\u001b[1;32m     57\u001b[0m         + \"Python interpreter: www.siremol.org\")\n\u001b[1;32m     58\u001b[0m \u001b[0;34m\u001b[0m\u001b[0m\n",
      "\u001b[0;31mModuleNotFoundError\u001b[0m: BioSimSpace currently requires the Sire Python interpreter: www.siremol.org"
     ]
    }
   ],
   "source": [
    "\n",
    "#import libraries\n",
    "import BioSimSpace as BSS\n",
    "import glob\n",
    "import csv\n",
    "import numpy as np\n",
    "import itertools\n",
    "import os\n",
    "\n",
    "print(BSS.__version__)\n",
    "\n",
    "# TODO check if all engines are correctly installed"
   ]
  },
  {
   "cell_type": "markdown",
   "metadata": {},
   "source": [
    "# Overview of the FEP pipeline\n",
    "\n",
    "0. Copy the scripts folder (containing this ipynb also) into the correct location of where it is to be run.\n",
    "This could be the protein folder name. Set the variables for this below.\n",
    "\n",
    "### All steps overview\n",
    "\n",
    "1. Setup and dock ligands in flare.\n",
    "2. Export the protein as a pdb, export the docked ligands as mol2.\n",
    "3. Create the perturbation network - that is this file. Choose the parameters for the run.\n",
    "4. Manually paramaterise the protein and save in the correct location.\n",
    "5. Run the lig prep.\n",
    "6. Run the FEP prep.\n",
    "7. Run the production runs.\n",
    "8. Perform the analysis."
   ]
  },
  {
   "cell_type": "code",
   "execution_count": 4,
   "metadata": {},
   "outputs": [],
   "source": [
    "#set variables\n",
    "main_folder = \"/home/anna/Documents/1st_yr/amber_bss_sem2/testing_two/tyk2\"\n",
    "\n",
    "# scripts should be located in:\n",
    "scripts_folder = f\"{main_folder}/scripts\"\n",
    "# check all scripts are present\n",
    "# TODO scripts check\n",
    "\n",
    "# make sure other folders exist too.\n",
    "path_to_ligands = f\"{main_folder}/inputs/ligands\"\n",
    "if not os.path.exists(path_to_ligands):\n",
    "    os.mkdir(path_to_ligands)\n",
    "\n",
    "exec_dir = f\"{main_folder}/execution_model\"\n",
    "if not os.path.exists(exec_dir):\n",
    "    os.mkdir(exec_dir)\n",
    "\n",
    "# TODO set main directory variable in bash script for running all."
   ]
  },
  {
   "cell_type": "markdown",
   "metadata": {},
   "source": [
    "#### Step 1\n",
    "Dock all ligands in Flare based on structure of X-ray bound ligand. Choose best pose. Rename all ligands so correct name."
   ]
  },
  {
   "cell_type": "markdown",
   "metadata": {},
   "source": [
    "#### Step 2\n",
    "Export all the docked ligands as mol2 files and make sure these are saved in the {main_folder}/inputs/ligands folder set in the variable below.\n",
    "\n",
    "Export the protein as a pdb, keeping the crystal waters. Save the protein files as {main_folder}/inputs/protein_exported.pdb for paramaterisation or other suitable name for manual paramaterisation later."
   ]
  },
  {
   "cell_type": "markdown",
   "metadata": {},
   "source": [
    "#### Step 3\n",
    "\n",
    "Creating the perturbation network is detailed in the next few cells.\n",
    "Set the vatiables for the paths.\n",
    "Choose the options from the nodes."
   ]
  },
  {
   "cell_type": "markdown",
   "metadata": {},
   "source": [
    "All ligands to be considered should be in the neccessary folder as mol2 files. These should be saved in their already docked position from where they were docked in flare so the coordinates are correct for the rest of the process."
   ]
  },
  {
   "cell_type": "code",
   "execution_count": 5,
   "metadata": {},
   "outputs": [
    {
     "data": {
      "application/vnd.jupyter.widget-view+json": {
       "model_id": "58cb04f8e0a34d30a3b2abd35ece6c62",
       "version_major": 2,
       "version_minor": 0
      },
      "text/plain": [
       "Box(children=(Box(children=(Box(children=(Label(value='Ligand FF: Force field to parameterise ligands with.'),…"
      ]
     },
     "metadata": {},
     "output_type": "display_data"
    },
    {
     "name": "stderr",
     "output_type": "stream",
     "text": [
      "/home/anna/anaconda3/envs/bss-amber/lib/python3.9/site-packages/ipywidgets/widgets/widget_button.py:70: DeprecationWarning: icons names no longer start with 'fa-', just use the class name itself (for example, 'check' instead of 'fa-check')\n",
      "  warnings.warn(\"icons names no longer start with 'fa-', \"\n",
      "/home/anna/anaconda3/envs/bss-amber/lib/python3.9/site-packages/ipywidgets/widgets/widget.py:477: DeprecationWarning: Passing unrecognized arguments to super(Dropdown).__init__(tooltip='Force field to parameterise ligands with.').\n",
      "object.__init__() takes exactly one argument (the instance to initialize)\n",
      "This is deprecated in traitlets 4.2.This error will be raised in a future release of traitlets.\n",
      "  super(Widget, self).__init__(**kwargs)\n",
      "/home/anna/anaconda3/envs/bss-amber/lib/python3.9/site-packages/ipywidgets/widgets/widget_button.py:70: DeprecationWarning: icons names no longer start with 'fa-', just use the class name itself (for example, 'check' instead of 'fa-check')\n",
      "  warnings.warn(\"icons names no longer start with 'fa-', \"\n",
      "/home/anna/anaconda3/envs/bss-amber/lib/python3.9/site-packages/ipywidgets/widgets/widget_button.py:70: DeprecationWarning: icons names no longer start with 'fa-', just use the class name itself (for example, 'check' instead of 'fa-check')\n",
      "  warnings.warn(\"icons names no longer start with 'fa-', \"\n",
      "/home/anna/anaconda3/envs/bss-amber/lib/python3.9/site-packages/ipywidgets/widgets/widget.py:477: DeprecationWarning: Passing unrecognized arguments to super(Dropdown).__init__(tooltip='Force field to parameterise the protein with.').\n",
      "object.__init__() takes exactly one argument (the instance to initialize)\n",
      "This is deprecated in traitlets 4.2.This error will be raised in a future release of traitlets.\n",
      "  super(Widget, self).__init__(**kwargs)\n",
      "/home/anna/anaconda3/envs/bss-amber/lib/python3.9/site-packages/ipywidgets/widgets/widget_button.py:70: DeprecationWarning: icons names no longer start with 'fa-', just use the class name itself (for example, 'check' instead of 'fa-check')\n",
      "  warnings.warn(\"icons names no longer start with 'fa-', \"\n",
      "/home/anna/anaconda3/envs/bss-amber/lib/python3.9/site-packages/ipywidgets/widgets/widget_button.py:70: DeprecationWarning: icons names no longer start with 'fa-', just use the class name itself (for example, 'check' instead of 'fa-check')\n",
      "  warnings.warn(\"icons names no longer start with 'fa-', \"\n",
      "/home/anna/anaconda3/envs/bss-amber/lib/python3.9/site-packages/ipywidgets/widgets/widget.py:477: DeprecationWarning: Passing unrecognized arguments to super(Dropdown).__init__(tooltip='Water model to use.').\n",
      "object.__init__() takes exactly one argument (the instance to initialize)\n",
      "This is deprecated in traitlets 4.2.This error will be raised in a future release of traitlets.\n",
      "  super(Widget, self).__init__(**kwargs)\n",
      "/home/anna/anaconda3/envs/bss-amber/lib/python3.9/site-packages/ipywidgets/widgets/widget_button.py:70: DeprecationWarning: icons names no longer start with 'fa-', just use the class name itself (for example, 'check' instead of 'fa-check')\n",
      "  warnings.warn(\"icons names no longer start with 'fa-', \"\n",
      "/home/anna/anaconda3/envs/bss-amber/lib/python3.9/site-packages/ipywidgets/widgets/widget_button.py:70: DeprecationWarning: icons names no longer start with 'fa-', just use the class name itself (for example, 'check' instead of 'fa-check')\n",
      "  warnings.warn(\"icons names no longer start with 'fa-', \"\n",
      "/home/anna/anaconda3/envs/bss-amber/lib/python3.9/site-packages/ipywidgets/widgets/widget.py:477: DeprecationWarning: Passing unrecognized arguments to super(Dropdown).__init__(tooltip='Size of water box around molecular system.').\n",
      "object.__init__() takes exactly one argument (the instance to initialize)\n",
      "This is deprecated in traitlets 4.2.This error will be raised in a future release of traitlets.\n",
      "  super(Widget, self).__init__(**kwargs)\n",
      "/home/anna/anaconda3/envs/bss-amber/lib/python3.9/site-packages/ipywidgets/widgets/widget_button.py:70: DeprecationWarning: icons names no longer start with 'fa-', just use the class name itself (for example, 'check' instead of 'fa-check')\n",
      "  warnings.warn(\"icons names no longer start with 'fa-', \"\n",
      "/home/anna/anaconda3/envs/bss-amber/lib/python3.9/site-packages/ipywidgets/widgets/widget_button.py:70: DeprecationWarning: icons names no longer start with 'fa-', just use the class name itself (for example, 'check' instead of 'fa-check')\n",
      "  warnings.warn(\"icons names no longer start with 'fa-', \"\n",
      "/home/anna/anaconda3/envs/bss-amber/lib/python3.9/site-packages/ipywidgets/widgets/widget.py:477: DeprecationWarning: Passing unrecognized arguments to super(Dropdown).__init__(tooltip='Geometric shape of water box.').\n",
      "object.__init__() takes exactly one argument (the instance to initialize)\n",
      "This is deprecated in traitlets 4.2.This error will be raised in a future release of traitlets.\n",
      "  super(Widget, self).__init__(**kwargs)\n",
      "/home/anna/anaconda3/envs/bss-amber/lib/python3.9/site-packages/ipywidgets/widgets/widget_button.py:70: DeprecationWarning: icons names no longer start with 'fa-', just use the class name itself (for example, 'check' instead of 'fa-check')\n",
      "  warnings.warn(\"icons names no longer start with 'fa-', \"\n",
      "/home/anna/anaconda3/envs/bss-amber/lib/python3.9/site-packages/ipywidgets/widgets/widget_button.py:70: DeprecationWarning: icons names no longer start with 'fa-', just use the class name itself (for example, 'check' instead of 'fa-check')\n",
      "  warnings.warn(\"icons names no longer start with 'fa-', \"\n",
      "/home/anna/anaconda3/envs/bss-amber/lib/python3.9/site-packages/ipywidgets/widgets/widget.py:477: DeprecationWarning: Passing unrecognized arguments to super(Dropdown).__init__(tooltip='The sampling time per lambda window.').\n",
      "object.__init__() takes exactly one argument (the instance to initialize)\n",
      "This is deprecated in traitlets 4.2.This error will be raised in a future release of traitlets.\n",
      "  super(Widget, self).__init__(**kwargs)\n",
      "/home/anna/anaconda3/envs/bss-amber/lib/python3.9/site-packages/ipywidgets/widgets/widget_button.py:70: DeprecationWarning: icons names no longer start with 'fa-', just use the class name itself (for example, 'check' instead of 'fa-check')\n",
      "  warnings.warn(\"icons names no longer start with 'fa-', \"\n",
      "/home/anna/anaconda3/envs/bss-amber/lib/python3.9/site-packages/ipywidgets/widgets/widget_button.py:70: DeprecationWarning: icons names no longer start with 'fa-', just use the class name itself (for example, 'check' instead of 'fa-check')\n",
      "  warnings.warn(\"icons names no longer start with 'fa-', \"\n",
      "/home/anna/anaconda3/envs/bss-amber/lib/python3.9/site-packages/ipywidgets/widgets/widget.py:477: DeprecationWarning: Passing unrecognized arguments to super(Dropdown).__init__(tooltip='Whether or not Hydrogen Mass repartitioning should be used. If true, a timestep of 4 fs will be used.').\n",
      "object.__init__() takes exactly one argument (the instance to initialize)\n",
      "This is deprecated in traitlets 4.2.This error will be raised in a future release of traitlets.\n",
      "  super(Widget, self).__init__(**kwargs)\n",
      "/home/anna/anaconda3/envs/bss-amber/lib/python3.9/site-packages/ipywidgets/widgets/widget_button.py:70: DeprecationWarning: icons names no longer start with 'fa-', just use the class name itself (for example, 'check' instead of 'fa-check')\n",
      "  warnings.warn(\"icons names no longer start with 'fa-', \"\n",
      "/home/anna/anaconda3/envs/bss-amber/lib/python3.9/site-packages/ipywidgets/widgets/widget_button.py:70: DeprecationWarning: icons names no longer start with 'fa-', just use the class name itself (for example, 'check' instead of 'fa-check')\n",
      "  warnings.warn(\"icons names no longer start with 'fa-', \"\n",
      "/home/anna/anaconda3/envs/bss-amber/lib/python3.9/site-packages/ipywidgets/widgets/widget.py:477: DeprecationWarning: Passing unrecognized arguments to super(Dropdown).__init__(tooltip='Engine to run FEP with.').\n",
      "object.__init__() takes exactly one argument (the instance to initialize)\n",
      "This is deprecated in traitlets 4.2.This error will be raised in a future release of traitlets.\n",
      "  super(Widget, self).__init__(**kwargs)\n",
      "/home/anna/anaconda3/envs/bss-amber/lib/python3.9/site-packages/ipywidgets/widgets/widget_button.py:70: DeprecationWarning: icons names no longer start with 'fa-', just use the class name itself (for example, 'check' instead of 'fa-check')\n",
      "  warnings.warn(\"icons names no longer start with 'fa-', \"\n",
      "/home/anna/anaconda3/envs/bss-amber/lib/python3.9/site-packages/ipywidgets/widgets/widget_button.py:70: DeprecationWarning: icons names no longer start with 'fa-', just use the class name itself (for example, 'check' instead of 'fa-check')\n",
      "  warnings.warn(\"icons names no longer start with 'fa-', \"\n",
      "/home/anna/anaconda3/envs/bss-amber/lib/python3.9/site-packages/ipywidgets/widgets/widget.py:477: DeprecationWarning: Passing unrecognized arguments to super(Dropdown).__init__(tooltip='The number of lambda windows for regular transformations.').\n",
      "object.__init__() takes exactly one argument (the instance to initialize)\n",
      "This is deprecated in traitlets 4.2.This error will be raised in a future release of traitlets.\n",
      "  super(Widget, self).__init__(**kwargs)\n",
      "/home/anna/anaconda3/envs/bss-amber/lib/python3.9/site-packages/ipywidgets/widgets/widget_button.py:70: DeprecationWarning: icons names no longer start with 'fa-', just use the class name itself (for example, 'check' instead of 'fa-check')\n",
      "  warnings.warn(\"icons names no longer start with 'fa-', \"\n",
      "/home/anna/anaconda3/envs/bss-amber/lib/python3.9/site-packages/ipywidgets/widgets/widget_button.py:70: DeprecationWarning: icons names no longer start with 'fa-', just use the class name itself (for example, 'check' instead of 'fa-check')\n",
      "  warnings.warn(\"icons names no longer start with 'fa-', \"\n",
      "/home/anna/anaconda3/envs/bss-amber/lib/python3.9/site-packages/ipywidgets/widgets/widget.py:477: DeprecationWarning: Passing unrecognized arguments to super(Dropdown).__init__(tooltip='The number of lambda windows for difficult transformations.').\n",
      "object.__init__() takes exactly one argument (the instance to initialize)\n",
      "This is deprecated in traitlets 4.2.This error will be raised in a future release of traitlets.\n",
      "  super(Widget, self).__init__(**kwargs)\n",
      "/home/anna/anaconda3/envs/bss-amber/lib/python3.9/site-packages/ipywidgets/widgets/widget_button.py:70: DeprecationWarning: icons names no longer start with 'fa-', just use the class name itself (for example, 'check' instead of 'fa-check')\n",
      "  warnings.warn(\"icons names no longer start with 'fa-', \"\n",
      "/home/anna/anaconda3/envs/bss-amber/lib/python3.9/site-packages/ipywidgets/widgets/widget_button.py:70: DeprecationWarning: icons names no longer start with 'fa-', just use the class name itself (for example, 'check' instead of 'fa-check')\n",
      "  warnings.warn(\"icons names no longer start with 'fa-', \"\n",
      "/home/anna/anaconda3/envs/bss-amber/lib/python3.9/site-packages/ipywidgets/widgets/widget.py:477: DeprecationWarning: Passing unrecognized arguments to super(Dropdown).__init__(tooltip='The LOMAP score threshold to define difficult transformations.').\n",
      "object.__init__() takes exactly one argument (the instance to initialize)\n",
      "This is deprecated in traitlets 4.2.This error will be raised in a future release of traitlets.\n",
      "  super(Widget, self).__init__(**kwargs)\n",
      "/home/anna/anaconda3/envs/bss-amber/lib/python3.9/site-packages/ipywidgets/widgets/widget_button.py:70: DeprecationWarning: icons names no longer start with 'fa-', just use the class name itself (for example, 'check' instead of 'fa-check')\n",
      "  warnings.warn(\"icons names no longer start with 'fa-', \"\n",
      "/home/anna/anaconda3/envs/bss-amber/lib/python3.9/site-packages/ipywidgets/widgets/widget_button.py:70: DeprecationWarning: icons names no longer start with 'fa-', just use the class name itself (for example, 'check' instead of 'fa-check')\n",
      "  warnings.warn(\"icons names no longer start with 'fa-', \"\n",
      "/home/anna/anaconda3/envs/bss-amber/lib/python3.9/site-packages/ipywidgets/widgets/widget.py:477: DeprecationWarning: Passing unrecognized arguments to super(Dropdown).__init__(tooltip='The number of repeats of the simulation.').\n",
      "object.__init__() takes exactly one argument (the instance to initialize)\n",
      "This is deprecated in traitlets 4.2.This error will be raised in a future release of traitlets.\n",
      "  super(Widget, self).__init__(**kwargs)\n",
      "/home/anna/anaconda3/envs/bss-amber/lib/python3.9/site-packages/ipywidgets/widgets/widget_button.py:70: DeprecationWarning: icons names no longer start with 'fa-', just use the class name itself (for example, 'check' instead of 'fa-check')\n",
      "  warnings.warn(\"icons names no longer start with 'fa-', \"\n",
      "/home/anna/anaconda3/envs/bss-amber/lib/python3.9/site-packages/ipywidgets/widgets/widget_button.py:70: DeprecationWarning: icons names no longer start with 'fa-', just use the class name itself (for example, 'check' instead of 'fa-check')\n",
      "  warnings.warn(\"icons names no longer start with 'fa-', \"\n",
      "/home/anna/anaconda3/envs/bss-amber/lib/python3.9/site-packages/ipywidgets/widgets/widget_button.py:70: DeprecationWarning: icons names no longer start with 'fa-', just use the class name itself (for example, 'check' instead of 'fa-check')\n",
      "  warnings.warn(\"icons names no longer start with 'fa-', \"\n"
     ]
    }
   ],
   "source": [
    "#nodes to pick things\n",
    "node = BSS.Gateway.Node(\"A node to create input files for molecular dynamics simulation.\")\n",
    "\n",
    "node.addInput(\"Ligand FF\", BSS.Gateway.String(help=\"Force field to parameterise ligands with.\",\n",
    "                                             allowed=[\"GAFF1\", \"GAFF2\", \"OpenForceField\"],\n",
    "                                             default=\"GAFF2\"))\n",
    "\n",
    "node.addInput(\"Protein FF\", BSS.Gateway.String(help=\"Force field to parameterise the protein with.\",\n",
    "                                             allowed=[\"FF03\", \"FF14SB\", \"FF99\", \"FF99SB\", \"FF99SBILDN\"],\n",
    "                                             default=\"FF14SB\"))\n",
    "\n",
    "node.addInput(\"Water Model\", BSS.Gateway.String(help=\"Water model to use.\",\n",
    "                                             allowed=[\"SPC\", \"SPCE\", \"TIP3P\", \"TIP4P\", \"TIP5P\"],\n",
    "                                             default=\"TIP3P\"))\n",
    "\n",
    "node.addInput(\"Box Edges\", BSS.Gateway.String(help=\"Size of water box around molecular system.\",\n",
    "                                             allowed=[\"20*angstrom\", \"25*angstrom\", \"30*angstrom\", \"35*angstrom\", \"45*angstrom\", \"5*nm\", \"7*nm\", \"10*nm\"],\n",
    "                                             default=\"20*angstrom\"))\n",
    "\n",
    "node.addInput(\"Box Shape\", BSS.Gateway.String(help=\"Geometric shape of water box.\",\n",
    "                                             allowed=[\"cubic\", \"truncatedOctahedron\"],\n",
    "                                             default=\"cubic\"))\n",
    "\n",
    "node.addInput(\"Run Time\", BSS.Gateway.String(help=\"The sampling time per lambda window.\",\n",
    "                                             allowed=[\"10*ps\", \"100*ps\", \"1*ns\", \"2*ns\", \"3*ns\", \"4*ns\", \"5*ns\", \"8*ns\", \"10*ns\", \"12*ns\", \"15*ns\"],\n",
    "                                             default=\"4*ns\"))\n",
    "\n",
    "node.addInput(\"HMR\", BSS.Gateway.String(help=\"Whether or not Hydrogen Mass repartitioning should be used. If true, a timestep of 4 fs will be used.\",\n",
    "                                             allowed=[\"True\",\"False\"],\n",
    "                                             default=\"True\"))\n",
    "\n",
    "node.addInput(\"FEP Engine\", BSS.Gateway.String(help=\"Engine to run FEP with.\",\n",
    "                                             allowed=[e.upper() for e in BSS.FreeEnergy.engines()],\n",
    "                                             default=\"SOMD\"))\n",
    "\n",
    "node.addInput(\"LambdaWindows\", BSS.Gateway.String(help=\"The number of lambda windows for regular transformations.\",\n",
    "                                             allowed=[\"3\", \"4\", \"5\", \"6\", \"7\", \"8\", \"9\", \"10\", \"11\", \"12\", \"13\", \"14\", \"15\", \"16\", \"17\", \"18\", \"19\", \"20\"],\n",
    "                                             default=\"11\"))\n",
    "\n",
    "node.addInput(\"DiffLambdaWindows\", BSS.Gateway.String(help=\"The number of lambda windows for difficult transformations.\",\n",
    "                                             allowed=[\"4\", \"5\", \"6\", \"7\", \"8\", \"9\", \"10\", \"11\", \"12\", \"13\", \"14\", \"15\", \"16\", \"17\", \"18\", \"19\", \"20\"],\n",
    "                                             default=\"17\"))\n",
    "                                             \n",
    "node.addInput(\"LOMAP Threshold\", BSS.Gateway.String(help=\"The LOMAP score threshold to define difficult transformations.\",\n",
    "                                             allowed=[\"0.1\", \"0.2\", \"0.3\", \"0.4\", \"0.5\", \"0.6\", \"0.7\", \"0.8\", \"0.9\"],\n",
    "                                             default=\"0.4\"))\n",
    "\n",
    "node.addInput(\"Number of repeats\", BSS.Gateway.String(help=\"The number of repeats of the simulation.\",\n",
    "                                             allowed=[str(i) for i in range (1,11)],\n",
    "                                             default=str(1)))\n",
    "\n",
    "\n",
    "node.showControls()"
   ]
  },
  {
   "cell_type": "code",
   "execution_count": 6,
   "metadata": {},
   "outputs": [
    {
     "ename": "AlignmentError",
     "evalue": "Unable to create network plot!",
     "output_type": "error",
     "traceback": [
      "\u001b[0;31m---------------------------------------------------------------------------\u001b[0m",
      "\u001b[0;31mAlignmentError\u001b[0m                            Traceback (most recent call last)",
      "\u001b[1;32m/home/anna/Documents/1st_yr/amber_bss_sem2/testing_two/scripts/overall_notebook.ipynb Cell 10'\u001b[0m in \u001b[0;36m<cell line: 15>\u001b[0;34m()\u001b[0m\n\u001b[1;32m     <a href='vscode-notebook-cell://ssh-remote%2Bkusanagi.chem.ed.ac.uk/home/anna/Documents/1st_yr/amber_bss_sem2/testing_two/scripts/overall_notebook.ipynb#ch0000010vscode-remote?line=11'>12</a>\u001b[0m     \u001b[39m# append the molecule name to another list so that we can use the name of each molecule in our workflow.\u001b[39;00m\n\u001b[1;32m     <a href='vscode-notebook-cell://ssh-remote%2Bkusanagi.chem.ed.ac.uk/home/anna/Documents/1st_yr/amber_bss_sem2/testing_two/scripts/overall_notebook.ipynb#ch0000010vscode-remote?line=12'>13</a>\u001b[0m     ligand_names\u001b[39m.\u001b[39mappend(filepath\u001b[39m.\u001b[39msplit(\u001b[39m\"\u001b[39m\u001b[39m/\u001b[39m\u001b[39m\"\u001b[39m)[\u001b[39m-\u001b[39m\u001b[39m1\u001b[39m]\u001b[39m.\u001b[39mreplace(\u001b[39m\"\u001b[39m\u001b[39m.mol2\u001b[39m\u001b[39m\"\u001b[39m,\u001b[39m\"\u001b[39m\u001b[39m\"\u001b[39m))\n\u001b[0;32m---> <a href='vscode-notebook-cell://ssh-remote%2Bkusanagi.chem.ed.ac.uk/home/anna/Documents/1st_yr/amber_bss_sem2/testing_two/scripts/overall_notebook.ipynb#ch0000010vscode-remote?line=14'>15</a>\u001b[0m tranformations, lomap_scores \u001b[39m=\u001b[39m BSS\u001b[39m.\u001b[39;49mAlign\u001b[39m.\u001b[39;49mgenerateNetwork(ligands, plot_network\u001b[39m=\u001b[39;49m\u001b[39mTrue\u001b[39;49;00m, names\u001b[39m=\u001b[39;49mligand_names)\n\u001b[1;32m     <a href='vscode-notebook-cell://ssh-remote%2Bkusanagi.chem.ed.ac.uk/home/anna/Documents/1st_yr/amber_bss_sem2/testing_two/scripts/overall_notebook.ipynb#ch0000010vscode-remote?line=16'>17</a>\u001b[0m \u001b[39m#print the transformation network\u001b[39;00m\n\u001b[1;32m     <a href='vscode-notebook-cell://ssh-remote%2Bkusanagi.chem.ed.ac.uk/home/anna/Documents/1st_yr/amber_bss_sem2/testing_two/scripts/overall_notebook.ipynb#ch0000010vscode-remote?line=17'>18</a>\u001b[0m pert_network_dict \u001b[39m=\u001b[39m {}\n",
      "File \u001b[0;32m~/anaconda3/envs/bss-amber/lib/python3.9/site-packages/BioSimSpace/Align/_align.py:606\u001b[0m, in \u001b[0;36mgenerateNetwork\u001b[0;34m(molecules, names, work_dir, plot_network, links_file, property_map, n_edges_forced)\u001b[0m\n\u001b[1;32m    <a href='file:///home/anna/anaconda3/envs/bss-amber/lib/python3.9/site-packages/BioSimSpace/Align/_align.py?line=603'>604</a>\u001b[0m             \u001b[39mraise\u001b[39;00m _AlignmentError(msg) \u001b[39mfrom\u001b[39;00m \u001b[39me\u001b[39;00m\n\u001b[1;32m    <a href='file:///home/anna/anaconda3/envs/bss-amber/lib/python3.9/site-packages/BioSimSpace/Align/_align.py?line=604'>605</a>\u001b[0m         \u001b[39melse\u001b[39;00m:\n\u001b[0;32m--> <a href='file:///home/anna/anaconda3/envs/bss-amber/lib/python3.9/site-packages/BioSimSpace/Align/_align.py?line=605'>606</a>\u001b[0m             \u001b[39mraise\u001b[39;00m _AlignmentError(msg) \u001b[39mfrom\u001b[39;00m \u001b[39mNone\u001b[39m\n\u001b[1;32m    <a href='file:///home/anna/anaconda3/envs/bss-amber/lib/python3.9/site-packages/BioSimSpace/Align/_align.py?line=607'>608</a>\u001b[0m \u001b[39mreturn\u001b[39;00m edges, scores\n",
      "\u001b[0;31mAlignmentError\u001b[0m: Unable to create network plot!"
     ]
    }
   ],
   "source": [
    "#generate transformation network based on ligands put in\n",
    "\n",
    "ligand_files = glob.glob(f\"{path_to_ligands}/*.mol2\")\n",
    "\n",
    "ligands = []\n",
    "ligand_names = []\n",
    "\n",
    "for filepath in ligand_files:\n",
    "    # append the molecule object to a list.\n",
    "    ligands.append(BSS.IO.readMolecules(filepath)[0])\n",
    "    \n",
    "    # append the molecule name to another list so that we can use the name of each molecule in our workflow.\n",
    "    ligand_names.append(filepath.split(\"/\")[-1].replace(\".mol2\",\"\"))\n",
    "\n",
    "tranformations, lomap_scores = BSS.Align.generateNetwork(ligands, plot_network=True, names=ligand_names)\n",
    "\n",
    "#print the transformation network\n",
    "pert_network_dict = {}\n",
    "transformations_named = [(ligand_names[transf[0]], ligand_names[transf[1]]) for transf in tranformations]\n",
    "for transf, score in zip(transformations_named, lomap_scores):\n",
    "    print(transf, score)\n",
    "    pert_network_dict[transf] = score\n"
   ]
  },
  {
   "cell_type": "markdown",
   "metadata": {},
   "source": []
  },
  {
   "cell_type": "code",
   "execution_count": 5,
   "metadata": {},
   "outputs": [
    {
     "ename": "NameError",
     "evalue": "name 'pert_network_dict' is not defined",
     "output_type": "error",
     "traceback": [
      "\u001b[0;31m---------------------------------------------------------------------------\u001b[0m",
      "\u001b[0;31mNameError\u001b[0m                                 Traceback (most recent call last)",
      "\u001b[1;32m/home/anna/Documents/1st_yr/amber_bss_sem2/testing_two/scripts/overall_notebook.ipynb Cell 12'\u001b[0m in \u001b[0;36m<cell line: 2>\u001b[0;34m()\u001b[0m\n\u001b[1;32m      <a href='vscode-notebook-cell://ssh-remote%2Bkusanagi.chem.ed.ac.uk/home/anna/Documents/1st_yr/amber_bss_sem2/testing_two/scripts/overall_notebook.ipynb#ch0000009vscode-remote?line=0'>1</a>\u001b[0m \u001b[39m#add transformations to the network\u001b[39;00m\n\u001b[0;32m----> <a href='vscode-notebook-cell://ssh-remote%2Bkusanagi.chem.ed.ac.uk/home/anna/Documents/1st_yr/amber_bss_sem2/testing_two/scripts/overall_notebook.ipynb#ch0000009vscode-remote?line=1'>2</a>\u001b[0m pert_network_dict[(\u001b[39m'\u001b[39m\u001b[39mejm42\u001b[39m\u001b[39m'\u001b[39m, \u001b[39m'\u001b[39m\u001b[39mejm31\u001b[39m\u001b[39m'\u001b[39m)] \u001b[39m=\u001b[39m \u001b[39m0.5\u001b[39m\n\u001b[1;32m      <a href='vscode-notebook-cell://ssh-remote%2Bkusanagi.chem.ed.ac.uk/home/anna/Documents/1st_yr/amber_bss_sem2/testing_two/scripts/overall_notebook.ipynb#ch0000009vscode-remote?line=2'>3</a>\u001b[0m pert_network_dict[(\u001b[39m'\u001b[39m\u001b[39mejm31\u001b[39m\u001b[39m'\u001b[39m, \u001b[39m'\u001b[39m\u001b[39mejm42\u001b[39m\u001b[39m'\u001b[39m)] \u001b[39m=\u001b[39m \u001b[39m0.5\u001b[39m\n\u001b[1;32m      <a href='vscode-notebook-cell://ssh-remote%2Bkusanagi.chem.ed.ac.uk/home/anna/Documents/1st_yr/amber_bss_sem2/testing_two/scripts/overall_notebook.ipynb#ch0000009vscode-remote?line=3'>4</a>\u001b[0m pert_network_dict[(\u001b[39m'\u001b[39m\u001b[39mejm42\u001b[39m\u001b[39m'\u001b[39m, \u001b[39m'\u001b[39m\u001b[39mejm54\u001b[39m\u001b[39m'\u001b[39m)] \u001b[39m=\u001b[39m \u001b[39m0.5\u001b[39m\n",
      "\u001b[0;31mNameError\u001b[0m: name 'pert_network_dict' is not defined"
     ]
    }
   ],
   "source": [
    "#add transformations to the network\n",
    "pert_network_dict[('ejm42', 'ejm31')] = 0.5\n",
    "pert_network_dict[('ejm31', 'ejm42')] = 0.5\n",
    "pert_network_dict[('ejm42', 'ejm54')] = 0.5\n",
    "pert_network_dict[('ejm42', 'ejm55')] = 0.5\n",
    "pert_network_dict[('ejm55', 'ejm54')] = 0.5\n",
    "\n",
    "#remove transformations from the network\n",
    "for key in [('ejm55', 'ejm31'), ('ejm54', 'ejm31'), ('ejm55', 'ejm42')]:\n",
    "    del pert_network_dict[key]\n",
    "\n",
    "#show the adjusted network\n",
    "pert_network_dict"
   ]
  },
  {
   "cell_type": "code",
   "execution_count": 8,
   "metadata": {},
   "outputs": [],
   "source": [
    "#write files for execution model to be executed correctly.\n",
    "\n",
    "# write ligands file.\n",
    "with open(f\"{exec_dir}/ligands.dat\", \"w\") as ligands_file:\n",
    "    writer = csv.writer(ligands_file)\n",
    "    for lig in ligand_names:\n",
    "        writer.writerow([lig])\n"
   ]
  },
  {
   "cell_type": "code",
   "execution_count": null,
   "metadata": {},
   "outputs": [],
   "source": [
    "# write perts file. Base the lambda schedule on the file generated in the previous cell.\n",
    "np.set_printoptions(formatter={'float': '{: .4f}'.format})\n",
    "\n",
    "# from protocol, derive the engine we want to use on the cluster.\n",
    "engine = node.getInput('FEP Engine').upper()\n",
    "\n",
    "with open(f\"{exec_dir}/network.dat\", \"w\") as network_file:\n",
    "\n",
    "    writer = csv.writer(network_file, delimiter=\" \")\n",
    "    \n",
    "    for pert, lomap_score in pert_network_dict.items():\n",
    "        # based on the provided (at top of notebook) lambda allocations and LOMAP threshold, decide allocation.\n",
    "        if lomap_score == None or lomap_score < float(node.getInput(\"LOMAP Threshold\")):\n",
    "            num_lambda = node.getInput(\"DiffLambdaWindows\")\n",
    "        else:\n",
    "            num_lambda = node.getInput(\"LambdaWindows\")\n",
    "            \n",
    "       \n",
    "        # given the number of allocated lambda windows, generate an array for parsing downstream.\n",
    "        lam_array_np = np.around(np.linspace(0, 1, int(num_lambda)), decimals=5)\n",
    "\n",
    "        # make the array into a format readable by bash.\n",
    "        lam_array = str(lam_array_np).replace(\"[ \", \"\").replace(\"]\", \"\").replace(\"  \", \",\").replace('\\n', '')\n",
    "\n",
    "        # write out both directions for this perturbation.\n",
    "        writer.writerow([pert[0], pert[1], len(lam_array_np), lam_array, engine])\n",
    "        writer.writerow([pert[1], pert[0], len(lam_array_np), lam_array, engine])         \n",
    "\n"
   ]
  },
  {
   "cell_type": "code",
   "execution_count": 12,
   "metadata": {},
   "outputs": [],
   "source": [
    "# create protocol. \n",
    "protocol = [\n",
    "    f\"ligand forcefield = {node.getInput('Ligand FF')}\",\n",
    "    f\"protein forcefield = {node.getInput('Protein FF')}\",\n",
    "    f\"solvent = {node.getInput('Water Model')}\",\n",
    "    f\"box edges = {node.getInput('Box Edges')}\",\n",
    "    f\"box type = {node.getInput('Box Shape')}\",\n",
    "    f\"protocol = default\",\n",
    "    f\"sampling = {node.getInput('Run Time')}\",\n",
    "    f\"engine = {node.getInput('FEP Engine').upper()}\",\n",
    "    f\"HMR = {node.getInput('HMR')}\",\n",
    "    f\"repeats = {node.getInput('Number of repeats')}\"\n",
    "]\n",
    "\n",
    "# write protocol to file.\n",
    "with open(f\"{exec_dir}/protocol.dat\", \"w\") as protocol_file:\n",
    "    writer = csv.writer(protocol_file)\n",
    "\n",
    "    for prot_line in protocol:\n",
    "        \n",
    "        writer.writerow([prot_line])"
   ]
  },
  {
   "cell_type": "code",
   "execution_count": 13,
   "metadata": {},
   "outputs": [
    {
     "name": "stdout",
     "output_type": "stream",
     "text": [
      "Ligands...\n",
      "['ejm54']\n",
      "['ejm55']\n",
      "['ejm42']\n",
      "['ejm31']\n",
      "\n",
      "\n",
      "Protocol...\n",
      "['ligand forcefield = GAFF2']\n",
      "['protein forcefield = FF14SB']\n",
      "['solvent = TIP3P']\n",
      "['box edges = 20*angstrom']\n",
      "['box type = cubic']\n",
      "['protocol = default']\n",
      "['sampling = 2*ns']\n",
      "['engine = SOMD']\n",
      "['HMR = True']\n",
      "['repeats = 3']\n"
     ]
    }
   ],
   "source": [
    "print(\"Ligands...\")\n",
    "f = open(f\"{exec_dir}/ligands.dat\")\n",
    "for row in csv.reader(f):\n",
    "    print(str(row))\n",
    "\n",
    "print('\\n')\n",
    "print(\"Network...\")\n",
    "f = open(f\"{exec_dir}/network.dat\")\n",
    "for row in csv.reader(f):\n",
    "    print(str(row))\n",
    "\n",
    "print('\\n')\n",
    "print(\"Protocol...\")\n",
    "f=open(f\"{exec_dir}/protocol.dat\")\n",
    "for row in csv.reader(f):\n",
    "    print(str(row))"
   ]
  },
  {
   "cell_type": "markdown",
   "metadata": {},
   "source": [
    "#### Step 4 (cont.)\n",
    "The above cell should have printed out all the ligands, the network and the protocol. Check these are all okay.\n"
   ]
  },
  {
   "cell_type": "markdown",
   "metadata": {},
   "source": [
    "#### Step 5\n",
    "Manually paramaterise the protein with the correct protonation states (espescially around the ligand binding site!) and checking for any missing residues or random solvent molecules. Keep the crystal waters.\n",
    "This can be done using tleap and the protein ff and water selected above.\n",
    "Make sure it is saved in saved in the {main_folder}/inputs/ as prot_water.rst7 and prot_water.prm7 ."
   ]
  },
  {
   "cell_type": "markdown",
   "metadata": {},
   "source": [
    "#### Steps 6-8\n",
    "Run the lig prep, FEP prep, production run.\n",
    "These processes are contained within bash scripts to allow for it to run on a cluster.\n",
    "At this point, the following files and folders (XXX) can be copied over a different location or whatever to run.\n",
    "The overall script to execute all of these is xyz."
   ]
  },
  {
   "cell_type": "markdown",
   "metadata": {},
   "source": [
    "#### Step 9\n",
    "The analysis to intially process the data is carried out using xyz. This data is saved here in the folders - .\n",
    "Output of methods and any issues used are documented in xyz.\n",
    "xyz can be used to prepare default graphs.\n",
    "Cells below are an alternate way to adjust the plotting to diff situations."
   ]
  },
  {
   "cell_type": "code",
   "execution_count": null,
   "metadata": {},
   "outputs": [],
   "source": []
  },
  {
   "cell_type": "code",
   "execution_count": null,
   "metadata": {},
   "outputs": [],
   "source": []
  },
  {
   "cell_type": "code",
   "execution_count": null,
   "metadata": {},
   "outputs": [],
   "source": []
  },
  {
   "cell_type": "code",
   "execution_count": null,
   "metadata": {},
   "outputs": [],
   "source": []
  },
  {
   "cell_type": "code",
   "execution_count": null,
   "metadata": {},
   "outputs": [],
   "source": []
  },
  {
   "cell_type": "code",
   "execution_count": null,
   "metadata": {},
   "outputs": [],
   "source": []
  }
 ],
 "metadata": {
  "interpreter": {
   "hash": "d29f2935e1d15b91c64262893462b201471a0c636bf647d9837239182972788e"
  },
  "kernelspec": {
   "display_name": "Python 3 (ipykernel)",
   "language": "python",
   "name": "python3"
  },
  "language_info": {
   "codemirror_mode": {
    "name": "ipython",
    "version": 3
   },
   "file_extension": ".py",
   "mimetype": "text/x-python",
   "name": "python",
   "nbconvert_exporter": "python",
   "pygments_lexer": "ipython3",
   "version": "3.9.7"
  }
 },
 "nbformat": 4,
 "nbformat_minor": 2
}
