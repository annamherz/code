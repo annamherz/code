{
 "cells": [
  {
   "attachments": {},
   "cell_type": "markdown",
   "metadata": {},
   "source": [
    "# <span style=\"color:teal\">RBFE Network - Analysis</span>\n"
   ]
  },
  {
   "cell_type": "code",
   "execution_count": null,
   "metadata": {},
   "outputs": [],
   "source": [
    "# import libraries\n",
    "\n",
    "from scipy.stats import sem as sem\n",
    "import sys\n",
    "import glob\n",
    "\n",
    "if \"/home/anna/Documents/cinnabar\" not in sys.path:\n",
    "    sys.path.insert(1, \"/home/anna/Documents/cinnabar\")\n",
    "import cinnabar\n",
    "\n",
    "print(\"adding code to the pythonpath...\")\n",
    "code = \"/home/anna/Documents/code/python\"\n",
    "if code not in sys.path:\n",
    "    sys.path.insert(1, code)\n",
    "import pipeline\n",
    "\n",
    "print(cinnabar.__file__)\n",
    "\n",
    "from pipeline import *\n",
    "from pipeline.utils import validate\n",
    "from pipeline.analysis import *"
   ]
  },
  {
   "cell_type": "code",
   "execution_count": null,
   "metadata": {},
   "outputs": [],
   "source": [
    "bench_folder = f\"/home/anna/Documents/benchmark\"\n",
    "protein = \"tyk2\"\n",
    "main_dir = f\"{bench_folder}/extracted/{protein}\"\n",
    "# main_dir = f\"/backup/42_reruns/{protein}\"\n",
    "\n",
    "# choose location for the files\n",
    "net_file = f\"{main_dir}/execution_model/network_combined.dat\"\n",
    "ana_file = f\"{main_dir}/execution_model/analysis_protocol.dat\"\n",
    "exp_file = f\"{bench_folder}/inputs/experimental/{protein}.yml\"\n",
    "\n",
    "# if os.path.exists(f\"{main_dir}/outputs_extracted/results\"):\n",
    "#     results_folder = f\"{main_dir}/outputs_extracted/results\"\n",
    "# elif os.path.exists(f\"{main_dir}/outputs/results\"):\n",
    "#     results_folder = f\"{main_dir}/outputs/results\"\n",
    "# else:\n",
    "#     raise ValueError(\n",
    "#         f\"results directory not found in the {main_dir}. please make sure results were written using the analysis script previously in the pipeline\"\n",
    "#     )\n",
    "results_folder = f\"{main_dir}/outputs_extracted/results\"\n",
    "output_folder = validate.folder_path(f\"{main_dir}/analysis\", create=True)"
   ]
  },
  {
   "cell_type": "code",
   "execution_count": null,
   "metadata": {},
   "outputs": [],
   "source": [
    "all_analysis_object = analysis_network(\n",
    "    results_folder,\n",
    "    exp_file=exp_file,\n",
    "    net_file=net_file,\n",
    "    output_folder=output_folder,\n",
    "    analysis_prot=ana_file,\n",
    "    # method = \"updated\",\n",
    "    engines = \"SOMD\"\n",
    ")\n",
    "\n",
    "# can add any other results files\n",
    "# all_analysis_object.compute_other_results(file_name=None, name=None)\n",
    "all_analysis_object.compute_results()"
   ]
  },
  {
   "cell_type": "code",
   "execution_count": null,
   "metadata": {},
   "outputs": [],
   "source": [
    "all_analysis_object.sort_ligands_by_binding_affinity(engine=\"SOMD\")"
   ]
  },
  {
   "cell_type": "code",
   "execution_count": null,
   "metadata": {},
   "outputs": [],
   "source": [
    "all_analysis_object.sort_ligands_by_experimental_binding_affinity()"
   ]
  },
  {
   "cell_type": "code",
   "execution_count": null,
   "metadata": {},
   "outputs": [],
   "source": [
    "# check if there are any failed perturbations\n",
    "failed_perts = all_analysis_object.failed_runs(\"AMBER\")\n",
    "# print(failed_perts)\n",
    "for pert in failed_perts:\n",
    "    print(pert)"
   ]
  },
  {
   "cell_type": "code",
   "execution_count": null,
   "metadata": {},
   "outputs": [],
   "source": [
    "# can compute convergence for all\n",
    "all_analysis_object.compute_convergence(main_dir=main_dir)\n",
    "all_analysis_object.plot_convergence()"
   ]
  },
  {
   "cell_type": "code",
   "execution_count": null,
   "metadata": {},
   "outputs": [],
   "source": [
    "# MAE calculate\n",
    "for eng in all_analysis_object.engines:\n",
    "    mae = all_analysis_object._stats_object.compute_mue(y=eng, pert_val=\"pert\")\n",
    "    stats_string = f\"MAE: {mae[0]:.2f} +/- {mae[1]:.2f} kcal/mol\"\n",
    "    all_analysis_object.plot_scatter_pert(\n",
    "        engine=eng,\n",
    "        **{\"title\": stats_string, \"key\": False, \"save\": f\"/home/anna/Desktop/{eng}\"},\n",
    "    )"
   ]
  },
  {
   "attachments": {},
   "cell_type": "markdown",
   "metadata": {},
   "source": [
    "There are different options for plotting:\n",
    "bar (pert or lig)\n",
    "scatter (pert or lig) - can be plotted using cinnabar\n",
    "eng vs eng\n",
    "other results (eg from other workflows)\n",
    "outliers\n",
    "histograms (for the error of the runs, sem, legs)"
   ]
  },
  {
   "cell_type": "code",
   "execution_count": null,
   "metadata": {},
   "outputs": [],
   "source": [
    "# bar\n",
    "all_analysis_object.plot_bar_lig()\n",
    "all_analysis_object.plot_bar_pert()\n",
    "\n",
    "# scatter\n",
    "all_analysis_object.plot_scatter_lig()\n",
    "all_analysis_object.plot_scatter_pert()\n",
    "all_analysis_object.plot_scatter_lig(use_cinnabar=True)\n",
    "all_analysis_object.plot_scatter_pert(use_cinnabar=True)\n",
    "\n",
    "for eng in all_analysis_object.engines:\n",
    "    all_analysis_object.plot_scatter_lig(engine=eng)\n",
    "    all_analysis_object.plot_scatter_pert(engine=eng)\n",
    "\n",
    "    # outliers\n",
    "    all_analysis_object.plot_outliers(engine=eng)\n",
    "    all_analysis_object.plot_outliers(engine=eng, pert_val=\"val\")\n",
    "\n",
    "all_analysis_object.plot_histogram_legs()\n",
    "all_analysis_object.plot_histogram_repeats()\n",
    "all_analysis_object.plot_histogram_sem(pert_val=\"pert\")\n",
    "all_analysis_object.plot_histogram_sem(pert_val=\"val\")"
   ]
  },
  {
   "attachments": {},
   "cell_type": "markdown",
   "metadata": {},
   "source": [
    "calculate the stats:"
   ]
  },
  {
   "cell_type": "code",
   "execution_count": null,
   "metadata": {},
   "outputs": [],
   "source": [
    "all_analysis_object.calc_mad_engines(pert_val=\"pert\")\n",
    "all_analysis_object.calc_mad_engines(pert_val=\"val\")\n",
    "stats_dict = all_analysis_object.calc_stats()"
   ]
  },
  {
   "attachments": {},
   "cell_type": "markdown",
   "metadata": {},
   "source": [
    "plot other results"
   ]
  },
  {
   "cell_type": "code",
   "execution_count": null,
   "metadata": {},
   "outputs": [],
   "source": [
    "perts, ligs = get_info_network(\n",
    "    \"/backup/42_reruns/tyk2/execution_model/network_combined_reruns_ejm42.dat\"\n",
    ")\n",
    "\n",
    "for eng in all_analysis_object.engines:\n",
    "    other_results = glob.glob(\n",
    "        f\"/backup/42_reruns/tyk2/outputs_extracted/results/final_summary_{eng}_MBAR_alchemlyb_None_eqfalse_statsfalse_truncate0end.csv\"\n",
    "    )\n",
    "    all_analysis_object.compute_other_results(other_results, name=f\"{eng}_reruns\")\n",
    "    # all_analysis_object.plot_other_results(\n",
    "    #     name=f\"{eng}_reruns\", engine=eng, pert_val=\"pert\"\n",
    "    # )\n",
    "    all_analysis_object.plot_bar_pert(\n",
    "        engine=[eng, f\"{eng}_reruns\"], **{\"values\": perts}\n",
    "    )\n",
    "    res1 = all_analysis_object._stats_object.compute_mue(\"pert\", y=eng)\n",
    "    res2 = all_analysis_object._stats_object.compute_mue(\"pert\", y=f\"{eng}_reruns\")\n",
    "    res3 = all_analysis_object._stats_object.compute_mue(\n",
    "        \"pert\", y=eng, x=f\"{eng}_reruns\"\n",
    "    )\n",
    "    print(\n",
    "        f\"og vs exp is {res1[0]}, reruns vs exp is {res2[0]}, and compared to each other theya re {res3[0]}\"\n",
    "    )\n",
    "\n",
    "all_analysis_object.plot_bar_pert(\n",
    "    engine=all_analysis_object.engines + all_analysis_object.other_results_names,\n",
    "    **{\"values\": perts},\n",
    ")"
   ]
  },
  {
   "cell_type": "code",
   "execution_count": null,
   "metadata": {},
   "outputs": [],
   "source": [
    "! cat /home/anna/Documents/pmx_test/gromacs_23/me/execution_model/protocol_gromacs20.dat\n",
    "\n",
    "# ! cat /home/anna/Documents/pmx_test/gromacs_23/me/execution_model/config19.dat"
   ]
  },
  {
   "cell_type": "code",
   "execution_count": null,
   "metadata": {},
   "outputs": [],
   "source": [
    "eng = \"GROMACS\"\n",
    "\n",
    "for name in [\"ambersc3\",\"ambersc\",\"scamber2\"]:\n",
    "\n",
    "    other_results = glob.glob(\n",
    "        f\"{results_folder}/final_summary_{eng}_MBAR_alchemlyb_None_eqfalse_statsfalse_truncate0end.csv\"\n",
    "    )\n",
    "    # bound_results = glob.glob(\n",
    "    #     f\"{results_folder}/bound_*_{eng}_MBAR_alchemlyb_None_eqfalse_statsfalse_truncate0end.csv\"\n",
    "    # )\n",
    "    # free_results = glob.glob(\n",
    "    #     f\"{results_folder}/free_*_{eng}_MBAR_alchemlyb_None_eqfalse_statsfalse_truncate0end.csv\"\n",
    "    # )\n",
    "    all_analysis_object.compute_other_results(\n",
    "        other_results, name=f\"{name}\", method=f\"{name}\", use_cinnabar=False, bound_files=bound_results, free_files=free_results\n",
    "    )\n"
   ]
  },
  {
   "cell_type": "code",
   "execution_count": null,
   "metadata": {},
   "outputs": [],
   "source": [
    "all_analysis_object.change_name(\"GROMACS\",\"alpha=0.3 sigma=0.25\")\n",
    "all_analysis_object.change_name(\"ambersc3\",\"alpha=0.4 sigma=0.25\")\n",
    "all_analysis_object.change_name(\"ambersc\",\"alpha=0.5 sigma=0.25\")\n",
    "all_analysis_object.change_name(\"scamber2\",\"alpha=0.5 sigma=0.30\")\n"
   ]
  },
  {
   "cell_type": "code",
   "execution_count": null,
   "metadata": {},
   "outputs": [],
   "source": [
    "all_analysis_object.plot_bar_pert(engine=all_analysis_object.other_results_names)"
   ]
  },
  {
   "cell_type": "code",
   "execution_count": null,
   "metadata": {},
   "outputs": [],
   "source": [
    "# for eng in all_analysis_object.engines:\n",
    "\n",
    "    for name in [\"pymbar3\",\"pymbar4\"]:\n",
    "\n",
    "        other_results = glob.glob(\n",
    "            f\"/backup/42_reruns/tyk2/outputs_extracted/results_{name}/final_summary_{eng}_MBAR_alchemlyb_None_eqfalse_statsfalse_truncate0end.csv\"\n",
    "        )\n",
    "        bound_results = glob.glob(\n",
    "            f\"/backup/42_reruns/tyk2/outputs_extracted/results_{name}/bound_*_{eng}_MBAR_alchemlyb_None_eqfalse_statsfalse_truncate0end.csv\"\n",
    "        )\n",
    "        free_results = glob.glob(\n",
    "            f\"/backup/42_reruns/tyk2/outputs_extracted/results_{name}/free_*_{eng}_MBAR_alchemlyb_None_eqfalse_statsfalse_truncate0end.csv\"\n",
    "        )\n",
    "        all_analysis_object.compute_other_results(\n",
    "            other_results, name=f\"{name}_{eng}\", method=None, use_cinnabar=False, bound_files=bound_results, free_files=free_results\n",
    "        )\n",
    "\n",
    "# perts, ligs = get_info_network(\"/backup/AMBER_reruns/tyk2/execution_model/network.dat\")\n",
    "# eng = \"AMBER\"\n",
    "# other_results = glob.glob(\n",
    "#     f\"/home/anna/Documents/benchmark/extracted/tyk2/outputs_extracted/results/final_summary_AMBER_MBAR_alchemlyb_None_eqfalse_statsfalse_truncate0end.csv\"\n",
    "# )\n",
    "# name=\"previous\"\n",
    "# all_analysis_object.compute_other_results(other_results, name=f\"{name}\", method=f\"None\", use_cinnabar=False)\n",
    "\n"
   ]
  },
  {
   "cell_type": "code",
   "execution_count": null,
   "metadata": {},
   "outputs": [],
   "source": [
    "for eng in all_analysis_object.engines:\n",
    "\n",
    "    other_results = glob.glob(\n",
    "        f\"{bench_folder}/extracted/{protein}/outputs_extracted/results/final_summary_{eng}_MBAR_alchemlyb_None_eqfalse_statsfalse_truncate0end.csv\"\n",
    "    )\n",
    "    bound_results = glob.glob(\n",
    "        f\"{bench_folder}/extracted/{protein}/outputs_extracted/results/bound_*_{eng}_MBAR_alchemlyb_None_eqfalse_statsfalse_truncate0end.csv\"\n",
    "    )\n",
    "    free_results = glob.glob(\n",
    "        f\"{bench_folder}/extracted/{protein}/outputs_extracted/results/free_*_{eng}_MBAR_alchemlyb_None_eqfalse_statsfalse_truncate0end.csv\"\n",
    "    )\n",
    "    all_analysis_object.compute_other_results(\n",
    "        other_results, name=f\"prev_{eng}\", method=None, use_cinnabar=False, bound_files=bound_results, free_files=free_results\n",
    "    )"
   ]
  },
  {
   "cell_type": "code",
   "execution_count": null,
   "metadata": {},
   "outputs": [],
   "source": [
    "all_analysis_object._stats_object.compute_mue(pert_val=\"free\",y=\"SOMD\",x=\"prev_SOMD\")"
   ]
  },
  {
   "cell_type": "code",
   "execution_count": null,
   "metadata": {},
   "outputs": [],
   "source": [
    "all_analysis_object.plot_bar_pert(engine=[\"GROMACS\",\"prev_GROMACS\"])"
   ]
  },
  {
   "cell_type": "code",
   "execution_count": null,
   "metadata": {},
   "outputs": [],
   "source": [
    "all_analysis_object.plot_bar_leg(leg=\"free\", engine=[\"SOMD\",\"prev_SOMD\"])"
   ]
  },
  {
   "cell_type": "code",
   "execution_count": null,
   "metadata": {},
   "outputs": [],
   "source": [
    "# all_analysis_object.change_name(\"GROMACS\",\"plain\")\n",
    "all_analysis_object.plot_bar_pert(\n",
    "    engine=all_analysis_object.other_results_names,\n",
    "    **{\"yerror\": True},\n",
    ")  # , **{\"values\":perts}\n",
    "# all_analysis_object.plot_outliers(**{\"yerror\": True})"
   ]
  },
  {
   "attachments": {},
   "cell_type": "markdown",
   "metadata": {},
   "source": [
    "plot convergence"
   ]
  },
  {
   "cell_type": "code",
   "execution_count": null,
   "metadata": {},
   "outputs": [],
   "source": [
    "ex_outputs_folder = f\"{main_dir}/outputs_extracted\"\n",
    "\n",
    "converg_obj = plot_convergence(\n",
    "    ex_outputs_folder,\n",
    "    perturbations=all_analysis_object.perturbations,\n",
    "    engines=all_analysis_object.engines,\n",
    "    file_ext=file_ext,\n",
    ")\n",
    "\n",
    "converg_obj.plot_convergence_all()"
   ]
  },
  {
   "attachments": {},
   "cell_type": "markdown",
   "metadata": {},
   "source": [
    "remove a perturbation"
   ]
  },
  {
   "cell_type": "code",
   "execution_count": null,
   "metadata": {},
   "outputs": [],
   "source": [
    "# check which perturbations are outliers\n",
    "all_analysis_object.plot_outliers(engine=\"GROMACS\", outliers=5, pert_val=\"pert\")\n",
    "# all_analysis_object._plotting_object.outlier(engines=\"AMBER\", outliers=5, name=\"Exscientia\")"
   ]
  },
  {
   "cell_type": "code",
   "execution_count": null,
   "metadata": {},
   "outputs": [],
   "source": [
    "# remove perturbation for all engines\n",
    "all_analysis_object.remove_perturbations(\"lig_c~lig_d\")"
   ]
  },
  {
   "attachments": {},
   "cell_type": "markdown",
   "metadata": {},
   "source": [
    "remove outliers"
   ]
  },
  {
   "cell_type": "code",
   "execution_count": null,
   "metadata": {},
   "outputs": [],
   "source": [
    "all_analysis_object.remove_outliers(threshold=10, verbose=True)"
   ]
  },
  {
   "attachments": {},
   "cell_type": "markdown",
   "metadata": {},
   "source": [
    "calculate only the experimental results for some of the perturbations"
   ]
  },
  {
   "cell_type": "code",
   "execution_count": null,
   "metadata": {},
   "outputs": [],
   "source": [
    "protein = \"mcl1\"\n",
    "\n",
    "bench_folder = f\"/home/anna/Documents/benchmark\"\n",
    "main_dir = f\"{bench_folder}/extracted/{protein}\"\n",
    "\n",
    "# choose location for the files\n",
    "# net_file = f\"{main_dir}/execution_model/network_lomap.dat\"\n",
    "ana_file = f\"{main_dir}/execution_model/analysis_protocol.dat\"\n",
    "# exp_file = f\"{bench_folder}/inputs/experimental/tyk2.yml\"\n",
    "exp_file = f\"/home/anna/Documents/benchmark/inputs/experimental/{protein}.yml\"\n",
    "\n",
    "output_folder = validate.folder_path(f\"{main_dir}/diff_methods_analysis\", create=True)\n",
    "results_folder = f\"{main_dir}/diff_methods_analysis/results\"\n",
    "\n",
    "all_analysis_object = analysis_network(exp_file=exp_file)\n",
    "\n",
    "all_analysis_object.perturbations = [\n",
    "    \"lig_27~lig_59\",\n",
    "    \"lig_27~lig_48\",\n",
    "    \"lig_28~lig_47\",\n",
    "    \"lig_35~lig_52\",\n",
    "    \"lig_38~lig_48\",\n",
    "    \"lig_43~lig_45\",\n",
    "    \"lig_53~lig_56\",\n",
    "    \"lig_30~lig_40\",\n",
    "    \"lig_27~lig_48\",\n",
    "]\n",
    "all_analysis_object.ligands = get_ligands_from_perts(all_analysis_object.perturbations)\n",
    "all_analysis_object.get_experimental()\n",
    "all_analysis_object.get_experimental_pert()"
   ]
  },
  {
   "attachments": {},
   "cell_type": "markdown",
   "metadata": {},
   "source": [
    "plot only a small amount of perturbations to compare different methods"
   ]
  },
  {
   "cell_type": "code",
   "execution_count": null,
   "metadata": {},
   "outputs": [],
   "source": [
    "perturbations = [\"lig_30~lig_40\", \"lig_27~lig_48\"]"
   ]
  },
  {
   "cell_type": "code",
   "execution_count": null,
   "metadata": {},
   "outputs": [],
   "source": [
    "protein = \"mcl1\"\n",
    "\n",
    "bench_folder = f\"/home/anna/Documents/benchmark\"\n",
    "main_dir = f\"{bench_folder}/extracted/{protein}\"\n",
    "\n",
    "# choose location for the files\n",
    "# net_file = f\"{main_dir}/execution_model/network_lomap.dat\"\n",
    "ana_file = f\"{main_dir}/execution_model/analysis_protocol.dat\"\n",
    "# exp_file = f\"{bench_folder}/inputs/experimental/tyk2.yml\"\n",
    "exp_file = f\"/home/anna/Documents/benchmark/inputs/experimental/{protein}.yml\"\n",
    "\n",
    "output_folder = validate.folder_path(f\"{main_dir}/diff_methods_analysis\", create=True)\n",
    "results_folder = f\"{main_dir}/diff_methods_analysis/results\"\n",
    "\n",
    "all_analysis_object = analysis_network(\n",
    "    results_folder,\n",
    "    exp_file=exp_file,\n",
    "    engines=\"AMBER\",\n",
    "    #    net_file=net_file,\n",
    "    output_folder=output_folder,\n",
    "    analysis_ext=ana_file,\n",
    ")\n",
    "\n",
    "# can add any other results files\n",
    "# all_analysis_object.compute_other_results(file_name=None, name=None)\n",
    "all_analysis_object.compute(cycle_closure=False, use_cinnabar=False)"
   ]
  },
  {
   "cell_type": "code",
   "execution_count": null,
   "metadata": {},
   "outputs": [],
   "source": [
    "other_names = [\"exscientia_inputs\", \"both\", \"Exscientia\"]\n",
    "\n",
    "for name in other_names:\n",
    "    all_analysis_object.compute_other_results(\n",
    "        sorted(glob.glob(f\"{results_folder}/other/*{name}*.csv\")),\n",
    "        name=name,\n",
    "        use_cinnabar=False,\n",
    "    )\n",
    "\n",
    "all_analysis_object._plotting_object.set_colours(\n",
    "    {\"exscientia_inputs\": \"red\", \"both\": \"yellow\", \"Exscientia\": \"purple\"}\n",
    ")"
   ]
  },
  {
   "cell_type": "code",
   "execution_count": null,
   "metadata": {},
   "outputs": [],
   "source": [
    "all_analysis_object._plotting_object.scatter(\n",
    "    pert_val=\"pert\", engines=[\"exscientia_inputs\"], name=\"Exscientia\"\n",
    ")"
   ]
  },
  {
   "attachments": {},
   "cell_type": "markdown",
   "metadata": {},
   "source": [
    "compare to the fwf analysis"
   ]
  },
  {
   "cell_type": "code",
   "execution_count": null,
   "metadata": {},
   "outputs": [],
   "source": [
    "# choose an engine\n",
    "eng = \"SOMD\"\n",
    "\n",
    "# first need to add the fwf path\n",
    "all_analysis_object._add_fwf_path(\n",
    "    \"/home/anna/Documents/september_2022_workshops/freenrgworkflows/networkanalysis\"\n",
    ")\n",
    "\n",
    "# get the experimental dictionary\n",
    "exp_dicts = all_analysis_object._get_exp_fwf()\n",
    "for key in exp_dicts[0]:\n",
    "    print(f\"{key} : {exp_dicts[0][key][0]}, {exp_dicts[0][key][1]}\")\n",
    "\n",
    "# get the network analysis\n",
    "fwf_dict = all_analysis_object._get_ana_fwf(engine=eng)\n",
    "for key in fwf_dict:\n",
    "    print(f\"{key} : {fwf_dict[key][0]}, {fwf_dict[key][1]}\")\n",
    "\n",
    "# get fwf stats\n",
    "fwf_stats = all_analysis_object._get_stats_fwf(engine=eng)"
   ]
  },
  {
   "attachments": {},
   "cell_type": "markdown",
   "metadata": {},
   "source": [
    "plotting just fwf data per ligand"
   ]
  },
  {
   "cell_type": "code",
   "execution_count": null,
   "metadata": {},
   "outputs": [],
   "source": [
    "dict_y = fwf_dict\n",
    "dict_exp = exp_dicts[0]\n",
    "\n",
    "df1 = plotting_engines.match_dicts_to_df(dict_exp, dict_y, \"experimental\", \"fwf\")\n",
    "df1\n",
    "\n",
    "df1.plot.bar(\n",
    "    y=[\"freenrg_fwf\", \"freenrg_experimental\"],\n",
    "    yerr=df1[[\"err_fwf\", \"err_experimental\"]].T.values,\n",
    "    title=f\"fwf, experimental, {eng}\",\n",
    "    xlabel=\"ligands\",\n",
    "    ylabel=\"dG (kcal/mol)\",\n",
    ")\n",
    "\n",
    "df1.dropna()\n",
    "df1.plot.scatter(\n",
    "    x=\"freenrg_experimental\",\n",
    "    y=\"freenrg_fwf\",\n",
    "    xerr=\"err_experimental\",\n",
    "    yerr=\"err_fwf\",\n",
    "    title=f\"fwf, {eng}\",\n",
    "    xlabel=\"experimental dG (kcal/mol)\",\n",
    "    ylabel=\"fwf dG (kcal/mol)\",\n",
    ")\n",
    "\n",
    "# calculating using the cinnabar stats\n",
    "f_mae = all_analysis_object._stats_object._compute_stats(\n",
    "    x=df1[\"freenrg_experimental\"],\n",
    "    y=df1[\"freenrg_fwf\"],\n",
    "    xerr=df1[\"err_experimental\"],\n",
    "    yerr=df1[\"err_fwf\"],\n",
    "    statistic=\"MUE\",\n",
    ")\n",
    "print(f_mae)"
   ]
  }
 ],
 "metadata": {
  "kernelspec": {
   "display_name": "Python 3.9.13 ('biosimspace-dev': conda)",
   "language": "python",
   "name": "python3"
  },
  "language_info": {
   "codemirror_mode": {
    "name": "ipython",
    "version": 3
   },
   "file_extension": ".py",
   "mimetype": "text/x-python",
   "name": "python",
   "nbconvert_exporter": "python",
   "pygments_lexer": "ipython3",
   "version": "3.9.15"
  },
  "varInspector": {
   "cols": {
    "lenName": 16,
    "lenType": 16,
    "lenVar": 40
   },
   "kernels_config": {
    "python": {
     "delete_cmd_postfix": "",
     "delete_cmd_prefix": "del ",
     "library": "var_list.py",
     "varRefreshCmd": "print(var_dic_list())"
    },
    "r": {
     "delete_cmd_postfix": ") ",
     "delete_cmd_prefix": "rm(",
     "library": "var_list.r",
     "varRefreshCmd": "cat(var_dic_list()) "
    }
   },
   "types_to_exclude": [
    "module",
    "function",
    "builtin_function_or_method",
    "instance",
    "_Feature"
   ],
   "window_display": false
  },
  "vscode": {
   "interpreter": {
    "hash": "d79bb85316fa6c998e385cc39903e056bffeb3f6098416e9c269ddd32175e919"
   }
  }
 },
 "nbformat": 4,
 "nbformat_minor": 2
}
