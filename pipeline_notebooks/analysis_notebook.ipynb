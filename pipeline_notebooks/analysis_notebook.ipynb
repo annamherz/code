{
 "cells": [
  {
   "attachments": {},
   "cell_type": "markdown",
   "metadata": {},
   "source": [
    "# <span style=\"color:teal\">RBFE Network - Analysis</span>\n"
   ]
  },
  {
   "cell_type": "code",
   "execution_count": null,
   "metadata": {},
   "outputs": [],
   "source": [
    "# import libraries\n",
    "\n",
    "from scipy.stats import sem as sem\n",
    "import sys\n",
    "import glob\n",
    "\n",
    "from pipeline import *\n",
    "from pipeline.utils import validate\n",
    "from pipeline.analysis import *"
   ]
  },
  {
   "cell_type": "code",
   "execution_count": null,
   "metadata": {},
   "outputs": [],
   "source": [
    "bench_folder = f\"/home/anna/Documents/benchmark\"\n",
    "protein = \"mcl1\"\n",
    "main_dir = f\"{bench_folder}/extracted/{protein}\"\n",
    "# main_dir = f\"/backup/GROMACS_reruns/{protein}\"\n",
    "\n",
    "# choose location for the files\n",
    "net_file = f\"{main_dir}/execution_model/network_combined.dat\"\n",
    "ana_file = f\"{main_dir}/execution_model/analysis_protocol.dat\"\n",
    "exp_file = f\"{bench_folder}/inputs/experimental/{protein}.yml\"\n",
    "results_folder = f\"{main_dir}/outputs_extracted/results\"\n",
    "output_folder = validate.folder_path(f\"{main_dir}/analysis\", create=True)"
   ]
  },
  {
   "cell_type": "code",
   "execution_count": null,
   "metadata": {},
   "outputs": [],
   "source": [
    "all_analysis_object = analysis_network(\n",
    "    results_folder,\n",
    "    exp_file=exp_file,\n",
    "    net_file=net_file,\n",
    "    output_folder=output_folder,\n",
    "    analysis_prot=ana_file,\n",
    "    # method = \"updated\",\n",
    "    # engines = \"GROMACS\"\n",
    ")\n",
    "\n",
    "# can add any other results files\n",
    "all_analysis_object.compute_results()"
   ]
  },
  {
   "cell_type": "code",
   "execution_count": null,
   "metadata": {},
   "outputs": [],
   "source": [
    "all_analysis_object.add_ligands_folder(f\"/home/anna/Documents/benchmark/inputs/{protein}/ligands\")\n",
    "all_analysis_object._initialise_graph_object()\n",
    "all_analysis_object.draw_graph()"
   ]
  },
  {
   "cell_type": "code",
   "execution_count": null,
   "metadata": {},
   "outputs": [],
   "source": [
    "# check if there are any failed perturbations\n",
    "failed_perts = all_analysis_object.failed_runs(\"GROMACS\")\n",
    "\n",
    "for pert in sorted(failed_perts):\n",
    "    print(pert)\n",
    "\n",
    "all_analysis_object.draw_failed_perturbations()"
   ]
  },
  {
   "cell_type": "code",
   "execution_count": null,
   "metadata": {},
   "outputs": [],
   "source": [
    "all_analysis_object.disconnected_ligands(eng=\"GROMACS\")"
   ]
  },
  {
   "cell_type": "code",
   "execution_count": null,
   "metadata": {},
   "outputs": [],
   "source": [
    "# can compute convergence for all\n",
    "all_analysis_object.compute_convergence(main_dir=main_dir)\n",
    "all_analysis_object.plot_convergence()"
   ]
  },
  {
   "attachments": {},
   "cell_type": "markdown",
   "metadata": {},
   "source": [
    "There are different options for plotting:\n",
    "\n",
    "bar (pert or lig)\n",
    "\n",
    "scatter (pert or lig) - can be plotted using cinnabar\n",
    "\n",
    "eng vs eng\n",
    "\n",
    "other results (eg from other workflows)\n",
    "\n",
    "outliers\n",
    "\n",
    "histograms (for the error of the runs, sem, legs)"
   ]
  },
  {
   "cell_type": "code",
   "execution_count": null,
   "metadata": {},
   "outputs": [],
   "source": [
    "# bar\n",
    "all_analysis_object.plot_bar_lig()\n",
    "all_analysis_object.plot_bar_pert()\n",
    "\n",
    "# scatter\n",
    "all_analysis_object.plot_scatter_lig()\n",
    "all_analysis_object.plot_scatter_pert()\n",
    "all_analysis_object.plot_scatter_lig(use_cinnabar=True)\n",
    "all_analysis_object.plot_scatter_pert(use_cinnabar=True)\n",
    "\n",
    "for eng in all_analysis_object.engines:\n",
    "    all_analysis_object.plot_scatter_lig(engine=eng)\n",
    "    all_analysis_object.plot_scatter_pert(engine=eng)\n",
    "\n",
    "    # outliers\n",
    "    all_analysis_object.plot_outliers(engine=eng)\n",
    "    all_analysis_object.plot_outliers(engine=eng, pert_val=\"val\")\n",
    "\n",
    "all_analysis_object.plot_histogram_legs()\n",
    "all_analysis_object.plot_histogram_repeats()\n",
    "all_analysis_object.plot_histogram_sem(pert_val=\"pert\")\n",
    "all_analysis_object.plot_histogram_sem(pert_val=\"val\")"
   ]
  },
  {
   "attachments": {},
   "cell_type": "markdown",
   "metadata": {},
   "source": [
    "calculate the stats:"
   ]
  },
  {
   "cell_type": "code",
   "execution_count": null,
   "metadata": {},
   "outputs": [],
   "source": [
    "df = all_analysis_object.calc_mad_engines(pert_val=\"pert\")\n",
    "# all_analysis_object.calc_mad_engines(pert_val=\"val\")\n",
    "df"
   ]
  },
  {
   "cell_type": "code",
   "execution_count": null,
   "metadata": {},
   "outputs": [],
   "source": [
    "df = all_analysis_object.calc_mae_engines(pert_val=\"pert\")\n",
    "# all_analysis_object.calc_mad_engines(pert_val=\"val\")\n",
    "df"
   ]
  },
  {
   "cell_type": "markdown",
   "metadata": {},
   "source": [
    "sort by binding affinity"
   ]
  },
  {
   "cell_type": "code",
   "execution_count": null,
   "metadata": {},
   "outputs": [],
   "source": [
    "all_analysis_object.sort_ligands_by_binding_affinity(engine=\"GROMACS\")\n",
    "all_analysis_object.sort_ligands_by_experimental_binding_affinity()"
   ]
  },
  {
   "attachments": {},
   "cell_type": "markdown",
   "metadata": {},
   "source": [
    "plot other results"
   ]
  },
  {
   "cell_type": "code",
   "execution_count": null,
   "metadata": {},
   "outputs": [],
   "source": [
    "eng = \"GROMACS\"\n",
    "rerun_folder = \"/backup/GROMACS_reruns/tyk2/outputs_extracted/results\"\n",
    "\n",
    "other_results = glob.glob(\n",
    "    f\"{rerun_folder}/freenrg_*_{eng}_MBAR_alchemlyb_None_eqfalse_statsfalse_truncate0end.csv\"\n",
    ")\n",
    "bound_results = glob.glob(\n",
    "    f\"{rerun_folder}/bound_*_{eng}_MBAR_alchemlyb_None_eqfalse_statsfalse_truncate0end.csv\"\n",
    ")\n",
    "free_results = glob.glob(\n",
    "    f\"{rerun_folder}/free_*_{eng}_MBAR_alchemlyb_None_eqfalse_statsfalse_truncate0end.csv\"\n",
    ")\n",
    "all_analysis_object.compute_other_results(\n",
    "    other_results, name=f\"GROMACS_reruns\", bound_files=bound_results, free_files=free_results\n",
    ")\n"
   ]
  },
  {
   "cell_type": "code",
   "execution_count": null,
   "metadata": {},
   "outputs": [],
   "source": [
    "# remove any non main netowrk perturbations\n",
    "for eng in all_analysis_object.other_results_names:\n",
    "    for pert in all_analysis_object._perturbations_dict[eng]:\n",
    "        if pert not in all_analysis_object._perturbations_dict[\"GROMACS\"]:\n",
    "            all_analysis_object.remove_perturbations(pert, name=eng)"
   ]
  },
  {
   "cell_type": "code",
   "execution_count": null,
   "metadata": {},
   "outputs": [],
   "source": [
    "all_analysis_object.plot_outliers(engines=[\"GROMACS\",\"GROMACS_reruns\"], no_outliers=3)"
   ]
  },
  {
   "cell_type": "code",
   "execution_count": null,
   "metadata": {},
   "outputs": [],
   "source": [
    "all_analysis_object.plot_histogram_repeats(engines=[\"GROMACS\",\"GROMACS_reruns\"])"
   ]
  },
  {
   "attachments": {},
   "cell_type": "markdown",
   "metadata": {},
   "source": [
    "remove a perturbation"
   ]
  },
  {
   "cell_type": "code",
   "execution_count": null,
   "metadata": {},
   "outputs": [],
   "source": [
    "# check which perturbations are outliers\n",
    "all_analysis_object.plot_outliers(engine=\"GROMACS\", outliers=5, pert_val=\"pert\")\n",
    "# all_analysis_object._plotting_object.outlier(engines=\"AMBER\", outliers=5, name=\"Exscientia\")"
   ]
  },
  {
   "cell_type": "code",
   "execution_count": null,
   "metadata": {},
   "outputs": [],
   "source": [
    "# remove perturbation for all engines\n",
    "all_analysis_object.remove_perturbations(\"lig_c~lig_d\")"
   ]
  },
  {
   "attachments": {},
   "cell_type": "markdown",
   "metadata": {},
   "source": [
    "remove outliers"
   ]
  },
  {
   "cell_type": "code",
   "execution_count": null,
   "metadata": {},
   "outputs": [],
   "source": [
    "all_analysis_object.remove_outliers(threshold=10, verbose=True)\n",
    "\n",
    "# can then recalculate the above."
   ]
  }
 ],
 "metadata": {
  "kernelspec": {
   "display_name": "biosimspace-dev",
   "language": "python",
   "name": "python3"
  },
  "language_info": {
   "codemirror_mode": {
    "name": "ipython",
    "version": 3
   },
   "file_extension": ".py",
   "mimetype": "text/x-python",
   "name": "python",
   "nbconvert_exporter": "python",
   "pygments_lexer": "ipython3",
   "version": "3.9.16"
  },
  "varInspector": {
   "cols": {
    "lenName": 16,
    "lenType": 16,
    "lenVar": 40
   },
   "kernels_config": {
    "python": {
     "delete_cmd_postfix": "",
     "delete_cmd_prefix": "del ",
     "library": "var_list.py",
     "varRefreshCmd": "print(var_dic_list())"
    },
    "r": {
     "delete_cmd_postfix": ") ",
     "delete_cmd_prefix": "rm(",
     "library": "var_list.r",
     "varRefreshCmd": "cat(var_dic_list()) "
    }
   },
   "types_to_exclude": [
    "module",
    "function",
    "builtin_function_or_method",
    "instance",
    "_Feature"
   ],
   "window_display": false
  }
 },
 "nbformat": 4,
 "nbformat_minor": 2
}
