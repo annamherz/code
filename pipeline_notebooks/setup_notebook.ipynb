{
 "cells": [
  {
   "cell_type": "markdown",
   "metadata": {},
   "source": [
    "# <span style=\"color:teal\">RBFE Network Setup</span>\n",
    "\n"
   ]
  },
  {
   "cell_type": "code",
   "execution_count": null,
   "metadata": {},
   "outputs": [],
   "source": [
    "# import libraries\n",
    "import BioSimSpace as BSS\n",
    "import sys\n",
    "\n",
    "from pipeline.setup import *\n",
    "from pipeline.prep import *\n",
    "from pipeline.utils import *"
   ]
  },
  {
   "cell_type": "code",
   "execution_count": null,
   "metadata": {},
   "outputs": [],
   "source": [
    "# now want to start putting it all together by initialising the pipeline\n",
    "# this is so can have all the file locations\n",
    "protein = \"mcl1\"\n",
    "pl = initialise_pipeline()\n",
    "# where the ligands for the pipeline are located. These should all be in the same folder in sdf format\n",
    "pl.ligands_folder(f\"/home/anna/Documents/benchmark/inputs/{protein}/ligands\")\n",
    "# where the pipeline should be made\n",
    "pl.main_folder(f\"/home/anna/Documents/benchmark/test/{protein}\")"
   ]
  },
  {
   "cell_type": "markdown",
   "metadata": {},
   "source": [
    "#### <span style=\"\">2. Setting up the Network</span>\n",
    "<a id=\"setup\"></a>\n",
    "\n",
    "##### <span style=\"\">Choosing the parameters for the FEP runs</span>\n",
    "<a id=\"parameters\"></a>\n"
   ]
  },
  {
   "cell_type": "code",
   "execution_count": null,
   "metadata": {},
   "outputs": [],
   "source": [
    "# nodes to pick things\n",
    "node = BSS.Gateway.Node(\n",
    "    \"A node to create input files for molecular dynamics simulation.\"\n",
    ")\n",
    "\n",
    "node.addInput(\n",
    "    \"Ligand FF\",\n",
    "    BSS.Gateway.String(\n",
    "        help=\"Force field to parameterise ligands with.\",\n",
    "        allowed=[\"GAFF2\", \"Parsely\", \"Sage\"],\n",
    "        default=\"Sage\",\n",
    "    ),\n",
    ")\n",
    "\n",
    "node.addInput(\n",
    "    \"Protein FF\",\n",
    "    BSS.Gateway.String(\n",
    "        help=\"Force field to parameterise the protein with.\",\n",
    "        allowed=[\"ff03\", \"ff14SB\", \"ff99\", \"ff99SB\", \"ff99SBildn\"],\n",
    "        default=\"ff14SB\",\n",
    "    ),\n",
    ")\n",
    "\n",
    "node.addInput(\n",
    "    \"Water Model\",\n",
    "    BSS.Gateway.String(\n",
    "        help=\"Water model to use.\",\n",
    "        allowed=[\"SPC\", \"SPCE\", \"TIP3P\", \"TIP4P\", \"TIP5P\"],\n",
    "        default=\"TIP3P\",\n",
    "    ),\n",
    ")\n",
    "\n",
    "node.addInput(\n",
    "    \"Box Edges\",\n",
    "    BSS.Gateway.String(\n",
    "        help=\"Size of water box around molecular system.\",\n",
    "        allowed=[\n",
    "            \"20*angstrom\",\n",
    "            \"25*angstrom\",\n",
    "            \"30*angstrom\",\n",
    "            \"35*angstrom\",\n",
    "            \"45*angstrom\",\n",
    "            \"5*nm\",\n",
    "            \"7*nm\",\n",
    "            \"10*nm\",\n",
    "        ],\n",
    "        default=\"30*angstrom\",\n",
    "    ),\n",
    ")\n",
    "\n",
    "node.addInput(\n",
    "    \"Box Shape\",\n",
    "    BSS.Gateway.String(\n",
    "        help=\"Geometric shape of water box.\",\n",
    "        allowed=[\"cubic\", \"truncatedOctahedron\"],\n",
    "        default=\"truncatedOctahedron\",\n",
    "    ),\n",
    ")\n",
    "\n",
    "node.addInput(\n",
    "    \"Run Time\",\n",
    "    BSS.Gateway.String(\n",
    "        help=\"The sampling time per lambda window.\",\n",
    "        allowed=[\n",
    "            \"10*ps\",\n",
    "            \"100*ps\",\n",
    "            \"1*ns\",\n",
    "            \"2*ns\",\n",
    "            \"3*ns\",\n",
    "            \"4*ns\",\n",
    "            \"5*ns\",\n",
    "            \"8*ns\",\n",
    "            \"10*ns\",\n",
    "            \"12*ns\",\n",
    "            \"15*ns\",\n",
    "        ],\n",
    "        default=\"4*ns\",\n",
    "    ),\n",
    ")\n",
    "\n",
    "node.addInput(\n",
    "    \"HMR\",\n",
    "    BSS.Gateway.String(\n",
    "        help=\"Whether or not Hydrogen Mass repartitioning should be used. If true, a timestep of 4 fs will be used.\",\n",
    "        allowed=[\"True\", \"False\"],\n",
    "        default=\"True\",\n",
    "    ),\n",
    ")\n",
    "\n",
    "engines_options = [e.upper() for e in BSS.FreeEnergy.engines()]\n",
    "engines_options.append(\"ALL\")\n",
    "\n",
    "node.addInput(\n",
    "    \"FEP Engine\",\n",
    "    BSS.Gateway.String(\n",
    "        help=\"Engine to run FEP with. BSS available engines, or ALL.\",\n",
    "        allowed=engines_options,\n",
    "        default=\"ALL\",\n",
    "    ),\n",
    ")\n",
    "\n",
    "node.addInput(\n",
    "    \"LambdaWindows\",\n",
    "    BSS.Gateway.String(\n",
    "        help=\"The number of lambda windows for regular transformations.\",\n",
    "        allowed=[\n",
    "            \"3\",\n",
    "            \"4\",\n",
    "            \"5\",\n",
    "            \"6\",\n",
    "            \"7\",\n",
    "            \"8\",\n",
    "            \"9\",\n",
    "            \"10\",\n",
    "            \"11\",\n",
    "            \"12\",\n",
    "            \"13\",\n",
    "            \"14\",\n",
    "            \"15\",\n",
    "            \"16\",\n",
    "            \"17\",\n",
    "            \"18\",\n",
    "            \"19\",\n",
    "            \"20\",\n",
    "        ],\n",
    "        default=\"12\",\n",
    "    ),\n",
    ")\n",
    "\n",
    "node.addInput(\n",
    "    \"Number of repeats\",\n",
    "    BSS.Gateway.String(\n",
    "        help=\"The number of repeats of the simulation.\",\n",
    "        allowed=[str(i) for i in range(1, 11)],\n",
    "        default=str(3),\n",
    "    ),\n",
    ")\n",
    "\n",
    "node.addInput(\n",
    "    \"Reverse\",\n",
    "    BSS.Gateway.String(\n",
    "        help=\"Whether to run the perturbations in the reverse direction as well.\",\n",
    "        allowed=[\"True\", \"False\"],\n",
    "        default=\"False\",\n",
    "    ),\n",
    ")\n",
    "\n",
    "\n",
    "node.addInput(\n",
    "    \"Keep trajectories\",\n",
    "    BSS.Gateway.String(\n",
    "        help=\"Whether to keep the trajectory files or not.\",\n",
    "        allowed=[\"None\", \"0,0.5,1\", \"0,1\", \"All\"],\n",
    "        default=\"0,0.5,1\",\n",
    "    ),\n",
    ")\n",
    "\n",
    "node.showControls()"
   ]
  },
  {
   "cell_type": "code",
   "execution_count": null,
   "metadata": {},
   "outputs": [],
   "source": [
    "# create protocol dictionary\n",
    "protocol_dict = {\n",
    "    \"ligand forcefield\": node.getInput(\"Ligand FF\"),\n",
    "    \"protein forcefield\": node.getInput(\"Protein FF\"),\n",
    "    \"solvent\": node.getInput(\"Water Model\"),\n",
    "    \"box edges\": node.getInput(\"Box Edges\").split(\"*\")[0],\n",
    "    \"box edges unit\": node.getInput(\"Box Edges\").split(\"*\")[1],\n",
    "    \"box type\": node.getInput(\"Box Shape\"),\n",
    "    \"sampling\": node.getInput(\"Run Time\").split(\"*\")[0],\n",
    "    \"sampling unit\": node.getInput(\"Run Time\").split(\"*\")[1],\n",
    "    \"hmr\": node.getInput(\"HMR\"),\n",
    "    \"repeats\": node.getInput(\"Number of repeats\"),\n",
    "    \"reverse\": node.getInput(\"Reverse\"),\n",
    "    \"trajectories\": node.getInput(\"Keep trajectories\"),\n",
    "    \"engines\": node.getInput(\"FEP Engine\"),\n",
    "}\n",
    "\n",
    "# use pipeline protocol to check this\n",
    "protocol = pipeline_protocol(protocol_dict)\n",
    "# validate the given inputs and provide defaults\n",
    "protocol.validate()\n",
    "# print to check that all the settings are what is wanted\n",
    "print(\"current protocol:\")\n",
    "protocol.print_protocol()"
   ]
  },
  {
   "cell_type": "code",
   "execution_count": null,
   "metadata": {},
   "outputs": [],
   "source": [
    "# can also call all protocol options as a dictionary\n",
    "protocol.dictionary()\n",
    "\n",
    "# the following are all the methods to edit the protocol\n",
    "method_list = [method for method in dir(protocol) if method.startswith(\"_\") is False]\n",
    "print(method_list)"
   ]
  },
  {
   "cell_type": "code",
   "execution_count": null,
   "metadata": {},
   "outputs": [],
   "source": [
    "# change any protocol settings\n",
    "# this can be done eg\n",
    "# protocol.start_temperature(34)"
   ]
  },
  {
   "cell_type": "code",
   "execution_count": null,
   "metadata": {},
   "outputs": [],
   "source": [
    "# nodes to pick things\n",
    "ana_node = BSS.Gateway.Node(\n",
    "    \"A node to specify the analysis for molecular dynamics simulation.\"\n",
    ")\n",
    "\n",
    "ana_node.addInput(\n",
    "    \"estimator\",\n",
    "    BSS.Gateway.String(\n",
    "        help=\"Estimator used to analyse.\", allowed=[\"MBAR\", \"TI\"], default=\"MBAR\"\n",
    "    ),\n",
    ")\n",
    "\n",
    "ana_node.addInput(\n",
    "    \"method\",\n",
    "    BSS.Gateway.String(\n",
    "        help=\"method used to analyse.\",\n",
    "        allowed=[\"alchemlyb\", \"native\"],\n",
    "        default=\"alchemlyb\",\n",
    "    ),\n",
    ")\n",
    "\n",
    "ana_node.showControls()"
   ]
  },
  {
   "cell_type": "code",
   "execution_count": null,
   "metadata": {},
   "outputs": [],
   "source": [
    "# create protocol dictionary\n",
    "ana_protocol_dict = {\n",
    "    \"estimator\": ana_node.getInput(\"estimator\"),\n",
    "    \"method\": ana_node.getInput(\"method\"),\n",
    "}\n",
    "\n",
    "# use pipeline protocol to check this\n",
    "ana_protocol = analysis_protocol(ana_protocol_dict)\n",
    "# validate the given inputs and provide defaults\n",
    "ana_protocol.validate()\n",
    "# print to check that all the settings are what is wanted\n",
    "print(\"current analysis protocol:\")\n",
    "ana_protocol.print_protocol()"
   ]
  },
  {
   "cell_type": "code",
   "execution_count": null,
   "metadata": {},
   "outputs": [],
   "source": [
    "# can also call all protocol options as a dictionary\n",
    "ana_protocol.dictionary()\n",
    "\n",
    "# the following are all the methods to edit the protocol\n",
    "method_list = [\n",
    "    method for method in dir(ana_protocol) if method.startswith(\"_\") is False\n",
    "]\n",
    "print(method_list)"
   ]
  },
  {
   "cell_type": "code",
   "execution_count": null,
   "metadata": {},
   "outputs": [],
   "source": [
    "# can also change things in the analysis protocol as well, eg\n",
    "ana_protocol.truncate_keep(\"end\")\n",
    "ana_protocol.truncate_percentage(\"5\")\n",
    "\n",
    "# check again using\n",
    "ana_protocol.print_protocol()\n",
    "# or\n",
    "ana_protocol.dictionary()"
   ]
  },
  {
   "attachments": {},
   "cell_type": "markdown",
   "metadata": {},
   "source": [
    "##### <span style=\"\">Protein Parameterisation</span>  \n"
   ]
  },
  {
   "attachments": {},
   "cell_type": "markdown",
   "metadata": {},
   "source": [
    "##### <span style=\"\">Protein parameterisation</span>  \n",
    "\n",
    "This needs to be carried out carefully.\n",
    "\n",
    "can parameterise using :\n",
    "```python\n",
    "prot = BSS.IO.readPDB(path_to_protein, pdb4amber=False)[0]\n",
    "prot_p = BSS.Parameters.parameterise(prot, protocol.protein_forcefield()).getMolecule()\n",
    "BSS.IO.saveMolecules(\"inputs/protein\", prot_p, [\"PRM7\",\"RST7\"])\n",
    "```\n",
    "\n",
    "tleap may fail. Best to parameterise carefully before and also consider crystal waters.\n",
    "\n",
    "can view using:\n",
    "```python\n",
    "BSS.Notebook.View(f\"{input_dir}/{protein}/protein/{protein}_parameterised.pdb\").system()\n",
    "```\n"
   ]
  },
  {
   "cell_type": "code",
   "execution_count": null,
   "metadata": {},
   "outputs": [],
   "source": [
    "# add the protein file locations to the pipeline setup object\n",
    "pl.protein_path(\n",
    "    f\"/home/anna/Documents/benchmark/inputs/{protein}/{protein}_parameterised\"\n",
    ")"
   ]
  },
  {
   "cell_type": "markdown",
   "metadata": {},
   "source": [
    "##### <span style=\"\">The FEP Network</span>  \n"
   ]
  },
  {
   "cell_type": "code",
   "execution_count": null,
   "metadata": {},
   "outputs": [],
   "source": [
    "# now want to read in all the ligands in the earlier provided ligands folder\n",
    "pl.setup_ligands()\n",
    "# this should write a ligands.dat in the execution model."
   ]
  },
  {
   "cell_type": "code",
   "execution_count": null,
   "metadata": {},
   "outputs": [],
   "source": [
    "# to remove a ligand, can do the following:\n",
    "pl.remove_ligand(\"lig_ejm44\")\n",
    "\n",
    "# if you want to add a ligand instead, eg an intermediate, current method is to copy it to the folder and rerun the ligands setup"
   ]
  },
  {
   "cell_type": "code",
   "execution_count": null,
   "metadata": {},
   "outputs": [],
   "source": [
    "# next, want to setup a network\n",
    "pl.setup_network()"
   ]
  },
  {
   "cell_type": "code",
   "execution_count": null,
   "metadata": {},
   "outputs": [],
   "source": [
    "# it is possible to remove a perturbation using:\n",
    "# (the order of the ligands must be correct, can check using pl.perturbations)\n",
    "pl.remove_perturbation(\"lig_ejm31~lig_ejm48\")\n",
    "\n",
    "# can also add a perturbation\n",
    "pl.add_perturbation(\"lig_jmc30~lig_ejm45\")\n",
    "\n",
    "# redraw the network using\n",
    "pl.draw_network()"
   ]
  },
  {
   "cell_type": "markdown",
   "metadata": {},
   "source": [
    "##### <span style=\"\">Preparing for the FEP pipeline</span>  \n"
   ]
  },
  {
   "cell_type": "code",
   "execution_count": null,
   "metadata": {},
   "outputs": [],
   "source": [
    "# add the protocols to the pipeline setup. This will also write them.\n",
    "pl.add_pipeline_protocol(protocol)\n",
    "pl.add_analysis_protocol(ana_protocol)"
   ]
  },
  {
   "cell_type": "code",
   "execution_count": null,
   "metadata": {},
   "outputs": [],
   "source": [
    "# source file for paths to amber/gromacs/python etc.\n",
    "pl.add_source_file(\"source_file\")"
   ]
  },
  {
   "cell_type": "code",
   "execution_count": null,
   "metadata": {},
   "outputs": [],
   "source": [
    "# write the run_all script, also does a final ligand and network write\n",
    "pl.write_run_all()"
   ]
  }
 ],
 "metadata": {
  "kernelspec": {
   "display_name": "biosimspace-dev",
   "language": "python",
   "name": "python3"
  },
  "language_info": {
   "codemirror_mode": {
    "name": "ipython",
    "version": 3
   },
   "file_extension": ".py",
   "mimetype": "text/x-python",
   "name": "python",
   "nbconvert_exporter": "python",
   "pygments_lexer": "ipython3",
   "version": "3.9.16"
  },
  "varInspector": {
   "cols": {
    "lenName": 16,
    "lenType": 16,
    "lenVar": 40
   },
   "kernels_config": {
    "python": {
     "delete_cmd_postfix": "",
     "delete_cmd_prefix": "del ",
     "library": "var_list.py",
     "varRefreshCmd": "print(var_dic_list())"
    },
    "r": {
     "delete_cmd_postfix": ") ",
     "delete_cmd_prefix": "rm(",
     "library": "var_list.r",
     "varRefreshCmd": "cat(var_dic_list()) "
    }
   },
   "types_to_exclude": [
    "module",
    "function",
    "builtin_function_or_method",
    "instance",
    "_Feature"
   ],
   "window_display": false
  },
  "vscode": {
   "interpreter": {
    "hash": "d79bb85316fa6c998e385cc39903e056bffeb3f6098416e9c269ddd32175e919"
   }
  }
 },
 "nbformat": 4,
 "nbformat_minor": 2
}
