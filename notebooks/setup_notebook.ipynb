{
 "cells": [
  {
   "cell_type": "markdown",
   "metadata": {},
   "source": [
    "# <span style=\"color:teal\">RBFE Network Setup</span>\n",
    "\n"
   ]
  },
  {
   "cell_type": "code",
   "execution_count": null,
   "metadata": {},
   "outputs": [],
   "source": [
    "# import libraries\n",
    "import BioSimSpace as BSS\n",
    "import os\n",
    "import sys\n",
    "import glob\n",
    "import csv\n",
    "import numpy as np\n",
    "import networkx as nx\n",
    "import matplotlib.image as mpimg\n",
    "import matplotlib.pyplot as plt\n",
    "from sklearn.preprocessing import minmax_scale\n",
    "import itertools\n",
    "\n",
    "from pipeline.prep import *\n",
    "from pipeline.utils import *\n",
    "\n",
    "pipeline.__file__"
   ]
  },
  {
   "cell_type": "code",
   "execution_count": null,
   "metadata": {},
   "outputs": [],
   "source": [
    "# now want to start putting it all together by initialising the pipeline\n",
    "# this is so can have all the file locations \n",
    "\n",
    "pl = initialise_pipeline()\n",
    "# where the ligands for the pipeline are located. These should all be in the same folder in sdf format\n",
    "pl.ligands_folder(f\"/home/anna/Documents/benchmark/inputs/tyk2/ligands\")\n",
    "# where the pipeline should be made\n",
    "pl.main_folder(\"/home/anna/Documents/code/write/test\")\n"
   ]
  },
  {
   "cell_type": "markdown",
   "metadata": {},
   "source": [
    "#### <span style=\"color:teal\">2. Setting up the Network</span>\n",
    "<a id=\"setup\"></a>\n",
    "\n",
    "##### <span style=\"color:teal\">Choosing the parameters for the FEP runs</span>\n",
    "<a id=\"parameters\"></a>\n"
   ]
  },
  {
   "cell_type": "code",
   "execution_count": null,
   "metadata": {},
   "outputs": [],
   "source": [
    "#nodes to pick things\n",
    "node = BSS.Gateway.Node(\"A node to create input files for molecular dynamics simulation.\")\n",
    "\n",
    "node.addInput(\"Ligand FF\", BSS.Gateway.String(help=\"Force field to parameterise ligands with.\",\n",
    "                                             allowed=[\"GAFF2\", \"Parsely\", \"Sage\"],\n",
    "                                             default=\"Sage\"))\n",
    "\n",
    "node.addInput(\"Protein FF\", BSS.Gateway.String(help=\"Force field to parameterise the protein with.\",\n",
    "                                             allowed=[\"ff03\", \"ff14SB\", \"ff99\", \"ff99SB\", \"ff99SBildn\"],\n",
    "                                             default=\"ff14SB\"))\n",
    "\n",
    "node.addInput(\"Water Model\", BSS.Gateway.String(help=\"Water model to use.\",\n",
    "                                             allowed=[\"SPC\", \"SPCE\", \"TIP3P\", \"TIP4P\", \"TIP5P\"],\n",
    "                                             default=\"TIP3P\"))\n",
    "\n",
    "node.addInput(\"Box Edges\", BSS.Gateway.String(help=\"Size of water box around molecular system.\",\n",
    "                                             allowed=[\"20*angstrom\", \"25*angstrom\", \"30*angstrom\", \"35*angstrom\", \"45*angstrom\", \"5*nm\", \"7*nm\", \"10*nm\"],\n",
    "                                             default=\"30*angstrom\"))\n",
    "\n",
    "node.addInput(\"Box Shape\", BSS.Gateway.String(help=\"Geometric shape of water box.\",\n",
    "                                             allowed=[\"cubic\", \"truncatedOctahedron\"],\n",
    "                                             default=\"truncatedOctahedron\"))\n",
    "\n",
    "node.addInput(\"Run Time\", BSS.Gateway.String(help=\"The sampling time per lambda window.\",\n",
    "                                             allowed=[\"10*ps\", \"100*ps\", \"1*ns\", \"2*ns\", \"3*ns\", \"4*ns\", \"5*ns\", \"8*ns\", \"10*ns\", \"12*ns\", \"15*ns\"],\n",
    "                                             default=\"4*ns\"))\n",
    "\n",
    "node.addInput(\"HMR\", BSS.Gateway.String(help=\"Whether or not Hydrogen Mass repartitioning should be used. If true, a timestep of 4 fs will be used.\",\n",
    "                                             allowed=[\"True\",\"False\"],\n",
    "                                             default=\"True\"))\n",
    "\n",
    "engines_options = [e.upper() for e in BSS.FreeEnergy.engines()]\n",
    "engines_options.append(\"ALL\")\n",
    "\n",
    "node.addInput(\"FEP Engine\", BSS.Gateway.String(help=\"Engine to run FEP with. BSS available engines, or ALL.\",\n",
    "                                             allowed=engines_options,\n",
    "                                             default=\"ALL\"))\n",
    "\n",
    "node.addInput(\"LambdaWindows\", BSS.Gateway.String(help=\"The number of lambda windows for regular transformations.\",\n",
    "                                             allowed=[\"3\", \"4\", \"5\", \"6\", \"7\", \"8\", \"9\", \"10\", \"11\", \"12\", \"13\", \"14\", \"15\", \"16\", \"17\", \"18\", \"19\", \"20\"],\n",
    "                                             default=\"11\"))\n",
    "\n",
    "# node.addInput(\"DiffLambdaWindows\", BSS.Gateway.String(help=\"The number of lambda windows for difficult transformations.\",\n",
    "#                                              allowed=[\"4\", \"5\", \"6\", \"7\", \"8\", \"9\", \"10\", \"11\", \"12\", \"13\", \"14\", \"15\", \"16\", \"17\", \"18\", \"19\", \"20\"],\n",
    "#                                              default=\"17\"))\n",
    "                                             \n",
    "# node.addInput(\"LOMAP Threshold\", BSS.Gateway.String(help=\"The LOMAP score threshold to define difficult transformations.\",\n",
    "#                                              allowed=[\"0.1\", \"0.2\", \"0.3\", \"0.4\", \"0.5\", \"0.6\", \"0.7\", \"0.8\", \"0.9\"],\n",
    "#                                              default=\"0.4\"))\n",
    "\n",
    "node.addInput(\"Number of repeats\", BSS.Gateway.String(help=\"The number of repeats of the simulation.\",\n",
    "                                             allowed=[str(i) for i in range (1,11)],\n",
    "                                             default=str(3)))\n",
    "\n",
    "node.addInput(\"Keep trajectories\", BSS.Gateway.String(help=\"Whether to keep the trajectory files or not.\",\n",
    "                                             allowed=[\"None\",\"0,0.5,1\", \"0,1\", \"All\"],\n",
    "                                             default=\"0,0.5,1\"))\n",
    "\n",
    "node.showControls()\n"
   ]
  },
  {
   "cell_type": "code",
   "execution_count": null,
   "metadata": {},
   "outputs": [],
   "source": [
    "# create protocol dictionary\n",
    "protocol_dict = {\n",
    "    \"ligand forcefield\":node.getInput('Ligand FF'),\n",
    "    \"protein forcefield\":node.getInput('Protein FF'),\n",
    "    \"solvent\":node.getInput('Water Model'),\n",
    "    \"box edges\":node.getInput('Box Edges').split(\"*\")[0],\n",
    "    \"box edges unit\":node.getInput('Box Edges').split(\"*\")[1],\n",
    "    \"box type\":node.getInput('Box Shape'),\n",
    "    \"sampling\":node.getInput('Run Time').split(\"*\")[0],\n",
    "    \"sampling unit\":node.getInput('Run Time').split(\"*\")[1],\n",
    "    \"hmr\":node.getInput('HMR'),\n",
    "    \"repeats\":node.getInput('Number of repeats'),\n",
    "    \"trajectories\":node.getInput('Keep trajectories'),\n",
    "}\n",
    "\n",
    "# use pipeline protocol to check this\n",
    "protocol = pipeline_protocol(protocol_dict, verbose=False)\n",
    "# validate the given inputs and provide defaults\n",
    "protocol.validate()\n",
    "# print to check that all the settings are what is wanted\n",
    "print(\"current protocol:\")\n",
    "protocol.print_protocol()"
   ]
  },
  {
   "cell_type": "code",
   "execution_count": null,
   "metadata": {},
   "outputs": [],
   "source": [
    "# change any protocol settings\n",
    "# this can be done eg\n",
    "protocol.ligand_forcefield(\"GAff2\")\n",
    "protocol.start_temperature(34)\n",
    "\n",
    "# can also call all protocol options as a dictionary\n",
    "protocol.dictionary()"
   ]
  },
  {
   "cell_type": "code",
   "execution_count": null,
   "metadata": {},
   "outputs": [],
   "source": [
    "#nodes to pick things\n",
    "ana_node = BSS.Gateway.Node(\"A node to specify the analysis for molecular dynamics simulation.\")\n",
    "\n",
    "ana_node.addInput(\"estimator\", BSS.Gateway.String(help=\"Estimator used to analyse.\",\n",
    "                                             allowed=[\"MBAR\", \"TI\"],\n",
    "                                             default=\"MBAR\"))\n",
    "\n",
    "ana_node.addInput(\"method\", BSS.Gateway.String(help=\"method used to analyse.\",\n",
    "                                             allowed=[\"alchemlyb\", \"native\"],\n",
    "                                             default=\"alchemlyb\"))\n",
    "\n",
    "ana_node.showControls()\n"
   ]
  },
  {
   "cell_type": "code",
   "execution_count": null,
   "metadata": {},
   "outputs": [],
   "source": [
    "# create protocol dictionary\n",
    "ana_protocol_dict = {\n",
    "    \"estimator\":ana_node.getInput('estimator'),\n",
    "    \"method\":ana_node.getInput('method'),\n",
    "}\n",
    "\n",
    "# use pipeline protocol to check this\n",
    "ana_protocol = analysis_protocol(ana_protocol_dict, verbose=True)\n",
    "# validate the given inputs and provide defaults\n",
    "ana_protocol.validate()\n",
    "# print to check that all the settings are what is wanted\n",
    "print(\"current analysis protocol:\")\n",
    "ana_protocol.print_protocol()"
   ]
  },
  {
   "cell_type": "code",
   "execution_count": null,
   "metadata": {},
   "outputs": [],
   "source": [
    "# can also change things in the analysis protocol as well, eg\n",
    "ana_protocol.truncate_keep(\"end\")\n",
    "ana_protocol.truncate_percentage(\"5\")\n",
    "\n",
    "# check again using\n",
    "ana_protocol.print_protocol()\n",
    "# or\n",
    "ana_protocol.dictionary()"
   ]
  },
  {
   "attachments": {},
   "cell_type": "markdown",
   "metadata": {},
   "source": [
    "##### <span style=\"color:teal\">Protein Parameterisation</span>  \n"
   ]
  },
  {
   "attachments": {},
   "cell_type": "markdown",
   "metadata": {},
   "source": [
    "##### <span style=\"color:teal\">Protein parameterisation</span>  \n",
    "\n",
    "This needs to be carried out carefully.\n",
    "\n",
    "can parameterise using :\n",
    "```python\n",
    "prot = BSS.IO.readPDB(path_to_protein, pdb4amber=False)[0]\n",
    "prot_p = BSS.Parameters.parameterise(prot, protocol.protein_forcefield()).getMolecule()\n",
    "BSS.IO.saveMolecules(\"inputs/protein\", prot_p, [\"PRM7\",\"RST7\"])\n",
    "```\n",
    "\n",
    "tleap may fail. Best to parameterise carefully before and also consider crystal waters.\n",
    "\n",
    "can view using:\n",
    "```python\n",
    "BSS.Notebook.View(f\"{input_dir}/{protein}/protein/{protein}_parameterised.pdb\").system()\n",
    "```\n"
   ]
  },
  {
   "cell_type": "code",
   "execution_count": null,
   "metadata": {},
   "outputs": [],
   "source": [
    "# add the protein file locations to the pipeline setup object\n",
    "pl.protein_path(f\"/home/anna/Documents/benchmark/inputs/tyk2/tyk2_parameterised\")\n"
   ]
  },
  {
   "cell_type": "markdown",
   "metadata": {},
   "source": [
    "##### <span style=\"color:teal\">The FEP Network</span>  \n"
   ]
  },
  {
   "cell_type": "code",
   "execution_count": null,
   "metadata": {},
   "outputs": [],
   "source": [
    "# now want to read in all the ligands in the earlier provided ligands folder\n",
    "pl.setup_ligands()\n",
    "# this should write a ligands.dat in the execution model."
   ]
  },
  {
   "cell_type": "code",
   "execution_count": null,
   "metadata": {},
   "outputs": [],
   "source": [
    "# to remove a ligand, can do the following:\n",
    "pl.remove_ligand(\"lig_ejm44\")\n",
    "\n",
    "# if you want to add a ligand instead, eg an intermediate, current method is to copy it to the folder and rerun the ligands setup"
   ]
  },
  {
   "cell_type": "code",
   "execution_count": null,
   "metadata": {},
   "outputs": [],
   "source": [
    "# next, want to setup a network\n",
    "pl.setup_network()"
   ]
  },
  {
   "cell_type": "code",
   "execution_count": null,
   "metadata": {},
   "outputs": [],
   "source": [
    "# it is possible to remove a perturbation using:\n",
    "# (the order of the ligands must be correct, can check using pl.perturbations)\n",
    "pl.remove_perturbation(\"lig_ejm31~lig_ejm48\")\n",
    "\n",
    "# can also add a perturbation\n",
    "pl.add_perturbation(\"lig_jmc30~lig_ejm45\")\n",
    "\n",
    "# redraw the network using \n",
    "pl.draw_network()"
   ]
  },
  {
   "cell_type": "markdown",
   "metadata": {},
   "source": [
    "##### <span style=\"color:teal\">Preparing for the FEP pipeline</span>  \n"
   ]
  },
  {
   "cell_type": "code",
   "execution_count": null,
   "metadata": {},
   "outputs": [],
   "source": [
    "# add the protocols to the pipeline setup. This will also write them.\n",
    "pl.add_pipeline_protocol(protocol)\n",
    "pl.add_analysis_protocol(ana_protocol)"
   ]
  },
  {
   "cell_type": "code",
   "execution_count": null,
   "metadata": {},
   "outputs": [],
   "source": [
    "# write the run_all script, also does a final ligand and network write\n",
    "pl.write_run_all()"
   ]
  },
  {
   "cell_type": "markdown",
   "metadata": {},
   "source": [
    "##### <span style=\"color:teal\">Generating the RBFENN</span>  \n"
   ]
  },
  {
   "attachments": {},
   "cell_type": "markdown",
   "metadata": {},
   "source": [
    "how to use diff links file for the network generation."
   ]
  },
  {
   "cell_type": "code",
   "execution_count": null,
   "metadata": {},
   "outputs": [],
   "source": [
    "# for sem perturbations\n",
    "tgt_to_run = f\"{protein}_rename\" #f\"{protein}_me\" f\"{protein}_rename\" for tyk2 and p38\n",
    "cats_files_path = f\"{main_folder}/scripts/RBFENN/ANALYSIS/perturbation_networks/output/series_predictions\""
   ]
  },
  {
   "cell_type": "code",
   "execution_count": null,
   "metadata": {},
   "outputs": [],
   "source": [
    "def scaleArray(arr):\n",
    "    \"\"\"Scales an array to be the inverse in the range [0-1].\"\"\"\n",
    "    \n",
    "    # normalise to the range 0-1.\n",
    "    return minmax_scale(1 /  arr, feature_range=(0,1))\n"
   ]
  },
  {
   "cell_type": "code",
   "execution_count": null,
   "metadata": {},
   "outputs": [],
   "source": [
    "# get the FEPNN SEM prediction per ligand.\n",
    "perts = {}\n",
    "for cats_file in glob.glob(f\"{cats_files_path}/{tgt_to_run}_*\"):\n",
    "    \n",
    "    with open(cats_file, \"r\") as readfile:\n",
    "        reader = csv.reader(readfile)\n",
    "        next(reader)\n",
    "        for row in reader:\n",
    "            pert = row[0]\n",
    "            pred_sem = float(row[1])\n",
    "            \n",
    "            if not pert in perts:\n",
    "                perts[pert] = [pred_sem]\n",
    "            else:\n",
    "                perts[pert].append(pred_sem)\n",
    "            \n",
    "# compute the mean SEM prediction per pert.\n",
    "pert_names = []\n",
    "pert_sems = []\n",
    "for pert, sems in perts.items():\n",
    "    mean_sem = np.mean(sems)\n",
    "    pert_names.append(pert)\n",
    "    pert_sems.append(float(mean_sem))\n",
    "\n",
    "# now scale the sems to [0-1].\n",
    "pert_sems = scaleArray(np.array(pert_sems))\n",
    "\n",
    "for pert, val in zip(pert_names, pert_sems):\n",
    "    perts[pert] = val"
   ]
  },
  {
   "cell_type": "code",
   "execution_count": null,
   "metadata": {},
   "outputs": [],
   "source": [
    "# make folder for the RBFENN network\n",
    "validate.folder_path(f\"{pl.exec_folder()}/RBFENN\", create=True)\n",
    "\n",
    "written = []\n",
    "with open(f\"{pl.exec_folder()}/RBFENN/links_file.in\", \"w\") as writefile:\n",
    "    writer = csv.writer(writefile, delimiter =\" \")\n",
    "    \n",
    "    for pert_name, value in perts.items():\n",
    "        # find the lomap filename for both ligs.\n",
    "        liga_lomap_name = None\n",
    "        ligb_lomap_name = None\n",
    "        for filename in glob.glob(f\"{pl.ligands_folder()}/*.sdf\"):\n",
    "            # if \"lig_8\" in filename:\n",
    "            #     continue # exclude +1 ligands from tnks2 set.\n",
    "            if pert_name.split(\"~\")[0] in filename:\n",
    "                liga_lomap_name = filename.split(\"/\")[-1].split(\".\")[0]#.replace(\"ejm\",\"ejm_\").replace(\"jmc\",\"jmc_\")\n",
    "            elif pert_name.split(\"~\")[1] in filename:\n",
    "                ligb_lomap_name = filename.split(\"/\")[-1].split(\".\")[0]#.replace(\"ejm\",\"ejm_\").replace(\"jmc\",\"jmc_\")\n",
    "            \n",
    "            if liga_lomap_name and ligb_lomap_name:\n",
    "                if not [liga_lomap_name, ligb_lomap_name] in written:\n",
    "                    writer.writerow([liga_lomap_name, ligb_lomap_name, value])\n",
    "                    \n",
    "                    written.append([liga_lomap_name, ligb_lomap_name])"
   ]
  },
  {
   "cell_type": "code",
   "execution_count": null,
   "metadata": {},
   "outputs": [],
   "source": [
    "# ligands and ligands_names already exists due to lomap above\n",
    "# if change the folder name, will put this in the execution model as default.\n",
    "pl.setup_network(folder=\"RBFENN\", links_file=f\"{pl.exec_folder()}/RBFENN/links_file.in\")\n",
    "\n",
    "# this will update the existing network.\n",
    "# write the rbfenn to a different network file\n",
    "pl.write_network(file_path=f\"{pl.exec_folder()}/rbfenn_network.dat\")"
   ]
  }
 ],
 "metadata": {
  "kernelspec": {
   "display_name": "biosimspace-dev",
   "language": "python",
   "name": "python3"
  },
  "language_info": {
   "codemirror_mode": {
    "name": "ipython",
    "version": 3
   },
   "file_extension": ".py",
   "mimetype": "text/x-python",
   "name": "python",
   "nbconvert_exporter": "python",
   "pygments_lexer": "ipython3",
   "version": "3.9.15"
  },
  "varInspector": {
   "cols": {
    "lenName": 16,
    "lenType": 16,
    "lenVar": 40
   },
   "kernels_config": {
    "python": {
     "delete_cmd_postfix": "",
     "delete_cmd_prefix": "del ",
     "library": "var_list.py",
     "varRefreshCmd": "print(var_dic_list())"
    },
    "r": {
     "delete_cmd_postfix": ") ",
     "delete_cmd_prefix": "rm(",
     "library": "var_list.r",
     "varRefreshCmd": "cat(var_dic_list()) "
    }
   },
   "types_to_exclude": [
    "module",
    "function",
    "builtin_function_or_method",
    "instance",
    "_Feature"
   ],
   "window_display": false
  },
  "vscode": {
   "interpreter": {
    "hash": "d79bb85316fa6c998e385cc39903e056bffeb3f6098416e9c269ddd32175e919"
   }
  }
 },
 "nbformat": 4,
 "nbformat_minor": 2
}
