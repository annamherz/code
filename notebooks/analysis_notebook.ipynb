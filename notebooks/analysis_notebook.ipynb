{
 "cells": [
  {
   "cell_type": "markdown",
   "metadata": {},
   "source": [
    "# <span style=\"color:teal\">RBFE Network - Analysis</span>\n"
   ]
  },
  {
   "cell_type": "code",
   "execution_count": 1,
   "metadata": {},
   "outputs": [
    {
     "name": "stdout",
     "output_type": "stream",
     "text": [
      "adding code to the pythonpath...\n"
     ]
    },
    {
     "name": "stderr",
     "output_type": "stream",
     "text": [
      "Warning on use of the timeseries module: If the inherent timescales of the system are long compared to those being analyzed, this statistical inefficiency may be an underestimate.  The estimate presumes the use of many statistically independent samples.  Tests should be performed to assess whether this condition is satisfied.   Be cautious in the interpretation of the data.\n",
      "Warning: importing 'simtk.openmm' is deprecated.  Import 'openmm' instead.\n"
     ]
    },
    {
     "name": "stdout",
     "output_type": "stream",
     "text": [
      "/home/anna/Documents/cinnabar/cinnabar/__init__.py\n"
     ]
    },
    {
     "name": "stderr",
     "output_type": "stream",
     "text": [
      "/home/anna/anaconda3/envs/biosimspace-dev/lib/python3.9/site-packages/Bio/pairwise2.py:278: BiopythonDeprecationWarning: Bio.pairwise2 has been deprecated, and we intend to remove it in a future release of Biopython. As an alternative, please consider using Bio.Align.PairwiseAligner as a replacement, and contact the Biopython developers if you still need the Bio.pairwise2 module.\n",
      "  warnings.warn(\n"
     ]
    }
   ],
   "source": [
    "# import libraries\n",
    "\n",
    "from scipy.stats import sem as sem\n",
    "import sys\n",
    "import glob\n",
    "\n",
    "if '/home/anna/Documents/cinnabar' not in sys.path:\n",
    "    sys.path.insert(1, '/home/anna/Documents/cinnabar')\n",
    "import cinnabar\n",
    "\n",
    "print(\"adding code to the pythonpath...\")\n",
    "code = '/home/anna/Documents/code/python'\n",
    "if code not in sys.path:\n",
    "    sys.path.insert(1, code)\n",
    "import pipeline\n",
    "\n",
    "print(cinnabar.__file__)\n",
    "\n",
    "from pipeline import *\n",
    "from pipeline.utils import validate\n",
    "from pipeline.analysis import *"
   ]
  },
  {
   "cell_type": "code",
   "execution_count": 48,
   "metadata": {},
   "outputs": [],
   "source": [
    "bench_folder = f\"/home/anna/Documents/benchmark\"\n",
    "protein = \"p38\"\n",
    "main_dir = f\"{bench_folder}/extracted/{protein}\"\n",
    "\n",
    "# choose location for the files\n",
    "net_file = f\"{main_dir}/execution_model/network_combined.dat\"\n",
    "ana_file = f\"{main_dir}/execution_model/analysis_protocol.dat\"\n",
    "exp_file = f\"{bench_folder}/inputs/experimental/{protein}.yml\"\n",
    "\n",
    "if os.path.exists(f\"{main_dir}/outputs_extracted/results\"):\n",
    "    results_folder = f\"{main_dir}/outputs_extracted/results\"\n",
    "elif os.path.exists(f\"{main_dir}/outputs/results\"):\n",
    "    results_folder = f\"{main_dir}/outputs/results\"\n",
    "else:\n",
    "    raise ValueError(f\"results directory not found in the {main_dir}. please make sure results were written using the analysis script previously in the pipeline\")\n",
    "\n",
    "output_folder = validate.folder_path(f\"{main_dir}/analysis\", create=True)\n"
   ]
  },
  {
   "cell_type": "code",
   "execution_count": 49,
   "metadata": {},
   "outputs": [
    {
     "name": "stdout",
     "output_type": "stream",
     "text": [
      "/home/anna/Documents/benchmark/extracted/p38/outputs_extracted/results/final_summary_AMBER_MBAR_alchemlyb_None_eqfalse_statsfalse_truncate0end.csv\n",
      "/home/anna/Documents/benchmark/extracted/p38/outputs_extracted/results/final_summary_SOMD_MBAR_alchemlyb_None_eqfalse_statsfalse_truncate0end.csv\n",
      "/home/anna/Documents/benchmark/extracted/p38/outputs_extracted/results/final_summary_GROMACS_MBAR_alchemlyb_None_eqfalse_statsfalse_truncate0end.csv\n",
      "no cinnabar calculation has been performed. Can only plot 'pert' values.\n",
      "'AMBER'\n",
      "could not convert val AMBER values for plotting. None will be used. Was cinnabar analysis carried out correctly?\n",
      "'GROMACS'\n",
      "could not convert val GROMACS values for plotting. None will be used. Was cinnabar analysis carried out correctly?\n",
      "'SOMD'\n",
      "could not convert val SOMD values for plotting. None will be used. Was cinnabar analysis carried out correctly?\n",
      "no cinnabar calculation has been performed. Can only plot 'pert' values.\n",
      "'AMBER'\n",
      "could not convert val AMBER values for plotting. None will be used. Was cinnabar analysis carried out correctly?\n",
      "'GROMACS'\n",
      "could not convert val GROMACS values for plotting. None will be used. Was cinnabar analysis carried out correctly?\n",
      "'SOMD'\n",
      "could not convert val SOMD values for plotting. None will be used. Was cinnabar analysis carried out correctly?\n"
     ]
    }
   ],
   "source": [
    "all_analysis_object = analysis_network(results_folder,\n",
    "                                       exp_file=exp_file,\n",
    "                                       net_file=net_file,\n",
    "                                       output_folder=output_folder,\n",
    "                                       analysis_ext=ana_file\n",
    "                                        )\n",
    "\n",
    "# can add any other results files\n",
    "# all_analysis_object.compute_other_results(file_name=None, name=None)\n",
    "all_analysis_object.compute(cycle_closure=False, use_cinnabar=False)"
   ]
  },
  {
   "cell_type": "code",
   "execution_count": 52,
   "metadata": {},
   "outputs": [],
   "source": [
    "all_analysis_object.calc_pert_dict[\"SOMD\"][\"lig_2b~lig_2l\"] = (np.nan, np.nan)"
   ]
  },
  {
   "cell_type": "code",
   "execution_count": 53,
   "metadata": {},
   "outputs": [
    {
     "name": "stdout",
     "output_type": "stream",
     "text": [
      "77 out of 88 have results, which is 87.5 %.\n",
      "['lig_2u~lig_2x', 'lig_2b~lig_2l', 'lig_2a~lig_2q', 'lig_2m~lig_2x', 'lig_2t~lig_2x', 'lig_2l~lig_2x', 'lig_2ff~lig_2hh', 'lig_2ff~lig_2m', 'lig_2h~lig_2m', 'lig_2ee~lig_2h', 'lig_2ff~lig_2n']\n",
      " \n"
     ]
    }
   ],
   "source": [
    "failed_perts = all_analysis_object.failed_runs(\"SOMD\")\n",
    "print(failed_perts)\n",
    "print(\" \")"
   ]
  },
  {
   "cell_type": "code",
   "execution_count": 54,
   "metadata": {},
   "outputs": [],
   "source": [
    "with open(\"/home/anna/Documents/benchmark/new_files/new_p38_network_somd_reruns.dat\", \"w\") as write_file:\n",
    "    with open(\"/home/anna/Documents/benchmark/new_files/new_p38_network_both.dat\", \"r\") as file:\n",
    "        for line in file.readlines():\n",
    "            pert = f\"{line.split(' ')[0]}~{line.split(' ')[1]}\"\n",
    "            eng = line.split(' ')[-1].upper().strip()\n",
    "\n",
    "            if pert in failed_perts:\n",
    "                if eng == \"SOMD\":\n",
    "                    write_file.write(line)\n",
    "        "
   ]
  },
  {
   "cell_type": "code",
   "execution_count": 56,
   "metadata": {},
   "outputs": [
    {
     "name": "stdout",
     "output_type": "stream",
     "text": [
      "lig_27 lig_59 16 0.0000,0.0667,0.1333,0.2000,0.2667,0.3333,0.4000,0.4667,0.5333,0.6000,0.6667,0.7333,0.8000,0.8667,0.9333,1.0000 SOMD\n",
      "lig_38 lig_48 16 0.0000,0.0667,0.1333,0.2000,0.2667,0.3333,0.4000,0.4667,0.5333,0.6000,0.6667,0.7333,0.8000,0.8667,0.9333,1.0000 SOMD\n",
      "lig_43 lig_45 16 0.0000,0.0667,0.1333,0.2000,0.2667,0.3333,0.4000,0.4667,0.5333,0.6000,0.6667,0.7333,0.8000,0.8667,0.9333,1.0000 SOMD\n",
      "lig_40 lig_42 16 0.0000,0.0667,0.1333,0.2000,0.2667,0.3333,0.4000,0.4667,0.5333,0.6000,0.6667,0.7333,0.8000,0.8667,0.9333,1.0000 SOMD\n",
      "lig_27 lig_40 16 0.0000,0.0667,0.1333,0.2000,0.2667,0.3333,0.4000,0.4667,0.5333,0.6000,0.6667,0.7333,0.8000,0.8667,0.9333,1.0000 SOMD\n",
      "lig_27 lig_42 16 0.0000,0.0667,0.1333,0.2000,0.2667,0.3333,0.4000,0.4667,0.5333,0.6000,0.6667,0.7333,0.8000,0.8667,0.9333,1.0000 SOMD\n",
      "lig_27 lig_43 16 0.0000,0.0667,0.1333,0.2000,0.2667,0.3333,0.4000,0.4667,0.5333,0.6000,0.6667,0.7333,0.8000,0.8667,0.9333,1.0000 SOMD\n",
      "lig_27 lig_45 16 0.0000,0.0667,0.1333,0.2000,0.2667,0.3333,0.4000,0.4667,0.5333,0.6000,0.6667,0.7333,0.8000,0.8667,0.9333,1.0000 SOMD\n",
      "lig_27 lig_47 16 0.0000,0.0667,0.1333,0.2000,0.2667,0.3333,0.4000,0.4667,0.5333,0.6000,0.6667,0.7333,0.8000,0.8667,0.9333,1.0000 SOMD\n",
      "lig_27 lig_46 16 0.0000,0.0667,0.1333,0.2000,0.2667,0.3333,0.4000,0.4667,0.5333,0.6000,0.6667,0.7333,0.8000,0.8667,0.9333,1.0000 SOMD\n",
      "lig_27 lig_48 16 0.0000,0.0667,0.1333,0.2000,0.2667,0.3333,0.4000,0.4667,0.5333,0.6000,0.6667,0.7333,0.8000,0.8667,0.9333,1.0000 SOMD\n"
     ]
    }
   ],
   "source": [
    "! cat /home/anna/Documents/benchmark/new_files/new_mcl1_network_somd_reruns.dat"
   ]
  },
  {
   "cell_type": "markdown",
   "metadata": {},
   "source": [
    "for eng in all_analysis_object.engines:\n",
    "    mae = all_analysis_object._stats_object.compute_mue(y=eng, pert_val='val')\n",
    "    stats_string = f\"MAE: {mae[0]:.2f} +/- {mae[1]:.2f} kcal/mol\"\n",
    "    all_analysis_object.plot_scatter_lig(engine=eng, **{\"title\":stats_string, \"key\":False, \"save\":f\"/home/anna/Desktop/{eng}\"})"
   ]
  },
  {
   "attachments": {},
   "cell_type": "markdown",
   "metadata": {},
   "source": [
    "There are different options for plotting:\n",
    "bar (pert or lig)\n",
    "scatter (pert or lig) - can be plotted using cinnabar\n",
    "eng vs eng\n",
    "other results (eg from other workflows)\n",
    "outliers\n",
    "histograms (for the error of the runs, sem, legs)"
   ]
  },
  {
   "cell_type": "code",
   "execution_count": null,
   "metadata": {},
   "outputs": [],
   "source": [
    "# bar\n",
    "all_analysis_object.plot_bar_lig()\n",
    "all_analysis_object.plot_bar_pert()\n",
    "\n",
    "#scatter\n",
    "all_analysis_object.plot_scatter_lig()\n",
    "all_analysis_object.plot_scatter_pert()\n",
    "all_analysis_object.plot_scatter_lig(use_cinnabar=True)\n",
    "all_analysis_object.plot_scatter_pert(use_cinnabar=True)\n",
    "for eng in all_analysis_object.engines:\n",
    "    all_analysis_object.plot_scatter_lig(engine=eng)\n",
    "    all_analysis_object.plot_scatter_pert(engine=eng)\n",
    "\n",
    "    # outliers\n",
    "    all_analysis_object.plot_outliers(engine=eng)\n",
    "    all_analysis_object.plot_outliers(engine=eng, pert_val=\"val\")\n",
    "\n",
    "all_analysis_object.plot_histogram_legs(free_bound=\"free\")\n",
    "all_analysis_object.plot_histogram_legs(free_bound=\"bound\")\n",
    "all_analysis_object.plot_histogram_runs()\n",
    "all_analysis_object.plot_histogram_sem()\n",
    "all_analysis_object.plot_histogram_sem(pert_val=\"pert\")"
   ]
  },
  {
   "attachments": {},
   "cell_type": "markdown",
   "metadata": {},
   "source": [
    "for additional analyses:\n",
    "calculate the mae\n",
    "fwf stuff"
   ]
  },
  {
   "cell_type": "code",
   "execution_count": null,
   "metadata": {},
   "outputs": [],
   "source": [
    "all_analysis_object.calc_mae(pert_val=\"pert\")\n",
    "# all_analysis_object.calc_mae(pert_val=\"val\")"
   ]
  },
  {
   "attachments": {},
   "cell_type": "markdown",
   "metadata": {},
   "source": [
    "plot other results"
   ]
  },
  {
   "cell_type": "code",
   "execution_count": null,
   "metadata": {},
   "outputs": [],
   "source": [
    "other_results = glob.glob(\"/home/anna/Documents/benchmark/inputs/other_computed/exscentia/*_exscentia_mcl1.csv\")\n",
    "all_analysis_object.compute_other_results(other_results, name=\"Exscientia\")\n",
    "all_analysis_object.plot_other_results(name=\"Exscientia\", engine=\"AMBER\", pert_val=\"pert\")"
   ]
  },
  {
   "attachments": {},
   "cell_type": "markdown",
   "metadata": {},
   "source": [
    "plot convergence"
   ]
  },
  {
   "cell_type": "code",
   "execution_count": null,
   "metadata": {},
   "outputs": [],
   "source": [
    "ex_outputs_folder = f\"{main_dir}/outputs_extracted\"\n",
    "\n",
    "converg_obj = plot_convergence(ex_outputs_folder,\n",
    "                               perturbations=all_analysis_object.perturbations,\n",
    "                               engines=all_analysis_object.engines,\n",
    "                               file_ext=file_ext\n",
    "                               )\n",
    "\n",
    "converg_obj.plot_convergence_all()"
   ]
  },
  {
   "attachments": {},
   "cell_type": "markdown",
   "metadata": {},
   "source": [
    "remove a perturbation"
   ]
  },
  {
   "cell_type": "code",
   "execution_count": null,
   "metadata": {},
   "outputs": [],
   "source": [
    "# check which perturbations are outliers\n",
    "all_analysis_object.plot_outliers(engine=\"GROMACS\", outliers=5, pert_val=\"pert\")\n",
    "# all_analysis_object._plotting_object.outlier(engines=\"AMBER\", outliers=5, name=\"Exscientia\")"
   ]
  },
  {
   "cell_type": "code",
   "execution_count": null,
   "metadata": {},
   "outputs": [],
   "source": [
    "# remove perturbation for all engines\n",
    "all_analysis_object.remove_perturbations(\"lig_c~lig_d\")"
   ]
  },
  {
   "attachments": {},
   "cell_type": "markdown",
   "metadata": {},
   "source": [
    "remove outliers"
   ]
  },
  {
   "cell_type": "code",
   "execution_count": null,
   "metadata": {},
   "outputs": [],
   "source": [
    "all_analysis_object.remove_outliers(threshold=10, verbose=True)"
   ]
  },
  {
   "attachments": {},
   "cell_type": "markdown",
   "metadata": {},
   "source": [
    "calculate only the experimental results for some of the perturbations"
   ]
  },
  {
   "cell_type": "code",
   "execution_count": null,
   "metadata": {},
   "outputs": [],
   "source": [
    "protein = \"mcl1\"\n",
    "\n",
    "bench_folder = f\"/home/anna/Documents/benchmark\"\n",
    "main_dir = f\"{bench_folder}/extracted/{protein}\"\n",
    "\n",
    "# choose location for the files\n",
    "# net_file = f\"{main_dir}/execution_model/network_lomap.dat\"\n",
    "ana_file = f\"{main_dir}/execution_model/analysis_protocol.dat\"\n",
    "# exp_file = f\"{bench_folder}/inputs/experimental/tyk2.yml\"\n",
    "exp_file = f\"/home/anna/Documents/benchmark/inputs/experimental/{protein}.yml\"\n",
    "\n",
    "output_folder = validate.folder_path(f\"{main_dir}/diff_methods_analysis\", create=True)\n",
    "results_folder = f\"{main_dir}/diff_methods_analysis/results\"\n",
    "\n",
    "all_analysis_object = analysis_network(\n",
    "                                       exp_file=exp_file\n",
    "                                        )\n",
    "\n",
    "all_analysis_object.perturbations = [\"lig_27~lig_59\",\"lig_27~lig_48\",\"lig_28~lig_47\",\"lig_35~lig_52\",\"lig_38~lig_48\",\"lig_43~lig_45\",\"lig_53~lig_56\",\"lig_30~lig_40\", \"lig_27~lig_48\"]\n",
    "all_analysis_object.ligands = get_ligands_from_perts(all_analysis_object.perturbations)\n",
    "all_analysis_object.get_experimental()\n",
    "all_analysis_object.get_experimental_pert()"
   ]
  },
  {
   "attachments": {},
   "cell_type": "markdown",
   "metadata": {},
   "source": [
    "plot only a small amount of perturbations to compare different methods"
   ]
  },
  {
   "cell_type": "code",
   "execution_count": null,
   "metadata": {},
   "outputs": [],
   "source": [
    "perturbations = [\"lig_30~lig_40\", \"lig_27~lig_48\"]"
   ]
  },
  {
   "cell_type": "code",
   "execution_count": null,
   "metadata": {},
   "outputs": [],
   "source": [
    "protein = \"mcl1\"\n",
    "\n",
    "bench_folder = f\"/home/anna/Documents/benchmark\"\n",
    "main_dir = f\"{bench_folder}/extracted/{protein}\"\n",
    "\n",
    "# choose location for the files\n",
    "# net_file = f\"{main_dir}/execution_model/network_lomap.dat\"\n",
    "ana_file = f\"{main_dir}/execution_model/analysis_protocol.dat\"\n",
    "# exp_file = f\"{bench_folder}/inputs/experimental/tyk2.yml\"\n",
    "exp_file = f\"/home/anna/Documents/benchmark/inputs/experimental/{protein}.yml\"\n",
    "\n",
    "output_folder = validate.folder_path(f\"{main_dir}/diff_methods_analysis\", create=True)\n",
    "results_folder = f\"{main_dir}/diff_methods_analysis/results\"\n",
    "\n",
    "all_analysis_object = analysis_network(results_folder,\n",
    "                                       exp_file=exp_file,\n",
    "                                       engines=\"AMBER\",\n",
    "                                    #    net_file=net_file,\n",
    "                                       output_folder=output_folder,\n",
    "                                       analysis_ext=ana_file\n",
    "                                        )\n",
    "\n",
    "# can add any other results files\n",
    "# all_analysis_object.compute_other_results(file_name=None, name=None)\n",
    "all_analysis_object.compute(cycle_closure=False, use_cinnabar=False)"
   ]
  },
  {
   "cell_type": "code",
   "execution_count": null,
   "metadata": {},
   "outputs": [],
   "source": [
    "other_names = [\"exscientia_inputs\",\"both\",\"Exscientia\"]\n",
    "\n",
    "for name in other_names:\n",
    "    all_analysis_object.compute_other_results(\n",
    "        sorted(glob.glob(f\"{results_folder}/other/*{name}*.csv\")),\n",
    "        name=name, use_cinnabar=False)\n",
    "\n",
    "all_analysis_object._plotting_object.set_colours({\"exscientia_inputs\":\"red\", \"both\":\"yellow\",\"Exscientia\":\"purple\"})"
   ]
  },
  {
   "cell_type": "code",
   "execution_count": null,
   "metadata": {},
   "outputs": [],
   "source": [
    "all_analysis_object._plotting_object.scatter(pert_val=\"pert\",engines=[\"exscientia_inputs\"], name=\"Exscientia\")"
   ]
  },
  {
   "attachments": {},
   "cell_type": "markdown",
   "metadata": {},
   "source": [
    "compare to the fwf analysis"
   ]
  },
  {
   "cell_type": "code",
   "execution_count": null,
   "metadata": {},
   "outputs": [],
   "source": [
    "# choose an engine\n",
    "eng = \"SOMD\"\n",
    "\n",
    "# first need to add the fwf path\n",
    "all_analysis_object._add_fwf_path('/home/anna/Documents/september_2022_workshops/freenrgworkflows/networkanalysis')\n",
    "\n",
    "# get the experimental dictionary\n",
    "exp_dicts = all_analysis_object._get_exp_fwf()\n",
    "for key in exp_dicts[0]:\n",
    "    print(f\"{key} : {exp_dicts[0][key][0]}, {exp_dicts[0][key][1]}\")\n",
    "\n",
    "# get the network analysis\n",
    "fwf_dict = all_analysis_object._get_ana_fwf(engine=eng)\n",
    "for key in fwf_dict:\n",
    "    print(f\"{key} : {fwf_dict[key][0]}, {fwf_dict[key][1]}\")\n",
    "\n",
    "# get fwf stats\n",
    "fwf_stats = all_analysis_object._get_stats_fwf(engine=eng)\n"
   ]
  },
  {
   "attachments": {},
   "cell_type": "markdown",
   "metadata": {},
   "source": [
    "plotting just fwf data per ligand"
   ]
  },
  {
   "cell_type": "code",
   "execution_count": null,
   "metadata": {},
   "outputs": [],
   "source": [
    "dict_y = fwf_dict\n",
    "dict_exp = exp_dicts[0]\n",
    "\n",
    "df1 = plotting_engines.match_dicts_to_df(dict_exp, dict_y, \"experimental\", \"fwf\")\n",
    "df1\n",
    "\n",
    "df1.plot.bar(y=[\"freenrg_fwf\",\"freenrg_experimental\"],\n",
    "            yerr=df1[[\"err_fwf\",\"err_experimental\"]].T.values,\n",
    "            title=f\"fwf, experimental, {eng}\",\n",
    "            xlabel=\"ligands\",\n",
    "            ylabel=\"dG (kcal/mol)\")\n",
    "\n",
    "df1.dropna()\n",
    "df1.plot.scatter(\n",
    "        x=\"freenrg_experimental\",y=\"freenrg_fwf\",\n",
    "        xerr=\"err_experimental\",\n",
    "        yerr=\"err_fwf\",\n",
    "        title=f\"fwf, {eng}\",\n",
    "        xlabel=\"experimental dG (kcal/mol)\",\n",
    "        ylabel=\"fwf dG (kcal/mol)\")\n",
    "\n",
    "# calculating using the cinnabar stats\n",
    "f_mae = all_analysis_object._stats_object._compute_stats(x=df1[\"freenrg_experimental\"],\n",
    "                                                 y=df1[\"freenrg_fwf\"],\n",
    "                                                 xerr=df1[\"err_experimental\"],\n",
    "                                                 yerr=df1[\"err_fwf\"],\n",
    "                                                 statistic=\"MUE\")\n",
    "print(f_mae)"
   ]
  },
  {
   "attachments": {},
   "cell_type": "markdown",
   "metadata": {},
   "source": [
    "checking cinnabar statistics"
   ]
  },
  {
   "cell_type": "code",
   "execution_count": null,
   "metadata": {},
   "outputs": [],
   "source": [
    "# default x is experimental\n",
    "all_analysis_object._stats_object.compute_mue(pert_val=\"val\", y=\"SOMD\")\n",
    "all_analysis_object._stats_object.compute_rmse(pert_val=\"val\", y=\"SOMD\")\n",
    "all_analysis_object._stats_object.compute_r2(pert_val=\"val\", y=\"SOMD\")\n",
    "all_analysis_object._stats_object.compute_rho(pert_val=\"val\", y=\"SOMD\")\n",
    "all_analysis_object._stats_object.compute_rae(pert_val=\"val\", y=\"SOMD\")\n",
    "all_analysis_object._stats_object.compute_ktau(pert_val=\"val\", y=\"SOMD\")"
   ]
  },
  {
   "cell_type": "code",
   "execution_count": null,
   "metadata": {},
   "outputs": [],
   "source": []
  }
 ],
 "metadata": {
  "kernelspec": {
   "display_name": "Python 3.9.13 ('biosimspace-dev': conda)",
   "language": "python",
   "name": "python3"
  },
  "language_info": {
   "codemirror_mode": {
    "name": "ipython",
    "version": 3
   },
   "file_extension": ".py",
   "mimetype": "text/x-python",
   "name": "python",
   "nbconvert_exporter": "python",
   "pygments_lexer": "ipython3",
   "version": "3.9.15"
  },
  "varInspector": {
   "cols": {
    "lenName": 16,
    "lenType": 16,
    "lenVar": 40
   },
   "kernels_config": {
    "python": {
     "delete_cmd_postfix": "",
     "delete_cmd_prefix": "del ",
     "library": "var_list.py",
     "varRefreshCmd": "print(var_dic_list())"
    },
    "r": {
     "delete_cmd_postfix": ") ",
     "delete_cmd_prefix": "rm(",
     "library": "var_list.r",
     "varRefreshCmd": "cat(var_dic_list()) "
    }
   },
   "types_to_exclude": [
    "module",
    "function",
    "builtin_function_or_method",
    "instance",
    "_Feature"
   ],
   "window_display": false
  },
  "vscode": {
   "interpreter": {
    "hash": "d79bb85316fa6c998e385cc39903e056bffeb3f6098416e9c269ddd32175e919"
   }
  }
 },
 "nbformat": 4,
 "nbformat_minor": 2
}
