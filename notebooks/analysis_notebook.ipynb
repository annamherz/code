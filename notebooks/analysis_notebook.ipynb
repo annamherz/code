{
 "cells": [
  {
   "cell_type": "markdown",
   "metadata": {},
   "source": [
    "# <span style=\"color:teal\">RBFE Network - Analysis</span>\n"
   ]
  },
  {
   "cell_type": "code",
   "execution_count": 1,
   "metadata": {},
   "outputs": [
    {
     "name": "stderr",
     "output_type": "stream",
     "text": [
      "Warning: importing 'simtk.openmm' is deprecated.  Import 'openmm' instead.\n"
     ]
    },
    {
     "name": "stdout",
     "output_type": "stream",
     "text": [
      "\n",
      "==============================================================\n",
      "Sending anonymous Sire usage statistics to http://siremol.org.\n",
      "For more information, see http://siremol.org/analytics\n",
      "To disable, set the environment variable 'SIRE_DONT_PHONEHOME' to 1\n",
      "To see the information sent, set the environment variable \n",
      "SIRE_VERBOSE_PHONEHOME equal to 1. To silence this message, set\n",
      "the environment variable SIRE_SILENT_PHONEHOME to 1.\n",
      "==============================================================\n",
      "\n",
      "/home/anna/Documents/cinnabar/cinnabar/__init__.py\n",
      "/home/anna/Documents/code/python/pipeline/__init__.py\n"
     ]
    },
    {
     "name": "stderr",
     "output_type": "stream",
     "text": [
      "/home/anna/anaconda3/envs/biosimspace-dev/lib/python3.9/site-packages/Bio/pairwise2.py:278: BiopythonDeprecationWarning: Bio.pairwise2 has been deprecated, and we intend to remove it in a future release of Biopython. As an alternative, please consider using Bio.Align.PairwiseAligner as a replacement, and contact the Biopython developers if you still need the Bio.pairwise2 module.\n",
      "  warnings.warn(\n",
      "/home/anna/Documents/code/python/pipeline/analysis/_plotting.py:422: DeprecationWarning: invalid escape sequence \\D\n",
      "  plt.ylabel(\"$\\Delta\\Delta$G$_{bind}$ / kcal$\\cdot$mol$^{-1}$\")\n",
      "/home/anna/Documents/code/python/pipeline/analysis/_plotting.py:425: DeprecationWarning: invalid escape sequence \\D\n",
      "  plt.ylabel(\"$\\Delta$G$_{bind}$ / kcal$\\cdot$mol$^{-1}$\")\n",
      "/home/anna/Documents/code/python/pipeline/analysis/_plotting.py:579: DeprecationWarning: invalid escape sequence \\D\n",
      "  plt.ylabel(\"Computed $\\Delta\\Delta$G$_{bind}$ / kcal$\\cdot$mol$^{-1}$\")\n",
      "/home/anna/Documents/code/python/pipeline/analysis/_plotting.py:581: DeprecationWarning: invalid escape sequence \\D\n",
      "  plt.ylabel(\"Computed $\\Delta$G$_{bind}$ / kcal$\\cdot$mol$^{-1}$\")\n",
      "/home/anna/Documents/code/python/pipeline/analysis/_plotting.py:588: DeprecationWarning: invalid escape sequence \\D\n",
      "  plt.xlabel(f\"{name} \" + \"$\\Delta\\Delta$G$_{bind}$ / kcal$\\cdot$mol$^{-1}$\")\n",
      "/home/anna/Documents/code/python/pipeline/analysis/_plotting.py:590: DeprecationWarning: invalid escape sequence \\D\n",
      "  plt.xlabel(\"Experimental $\\Delta\\Delta$G$_{bind}$ / kcal$\\cdot$mol$^{-1}$\")\n",
      "/home/anna/Documents/code/python/pipeline/analysis/_plotting.py:593: DeprecationWarning: invalid escape sequence \\D\n",
      "  plt.xlabel(f\"{name} \" + \"$\\Delta$G$_{bind}$ / kcal$\\cdot$mol$^{-1}$\")\n",
      "/home/anna/Documents/code/python/pipeline/analysis/_plotting.py:595: DeprecationWarning: invalid escape sequence \\D\n",
      "  plt.xlabel(\"Experimental $\\Delta$G$_{bind}$ / kcal$\\cdot$mol$^{-1}$\")\n",
      "/home/anna/Documents/code/python/pipeline/analysis/_plotting.py:727: DeprecationWarning: invalid escape sequence \\D\n",
      "  plt.ylabel(\"$\\Delta\\Delta$G$_{bind}$ / kcal$\\cdot$mol$^{-1}$\")\n",
      "/home/anna/Documents/code/python/pipeline/analysis/_plotting.py:729: DeprecationWarning: invalid escape sequence \\D\n",
      "  plt.xlabel(f\"{name} \" + \"$\\Delta\\Delta$G$_{bind}$ / kcal$\\cdot$mol$^{-1}$\")\n",
      "/home/anna/Documents/code/python/pipeline/analysis/_plotting.py:731: DeprecationWarning: invalid escape sequence \\D\n",
      "  plt.xlabel(\"Experimental $\\Delta\\Delta$G$_{bind}$ / kcal$\\cdot$mol$^{-1}$\")\n",
      "/home/anna/Documents/code/python/pipeline/analysis/_plotting.py:733: DeprecationWarning: invalid escape sequence \\D\n",
      "  plt.ylabel(\"$\\Delta$G$_{bind}$ / kcal$\\cdot$mol$^{-1}$\")\n",
      "/home/anna/Documents/code/python/pipeline/analysis/_plotting.py:735: DeprecationWarning: invalid escape sequence \\D\n",
      "  plt.xlabel(f\"{name} \" + \"$\\Delta$G$_{bind}$ / kcal$\\cdot$mol$^{-1}$\")\n",
      "/home/anna/Documents/code/python/pipeline/analysis/_plotting.py:737: DeprecationWarning: invalid escape sequence \\D\n",
      "  plt.xlabel(\"Experimental $\\Delta$G$_{bind}$ / kcal$\\cdot$mol$^{-1}$\")\n",
      "/home/anna/Documents/code/python/pipeline/analysis/_results.py:509: DeprecationWarning: invalid escape sequence \\D\n",
      "  binding = \"$\\Delta\\Delta$G$_{bind}$ / kcal$\\cdot$mol$^{-1}$\"\n",
      "/home/anna/Documents/code/python/pipeline/analysis/_results.py:511: DeprecationWarning: invalid escape sequence \\D\n",
      "  binding = \"$\\Delta$G$_{bind}$ / kcal$\\cdot$mol$^{-1}$\"\n",
      "/home/anna/Documents/code/python/pipeline/analysis/_results.py:509: DeprecationWarning: invalid escape sequence \\D\n",
      "  binding = \"$\\Delta\\Delta$G$_{bind}$ / kcal$\\cdot$mol$^{-1}$\"\n",
      "/home/anna/Documents/code/python/pipeline/analysis/_results.py:511: DeprecationWarning: invalid escape sequence \\D\n",
      "  binding = \"$\\Delta$G$_{bind}$ / kcal$\\cdot$mol$^{-1}$\"\n"
     ]
    }
   ],
   "source": [
    "# import libraries\n",
    "import BioSimSpace as BSS\n",
    "from scipy.stats import sem as sem\n",
    "import sys\n",
    "import os\n",
    "\n",
    "if '/home/anna/Documents/cinnabar' not in sys.path:\n",
    "    sys.path.insert(1, '/home/anna/Documents/cinnabar')\n",
    "import cinnabar\n",
    "\n",
    "print(cinnabar.__file__)\n",
    "\n",
    "if '/home/anna/Documents/code/python' not in sys.path:\n",
    "    sys.path.insert(1, '/home/anna/Documents/code/python')\n",
    "import pipeline\n",
    "\n",
    "print(pipeline.__file__)\n",
    "\n",
    "from pipeline import *\n",
    "from pipeline.utils import validate\n",
    "from pipeline.analysis import *"
   ]
  },
  {
   "cell_type": "code",
   "execution_count": 2,
   "metadata": {},
   "outputs": [],
   "source": [
    "protein = \"tyk2\"\n",
    "\n",
    "bench_folder = f\"/home/anna/Documents/benchmark\"\n",
    "main_dir = f\"{bench_folder}/extracted/{protein}\"\n",
    "\n",
    "# choose location for the files\n",
    "net_file = f\"{main_dir}/execution_model/network_lomap.dat\"\n",
    "ana_file = f\"{main_dir}/execution_model/analysis_protocol.dat\"\n",
    "# exp_file = f\"{bench_folder}/inputs/experimental/tyk2.yml\"\n",
    "exp_file = f\"/home/anna/Documents/benchmark/inputs/experimental/{protein}.yml\"\n",
    "\n",
    "if os.path.exists(f\"{main_dir}/outputs_extracted/results\"):\n",
    "    results_folder = f\"{main_dir}/outputs_extracted/results\"\n",
    "elif os.path.exists(f\"{main_dir}/outputs/results\"):\n",
    "    results_folder = f\"{main_dir}/outputs/results\"\n",
    "else:\n",
    "    raise ValueError(f\"results directory not found in the {main_dir}. please make sure results were written using the analysis script previously in the pipeline\")\n",
    "\n",
    "output_folder = validate.folder_path(f\"{main_dir}/analysis\", create=True)\n"
   ]
  },
  {
   "cell_type": "code",
   "execution_count": 3,
   "metadata": {},
   "outputs": [
    {
     "name": "stdout",
     "output_type": "stream",
     "text": [
      "could not convert analysis object lig_ejm31~lig_ejm48, GROMACS, pert, into dataframe for AMBER. Was it able to be computed earlier?\n",
      "could not convert analysis object lig_jmc27~lig_jmc28, GROMACS, pert, into dataframe for AMBER. Was it able to be computed earlier?\n",
      "could not convert analysis object lig_ejm46~lig_jmc28, GROMACS, pert, into dataframe for AMBER. Was it able to be computed earlier?\n",
      "could not convert analysis object lig_ejm31~lig_ejm48, SOMD, pert, into dataframe for AMBER. Was it able to be computed earlier?\n",
      "could not convert analysis object lig_ejm31~lig_ejm45, SOMD, pert, into dataframe for AMBER. Was it able to be computed earlier?\n",
      "could not convert analysis object lig_jmc27~lig_jmc28, SOMD, pert, into dataframe for AMBER. Was it able to be computed earlier?\n",
      "could not convert analysis object lig_ejm46~lig_jmc28, SOMD, pert, into dataframe for AMBER. Was it able to be computed earlier?\n",
      "could not convert analysis object lig_ejm31~lig_ejm48, experimental, pert, into dataframe for AMBER. Was it able to be computed earlier?\n",
      "could not convert analysis object lig_ejm31~lig_ejm45, experimental, pert, into dataframe for AMBER. Was it able to be computed earlier?\n",
      "could not convert analysis object lig_ejm46~lig_jmc28, experimental, pert, into dataframe for AMBER. Was it able to be computed earlier?\n",
      "could not convert analysis object lig_jmc27~lig_jmc28, experimental, pert, into dataframe for AMBER. Was it able to be computed earlier?\n",
      "could not convert analysis object lig_ejm44~lig_ejm45, AMBER, pert, into dataframe for GROMACS. Was it able to be computed earlier?\n",
      "could not convert analysis object lig_ejm45, AMBER, val, into dataframe for GROMACS. Was it able to be computed earlier?\n",
      "could not convert analysis object lig_ejm31~lig_ejm45, SOMD, pert, into dataframe for GROMACS. Was it able to be computed earlier?\n",
      "could not convert analysis object lig_ejm44~lig_ejm45, SOMD, pert, into dataframe for GROMACS. Was it able to be computed earlier?\n",
      "could not convert analysis object lig_ejm45, SOMD, val, into dataframe for GROMACS. Was it able to be computed earlier?\n",
      "could not convert analysis object lig_ejm44~lig_ejm45, experimental, pert, into dataframe for GROMACS. Was it able to be computed earlier?\n",
      "could not convert analysis object lig_ejm31~lig_ejm45, experimental, pert, into dataframe for GROMACS. Was it able to be computed earlier?\n",
      "could not convert analysis object lig_ejm45, experimental, val, into dataframe for GROMACS. Was it able to be computed earlier?\n",
      "could not convert analysis object lig_ejm31~lig_ejm48, GROMACS, pert, into dataframe for AMBER. Was it able to be computed earlier?\n",
      "could not convert analysis object lig_jmc27~lig_jmc28, GROMACS, pert, into dataframe for AMBER. Was it able to be computed earlier?\n",
      "could not convert analysis object lig_ejm46~lig_jmc28, GROMACS, pert, into dataframe for AMBER. Was it able to be computed earlier?\n",
      "could not convert analysis object lig_ejm31~lig_ejm48, SOMD, pert, into dataframe for AMBER. Was it able to be computed earlier?\n",
      "could not convert analysis object lig_ejm31~lig_ejm45, SOMD, pert, into dataframe for AMBER. Was it able to be computed earlier?\n",
      "could not convert analysis object lig_jmc27~lig_jmc28, SOMD, pert, into dataframe for AMBER. Was it able to be computed earlier?\n",
      "could not convert analysis object lig_ejm46~lig_jmc28, SOMD, pert, into dataframe for AMBER. Was it able to be computed earlier?\n",
      "could not convert analysis object lig_ejm31~lig_ejm48, experimental, pert, into dataframe for AMBER. Was it able to be computed earlier?\n",
      "could not convert analysis object lig_ejm31~lig_ejm45, experimental, pert, into dataframe for AMBER. Was it able to be computed earlier?\n",
      "could not convert analysis object lig_ejm46~lig_jmc28, experimental, pert, into dataframe for AMBER. Was it able to be computed earlier?\n",
      "could not convert analysis object lig_jmc27~lig_jmc28, experimental, pert, into dataframe for AMBER. Was it able to be computed earlier?\n",
      "could not convert analysis object lig_ejm44~lig_ejm45, AMBER, pert, into dataframe for GROMACS. Was it able to be computed earlier?\n",
      "could not convert analysis object lig_ejm45, AMBER, val, into dataframe for GROMACS. Was it able to be computed earlier?\n",
      "could not convert analysis object lig_ejm31~lig_ejm45, SOMD, pert, into dataframe for GROMACS. Was it able to be computed earlier?\n",
      "could not convert analysis object lig_ejm44~lig_ejm45, SOMD, pert, into dataframe for GROMACS. Was it able to be computed earlier?\n",
      "could not convert analysis object lig_ejm45, SOMD, val, into dataframe for GROMACS. Was it able to be computed earlier?\n",
      "could not convert analysis object lig_ejm44~lig_ejm45, experimental, pert, into dataframe for GROMACS. Was it able to be computed earlier?\n",
      "could not convert analysis object lig_ejm31~lig_ejm45, experimental, pert, into dataframe for GROMACS. Was it able to be computed earlier?\n",
      "could not convert analysis object lig_ejm45, experimental, val, into dataframe for GROMACS. Was it able to be computed earlier?\n"
     ]
    }
   ],
   "source": [
    "all_analysis_object = analysis_network(results_folder,\n",
    "                                       exp_file=exp_file,\n",
    "                                       net_file=net_file,\n",
    "                                       output_folder=output_folder,\n",
    "                                       analysis_ext=ana_file\n",
    "                                        )\n",
    "\n",
    "# can add any other results files\n",
    "# all_analysis_object.compute_other_results(file_name=None, name=None)\n",
    "all_analysis_object.compute(cycle_closure=False)"
   ]
  },
  {
   "attachments": {},
   "cell_type": "markdown",
   "metadata": {},
   "source": [
    "There are different options for plotting:\n",
    "bar (pert or lig)\n",
    "scatter (pert or lig) - can be plotted using cinnabar\n",
    "eng vs eng\n",
    "other results (eg from other workflows)\n",
    "outliers\n",
    "histograms (for the error of the runs, sem, legs)"
   ]
  },
  {
   "cell_type": "code",
   "execution_count": null,
   "metadata": {},
   "outputs": [],
   "source": [
    "# bar\n",
    "all_analysis_object.plot_bar_lig()\n",
    "all_analysis_object.plot_bar_pert()\n",
    "\n",
    "#scatter\n",
    "all_analysis_object.plot_scatter_lig()\n",
    "all_analysis_object.plot_scatter_pert()\n",
    "all_analysis_object.plot_scatter_lig(use_cinnabar=True)\n",
    "all_analysis_object.plot_scatter_pert(use_cinnabar=True)\n",
    "for eng in all_analysis_object.engines:\n",
    "    all_analysis_object.plot_scatter_lig(engine=eng)\n",
    "    all_analysis_object.plot_scatter_pert(engine=eng)\n",
    "\n",
    "    # outliers\n",
    "    all_analysis_object.plot_outliers(engine=eng)\n",
    "    all_analysis_object.plot_outliers(engine=eng, pert_val=\"val\")\n",
    "\n",
    "all_analysis_object.plot_histogram_legs(free_bound=\"free\")\n",
    "all_analysis_object.plot_histogram_legs(free_bound=\"bound\")\n",
    "all_analysis_object.plot_histogram_runs()\n",
    "all_analysis_object.plot_histogram_sem()\n",
    "all_analysis_object.plot_histogram_sem(pert_val=\"pert\")"
   ]
  },
  {
   "attachments": {},
   "cell_type": "markdown",
   "metadata": {},
   "source": [
    "plot other results"
   ]
  },
  {
   "cell_type": "code",
   "execution_count": null,
   "metadata": {},
   "outputs": [],
   "source": [
    "# write other results into a readable file format\n",
    "\n",
    "other_results = sorted(glob.glob(f\"{bench_folder}/inputs/other_computed/raw/*\"))\n",
    "for file in other_results:\n",
    "    new_file = f\"{file.replace(file.split('/')[-1], '')[:-1].replace('/raw','')}/{other_results.index(file)}_mcl1.csv\"\n",
    "    \n",
    "    with open(new_file, \"w\") as write_file:\n",
    "        writer = csv.writer(write_file, delimiter=\",\")\n",
    "\n",
    "        writer.writerow([\"lig_0\", \"lig_1\", \"freenrg\",\n",
    "                        \"error\", \"engine\", \"analysis\", \"method\"])\n",
    "    \n",
    "        with open(file, \"r\") as read_file:\n",
    "            for line in read_file:\n",
    "                if \"Calculated\" in line:\n",
    "                    pass\n",
    "                else:\n",
    "                    lig_0 = line.split(',')[0].replace('protein_','')\n",
    "                    lig_1 = line.split(',')[1].replace('protein_','')\n",
    "                    freenrg = line.split(',')[2]\n",
    "                    error = line.split(',')[3]\n",
    "\n",
    "                writer.writerow([lig_0, lig_1, freenrg, error, \"MBAR\",\"other\"])\n"
   ]
  },
  {
   "cell_type": "code",
   "execution_count": null,
   "metadata": {},
   "outputs": [],
   "source": [
    "name = \"shrodinger\"\n",
    "all_analysis_object.compute_other_results(sorted(glob.glob(f\"{bench_folder}/inputs/other_computed/kuhn_2020/{protein}/*{name}.csv\")), name=name)\n"
   ]
  },
  {
   "cell_type": "code",
   "execution_count": null,
   "metadata": {},
   "outputs": [],
   "source": [
    "all_analysis_object._stats_object.compute_mue(pert_val=\"pert\", y=name)"
   ]
  },
  {
   "cell_type": "code",
   "execution_count": null,
   "metadata": {},
   "outputs": [],
   "source": [
    "all_analysis_object.plot_other_results(name=name, pert_val=\"pert\")"
   ]
  },
  {
   "cell_type": "code",
   "execution_count": null,
   "metadata": {},
   "outputs": [],
   "source": [
    "shared = []\n",
    "\n",
    "for key in all_analysis_object.cinnabar_calc_pert_dict[\"AMBER\"].keys():\n",
    "    if key in all_analysis_object.cinnabar_calc_pert_dict[\"other\"].keys():\n",
    "        shared.append(key)\n",
    "\n",
    "print(len(shared))\n",
    "shared"
   ]
  },
  {
   "attachments": {},
   "cell_type": "markdown",
   "metadata": {},
   "source": [
    "plot just one engine to check"
   ]
  },
  {
   "cell_type": "code",
   "execution_count": null,
   "metadata": {},
   "outputs": [],
   "source": [
    "all_analysis_object.plot_scatter_lig(engine=\"AMBER\", use_cinnabar=True)\n",
    "all_analysis_object.plot_scatter_pert(engine=\"AMBER\", use_cinnabar=True)"
   ]
  },
  {
   "attachments": {},
   "cell_type": "markdown",
   "metadata": {},
   "source": [
    "plot engine vs engine"
   ]
  },
  {
   "cell_type": "code",
   "execution_count": null,
   "metadata": {},
   "outputs": [],
   "source": [
    "all_analysis_object.plot_eng_vs_eng(\"SOMD\",\"AMBER\")"
   ]
  },
  {
   "attachments": {},
   "cell_type": "markdown",
   "metadata": {},
   "source": [
    "plot convergence"
   ]
  },
  {
   "cell_type": "code",
   "execution_count": null,
   "metadata": {},
   "outputs": [],
   "source": [
    "ex_outputs_folder = f\"{main_dir}/outputs_extracted\"\n",
    "\n",
    "converg_obj = plot_convergence(ex_outputs_folder,\n",
    "                               perturbations=all_analysis_object.perturbations,\n",
    "                               engines=all_analysis_object.engines,\n",
    "                               file_ext=ana_file\n",
    "                               )\n",
    "\n",
    "converg_obj.plot_convergence_all()"
   ]
  },
  {
   "attachments": {},
   "cell_type": "markdown",
   "metadata": {},
   "source": [
    "remove a perturbation"
   ]
  },
  {
   "cell_type": "code",
   "execution_count": null,
   "metadata": {},
   "outputs": [],
   "source": [
    "eng = \"AMBER\"\n",
    "perturbations = [\"lig_30~lig_40\", \"lig_27~lig_48\"]\n",
    "# ['lig_ejm42~lig_ejm44', 'lig_ejm42~lig_ejm49', 'lig_ejm42~lig_ejm45']\n",
    "# ['lig_ejm42~lig_ejm49', 'lig_ejm45~lig_ejm55', 'lig_ejm43~lig_ejm50'] #gromacs\n",
    "# ['lig_ejm45~lig_ejm53', 'lig_ejm44~lig_ejm45', 'lig_ejm31~lig_ejm49'] #somd\n",
    "\n",
    "for pert in perturbations:\n",
    "    try:\n",
    "        all_analysis_object.remove_perturbations(pert)\n",
    "    except:\n",
    "        pass\n",
    "    \n",
    "print(all_analysis_object.perturbations)\n",
    "all_analysis_object.compute()\n",
    "\n",
    "\n",
    "# plot scatter plots\n",
    "# all_analysis_object.plot_scatter_lig(engine=eng, use_cinnabar=True)\n",
    "# all_analysis_object.plot_scatter_pert(engine=\"AMBER\")\n",
    "# all_analysis_object.plot_outliers(engine=eng, outliers=3, pert_val=\"pert\")"
   ]
  },
  {
   "attachments": {},
   "cell_type": "markdown",
   "metadata": {},
   "source": [
    "statistical analysis vs exp, other results, each engine to the other etc"
   ]
  },
  {
   "cell_type": "code",
   "execution_count": null,
   "metadata": {},
   "outputs": [],
   "source": [
    "all_analysis_object.calc_mae(pert_val=\"pert\", engines=[\"GROMACS\",\"AMBER\"])\n",
    "# all_analysis_object.calc_mae(pert_val=\"val\")"
   ]
  },
  {
   "cell_type": "code",
   "execution_count": null,
   "metadata": {},
   "outputs": [],
   "source": []
  },
  {
   "attachments": {},
   "cell_type": "markdown",
   "metadata": {},
   "source": [
    "Freenergworkflows analysis"
   ]
  },
  {
   "cell_type": "code",
   "execution_count": 7,
   "metadata": {},
   "outputs": [
    {
     "data": {
      "text/plain": [
       "({'lig_ejm31': (0.09554456211087381, 0.029),\n",
       "  'lig_ejm42': (-0.14617801546097248, 0.019),\n",
       "  'lig_ejm43': (1.3886502840592203, 0.25),\n",
       "  'lig_ejm44': (2.239441725990767, 1.0),\n",
       "  'lig_ejm45': (0.08299333578780074, 0.028),\n",
       "  'lig_ejm46': (-1.6903948748417696, 0.0014),\n",
       "  'lig_ejm47': (-0.05962612989820451, 0.022),\n",
       "  'lig_ejm48': (0.6418015718625703, 0.072),\n",
       "  'lig_ejm49': (1.9058204895277662, 0.6),\n",
       "  'lig_ejm50': (0.6661380623268188, 0.075),\n",
       "  'lig_ejm53': (1.7343155913659634, 0.45),\n",
       "  'lig_ejm54': (-0.9024152875182272, 0.0054),\n",
       "  'lig_ejm55': (0.43622104340109474, 0.051),\n",
       "  'lig_jmc23': (-2.0792858601111703, 0.00075),\n",
       "  'lig_jmc27': (-1.6542528257313989, 0.0015),\n",
       "  'lig_jmc28': (-1.3497183935515489, 0.0026),\n",
       "  'lig_jmc30': (-1.3090552793195833, 0.0027)},\n",
       " {'lig_ejm42~lig_ejm49': (2.0519985049887386, 0.6003007579538776),\n",
       "  'lig_ejm31~lig_ejm49': (1.8102759274168925, 0.6007004245045945),\n",
       "  'lig_ejm31~lig_ejm48': (0.5462570097516964, 0.07762087348130012),\n",
       "  'lig_ejm31~lig_ejm53': (1.6387710292550897, 0.45093347624677416),\n",
       "  'lig_ejm42~lig_ejm47': (0.08655188556276797, 0.029068883707497266),\n",
       "  'lig_ejm31~lig_ejm47': (-0.15517069200907832, 0.03640054944640259),\n",
       "  'lig_ejm31~lig_jmc23': (-2.174830422222044, 0.02900969665473943),\n",
       "  'lig_ejm31~lig_ejm46': (-1.7859394369526433, 0.029033773437154187),\n",
       "  'lig_ejm44~lig_ejm45': (-2.156448390202966, 1.0003919231981033),\n",
       "  'lig_ejm31~lig_ejm45': (-0.012551226323073067, 0.04031128874149275),\n",
       "  'lig_jmc28~lig_jmc30': (0.04066311423196556, 0.003748332962798262),\n",
       "  'lig_ejm46~lig_jmc30': (0.3813395955221863, 0.0030413812651491103),\n",
       "  'lig_ejm42~lig_ejm54': (-0.7562372720572548, 0.01975246820020222),\n",
       "  'lig_ejm54~lig_ejm55': (1.3386363309193219, 0.051285085551259435),\n",
       "  'lig_ejm31~lig_ejm50': (0.570593500215945, 0.08041144197189849),\n",
       "  'lig_ejm42~lig_ejm43': (1.5348282995201927, 0.2507209604321107),\n",
       "  'lig_ejm43~lig_ejm44': (0.8507914419315465, 1.0307764064044151),\n",
       "  'lig_ejm46~lig_jmc28': (0.34067648129022077, 0.00295296461204668),\n",
       "  'lig_ejm42~lig_ejm50': (0.8123160777877914, 0.0773692445355388),\n",
       "  'lig_ejm42~lig_ejm55': (0.5823990588620672, 0.054424259296751105),\n",
       "  'lig_ejm48~lig_ejm53': (1.092514019503393, 0.45572360044219784),\n",
       "  'lig_jmc23~lig_jmc27': (0.42503303437977147, 0.0016770509831248424),\n",
       "  'lig_jmc23~lig_jmc28': (0.7295674665596215, 0.0027060118255469614),\n",
       "  'lig_jmc27~lig_jmc28': (0.30453443217985, 0.003001666203960727)})"
      ]
     },
     "execution_count": 7,
     "metadata": {},
     "output_type": "execute_result"
    }
   ],
   "source": [
    "all_analysis_object._get_exp_fwf(fwf_path=\"/home/anna/Documents/september_2022_workshops/freenrgworkflows/networkanalysis\")\n"
   ]
  },
  {
   "cell_type": "code",
   "execution_count": 9,
   "metadata": {},
   "outputs": [
    {
     "ename": "KeyError",
     "evalue": "'lig_2'",
     "output_type": "error",
     "traceback": [
      "\u001b[0;31m---------------------------------------------------------------------------\u001b[0m",
      "\u001b[0;31mKeyError\u001b[0m                                  Traceback (most recent call last)",
      "File \u001b[0;32m~/anaconda3/envs/biosimspace-dev/lib/python3.9/site-packages/pandas/core/indexes/base.py:3803\u001b[0m, in \u001b[0;36mIndex.get_loc\u001b[0;34m(self, key, method, tolerance)\u001b[0m\n\u001b[1;32m   3802\u001b[0m \u001b[39mtry\u001b[39;00m:\n\u001b[0;32m-> 3803\u001b[0m     \u001b[39mreturn\u001b[39;00m \u001b[39mself\u001b[39;49m\u001b[39m.\u001b[39;49m_engine\u001b[39m.\u001b[39;49mget_loc(casted_key)\n\u001b[1;32m   3804\u001b[0m \u001b[39mexcept\u001b[39;00m \u001b[39mKeyError\u001b[39;00m \u001b[39mas\u001b[39;00m err:\n",
      "File \u001b[0;32m~/anaconda3/envs/biosimspace-dev/lib/python3.9/site-packages/pandas/_libs/index.pyx:138\u001b[0m, in \u001b[0;36mpandas._libs.index.IndexEngine.get_loc\u001b[0;34m()\u001b[0m\n",
      "File \u001b[0;32m~/anaconda3/envs/biosimspace-dev/lib/python3.9/site-packages/pandas/_libs/index.pyx:165\u001b[0m, in \u001b[0;36mpandas._libs.index.IndexEngine.get_loc\u001b[0;34m()\u001b[0m\n",
      "File \u001b[0;32mpandas/_libs/hashtable_class_helper.pxi:5745\u001b[0m, in \u001b[0;36mpandas._libs.hashtable.PyObjectHashTable.get_item\u001b[0;34m()\u001b[0m\n",
      "File \u001b[0;32mpandas/_libs/hashtable_class_helper.pxi:5753\u001b[0m, in \u001b[0;36mpandas._libs.hashtable.PyObjectHashTable.get_item\u001b[0;34m()\u001b[0m\n",
      "\u001b[0;31mKeyError\u001b[0m: 'lig_2'",
      "\nThe above exception was the direct cause of the following exception:\n",
      "\u001b[0;31mKeyError\u001b[0m                                  Traceback (most recent call last)",
      "Cell \u001b[0;32mIn[9], line 1\u001b[0m\n\u001b[0;32m----> 1\u001b[0m all_analysis_object\u001b[39m.\u001b[39;49m_get_ana_fwf(fwf_path\u001b[39m=\u001b[39;49m\u001b[39m\"\u001b[39;49m\u001b[39m/home/anna/Documents/september_2022_workshops/freenrgworkflows/networkanalysis\u001b[39;49m\u001b[39m\"\u001b[39;49m, engine\u001b[39m=\u001b[39;49m\u001b[39m\"\u001b[39;49m\u001b[39mAMBER\u001b[39;49m\u001b[39m\"\u001b[39;49m)\n\u001b[1;32m      2\u001b[0m \u001b[39m# all_analysis_object._get_stats_fwf(fwf_path=\"/home/anna/Documents/september_2022_workshops/freenrgworkflows/networkanalysis\", engine=\"AMBER\")\u001b[39;00m\n",
      "File \u001b[0;32m~/Documents/code/python/pipeline/analysis/_results.py:684\u001b[0m, in \u001b[0;36manalysis_network._get_ana_fwf\u001b[0;34m(self, fwf_path, engine)\u001b[0m\n\u001b[1;32m    682\u001b[0m \u001b[39mfor\u001b[39;00m file_name \u001b[39min\u001b[39;00m \u001b[39mself\u001b[39m\u001b[39m.\u001b[39m_results_repeat_files[engine]:\n\u001b[1;32m    683\u001b[0m     \u001b[39mif\u001b[39;00m first_file \u001b[39mis\u001b[39;00m \u001b[39mFalse\u001b[39;00m:\n\u001b[0;32m--> 684\u001b[0m         nA\u001b[39m.\u001b[39;49mread_perturbations_pandas(file_name, comments\u001b[39m=\u001b[39;49m\u001b[39m'\u001b[39;49m\u001b[39m#\u001b[39;49m\u001b[39m'\u001b[39;49m)\n\u001b[1;32m    685\u001b[0m         first_file \u001b[39m=\u001b[39m \u001b[39mTrue\u001b[39;00m\n\u001b[1;32m    686\u001b[0m     \u001b[39melse\u001b[39;00m:\n\u001b[1;32m    687\u001b[0m         \u001b[39m# add more replicates to the graph. FreeNrgWorkflows will take care of averaging \u001b[39;00m\n\u001b[1;32m    688\u001b[0m         \u001b[39m# the free energies as well as propagating the error.\u001b[39;00m\n",
      "File \u001b[0;32m~/Documents/september_2022_workshops/freenrgworkflows/networkanalysis/networkanalysis.py:121\u001b[0m, in \u001b[0;36mNetworkAnalyser.read_perturbations_pandas\u001b[0;34m(self, filename, delimiter, comments, source, target, edge_attr, save_graph)\u001b[0m\n\u001b[1;32m    116\u001b[0m data \u001b[39m=\u001b[39m data\u001b[39m.\u001b[39mdropna()\n\u001b[1;32m    118\u001b[0m \u001b[39m# print(data)\u001b[39;00m\n\u001b[1;32m    119\u001b[0m \n\u001b[1;32m    120\u001b[0m \u001b[39m# Now convert the pandas data frame to a networkx graph\u001b[39;00m\n\u001b[0;32m--> 121\u001b[0m graph \u001b[39m=\u001b[39m nx\u001b[39m.\u001b[39;49mfrom_pandas_edgelist(data, source\u001b[39m=\u001b[39;49msource, target\u001b[39m=\u001b[39;49mtarget, edge_attr\u001b[39m=\u001b[39;49medge_attr,\n\u001b[1;32m    122\u001b[0m                                 create_using\u001b[39m=\u001b[39;49mnx\u001b[39m.\u001b[39;49mDiGraph())\n\u001b[1;32m    124\u001b[0m \u001b[39m# We want to know what the largest component is, so we know if we may not be able to estimate certain free\u001b[39;00m\n\u001b[1;32m    125\u001b[0m \u001b[39m# energies\u001b[39;00m\n\u001b[1;32m    126\u001b[0m largest \u001b[39m=\u001b[39m \u001b[39mmax\u001b[39m(nx\u001b[39m.\u001b[39mstrongly_connected_components(graph), key\u001b[39m=\u001b[39m\u001b[39mlen\u001b[39m)\n",
      "File \u001b[0;32m~/anaconda3/envs/biosimspace-dev/lib/python3.9/site-packages/networkx/convert_matrix.py:472\u001b[0m, in \u001b[0;36mfrom_pandas_edgelist\u001b[0;34m(df, source, target, edge_attr, create_using, edge_key)\u001b[0m\n\u001b[1;32m    470\u001b[0m         g[s][t][key]\u001b[39m.\u001b[39mupdate(\u001b[39mzip\u001b[39m(attr_col_headings, attrs))\n\u001b[1;32m    471\u001b[0m \u001b[39melse\u001b[39;00m:\n\u001b[0;32m--> 472\u001b[0m     \u001b[39mfor\u001b[39;00m s, t, attrs \u001b[39min\u001b[39;00m \u001b[39mzip\u001b[39m(df[source], df[target], attribute_data):\n\u001b[1;32m    473\u001b[0m         g\u001b[39m.\u001b[39madd_edge(s, t)\n\u001b[1;32m    474\u001b[0m         g[s][t]\u001b[39m.\u001b[39mupdate(\u001b[39mzip\u001b[39m(attr_col_headings, attrs))\n",
      "File \u001b[0;32m~/anaconda3/envs/biosimspace-dev/lib/python3.9/site-packages/pandas/core/frame.py:3805\u001b[0m, in \u001b[0;36mDataFrame.__getitem__\u001b[0;34m(self, key)\u001b[0m\n\u001b[1;32m   3803\u001b[0m \u001b[39mif\u001b[39;00m \u001b[39mself\u001b[39m\u001b[39m.\u001b[39mcolumns\u001b[39m.\u001b[39mnlevels \u001b[39m>\u001b[39m \u001b[39m1\u001b[39m:\n\u001b[1;32m   3804\u001b[0m     \u001b[39mreturn\u001b[39;00m \u001b[39mself\u001b[39m\u001b[39m.\u001b[39m_getitem_multilevel(key)\n\u001b[0;32m-> 3805\u001b[0m indexer \u001b[39m=\u001b[39m \u001b[39mself\u001b[39;49m\u001b[39m.\u001b[39;49mcolumns\u001b[39m.\u001b[39;49mget_loc(key)\n\u001b[1;32m   3806\u001b[0m \u001b[39mif\u001b[39;00m is_integer(indexer):\n\u001b[1;32m   3807\u001b[0m     indexer \u001b[39m=\u001b[39m [indexer]\n",
      "File \u001b[0;32m~/anaconda3/envs/biosimspace-dev/lib/python3.9/site-packages/pandas/core/indexes/base.py:3805\u001b[0m, in \u001b[0;36mIndex.get_loc\u001b[0;34m(self, key, method, tolerance)\u001b[0m\n\u001b[1;32m   3803\u001b[0m     \u001b[39mreturn\u001b[39;00m \u001b[39mself\u001b[39m\u001b[39m.\u001b[39m_engine\u001b[39m.\u001b[39mget_loc(casted_key)\n\u001b[1;32m   3804\u001b[0m \u001b[39mexcept\u001b[39;00m \u001b[39mKeyError\u001b[39;00m \u001b[39mas\u001b[39;00m err:\n\u001b[0;32m-> 3805\u001b[0m     \u001b[39mraise\u001b[39;00m \u001b[39mKeyError\u001b[39;00m(key) \u001b[39mfrom\u001b[39;00m \u001b[39merr\u001b[39;00m\n\u001b[1;32m   3806\u001b[0m \u001b[39mexcept\u001b[39;00m \u001b[39mTypeError\u001b[39;00m:\n\u001b[1;32m   3807\u001b[0m     \u001b[39m# If we have a listlike key, _check_indexing_error will raise\u001b[39;00m\n\u001b[1;32m   3808\u001b[0m     \u001b[39m#  InvalidIndexError. Otherwise we fall through and re-raise\u001b[39;00m\n\u001b[1;32m   3809\u001b[0m     \u001b[39m#  the TypeError.\u001b[39;00m\n\u001b[1;32m   3810\u001b[0m     \u001b[39mself\u001b[39m\u001b[39m.\u001b[39m_check_indexing_error(key)\n",
      "\u001b[0;31mKeyError\u001b[0m: 'lig_2'"
     ]
    }
   ],
   "source": [
    "all_analysis_object._get_ana_fwf(fwf_path=\"/home/anna/Documents/september_2022_workshops/freenrgworkflows/networkanalysis\", engine=\"AMBER\")\n",
    "# all_analysis_object._get_stats_fwf(fwf_path=\"/home/anna/Documents/september_2022_workshops/freenrgworkflows/networkanalysis\", engine=\"AMBER\")"
   ]
  },
  {
   "cell_type": "code",
   "execution_count": null,
   "metadata": {},
   "outputs": [],
   "source": [
    "# old\n",
    "\n",
    "# import networkanalysis\n",
    "# import experiments\n",
    "# import stats\n",
    "\n",
    "# exp_dicts = res_obj._get_exp_fwf(fwf_path='/home/anna/Documents/september_2022_workshops/freenrgworkflows/networkanalysis/')\n",
    "# for key in exp_dicts[0]:\n",
    "#     print(f\"{key} : {exp_dicts[0][key][0]}, {exp_dicts[0][key][1]}\")\n",
    "\n",
    "free_fwf_dict = res_obj._get_ana_fwf(fwf_path='/home/anna/Documents/september_2022_workshops/freenrgworkflows/networkanalysis/', engine=\"SOMD\")\n",
    "for key in free_fwf_dict:\n",
    "    print(f\"{key} : {free_fwf_dict[key][0]}, {free_fwf_dict[key][1]}\")\n",
    "\n",
    "# fwf_stats = res_obj._get_stats_fwf(fwf_path='/home/anna/Documents/september_2022_workshops/freenrgworkflows/networkanalysis/', engine=\"SOMD\")\n"
   ]
  }
 ],
 "metadata": {
  "kernelspec": {
   "display_name": "Python 3.9.13 ('biosimspace-dev': conda)",
   "language": "python",
   "name": "python3"
  },
  "language_info": {
   "codemirror_mode": {
    "name": "ipython",
    "version": 3
   },
   "file_extension": ".py",
   "mimetype": "text/x-python",
   "name": "python",
   "nbconvert_exporter": "python",
   "pygments_lexer": "ipython3",
   "version": "3.9.15"
  },
  "varInspector": {
   "cols": {
    "lenName": 16,
    "lenType": 16,
    "lenVar": 40
   },
   "kernels_config": {
    "python": {
     "delete_cmd_postfix": "",
     "delete_cmd_prefix": "del ",
     "library": "var_list.py",
     "varRefreshCmd": "print(var_dic_list())"
    },
    "r": {
     "delete_cmd_postfix": ") ",
     "delete_cmd_prefix": "rm(",
     "library": "var_list.r",
     "varRefreshCmd": "cat(var_dic_list()) "
    }
   },
   "types_to_exclude": [
    "module",
    "function",
    "builtin_function_or_method",
    "instance",
    "_Feature"
   ],
   "window_display": false
  },
  "vscode": {
   "interpreter": {
    "hash": "d79bb85316fa6c998e385cc39903e056bffeb3f6098416e9c269ddd32175e919"
   }
  }
 },
 "nbformat": 4,
 "nbformat_minor": 2
}
