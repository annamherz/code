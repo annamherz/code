{
 "cells": [
  {
   "cell_type": "markdown",
   "metadata": {},
   "source": [
    "# <span style=\"color:teal\">RBFE Network - Analysis</span>\n"
   ]
  },
  {
   "cell_type": "code",
   "execution_count": 1,
   "metadata": {},
   "outputs": [
    {
     "name": "stderr",
     "output_type": "stream",
     "text": [
      "Warning on use of the timeseries module: If the inherent timescales of the system are long compared to those being analyzed, this statistical inefficiency may be an underestimate.  The estimate presumes the use of many statistically independent samples.  Tests should be performed to assess whether this condition is satisfied.   Be cautious in the interpretation of the data.\n",
      "/home/anna/anaconda3/envs/biosimspace-dev/lib/python3.9/site-packages/numpy/core/getlimits.py:500: UserWarning: The value of the smallest subnormal for <class 'numpy.float64'> type is zero.\n",
      "  setattr(self, word, getattr(machar, word).flat[0])\n",
      "/home/anna/anaconda3/envs/biosimspace-dev/lib/python3.9/site-packages/numpy/core/getlimits.py:89: UserWarning: The value of the smallest subnormal for <class 'numpy.float64'> type is zero.\n",
      "  return self._float_to_str(self.smallest_subnormal)\n",
      "/home/anna/anaconda3/envs/biosimspace-dev/lib/python3.9/site-packages/numpy/core/getlimits.py:500: UserWarning: The value of the smallest subnormal for <class 'numpy.float32'> type is zero.\n",
      "  setattr(self, word, getattr(machar, word).flat[0])\n",
      "/home/anna/anaconda3/envs/biosimspace-dev/lib/python3.9/site-packages/numpy/core/getlimits.py:89: UserWarning: The value of the smallest subnormal for <class 'numpy.float32'> type is zero.\n",
      "  return self._float_to_str(self.smallest_subnormal)\n",
      "Warning: importing 'simtk.openmm' is deprecated.  Import 'openmm' instead.\n"
     ]
    },
    {
     "name": "stdout",
     "output_type": "stream",
     "text": [
      "\n",
      "==============================================================\n",
      "Sending anonymous Sire usage statistics to http://siremol.org.\n",
      "For more information, see http://siremol.org/analytics\n",
      "To disable, set the environment variable 'SIRE_DONT_PHONEHOME' to 1\n",
      "To see the information sent, set the environment variable \n",
      "SIRE_VERBOSE_PHONEHOME equal to 1. To silence this message, set\n",
      "the environment variable SIRE_SILENT_PHONEHOME to 1.\n",
      "==============================================================\n",
      "\n"
     ]
    },
    {
     "ename": "ModuleNotFoundError",
     "evalue": "No module named 'openff.models'",
     "output_type": "error",
     "traceback": [
      "\u001b[0;31m---------------------------------------------------------------------------\u001b[0m",
      "\u001b[0;31mModuleNotFoundError\u001b[0m                       Traceback (most recent call last)",
      "Cell \u001b[0;32mIn[1], line 10\u001b[0m\n\u001b[1;32m      8\u001b[0m \u001b[39mif\u001b[39;00m \u001b[39m'\u001b[39m\u001b[39m/home/anna/Documents/cinnabar\u001b[39m\u001b[39m'\u001b[39m \u001b[39mnot\u001b[39;00m \u001b[39min\u001b[39;00m sys\u001b[39m.\u001b[39mpath:\n\u001b[1;32m      9\u001b[0m     sys\u001b[39m.\u001b[39mpath\u001b[39m.\u001b[39minsert(\u001b[39m1\u001b[39m, \u001b[39m'\u001b[39m\u001b[39m/home/anna/Documents/cinnabar\u001b[39m\u001b[39m'\u001b[39m)\n\u001b[0;32m---> 10\u001b[0m \u001b[39mimport\u001b[39;00m \u001b[39mcinnabar\u001b[39;00m\n\u001b[1;32m     12\u001b[0m \u001b[39mprint\u001b[39m(\u001b[39m\"\u001b[39m\u001b[39madding code to the pythonpath...\u001b[39m\u001b[39m\"\u001b[39m)\n\u001b[1;32m     13\u001b[0m code \u001b[39m=\u001b[39m \u001b[39m'\u001b[39m\u001b[39m/home/anna/Documents/code/python\u001b[39m\u001b[39m'\u001b[39m\n",
      "File \u001b[0;32m~/Documents/cinnabar/cinnabar/__init__.py:15\u001b[0m\n\u001b[1;32m     12\u001b[0m __git_revision__ \u001b[39m=\u001b[39m versions[\u001b[39m\"\u001b[39m\u001b[39mfull-revisionid\u001b[39m\u001b[39m\"\u001b[39m]\n\u001b[1;32m     13\u001b[0m \u001b[39mdel\u001b[39;00m get_versions, versions\n\u001b[0;32m---> 15\u001b[0m \u001b[39mfrom\u001b[39;00m \u001b[39m.\u001b[39;00m\u001b[39mmeasurements\u001b[39;00m \u001b[39mimport\u001b[39;00m AbsoluteMeasurement, RelativeMeasurement\n\u001b[1;32m     16\u001b[0m \u001b[39mfrom\u001b[39;00m \u001b[39m.\u001b[39;00m\u001b[39mfemap\u001b[39;00m \u001b[39mimport\u001b[39;00m FEMap, unit\n\u001b[1;32m     17\u001b[0m \u001b[39mfrom\u001b[39;00m \u001b[39m.\u001b[39;00m \u001b[39mimport\u001b[39;00m stats\n",
      "File \u001b[0;32m~/Documents/cinnabar/cinnabar/measurements.py:1\u001b[0m\n\u001b[0;32m----> 1\u001b[0m \u001b[39mfrom\u001b[39;00m \u001b[39mopenff\u001b[39;00m\u001b[39m.\u001b[39;00m\u001b[39mmodels\u001b[39;00m\u001b[39m.\u001b[39;00m\u001b[39mmodels\u001b[39;00m \u001b[39mimport\u001b[39;00m DefaultModel\n\u001b[1;32m      2\u001b[0m \u001b[39mfrom\u001b[39;00m \u001b[39mopenff\u001b[39;00m\u001b[39m.\u001b[39;00m\u001b[39mmodels\u001b[39;00m\u001b[39m.\u001b[39;00m\u001b[39mtypes\u001b[39;00m \u001b[39mimport\u001b[39;00m FloatQuantity\n\u001b[1;32m      5\u001b[0m \u001b[39mclass\u001b[39;00m \u001b[39mRelativeMeasurement\u001b[39;00m(DefaultModel):\n",
      "\u001b[0;31mModuleNotFoundError\u001b[0m: No module named 'openff.models'"
     ]
    }
   ],
   "source": [
    "# import libraries\n",
    "import BioSimSpace as BSS\n",
    "from scipy.stats import sem as sem\n",
    "import sys\n",
    "import os\n",
    "import glob\n",
    "\n",
    "if '/home/anna/Documents/cinnabar' not in sys.path:\n",
    "    sys.path.insert(1, '/home/anna/Documents/cinnabar')\n",
    "import cinnabar\n",
    "\n",
    "print(\"adding code to the pythonpath...\")\n",
    "code = '/home/anna/Documents/code/python'\n",
    "if code not in sys.path:\n",
    "    sys.path.insert(1, code)\n",
    "import pipeline\n",
    "\n",
    "print(cinnabar.__file__)\n",
    "\n",
    "from pipeline import *\n",
    "from pipeline.utils import validate\n",
    "from pipeline.analysis import *"
   ]
  },
  {
   "cell_type": "code",
   "execution_count": 2,
   "metadata": {},
   "outputs": [],
   "source": [
    "import openff"
   ]
  },
  {
   "cell_type": "code",
   "execution_count": null,
   "metadata": {},
   "outputs": [],
   "source": [
    "openff.units.mod"
   ]
  },
  {
   "cell_type": "code",
   "execution_count": null,
   "metadata": {},
   "outputs": [],
   "source": [
    "bench_folder = f\"/home/anna/Documents/benchmark\"\n",
    "protein = \"tyk2\"\n",
    "main_dir = f\"{bench_folder}/extracted/{protein}\"\n",
    "\n",
    "# choose location for the files\n",
    "net_file = f\"{main_dir}/execution_model/network_lomap.dat\"\n",
    "ana_file = f\"{main_dir}/execution_model/analysis_protocol.dat\"\n",
    "exp_file = f\"{bench_folder}/inputs/experimental/{protein}.yml\"\n",
    "\n",
    "if os.path.exists(f\"{main_dir}/outputs_extracted/results\"):\n",
    "    results_folder = f\"{main_dir}/outputs_extracted/results\"\n",
    "elif os.path.exists(f\"{main_dir}/outputs/results\"):\n",
    "    results_folder = f\"{main_dir}/outputs/results\"\n",
    "else:\n",
    "    raise ValueError(f\"results directory not found in the {main_dir}. please make sure results were written using the analysis script previously in the pipeline\")\n",
    "\n",
    "output_folder = validate.folder_path(f\"{main_dir}/analysis\", create=True)\n"
   ]
  },
  {
   "cell_type": "code",
   "execution_count": null,
   "metadata": {},
   "outputs": [
    {
     "name": "stdout",
     "output_type": "stream",
     "text": [
      "could not convert analysis object lig_ejm31~lig_ejm48, GROMACS, pert, into dataframe for AMBER. Was it able to be computed earlier?\n",
      "could not convert analysis object lig_ejm46~lig_jmc28, GROMACS, pert, into dataframe for AMBER. Was it able to be computed earlier?\n",
      "could not convert analysis object lig_jmc27~lig_jmc28, GROMACS, pert, into dataframe for AMBER. Was it able to be computed earlier?\n",
      "could not convert analysis object lig_ejm31~lig_ejm48, SOMD, pert, into dataframe for AMBER. Was it able to be computed earlier?\n",
      "could not convert analysis object lig_ejm31~lig_ejm45, SOMD, pert, into dataframe for AMBER. Was it able to be computed earlier?\n",
      "could not convert analysis object lig_ejm46~lig_jmc28, SOMD, pert, into dataframe for AMBER. Was it able to be computed earlier?\n",
      "could not convert analysis object lig_jmc27~lig_jmc28, SOMD, pert, into dataframe for AMBER. Was it able to be computed earlier?\n",
      "could not convert analysis object lig_ejm31~lig_ejm48, experimental, pert, into dataframe for AMBER. Was it able to be computed earlier?\n",
      "could not convert analysis object lig_ejm31~lig_ejm45, experimental, pert, into dataframe for AMBER. Was it able to be computed earlier?\n",
      "could not convert analysis object lig_ejm46~lig_jmc28, experimental, pert, into dataframe for AMBER. Was it able to be computed earlier?\n",
      "could not convert analysis object lig_jmc27~lig_jmc28, experimental, pert, into dataframe for AMBER. Was it able to be computed earlier?\n",
      "could not convert analysis object lig_ejm44~lig_ejm45, AMBER, pert, into dataframe for GROMACS. Was it able to be computed earlier?\n",
      "could not convert analysis object lig_ejm45, AMBER, val, into dataframe for GROMACS. Was it able to be computed earlier?\n",
      "could not convert analysis object lig_ejm31~lig_ejm45, SOMD, pert, into dataframe for GROMACS. Was it able to be computed earlier?\n",
      "could not convert analysis object lig_ejm44~lig_ejm45, SOMD, pert, into dataframe for GROMACS. Was it able to be computed earlier?\n",
      "could not convert analysis object lig_ejm45, SOMD, val, into dataframe for GROMACS. Was it able to be computed earlier?\n",
      "could not convert analysis object lig_ejm44~lig_ejm45, experimental, pert, into dataframe for GROMACS. Was it able to be computed earlier?\n",
      "could not convert analysis object lig_ejm31~lig_ejm45, experimental, pert, into dataframe for GROMACS. Was it able to be computed earlier?\n",
      "could not convert analysis object lig_ejm45, experimental, val, into dataframe for GROMACS. Was it able to be computed earlier?\n",
      "could not convert analysis object lig_ejm31~lig_ejm48, GROMACS, pert, into dataframe for AMBER. Was it able to be computed earlier?\n",
      "could not convert analysis object lig_ejm46~lig_jmc28, GROMACS, pert, into dataframe for AMBER. Was it able to be computed earlier?\n",
      "could not convert analysis object lig_jmc27~lig_jmc28, GROMACS, pert, into dataframe for AMBER. Was it able to be computed earlier?\n",
      "could not convert analysis object lig_ejm31~lig_ejm48, SOMD, pert, into dataframe for AMBER. Was it able to be computed earlier?\n",
      "could not convert analysis object lig_ejm31~lig_ejm45, SOMD, pert, into dataframe for AMBER. Was it able to be computed earlier?\n",
      "could not convert analysis object lig_ejm46~lig_jmc28, SOMD, pert, into dataframe for AMBER. Was it able to be computed earlier?\n",
      "could not convert analysis object lig_jmc27~lig_jmc28, SOMD, pert, into dataframe for AMBER. Was it able to be computed earlier?\n",
      "could not convert analysis object lig_ejm31~lig_ejm48, experimental, pert, into dataframe for AMBER. Was it able to be computed earlier?\n",
      "could not convert analysis object lig_ejm31~lig_ejm45, experimental, pert, into dataframe for AMBER. Was it able to be computed earlier?\n",
      "could not convert analysis object lig_ejm46~lig_jmc28, experimental, pert, into dataframe for AMBER. Was it able to be computed earlier?\n",
      "could not convert analysis object lig_jmc27~lig_jmc28, experimental, pert, into dataframe for AMBER. Was it able to be computed earlier?\n",
      "could not convert analysis object lig_ejm44~lig_ejm45, AMBER, pert, into dataframe for GROMACS. Was it able to be computed earlier?\n",
      "could not convert analysis object lig_ejm45, AMBER, val, into dataframe for GROMACS. Was it able to be computed earlier?\n",
      "could not convert analysis object lig_ejm31~lig_ejm45, SOMD, pert, into dataframe for GROMACS. Was it able to be computed earlier?\n",
      "could not convert analysis object lig_ejm44~lig_ejm45, SOMD, pert, into dataframe for GROMACS. Was it able to be computed earlier?\n",
      "could not convert analysis object lig_ejm45, SOMD, val, into dataframe for GROMACS. Was it able to be computed earlier?\n",
      "could not convert analysis object lig_ejm44~lig_ejm45, experimental, pert, into dataframe for GROMACS. Was it able to be computed earlier?\n",
      "could not convert analysis object lig_ejm31~lig_ejm45, experimental, pert, into dataframe for GROMACS. Was it able to be computed earlier?\n",
      "could not convert analysis object lig_ejm45, experimental, val, into dataframe for GROMACS. Was it able to be computed earlier?\n"
     ]
    }
   ],
   "source": [
    "all_analysis_object = analysis_network(results_folder,\n",
    "                                       exp_file=exp_file,\n",
    "                                       net_file=net_file,\n",
    "                                       output_folder=output_folder,\n",
    "                                       analysis_ext=ana_file\n",
    "                                        )\n",
    "\n",
    "# can add any other results files\n",
    "# all_analysis_object.compute_other_results(file_name=None, name=None)\n",
    "all_analysis_object.compute(cycle_closure=False)"
   ]
  },
  {
   "cell_type": "code",
   "execution_count": 4,
   "metadata": {},
   "outputs": [
    {
     "data": {
      "text/plain": [
       "{'AMBER': {'lig_ejm42~lig_ejm49': (-0.9977666666666667, 0.24118599553963418),\n",
       "  'lig_ejm42~lig_ejm47': (-0.6753, 0.01491453429823852),\n",
       "  'lig_ejm42~lig_ejm54': (-0.28623333333333334, 0.030518318724624693),\n",
       "  'lig_ejm42~lig_ejm43': (-0.5385666666666666, 0.017512313128513642),\n",
       "  'lig_ejm42~lig_ejm50': (-0.20523333333333335, 0.02316335707774482),\n",
       "  'lig_ejm42~lig_ejm55': (-0.2998, 0.026411045669063028),\n",
       "  'lig_ejm31~lig_ejm49': (0.7327, 0.08260490300218262),\n",
       "  'lig_ejm31~lig_ejm53': (1.2371333333333334, 0.12792061774571153),\n",
       "  'lig_ejm31~lig_ejm47': (-0.39266666666666666, 0.03345849833915311),\n",
       "  'lig_ejm31~lig_jmc23': (-0.7151333333333333, 0.059453464528523854),\n",
       "  'lig_ejm31~lig_ejm46': (-0.6039, 0.09907276786954797),\n",
       "  'lig_ejm31~lig_ejm50': (0.5739333333333333, 0.020323166857335755),\n",
       "  'lig_jmc23~lig_jmc27': (-0.4173, 0.026246777579987477),\n",
       "  'lig_jmc23~lig_jmc28': (-0.6800333333333333, 0.03218578015901501),\n",
       "  'lig_ejm46~lig_jmc30': (-1.0116666666666667, 0.10211694820699996),\n",
       "  'lig_ejm44~lig_ejm45': (-0.7128, 0.14970641268830137),\n",
       "  'lig_jmc28~lig_jmc30': (-0.7540999999999999, 0.009551963149007652),\n",
       "  'lig_ejm54~lig_ejm55': (1.4168, 0.033055155926622615),\n",
       "  'lig_ejm43~lig_ejm44': (1.7109333333333332, 0.068901483615699),\n",
       "  'lig_ejm48~lig_ejm53': (0.8615666666666666, 0.10188523500051963)},\n",
       " 'SOMD': {'lig_ejm42~lig_ejm49': (-0.45303333333333323, 0.4026516456911331),\n",
       "  'lig_ejm42~lig_ejm47': (-1.0340666666666667, 0.04240292180708513),\n",
       "  'lig_ejm42~lig_ejm54': (-0.5601666666666667, 0.13371008854150754),\n",
       "  'lig_ejm42~lig_ejm43': (-0.6163, 0.03633345565728642),\n",
       "  'lig_ejm42~lig_ejm50': (-0.6082, 0.16609745131498357),\n",
       "  'lig_ejm42~lig_ejm55': (-0.8952, 0.09649999999999997),\n",
       "  'lig_ejm31~lig_ejm49': (-0.3848333333333333, 0.8437189605813329),\n",
       "  'lig_ejm31~lig_ejm48': (0.5607000000000001, 0.2912084476796647),\n",
       "  'lig_ejm31~lig_ejm53': (0.9794333333333333, 0.4282343608093328),\n",
       "  'lig_ejm31~lig_ejm47': (-0.4793, 0.3797144760650209),\n",
       "  'lig_ejm31~lig_jmc23': (-1.2587666666666666, 0.24004762259000004),\n",
       "  'lig_ejm31~lig_ejm46': (-0.7292, 0.3806741695115829),\n",
       "  'lig_ejm31~lig_ejm45': (0.07953333333333333, 0.21449273750979184),\n",
       "  'lig_ejm31~lig_ejm50': (-0.14143333333333333, 0.05442426950461634),\n",
       "  'lig_ejm48~lig_ejm53': (0.9973333333333333, 0.027474371896571405),\n",
       "  'lig_jmc23~lig_jmc27': (-0.3684, 0.04143154997502909),\n",
       "  'lig_jmc23~lig_jmc28': (-0.2641, 0.09499999999999999),\n",
       "  'lig_ejm46~lig_jmc30': (-0.9282666666666667, 0.0294729442785149),\n",
       "  'lig_ejm46~lig_jmc28': (-0.21183333333333332, 0.06963615759391413),\n",
       "  'lig_ejm44~lig_ejm45': (0.19816666666666669, 1.0285264416198112),\n",
       "  'lig_jmc28~lig_jmc30': (-0.17136666666666667, 0.10809419246400079),\n",
       "  'lig_ejm54~lig_ejm55': (2.580033333333333, 0.23838616663817652),\n",
       "  'lig_ejm43~lig_ejm44': (1.5494, 0.11671222443828808),\n",
       "  'lig_jmc27~lig_jmc28': (0.9311666666666666, 0.049206548796318195)},\n",
       " 'GROMACS': {'lig_ejm42~lig_ejm49': (-3.6951, 0.2831),\n",
       "  'lig_ejm42~lig_ejm47': (-0.6343000000000001, 0.03695001127649803),\n",
       "  'lig_ejm42~lig_ejm54': (-1.0987, 0.2194),\n",
       "  'lig_ejm42~lig_ejm43': (-1.8406, 0.36190000000000005),\n",
       "  'lig_ejm42~lig_ejm50': (0.30460000000000004, 0.25838553236072126),\n",
       "  'lig_ejm42~lig_ejm55': (-0.6671999999999999, 0.38885054969743843),\n",
       "  'lig_ejm31~lig_ejm49': (2.4579, 0.3081874483708467),\n",
       "  'lig_ejm31~lig_ejm48': (0.5292666666666667, 0.8899581719259494),\n",
       "  'lig_ejm31~lig_ejm53': (0.4695666666666667, 0.2960748235009372),\n",
       "  'lig_ejm31~lig_ejm47': (-0.9291, 1.4527445416635827),\n",
       "  'lig_ejm31~lig_jmc23': (-0.873, 0.3112),\n",
       "  'lig_ejm31~lig_ejm46': (-0.12196666666666667, 0.09542201586170307),\n",
       "  'lig_ejm31~lig_ejm50': (-0.02946666666666667, 0.08448156274859293),\n",
       "  'lig_ejm48~lig_ejm53': (1.0099, 0.4808243996859284),\n",
       "  'lig_jmc23~lig_jmc27': (-0.4592666666666667, 0.0698706503317221),\n",
       "  'lig_jmc23~lig_jmc28': (-0.2684, 0.1443),\n",
       "  'lig_ejm46~lig_jmc30': (-2.2104, 0.1206203271979202),\n",
       "  'lig_ejm46~lig_jmc28': (-2.4627, 0.1411),\n",
       "  'lig_jmc28~lig_jmc30': (-2.2762000000000002, 0.35049559673886543),\n",
       "  'lig_ejm54~lig_ejm55': (1.7668333333333333, 0.8310879462755096),\n",
       "  'lig_ejm43~lig_ejm44': (-1.652466666666667, 0.505463702400523),\n",
       "  'lig_jmc27~lig_jmc28': (1.0494, 0.3999256222516049)}}"
      ]
     },
     "execution_count": 4,
     "metadata": {},
     "output_type": "execute_result"
    }
   ],
   "source": [
    "all_analysis_object.cinnabar_calc_pert_dict"
   ]
  },
  {
   "attachments": {},
   "cell_type": "markdown",
   "metadata": {},
   "source": [
    "There are different options for plotting:\n",
    "bar (pert or lig)\n",
    "scatter (pert or lig) - can be plotted using cinnabar\n",
    "eng vs eng\n",
    "other results (eg from other workflows)\n",
    "outliers\n",
    "histograms (for the error of the runs, sem, legs)"
   ]
  },
  {
   "cell_type": "code",
   "execution_count": null,
   "metadata": {},
   "outputs": [],
   "source": [
    "all_analysis_object.plot_scatter_pert(use_cinnabar=True, engine=\"AMBER\")"
   ]
  },
  {
   "cell_type": "code",
   "execution_count": null,
   "metadata": {},
   "outputs": [],
   "source": [
    "# bar\n",
    "all_analysis_object.plot_bar_lig()\n",
    "all_analysis_object.plot_bar_pert()\n",
    "\n",
    "#scatter\n",
    "all_analysis_object.plot_scatter_lig()\n",
    "all_analysis_object.plot_scatter_pert()\n",
    "all_analysis_object.plot_scatter_lig(use_cinnabar=True)\n",
    "all_analysis_object.plot_scatter_pert(use_cinnabar=True)\n",
    "for eng in all_analysis_object.engines:\n",
    "    all_analysis_object.plot_scatter_lig(engine=eng)\n",
    "    all_analysis_object.plot_scatter_pert(engine=eng)\n",
    "\n",
    "    # outliers\n",
    "    all_analysis_object.plot_outliers(engine=eng)\n",
    "    all_analysis_object.plot_outliers(engine=eng, pert_val=\"val\")\n",
    "\n",
    "all_analysis_object.plot_histogram_legs(free_bound=\"free\")\n",
    "all_analysis_object.plot_histogram_legs(free_bound=\"bound\")\n",
    "all_analysis_object.plot_histogram_runs()\n",
    "all_analysis_object.plot_histogram_sem()\n",
    "all_analysis_object.plot_histogram_sem(pert_val=\"pert\")"
   ]
  },
  {
   "attachments": {},
   "cell_type": "markdown",
   "metadata": {},
   "source": [
    "for additional analyses:\n",
    "calculate the mae\n",
    "fwf stuff"
   ]
  },
  {
   "cell_type": "code",
   "execution_count": null,
   "metadata": {},
   "outputs": [],
   "source": [
    "all_analysis_object.calc_mae(pert_val=\"pert\")\n",
    "all_analysis_object.calc_mae(pert_val=\"val\")"
   ]
  },
  {
   "attachments": {},
   "cell_type": "markdown",
   "metadata": {},
   "source": [
    "plot other results"
   ]
  },
  {
   "cell_type": "code",
   "execution_count": null,
   "metadata": {},
   "outputs": [],
   "source": [
    "other_results = glob.glob(\"/home/anna/Documents/benchmark/inputs/other_computed/exscentia/*_exscentia_mcl1.csv\")\n",
    "all_analysis_object.compute_other_results(other_results, name=\"Exscientia\")\n",
    "all_analysis_object.plot_other_results(name=\"Exscientia\", engine=\"AMBER\", pert_val=\"pert\")"
   ]
  },
  {
   "attachments": {},
   "cell_type": "markdown",
   "metadata": {},
   "source": [
    "plot convergence"
   ]
  },
  {
   "cell_type": "code",
   "execution_count": null,
   "metadata": {},
   "outputs": [],
   "source": [
    "ex_outputs_folder = f\"{main_dir}/outputs_extracted\"\n",
    "\n",
    "converg_obj = plot_convergence(ex_outputs_folder,\n",
    "                               perturbations=all_analysis_object.perturbations,\n",
    "                               engines=all_analysis_object.engines,\n",
    "                               file_ext=file_ext\n",
    "                               )\n",
    "\n",
    "converg_obj.plot_convergence_all()"
   ]
  },
  {
   "attachments": {},
   "cell_type": "markdown",
   "metadata": {},
   "source": [
    "remove a perturbation"
   ]
  },
  {
   "cell_type": "code",
   "execution_count": null,
   "metadata": {},
   "outputs": [],
   "source": [
    "# check which perturbations are outliers\n",
    "all_analysis_object.plot_outliers(engine=\"AMBER\", outliers=5, pert_val=\"pert\")\n",
    "all_analysis_object._plotting_object.outlier(engines=\"AMBER\", outliers=5, name=\"Exscientia\")"
   ]
  },
  {
   "cell_type": "code",
   "execution_count": null,
   "metadata": {},
   "outputs": [],
   "source": [
    "all_analysis_object.cinnabar_calc_pert_dict[\"AMBER\"]"
   ]
  },
  {
   "cell_type": "code",
   "execution_count": null,
   "metadata": {},
   "outputs": [],
   "source": [
    "all_analysis_object.calc_pert_dict[\"AMBER\"]"
   ]
  },
  {
   "cell_type": "code",
   "execution_count": null,
   "metadata": {},
   "outputs": [],
   "source": [
    "all_analysis_object._plotting_object.freenrg_df_dict[\"Exscientia\"][\"AMBER\"][\"pert\"]"
   ]
  },
  {
   "cell_type": "code",
   "execution_count": null,
   "metadata": {},
   "outputs": [],
   "source": [
    "eng = \"AMBER\"\n",
    "perturbations = ['lig_27~lig_48','lig_27~lig_38', 'lig_30~lig_40'] #\n",
    "# ['lig_ejm42~lig_ejm44', 'lig_ejm42~lig_ejm49', 'lig_ejm42~lig_ejm45']\n",
    "# ['lig_ejm42~lig_ejm49', 'lig_ejm45~lig_ejm55', 'lig_ejm43~lig_ejm50'] #gromacs\n",
    "# ['lig_ejm45~lig_ejm53', 'lig_ejm44~lig_ejm45', 'lig_ejm31~lig_ejm49'] #somd\n",
    "\n",
    "for pert in perturbations:\n",
    "    try:\n",
    "        all_analysis_object.remove_perturbations(pert)\n",
    "    except:\n",
    "        pass\n",
    "    \n",
    "\n",
    "all_analysis_object.compute()\n",
    "\n",
    "# plot scatter plots\n",
    "# all_analysis_object.plot_scatter_lig(engine=eng, use_cinnabar=True)\n",
    "# all_analysis_object.plot_scatter_pert(engine=\"AMBER\", use_cinnabar=True)\n",
    "all_analysis_object.plot_outliers(engine=eng, outliers=3, pert_val=\"pert\")"
   ]
  },
  {
   "cell_type": "code",
   "execution_count": null,
   "metadata": {},
   "outputs": [],
   "source": [
    "# import networkanalysis\n",
    "# import experiments\n",
    "# import stats\n",
    "\n",
    "# exp_dicts = res_obj._get_exp_fwf(fwf_path='/home/anna/Documents/september_2022_workshops/freenrgworkflows/networkanalysis/')\n",
    "# for key in exp_dicts[0]:\n",
    "#     print(f\"{key} : {exp_dicts[0][key][0]}, {exp_dicts[0][key][1]}\")\n",
    "\n",
    "free_fwf_dict = res_obj._get_ana_fwf(fwf_path='/home/anna/Documents/september_2022_workshops/freenrgworkflows/networkanalysis/', engine=\"SOMD\")\n",
    "for key in free_fwf_dict:\n",
    "    print(f\"{key} : {free_fwf_dict[key][0]}, {free_fwf_dict[key][1]}\")\n",
    "\n",
    "# fwf_stats = res_obj._get_stats_fwf(fwf_path='/home/anna/Documents/september_2022_workshops/freenrgworkflows/networkanalysis/', engine=\"SOMD\")\n"
   ]
  },
  {
   "attachments": {},
   "cell_type": "markdown",
   "metadata": {},
   "source": [
    "calculate only the experimental results for some of the perturbations"
   ]
  },
  {
   "cell_type": "code",
   "execution_count": null,
   "metadata": {},
   "outputs": [],
   "source": [
    "protein = \"tyk2\"\n",
    "\n",
    "bench_folder = f\"/home/anna/Documents/benchmark\"\n",
    "main_dir = f\"{bench_folder}/extracted/{protein}\"\n",
    "\n",
    "# choose location for the files\n",
    "# net_file = f\"{main_dir}/execution_model/network_lomap.dat\"\n",
    "ana_file = f\"{main_dir}/execution_model/analysis_protocol.dat\"\n",
    "# exp_file = f\"{bench_folder}/inputs/experimental/tyk2.yml\"\n",
    "exp_file = f\"/home/anna/Documents/benchmark/inputs/experimental/{protein}.yml\"\n",
    "\n",
    "output_folder = validate.folder_path(f\"{main_dir}/diff_methods_analysis\", create=True)\n",
    "results_folder = f\"{main_dir}/diff_methods_analysis/results\"\n",
    "\n",
    "all_analysis_object = analysis_network(\n",
    "                                       exp_file=exp_file,\n",
    "                                    #    net_file=net_file,\n",
    "                                    #    output_folder=output_folder,\n",
    "                                        )\n",
    "\n",
    "all_analysis_object.perturbations = [\"lig_ejm31~lig_ejm45\", \"lig_ejm31~lig_ejm48\",\"lig_ejm43~lig_ejm46\", \"lig_ejm46~lig_jmc28\", \"lig_jmc27~lig_jmc28\",\n",
    "                                      \"lig_ejm44~lig_ejm49\", \"lig_ejm44~lig_ejm45\"]\n",
    "all_analysis_object.ligands = [\"lig_ejm31\",\"lig_ejm45\",\"lig_ejm44\",\"lig_ejm49\",\"lig_ejm48\",\"lig_ejm43\",\"lig_ejm46\",\"lig_jmc28\",\"lig_jmc27\"]\n",
    "# can add any other results files\n",
    "# all_analysis_object.compute_other_results(file_name=None, name=None)\n",
    "# all_analysis_object.compute(cycle_closure=False, use_cinnabar=False)\n",
    "all_analysis_object.get_experimental()\n",
    "all_analysis_object.get_experimental_pert()"
   ]
  },
  {
   "attachments": {},
   "cell_type": "markdown",
   "metadata": {},
   "source": [
    "plot only a small amount of perturbations to compare different methods"
   ]
  },
  {
   "cell_type": "code",
   "execution_count": null,
   "metadata": {},
   "outputs": [],
   "source": [
    "perturbations = [\"lig_30~lig_40\", \"lig_27~lig_48\"]"
   ]
  },
  {
   "cell_type": "code",
   "execution_count": null,
   "metadata": {},
   "outputs": [],
   "source": [
    "protein = \"mcl1\"\n",
    "\n",
    "bench_folder = f\"/home/anna/Documents/benchmark\"\n",
    "main_dir = f\"{bench_folder}/extracted/{protein}\"\n",
    "\n",
    "# choose location for the files\n",
    "# net_file = f\"{main_dir}/execution_model/network_lomap.dat\"\n",
    "ana_file = f\"{main_dir}/execution_model/analysis_protocol.dat\"\n",
    "# exp_file = f\"{bench_folder}/inputs/experimental/tyk2.yml\"\n",
    "exp_file = f\"/home/anna/Documents/benchmark/inputs/experimental/{protein}.yml\"\n",
    "\n",
    "output_folder = validate.folder_path(f\"{main_dir}/diff_methods_analysis\", create=True)\n",
    "results_folder = f\"{main_dir}/diff_methods_analysis/results\"\n",
    "\n",
    "all_analysis_object = analysis_network(results_folder,\n",
    "                                       exp_file=exp_file,\n",
    "                                       engines=\"AMBER\",\n",
    "                                    #    net_file=net_file,\n",
    "                                       output_folder=output_folder,\n",
    "                                       analysis_ext=ana_file\n",
    "                                        )\n",
    "\n",
    "# can add any other results files\n",
    "# all_analysis_object.compute_other_results(file_name=None, name=None)\n",
    "all_analysis_object.compute(cycle_closure=False, use_cinnabar=False)"
   ]
  },
  {
   "cell_type": "code",
   "execution_count": null,
   "metadata": {},
   "outputs": [],
   "source": [
    "all_analysis_object"
   ]
  },
  {
   "cell_type": "code",
   "execution_count": null,
   "metadata": {},
   "outputs": [],
   "source": [
    "other_names = [\"exscientia_inputs\",\"both\",\"Exscientia\"]\n",
    "\n",
    "for name in other_names:\n",
    "    all_analysis_object.compute_other_results(\n",
    "        sorted(glob.glob(f\"{results_folder}/other/*{name}*.csv\")),\n",
    "        name=name, use_cinnabar=False)\n",
    "\n",
    "all_analysis_object._plotting_object.set_colours({\"exscientia_inputs\":\"red\", \"both\":\"yellow\",\"Exscientia\":\"purple\"})"
   ]
  },
  {
   "cell_type": "code",
   "execution_count": null,
   "metadata": {},
   "outputs": [],
   "source": [
    "all_analysis_object.get_experimental_pert()"
   ]
  },
  {
   "cell_type": "code",
   "execution_count": null,
   "metadata": {},
   "outputs": [],
   "source": [
    "all_analysis_object._plotting_object.scatter(pert_val=\"pert\",engines=[\"exscientia_inputs\"], name=\"Exscientia\")"
   ]
  },
  {
   "cell_type": "code",
   "execution_count": null,
   "metadata": {},
   "outputs": [],
   "source": []
  }
 ],
 "metadata": {
  "kernelspec": {
   "display_name": "Python 3.9.13 ('biosimspace-dev': conda)",
   "language": "python",
   "name": "python3"
  },
  "language_info": {
   "codemirror_mode": {
    "name": "ipython",
    "version": 3
   },
   "file_extension": ".py",
   "mimetype": "text/x-python",
   "name": "python",
   "nbconvert_exporter": "python",
   "pygments_lexer": "ipython3",
   "version": "3.9.15"
  },
  "varInspector": {
   "cols": {
    "lenName": 16,
    "lenType": 16,
    "lenVar": 40
   },
   "kernels_config": {
    "python": {
     "delete_cmd_postfix": "",
     "delete_cmd_prefix": "del ",
     "library": "var_list.py",
     "varRefreshCmd": "print(var_dic_list())"
    },
    "r": {
     "delete_cmd_postfix": ") ",
     "delete_cmd_prefix": "rm(",
     "library": "var_list.r",
     "varRefreshCmd": "cat(var_dic_list()) "
    }
   },
   "types_to_exclude": [
    "module",
    "function",
    "builtin_function_or_method",
    "instance",
    "_Feature"
   ],
   "window_display": false
  },
  "vscode": {
   "interpreter": {
    "hash": "d79bb85316fa6c998e385cc39903e056bffeb3f6098416e9c269ddd32175e919"
   }
  }
 },
 "nbformat": 4,
 "nbformat_minor": 2
}
