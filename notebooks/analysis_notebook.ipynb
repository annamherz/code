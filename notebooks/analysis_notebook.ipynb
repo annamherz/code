{
 "cells": [
  {
   "cell_type": "markdown",
   "metadata": {},
   "source": [
    "# <span style=\"color:teal\">RBFE Network - Analysis</span>\n"
   ]
  },
  {
   "cell_type": "code",
   "execution_count": null,
   "metadata": {},
   "outputs": [],
   "source": [
    "# import libraries\n",
    "import BioSimSpace as BSS\n",
    "from scipy.stats import sem as sem\n",
    "import sys\n",
    "import os\n",
    "\n",
    "if '/home/anna/Documents/cinnabar' not in sys.path:\n",
    "    sys.path.insert(1, '/home/anna/Documents/cinnabar')\n",
    "import cinnabar\n",
    "\n",
    "print(cinnabar.__file__)\n",
    "\n",
    "if '/home/anna/Documents/code/python' not in sys.path:\n",
    "    sys.path.insert(1, '/home/anna/Documents/code/python')\n",
    "import pipeline\n",
    "\n",
    "print(pipeline.__file__)\n",
    "\n",
    "from pipeline import *\n",
    "from pipeline.utils import validate\n",
    "from pipeline.analysis import *"
   ]
  },
  {
   "cell_type": "code",
   "execution_count": null,
   "metadata": {},
   "outputs": [],
   "source": [
    "protein = \"mcl1\"\n",
    "\n",
    "bench_folder = f\"/home/anna/Documents/benchmark\"\n",
    "main_dir = f\"{bench_folder}/extracted/{protein}\"\n",
    "\n",
    "# choose location for the files\n",
    "net_file = f\"{main_dir}/execution_model/network_lomap.dat\"\n",
    "ana_file = f\"{main_dir}/execution_model/analysis_protocol.dat\"\n",
    "# exp_file = f\"{bench_folder}/inputs/experimental/tyk2.yml\"\n",
    "exp_file = f\"/home/anna/Documents/benchmark/inputs/experimental/{protein}.yml\"\n",
    "\n",
    "if os.path.exists(f\"{main_dir}/outputs_extracted/results\"):\n",
    "    results_folder = f\"{main_dir}/outputs_extracted/results\"\n",
    "elif os.path.exists(f\"{main_dir}/outputs/results\"):\n",
    "    results_folder = f\"{main_dir}/outputs/results\"\n",
    "else:\n",
    "    raise ValueError(f\"results directory not found in the {main_dir}. please make sure results were written using the analysis script previously in the pipeline\")\n",
    "\n",
    "output_folder = validate.folder_path(f\"{main_dir}/analysis\", create=True)\n"
   ]
  },
  {
   "cell_type": "code",
   "execution_count": null,
   "metadata": {},
   "outputs": [],
   "source": [
    "all_analysis_object = analysis_network(results_folder,\n",
    "                                       exp_file=exp_file,\n",
    "                                       net_file=net_file,\n",
    "                                       output_folder=output_folder,\n",
    "                                       analysis_ext=ana_file\n",
    "                                        )\n",
    "\n",
    "# can add any other results files\n",
    "# all_analysis_object.compute_other_results(file_name=None, name=None)\n",
    "all_analysis_object.compute(cycle_closure=False)"
   ]
  },
  {
   "attachments": {},
   "cell_type": "markdown",
   "metadata": {},
   "source": [
    "There are different options for plotting:\n",
    "bar (pert or lig)\n",
    "scatter (pert or lig) - can be plotted using cinnabar\n",
    "eng vs eng\n",
    "other results (eg from other workflows)\n",
    "outliers\n",
    "histograms (for the error of the runs, sem, legs)"
   ]
  },
  {
   "cell_type": "code",
   "execution_count": null,
   "metadata": {},
   "outputs": [],
   "source": [
    "# bar\n",
    "all_analysis_object.plot_bar_lig()\n",
    "all_analysis_object.plot_bar_pert()\n",
    "\n",
    "#scatter\n",
    "all_analysis_object.plot_scatter_lig()\n",
    "all_analysis_object.plot_scatter_pert()\n",
    "all_analysis_object.plot_scatter_lig(use_cinnabar=True)\n",
    "all_analysis_object.plot_scatter_pert(use_cinnabar=True)\n",
    "for eng in all_analysis_object.engines:\n",
    "    all_analysis_object.plot_scatter_lig(engine=eng)\n",
    "    all_analysis_object.plot_scatter_pert(engine=eng)\n",
    "\n",
    "    # outliers\n",
    "    all_analysis_object.plot_outliers(engine=eng)\n",
    "    all_analysis_object.plot_outliers(engine=eng, pert_val=\"val\")\n",
    "\n",
    "all_analysis_object.plot_histogram_legs(free_bound=\"free\")\n",
    "all_analysis_object.plot_histogram_legs(free_bound=\"bound\")\n",
    "all_analysis_object.plot_histogram_runs()\n",
    "all_analysis_object.plot_histogram_sem()\n",
    "all_analysis_object.plot_histogram_sem(pert_val=\"pert\")"
   ]
  },
  {
   "attachments": {},
   "cell_type": "markdown",
   "metadata": {},
   "source": [
    "plot other results"
   ]
  },
  {
   "cell_type": "code",
   "execution_count": null,
   "metadata": {},
   "outputs": [],
   "source": [
    "other_results = sorted(glob.glob(f\"{bench_folder}/inputs/other_computed/raw/*\"))\n",
    "for file in other_results:\n",
    "    new_file = f\"{file.replace(file.split('/')[-1], '')[:-1].replace('/raw','')}/{other_results.index(file)}_mcl1.csv\"\n",
    "    \n",
    "    with open(new_file, \"w\") as write_file:\n",
    "        writer = csv.writer(write_file, delimiter=\",\")\n",
    "\n",
    "        writer.writerow([\"lig_0\", \"lig_1\", \"freenrg\",\n",
    "                        \"error\", \"engine\", \"analysis\", \"method\"])\n",
    "    \n",
    "        with open(file, \"r\") as read_file:\n",
    "            for line in read_file:\n",
    "                if \"Calculated\" in line:\n",
    "                    pass\n",
    "                else:\n",
    "                    lig_0 = line.split(',')[0].replace('protein_','')\n",
    "                    lig_1 = line.split(',')[1].replace('protein_','')\n",
    "                    freenrg = line.split(',')[2]\n",
    "                    error = line.split(',')[3]\n",
    "\n",
    "                writer.writerow([lig_0, lig_1, freenrg, error, \"MBAR\",\"other\"])\n"
   ]
  },
  {
   "cell_type": "code",
   "execution_count": null,
   "metadata": {},
   "outputs": [],
   "source": [
    "all_analysis_object.compute_other_results(sorted(glob.glob(f\"{bench_folder}/inputs/other_computed/other/*.csv\")), name=\"other\")\n",
    "all_analysis_object.plot_other_results(name=\"other\", engine=\"AMBER\", pert_val=\"pert\")"
   ]
  },
  {
   "cell_type": "code",
   "execution_count": null,
   "metadata": {},
   "outputs": [],
   "source": [
    "shared = []\n",
    "\n",
    "for key in all_analysis_object.cinnabar_calc_pert_dict[\"AMBER\"].keys():\n",
    "    if key in all_analysis_object.cinnabar_calc_pert_dict[\"other\"].keys():\n",
    "        shared.append(key)\n",
    "\n",
    "print(len(shared))\n",
    "shared"
   ]
  },
  {
   "attachments": {},
   "cell_type": "markdown",
   "metadata": {},
   "source": [
    "plot just one engine to check"
   ]
  },
  {
   "cell_type": "code",
   "execution_count": null,
   "metadata": {},
   "outputs": [],
   "source": [
    "all_analysis_object.plot_scatter_lig(engine=\"AMBER\", use_cinnabar=True)\n",
    "all_analysis_object.plot_scatter_pert(engine=\"AMBER\", use_cinnabar=True)"
   ]
  },
  {
   "attachments": {},
   "cell_type": "markdown",
   "metadata": {},
   "source": [
    "plot engine vs engine"
   ]
  },
  {
   "cell_type": "code",
   "execution_count": null,
   "metadata": {},
   "outputs": [],
   "source": [
    "all_analysis_object.plot_eng_vs_eng(\"SOMD\",\"AMBER\")"
   ]
  },
  {
   "attachments": {},
   "cell_type": "markdown",
   "metadata": {},
   "source": [
    "plot convergence"
   ]
  },
  {
   "cell_type": "code",
   "execution_count": null,
   "metadata": {},
   "outputs": [],
   "source": [
    "ex_outputs_folder = f\"{main_dir}/outputs_extracted\"\n",
    "\n",
    "converg_obj = plot_convergence(ex_outputs_folder,\n",
    "                               perturbations=all_analysis_object.perturbations,\n",
    "                               engines=all_analysis_object.engines,\n",
    "                               file_ext=ana_file\n",
    "                               )\n",
    "\n",
    "converg_obj.plot_convergence_all()"
   ]
  },
  {
   "attachments": {},
   "cell_type": "markdown",
   "metadata": {},
   "source": [
    "remove a perturbation"
   ]
  },
  {
   "cell_type": "code",
   "execution_count": null,
   "metadata": {},
   "outputs": [],
   "source": [
    "eng = \"AMBER\"\n",
    "perturbations = [\"lig_30~lig_40\", \"lig_27~lig_48\"]\n",
    "# ['lig_ejm42~lig_ejm44', 'lig_ejm42~lig_ejm49', 'lig_ejm42~lig_ejm45']\n",
    "# ['lig_ejm42~lig_ejm49', 'lig_ejm45~lig_ejm55', 'lig_ejm43~lig_ejm50'] #gromacs\n",
    "# ['lig_ejm45~lig_ejm53', 'lig_ejm44~lig_ejm45', 'lig_ejm31~lig_ejm49'] #somd\n",
    "\n",
    "for pert in perturbations:\n",
    "    try:\n",
    "        all_analysis_object.remove_perturbations(pert)\n",
    "    except:\n",
    "        pass\n",
    "    \n",
    "print(all_analysis_object.perturbations)\n",
    "all_analysis_object.compute()\n",
    "\n",
    "\n",
    "# plot scatter plots\n",
    "# all_analysis_object.plot_scatter_lig(engine=eng, use_cinnabar=True)\n",
    "# all_analysis_object.plot_scatter_pert(engine=\"AMBER\")\n",
    "# all_analysis_object.plot_outliers(engine=eng, outliers=3, pert_val=\"pert\")"
   ]
  },
  {
   "attachments": {},
   "cell_type": "markdown",
   "metadata": {},
   "source": [
    "statistical analysis vs exp, other results, each engine to the other etc"
   ]
  },
  {
   "cell_type": "code",
   "execution_count": null,
   "metadata": {},
   "outputs": [],
   "source": [
    "all_analysis_object.calc_mae(pert_val=\"pert\", engines=[\"GROMACS\",\"AMBER\"])\n",
    "# all_analysis_object.calc_mae(pert_val=\"val\")"
   ]
  },
  {
   "cell_type": "code",
   "execution_count": null,
   "metadata": {},
   "outputs": [],
   "source": []
  },
  {
   "cell_type": "code",
   "execution_count": null,
   "metadata": {},
   "outputs": [],
   "source": []
  },
  {
   "cell_type": "code",
   "execution_count": null,
   "metadata": {},
   "outputs": [],
   "source": [
    "# old\n",
    "\n",
    "# import networkanalysis\n",
    "# import experiments\n",
    "# import stats\n",
    "\n",
    "# exp_dicts = res_obj._get_exp_fwf(fwf_path='/home/anna/Documents/september_2022_workshops/freenrgworkflows/networkanalysis/')\n",
    "# for key in exp_dicts[0]:\n",
    "#     print(f\"{key} : {exp_dicts[0][key][0]}, {exp_dicts[0][key][1]}\")\n",
    "\n",
    "free_fwf_dict = res_obj._get_ana_fwf(fwf_path='/home/anna/Documents/september_2022_workshops/freenrgworkflows/networkanalysis/', engine=\"SOMD\")\n",
    "for key in free_fwf_dict:\n",
    "    print(f\"{key} : {free_fwf_dict[key][0]}, {free_fwf_dict[key][1]}\")\n",
    "\n",
    "# fwf_stats = res_obj._get_stats_fwf(fwf_path='/home/anna/Documents/september_2022_workshops/freenrgworkflows/networkanalysis/', engine=\"SOMD\")\n"
   ]
  }
 ],
 "metadata": {
  "kernelspec": {
   "display_name": "Python 3.9.13 ('biosimspace-dev': conda)",
   "language": "python",
   "name": "python3"
  },
  "language_info": {
   "codemirror_mode": {
    "name": "ipython",
    "version": 3
   },
   "file_extension": ".py",
   "mimetype": "text/x-python",
   "name": "python",
   "nbconvert_exporter": "python",
   "pygments_lexer": "ipython3",
   "version": "3.9.15"
  },
  "varInspector": {
   "cols": {
    "lenName": 16,
    "lenType": 16,
    "lenVar": 40
   },
   "kernels_config": {
    "python": {
     "delete_cmd_postfix": "",
     "delete_cmd_prefix": "del ",
     "library": "var_list.py",
     "varRefreshCmd": "print(var_dic_list())"
    },
    "r": {
     "delete_cmd_postfix": ") ",
     "delete_cmd_prefix": "rm(",
     "library": "var_list.r",
     "varRefreshCmd": "cat(var_dic_list()) "
    }
   },
   "types_to_exclude": [
    "module",
    "function",
    "builtin_function_or_method",
    "instance",
    "_Feature"
   ],
   "window_display": false
  },
  "vscode": {
   "interpreter": {
    "hash": "d79bb85316fa6c998e385cc39903e056bffeb3f6098416e9c269ddd32175e919"
   }
  }
 },
 "nbformat": 4,
 "nbformat_minor": 2
}
