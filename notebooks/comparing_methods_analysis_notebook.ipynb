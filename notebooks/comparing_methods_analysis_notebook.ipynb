{
 "cells": [
  {
   "cell_type": "code",
   "execution_count": null,
   "metadata": {},
   "outputs": [],
   "source": [
    "# import libraries\n",
    "\n",
    "from scipy.stats import sem as sem\n",
    "import sys\n",
    "import os\n",
    "import glob\n",
    "import BioSimSpace as BSS\n",
    "\n",
    "if '/home/anna/Documents/cinnabar' not in sys.path:\n",
    "    sys.path.insert(1, '/home/anna/Documents/cinnabar')\n",
    "import cinnabar\n",
    "\n",
    "print(\"adding code to the pythonpath...\")\n",
    "code = '/home/anna/Documents/code/python'\n",
    "if code not in sys.path:\n",
    "    sys.path.insert(1, code)\n",
    "import pipeline\n",
    "\n",
    "print(cinnabar.__file__)\n",
    "\n",
    "from pipeline import *\n",
    "from pipeline.utils import *\n",
    "from pipeline.analysis import *"
   ]
  },
  {
   "cell_type": "code",
   "execution_count": null,
   "metadata": {},
   "outputs": [],
   "source": [
    "bench_folder = f\"/home/anna/Documents/benchmark\"\n",
    "protein = \"tyk2\"\n",
    "main_dir = f\"{bench_folder}/extracted/{protein}\"\n",
    "\n",
    "# choose location for the files\n",
    "net_file = f\"{main_dir}/execution_model/network_lomap.dat\"\n",
    "ana_file = f\"{main_dir}/execution_model/analysis_protocol.dat\"\n",
    "exp_file = f\"{bench_folder}/inputs/experimental/{protein}.yml\"\n",
    "\n",
    "if os.path.exists(f\"{main_dir}/outputs_extracted/results\"):\n",
    "    results_folder = f\"{main_dir}/outputs_extracted/results\"\n",
    "elif os.path.exists(f\"{main_dir}/outputs/results\"):\n",
    "    results_folder = f\"{main_dir}/outputs/results\"\n",
    "# else:\n",
    "#     raise ValueError(f\"results directory not found in the {main_dir}. please make sure results were written using the analysis script previously in the pipeline\")\n",
    "\n",
    "output_folder = validate.folder_path(f\"{main_dir}/analysis/comparing_methods\", create=True)\n"
   ]
  },
  {
   "cell_type": "code",
   "execution_count": null,
   "metadata": {},
   "outputs": [],
   "source": [
    "engine = \"AMBER\"\n",
    "all_analysis_object = analysis_network(results_folder,\n",
    "                                       exp_file=exp_file,\n",
    "                                       net_file=net_file,\n",
    "                                       engines=engine,\n",
    "                                       output_folder=output_folder,\n",
    "                                       analysis_ext=ana_file,\n",
    "                                       # name=\"softcore\",\n",
    "                                        )\n",
    "\n",
    "# can add any other results files\n",
    "# all_analysis_object.compute_other_results(file_name=None, name=None)\n",
    "all_analysis_object.compute(cycle_closure=False, use_cinnabar=True)"
   ]
  },
  {
   "cell_type": "code",
   "execution_count": null,
   "metadata": {},
   "outputs": [],
   "source": [
    "write_modified_results_files(f\"{results_folder}/final_summary_GROMACS_MBAR_alchemlyb_None_eqfalse_statsfalse_truncate0end.csv\", name=\"switch\", engine=\"GROMACS\")\n",
    "write_modified_results_files(f\"{results_folder}/final_summary_GROMACS_MBAR_alchemlyb_None_eqfalse_statsfalse_truncate0end.csv\", name=\"v_rescale\", engine=\"GROMACS\")"
   ]
  },
  {
   "cell_type": "code",
   "execution_count": null,
   "metadata": {},
   "outputs": [],
   "source": [
    "all_analysis_object.compute_other_results(glob.glob(f'{results_folder}/final_summary_{engine}_MBAR_alchemlyb_None_eqfalse_statstrue_truncate0end.csv'), name=\"stats\", use_cinnabar=True)\n",
    "all_analysis_object.compute_other_results(glob.glob(f'{results_folder}/final_summary_{engine}_MBAR_alchemlyb_None_eqtrue_statsfalse_truncate0end.csv'), name=\"eq\", use_cinnabar=True)\n",
    "all_analysis_object.compute_other_results(glob.glob(f'{results_folder}/final_summary_{engine}_MBAR_alchemlyb_None_eqtrue_statstrue_truncate0end.csv'), name=\"both\", use_cinnabar=True)\n",
    "# all_analysis_object.compute_other_results(f\"{results_folder}/results_0_GROMACS_v_rescale.csv\", name=\"v_rescale\", use_cinnabar=True)\n"
   ]
  },
  {
   "cell_type": "code",
   "execution_count": null,
   "metadata": {},
   "outputs": [],
   "source": [
    "print(all_analysis_object.successful_runs(eng=engine))\n",
    "# all_analysis_object.draw_graph()\n",
    "all_analysis_object.remove_perturbations(all_analysis_object.failed_runs(eng=engine))  \n",
    "all_analysis_object.remove_ligands(all_analysis_object.disconnected_ligands(eng=engine))\n",
    "all_analysis_object.compute(cycle_closure=True, use_cinnabar=True)\n",
    "all_analysis_object.draw_graph()"
   ]
  },
  {
   "cell_type": "code",
   "execution_count": null,
   "metadata": {},
   "outputs": [],
   "source": [
    "all_analysis_object._plotting_object.bar(pert_val=\"pert\", names=[engine,\"stats\",\"eq\",\"both\",\"experimental\"]) # , values=[\"lig_35~lig_49\", \"lig_60~lig_61\", \"lig_56~lig_59\"]"
   ]
  },
  {
   "cell_type": "code",
   "execution_count": null,
   "metadata": {},
   "outputs": [],
   "source": [
    "for meth in [\"stats\",\"eq\",\"both\",engine]:\n",
    "    print(f\"{meth} : {all_analysis_object._stats_object.compute_mue('val', y=meth)}\")\n"
   ]
  },
  {
   "cell_type": "code",
   "execution_count": null,
   "metadata": {},
   "outputs": [],
   "source": []
  }
 ],
 "metadata": {
  "kernelspec": {
   "display_name": "Python 3",
   "language": "python",
   "name": "python3"
  },
  "language_info": {
   "codemirror_mode": {
    "name": "ipython",
    "version": 3
   },
   "file_extension": ".py",
   "mimetype": "text/x-python",
   "name": "python",
   "nbconvert_exporter": "python",
   "pygments_lexer": "ipython3",
   "version": "3.9.15"
  },
  "orig_nbformat": 4
 },
 "nbformat": 4,
 "nbformat_minor": 2
}
