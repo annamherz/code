{
 "cells": [
  {
   "cell_type": "code",
   "execution_count": 1,
   "metadata": {},
   "outputs": [
    {
     "name": "stderr",
     "output_type": "stream",
     "text": [
      "/home/anna/anaconda3/envs/biosimspace-dev/lib/python3.9/site-packages/numpy/core/getlimits.py:500: UserWarning: The value of the smallest subnormal for <class 'numpy.float64'> type is zero.\n",
      "  setattr(self, word, getattr(machar, word).flat[0])\n",
      "/home/anna/anaconda3/envs/biosimspace-dev/lib/python3.9/site-packages/numpy/core/getlimits.py:89: UserWarning: The value of the smallest subnormal for <class 'numpy.float64'> type is zero.\n",
      "  return self._float_to_str(self.smallest_subnormal)\n",
      "/home/anna/anaconda3/envs/biosimspace-dev/lib/python3.9/site-packages/numpy/core/getlimits.py:500: UserWarning: The value of the smallest subnormal for <class 'numpy.float32'> type is zero.\n",
      "  setattr(self, word, getattr(machar, word).flat[0])\n",
      "/home/anna/anaconda3/envs/biosimspace-dev/lib/python3.9/site-packages/numpy/core/getlimits.py:89: UserWarning: The value of the smallest subnormal for <class 'numpy.float32'> type is zero.\n",
      "  return self._float_to_str(self.smallest_subnormal)\n",
      "Warning: importing 'simtk.openmm' is deprecated.  Import 'openmm' instead.\n"
     ]
    },
    {
     "name": "stdout",
     "output_type": "stream",
     "text": [
      "adding code to the pythonpath...\n"
     ]
    },
    {
     "name": "stdout",
     "output_type": "stream",
     "text": [
      "\n",
      "==============================================================\n",
      "Sending anonymous Sire usage statistics to http://siremol.org.\n",
      "For more information, see http://siremol.org/analytics\n",
      "To disable, set the environment variable 'SIRE_DONT_PHONEHOME' to 1\n",
      "To see the information sent, set the environment variable \n",
      "SIRE_VERBOSE_PHONEHOME equal to 1. To silence this message, set\n",
      "the environment variable SIRE_SILENT_PHONEHOME to 1.\n",
      "==============================================================\n",
      "\n"
     ]
    }
   ],
   "source": [
    "import BioSimSpace as BSS\n",
    "import sys\n",
    "\n",
    "try:\n",
    "    import pipeline\n",
    "except:\n",
    "    print(\"adding code to the pythonpath...\")\n",
    "    code = '/home/anna/Documents/code/python'\n",
    "    if code not in sys.path:\n",
    "        sys.path.insert(1, code)\n",
    "    import pipeline\n",
    "\n",
    "from pipeline import *"
   ]
  },
  {
   "cell_type": "code",
   "execution_count": 5,
   "metadata": {},
   "outputs": [
    {
     "name": "stdout",
     "output_type": "stream",
     "text": [
      "<class 'BioSimSpace.Types._time.Time'>\n"
     ]
    }
   ],
   "source": [
    "sampling_unit = BSS.Units.Time.nanosecond\n",
    "\n",
    "if not isinstance(sampling_unit, BSS.Types.Length):\n",
    "    print(\"oop\")\n",
    "else:\n",
    "    print(type(sampling_unit))"
   ]
  },
  {
   "cell_type": "code",
   "execution_count": 7,
   "metadata": {},
   "outputs": [
    {
     "data": {
      "text/plain": [
       "1.0000 A"
      ]
     },
     "execution_count": 7,
     "metadata": {},
     "output_type": "execute_result"
    }
   ],
   "source": [
    "def box_edges_unit(box_edges_unit):\n",
    "\n",
    "    if not isinstance(box_edges_unit, str):\n",
    "        if not isinstance(box_edges_unit, BSS.Types.Length):\n",
    "            raise TypeError(\"'box_edges_unit' must be of type 'str' or 'BSS.Types.Length'.\")\n",
    "    else:\n",
    "        print(\"oop\")\n",
    "        box_edges_unit_list = [\"angstrom\", \"nm\"]\n",
    "        if box_edges_unit not in box_edges_unit_list:\n",
    "            raise ValueError(f\"'box_edges_unit' must be one of {box_edges_unit_list}.\")\n",
    "\n",
    "        if box_edges_unit == \"angstrom\":\n",
    "            box_edges_unit = BSS.Units.Length.angstrom\n",
    "        elif box_edges_unit == \"nm\":\n",
    "            box_edges_unit = BSS.Units.Length.nanometer   \n",
    "\n",
    "    return box_edges_unit\n",
    "\n",
    "box_edges_unit(BSS.Units.Length.angstrom)"
   ]
  },
  {
   "cell_type": "code",
   "execution_count": 49,
   "metadata": {},
   "outputs": [],
   "source": [
    "def boolean(boolean):\n",
    "    \"\"\"validates boolean input\n",
    "\n",
    "    Args:\n",
    "        boolean (str or bool): boolean\n",
    "\n",
    "    Raises:\n",
    "        TypeError: must be of type 'str' or 'bool'\n",
    "        ValueError: if 'str' , must be 'True'/'1' or 'False'/'0'\n",
    "\n",
    "    Returns:\n",
    "        _type_: _description_\n",
    "    \"\"\"\n",
    "    \n",
    "    if boolean != 1 and boolean != 0:\n",
    "        if not isinstance(boolean, bool):\n",
    "            if not isinstance(boolean, str):\n",
    "                raise TypeError(f\"{boolean} must be of type 'str' (True or False) or 'bool'.\")\n",
    "            else:\n",
    "                boolean_list = [\"True\", \"False\",\"1\",\"0\"]\n",
    "                if boolean not in boolean_list:\n",
    "                    raise ValueError(f\"{boolean} must be one of {boolean_list}.\")\n",
    "    else:\n",
    "        boolean = str(boolean)\n",
    "\n",
    "\n",
    "    if boolean == \"True\" or boolean == \"1\":\n",
    "        boolean = True\n",
    "    elif boolean == \"False\" or boolean == \"0\":\n",
    "        boolean = False\n",
    "    \n",
    "    return boolean\n"
   ]
  },
  {
   "cell_type": "code",
   "execution_count": 53,
   "metadata": {},
   "outputs": [
    {
     "data": {
      "text/plain": [
       "bool"
      ]
     },
     "execution_count": 53,
     "metadata": {},
     "output_type": "execute_result"
    }
   ],
   "source": [
    "type(boolean(\"True\"))\n"
   ]
  },
  {
   "cell_type": "code",
   "execution_count": 48,
   "metadata": {},
   "outputs": [],
   "source": [
    "boolean = 1\n",
    "\n",
    "if boolean != 1 and boolean != 0:\n",
    "    print(\"oop\")"
   ]
  },
  {
   "cell_type": "code",
   "execution_count": null,
   "metadata": {},
   "outputs": [],
   "source": []
  }
 ],
 "metadata": {
  "kernelspec": {
   "display_name": "Python 3.9.15 ('biosimspace-dev': conda)",
   "language": "python",
   "name": "python3"
  },
  "language_info": {
   "codemirror_mode": {
    "name": "ipython",
    "version": 3
   },
   "file_extension": ".py",
   "mimetype": "text/x-python",
   "name": "python",
   "nbconvert_exporter": "python",
   "pygments_lexer": "ipython3",
   "version": "3.9.15"
  },
  "orig_nbformat": 4,
  "vscode": {
   "interpreter": {
    "hash": "d79bb85316fa6c998e385cc39903e056bffeb3f6098416e9c269ddd32175e919"
   }
  }
 },
 "nbformat": 4,
 "nbformat_minor": 2
}
