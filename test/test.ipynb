{
 "cells": [
  {
   "cell_type": "code",
   "execution_count": 1,
   "metadata": {},
   "outputs": [
    {
     "name": "stderr",
     "output_type": "stream",
     "text": [
      "Warning on use of the timeseries module: If the inherent timescales of the system are long compared to those being analyzed, this statistical inefficiency may be an underestimate.  The estimate presumes the use of many statistically independent samples.  Tests should be performed to assess whether this condition is satisfied.   Be cautious in the interpretation of the data.\n",
      "/home/anna/BioSimSpace/python/BioSimSpace/Parameters/Protocol/_protocol.py:51: ResourceWarning: unclosed file <_io.TextIOWrapper name='/dev/null' mode='w' encoding='UTF-8'>\n",
      "  _sys.stderr = _sys.__stderr__\n",
      "ResourceWarning: Enable tracemalloc to get the object allocation traceback\n",
      "Warning: importing 'simtk.openmm' is deprecated.  Import 'openmm' instead.\n",
      "/home/anna/BioSimSpace/python/BioSimSpace/Parameters/Protocol/_openforcefield.py:88: ResourceWarning: unclosed file <_io.TextIOWrapper name='/dev/null' mode='w' encoding='UTF-8'>\n",
      "  _sys.stderr = _sys.__stderr__\n",
      "ResourceWarning: Enable tracemalloc to get the object allocation traceback\n"
     ]
    },
    {
     "name": "stdout",
     "output_type": "stream",
     "text": [
      "/home/anna/Documents/cinnabar/cinnabar/__init__.py\n",
      "/home/anna/BioSimSpace/python/BioSimSpace/__init__.py\n",
      "adding code to the pythonpath...\n"
     ]
    },
    {
     "name": "stderr",
     "output_type": "stream",
     "text": [
      "sys:1: ResourceWarning: Unclosed socket <zmq.Socket(zmq.PUSH) at 0x7f16d3797520>\n",
      "ResourceWarning: Enable tracemalloc to get the object allocation traceback\n"
     ]
    }
   ],
   "source": [
    "import sys\n",
    "import networkx as nx\n",
    "import pickle\n",
    "import itertools as it\n",
    "\n",
    "import warnings\n",
    "warnings.filterwarnings(action='once')\n",
    "\n",
    "\n",
    "if '/home/anna/Documents/cinnabar' not in sys.path:\n",
    "    sys.path.insert(1, '/home/anna/Documents/cinnabar')\n",
    "import cinnabar\n",
    "\n",
    "if '/home/anna/BioSimSpace/python' not in sys.path:\n",
    "    sys.path.insert(1, '/home/anna/BioSimSpace/python')\n",
    "import BioSimSpace as BSS\n",
    "\n",
    "print(cinnabar.__file__)\n",
    "print(BSS.__file__)\n",
    "\n",
    "try:\n",
    "    import pipeline\n",
    "except:\n",
    "    print(\"adding code to the pythonpath...\")\n",
    "    code = '/home/anna/Documents/code/python'\n",
    "    if code not in sys.path:\n",
    "        sys.path.insert(1, code)\n",
    "    import pipeline\n",
    "\n",
    "from pipeline import *\n",
    "from pipeline.analysis import *\n",
    "from pipeline.prep import *\n"
   ]
  },
  {
   "cell_type": "code",
   "execution_count": 19,
   "metadata": {},
   "outputs": [],
   "source": [
    "ana_file = \"analysis_protocol.dat\"\n",
    "ana = analysis_protocol(ana_file)"
   ]
  },
  {
   "cell_type": "code",
   "execution_count": 20,
   "metadata": {},
   "outputs": [
    {
     "name": "stdout",
     "output_type": "stream",
     "text": [
      "There is a problem with the input provided in analysis_protocol.dat.\n",
      " Error is:\n",
      " mbar_method must be in ['robust', 'default', None]\n"
     ]
    }
   ],
   "source": [
    "ana.validate()"
   ]
  },
  {
   "cell_type": "code",
   "execution_count": null,
   "metadata": {},
   "outputs": [
    {
     "ename": "",
     "evalue": "",
     "output_type": "error",
     "traceback": [
      "\u001b[1;31mFailed to start the Kernel. \n",
      "\u001b[1;31mUnable to start Kernel 'biosimspace-dev (Python 3.9.15)' due to connection timeout. \n",
      "\u001b[1;31mView Jupyter <a href='command:jupyter.viewOutput'>log</a> for further details."
     ]
    }
   ],
   "source": [
    "# main_dir = \"/backup/anna/benchmark/tyk2\"\n",
    "main_dir = \"/home/anna/Documents/benchmark/tyk2_benchmark\"\n",
    "net_file = \"/home/anna/Documents/benchmark/tyk2_benchmark/execution_model/network_lomap.dat\"\n",
    "\n",
    "# choose location for the experimental file\n",
    "exp_file = \"/home/anna/Documents/benchmark/inputs/experimental/tyk2.yml\"\n",
    "\n",
    "if os.path.exists(f\"{main_dir}/outputs_extracted/results\"):\n",
    "    results_folder = f\"{main_dir}/outputs_extracted/results\"\n",
    "elif os.path.exists(f\"{main_dir}/outputs/results\"):\n",
    "    results_folder = f\"{main_dir}/outputs/results\"\n",
    "else:\n",
    "    raise ValueError(f\"results directory not found in the {main_dir}. please make sure results were written using the analysis script previously in the pipeline\")\n",
    "\n",
    "output_folder = f\"{main_dir}/analysis\"\n",
    "\n",
    "analysis_options = {'estimator': \"MBAR\", \"method\":\"alchemlyb\",\n",
    "                    \"check_overlap\":True,\n",
    "                    \"try_pickle\":True, 'save_pickle':True,\n",
    "                    \"auto_equilibration\": False,\n",
    "                    \"statistical_inefficiency\": False,\n",
    "                    \"truncate_percentage\": 0,\n",
    "                    \"truncate_keep\":\"end\",\n",
    "                    \"mbar_method\": None}\n",
    "\n"
   ]
  },
  {
   "cell_type": "code",
   "execution_count": null,
   "metadata": {},
   "outputs": [],
   "source": [
    "analysis_options = analyse._set_options(analysis_options)\n",
    "file_ext = analyse.file_ext(analysis_options)\n",
    "file_ext"
   ]
  },
  {
   "cell_type": "code",
   "execution_count": null,
   "metadata": {},
   "outputs": [],
   "source": [
    "all_analysis_object = analysis_network(results_folder,\n",
    "                                       exp_file=exp_file,\n",
    "                                    #    net_file=net_file,\n",
    "                                       output_folder=output_folder,\n",
    "                                       file_ext=file_ext\n",
    "                                        )\n",
    "\n",
    "# can add any other results files\n",
    "# all_analysis_object.compute_other_results(file_name=None, name=None)\n",
    "all_analysis_object.compute()"
   ]
  },
  {
   "cell_type": "code",
   "execution_count": null,
   "metadata": {},
   "outputs": [],
   "source": [
    "all_analysis_object.plot_scatter_lig(use_cinnabar=True)\n",
    "all_analysis_object.plot_scatter_pert(use_cinnabar=True)"
   ]
  },
  {
   "cell_type": "code",
   "execution_count": 40,
   "metadata": {},
   "outputs": [
    {
     "name": "stdout",
     "output_type": "stream",
     "text": [
      "mapping, aligning and merging the ligands...\n"
     ]
    }
   ],
   "source": [
    "\n",
    "prep_dir = \"/home/anna/Documents/benchmark/tyk2_benchmark/prep\"\n",
    "lig_1 = \"lig_ejm31\"\n",
    "lig_2 = \"lig_ejm42\"\n",
    "system_1 = BSS.IO.readMolecules(\n",
    "    [f\"{prep_dir}/{lig_1}_lig_equil_solv.rst7\", f\"{prep_dir}/{lig_1}_lig_equil_solv.prm7\"])\n",
    "system_2 = BSS.IO.readMolecules(\n",
    "    [f\"{prep_dir}/{lig_2}_lig_equil_solv.rst7\", f\"{prep_dir}/{lig_2}_lig_equil_solv.prm7\"])\n",
    "\n",
    "\n",
    "system_free = merge.merge_system(system_1, system_2, \"GROMACS\")"
   ]
  },
  {
   "cell_type": "code",
   "execution_count": null,
   "metadata": {},
   "outputs": [],
   "source": [
    "ex_outputs_folder = f\"{main_dir}/outputs_extracted\"\n",
    "\n",
    "converg_obj = plot_convergence(ex_outputs_folder,\n",
    "                               perturbations=all_analysis_object.perturbations,\n",
    "                               engines=all_analysis_object.engines,\n",
    "                               file_ext=file_ext\n",
    "                               )\n",
    "\n",
    "converg_obj.plot_convergence_all()"
   ]
  },
  {
   "cell_type": "code",
   "execution_count": null,
   "metadata": {},
   "outputs": [],
   "source": [
    "all_analysis_object.plot_histogram_legs(free_bound=\"free\")"
   ]
  },
  {
   "cell_type": "code",
   "execution_count": null,
   "metadata": {},
   "outputs": [],
   "source": [
    "all_analysis_object.compute_other_results(\"/home/anna/Documents/benchmark/inputs/other_computed/fep_data_tyk2_rbfenn_jenke.csv\", name=\"jenke_rbfenn\")\n",
    "all_analysis_object.plot_other_results(name=\"jenke_rbfenn\", engine=\"SOMD\", pert_val=\"pert\")"
   ]
  },
  {
   "cell_type": "code",
   "execution_count": null,
   "metadata": {},
   "outputs": [],
   "source": [
    "eng = \"AMBER\"\n",
    "perturbations = []\n",
    "# ['lig_ejm42~lig_ejm44', 'lig_ejm42~lig_ejm49', 'lig_ejm42~lig_ejm45']\n",
    "# ['lig_ejm42~lig_ejm49', 'lig_ejm45~lig_ejm55', 'lig_ejm43~lig_ejm50'] #gromacs\n",
    "# ['lig_ejm45~lig_ejm53', 'lig_ejm44~lig_ejm45', 'lig_ejm31~lig_ejm49'] #somd\n",
    "\n",
    "for pert in perturbations:\n",
    "    try:\n",
    "        all_analysis_object.remove_perturbations(pert)\n",
    "    except:\n",
    "        pass\n",
    "    \n",
    "\n",
    "all_analysis_object.compute()\n",
    "\n",
    "# plot scatter plots\n",
    "all_analysis_object.plot_scatter_lig(engine=eng, use_cinnabar=True)\n",
    "# all_analysis_object.plot_scatter_pert(engine=\"AMBER\", use_cinnabar=True)\n",
    "all_analysis_object.plot_outliers(engine=eng, outliers=3, pert_val=\"val\")"
   ]
  },
  {
   "cell_type": "code",
   "execution_count": null,
   "metadata": {},
   "outputs": [],
   "source": [
    "all_analysis_object.calc_mae(pert_val=\"val\")\n"
   ]
  },
  {
   "cell_type": "code",
   "execution_count": null,
   "metadata": {},
   "outputs": [],
   "source": [
    "res_dir = \"/home/anna/Documents/benchmark/tyk2_benchmark/outputs\"\n",
    "res_obj = analysis_network(res_dir,\n",
    "                            exp_file=\"/home/anna/Documents/benchmark/inputs/experimental/tyk2.yml\",\n",
    "                            net_file=\"/home/anna/Documents/benchmark/tyk2_benchmark/execution_model/network_lomap.dat\")\n",
    "res_obj.compute()\n",
    "print(\"done\")"
   ]
  },
  {
   "cell_type": "code",
   "execution_count": null,
   "metadata": {},
   "outputs": [],
   "source": [
    "res_obj.plot_histogram_sem(pert_val=\"val\")"
   ]
  },
  {
   "cell_type": "code",
   "execution_count": null,
   "metadata": {},
   "outputs": [],
   "source": [
    "res_obj.compute_other_results(\"/home/anna/Documents/benchmark/inputs/other_computed/fep_data_tyk2_rbfenn_jenke.csv\", name=\"jenke_rbfenn\")\n",
    "res_obj.plot_other_results(name=\"jenke_rbfenn\", engine=\"SOMD\", pert_val=\"val\", outliers=3)"
   ]
  },
  {
   "cell_type": "code",
   "execution_count": null,
   "metadata": {},
   "outputs": [],
   "source": [
    "res_obj.calc_mae(pert_val=\"pert\")"
   ]
  },
  {
   "cell_type": "code",
   "execution_count": null,
   "metadata": {},
   "outputs": [],
   "source": [
    "res_obj.plot_histogram_pert()"
   ]
  },
  {
   "cell_type": "code",
   "execution_count": null,
   "metadata": {},
   "outputs": [],
   "source": [
    "# for prot, net in it.product([\"tyk2\",\"p38\",\"mcl1\"],[\"rbfenn\",\"lomap\"]):\n",
    "\n",
    "#     results_files = [\"/home/anna/Documents/code/test/final_summary_SOMD_MBAR_alchemlyb_benchmark.csv\"]\n",
    "#     engine = \"SOMD\"\n",
    "#     output_folder = \"/home/anna/Documents/code/test\"\n",
    "#     net_file = f\"/home/anna/Documents/benchmark/{prot}_benchmark/execution_model/network_{net}.dat\"\n",
    "#     weight_file = f\"/home/anna/Documents/benchmark/{prot}_benchmark/execution_model/network_{net}_scores.dat\"\n",
    "\n",
    "#     perturbations, ligands, mod_results_files = get_info_network(results_files, net_file, extra_options={\"engine\":engine})\n",
    "\n",
    "#     graph_x = graph(ligands, perturbations)\n",
    "#     graph_x.add_weight(weight_file)\n",
    "#     # graph_x.draw_graph()\n",
    "#     avg_weighted = graph_x.get_average_weighted_simple_paths()\n",
    "#     print(f\"{prot} {net} is {avg_weighted}\")\n",
    "\n",
    "#     with open(f\"{output_folder}/graph_{prot}_{net}.pickle\", 'wb') as handle:\n",
    "#         pickle.dump(graph_x.graph, handle)\n",
    "\n",
    "# # cycles = graph.cycle_closures()\n",
    "# # print(cycles)\n",
    "\n",
    "# # nx.get_edge_attributes(graph_x.graph, \"weight\")\n",
    "\n",
    "# # print(len(perturbations))\n",
    "\n",
    "\n",
    "# # with open(f\"{output_folder}/graph_tyk2_rbfenn.pickle\", \"rb\") as file:\n",
    "# #     graph_t = pickle.load(file)\n",
    "# # print(type(graph_t))\n",
    "# # nx.get_edge_attributes(graph_t, \"weight\")"
   ]
  },
  {
   "cell_type": "code",
   "execution_count": null,
   "metadata": {},
   "outputs": [],
   "source": [
    "# import MDAnalysis\n",
    "# from MDAnalysis.tests.datafiles import PSF,DCD,CRD\n",
    "# u = MDAnalysis.Universe(PSF,DCD)\n",
    "# ref = MDAnalysis.Universe(PSF,DCD)     # reference closed AdK (1AKE) (with the default ref_frame=0)\n",
    "# #ref = MDAnalysis.Universe(PSF,CRD)    # reference open AdK (4AKE)\n",
    "\n",
    "# import MDAnalysis.analysis.rms\n",
    "\n",
    "# R = MDAnalysis.analysis.rms.RMSD(u, ref,\n",
    "#            select=\"backbone\",             # superimpose on whole backbone of the whole protein\n",
    "#            groupselections=[\"backbone and (resid 1-29 or resid 60-121 or resid 160-214)\",   # CORE\n",
    "#                             \"backbone and resid 122-159\",                                   # LID\n",
    "#                             \"backbone and resid 30-59\"])                                    # NMP\n",
    "# R.run()\n",
    "\n",
    "# import matplotlib.pyplot as plt\n",
    "# rmsd = R.rmsd.T   # transpose makes it easier for plotting\n",
    "# time = rmsd[1]\n",
    "# fig = plt.figure(figsize=(4,4))\n",
    "# ax = fig.add_subplot(111)\n",
    "# ax.plot(time, rmsd[2], 'k-',  label=\"all\")\n",
    "# ax.plot(time, rmsd[3], 'k--', label=\"CORE\")\n",
    "# ax.plot(time, rmsd[4], 'r--', label=\"LID\")\n",
    "# ax.plot(time, rmsd[5], 'b--', label=\"NMP\")\n",
    "# ax.legend(loc=\"best\")\n",
    "# ax.set_xlabel(\"time (ps)\")\n",
    "# ax.set_ylabel(r\"RMSD ($\\AA$)\")\n",
    "# fig.savefig(\"rmsd_all_CORE_LID_NMP_ref1AKE.pdf\")"
   ]
  }
 ],
 "metadata": {
  "kernelspec": {
   "display_name": "Python 3.9.15 ('biosimspace-dev': conda)",
   "language": "python",
   "name": "python3"
  },
  "language_info": {
   "codemirror_mode": {
    "name": "ipython",
    "version": 3
   },
   "file_extension": ".py",
   "mimetype": "text/x-python",
   "name": "python",
   "nbconvert_exporter": "python",
   "pygments_lexer": "ipython3",
   "version": "3.9.15"
  },
  "orig_nbformat": 4,
  "vscode": {
   "interpreter": {
    "hash": "d79bb85316fa6c998e385cc39903e056bffeb3f6098416e9c269ddd32175e919"
   }
  }
 },
 "nbformat": 4,
 "nbformat_minor": 2
}
