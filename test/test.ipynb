{
 "cells": [
  {
   "cell_type": "code",
   "execution_count": 1,
   "metadata": {},
   "outputs": [
    {
     "data": {
      "application/vnd.jupyter.widget-view+json": {
       "model_id": "6650f42215cd408fa37ae4f9e35d195e",
       "version_major": 2,
       "version_minor": 0
      },
      "text/plain": []
     },
     "metadata": {},
     "output_type": "display_data"
    },
    {
     "name": "stdout",
     "output_type": "stream",
     "text": [
      "/home/anna/Documents/cinnabar/cinnabar/__init__.py\n",
      "adding code to the pythonpath...\n"
     ]
    },
    {
     "name": "stderr",
     "output_type": "stream",
     "text": [
      "WARNING:openff.toolkit.utils.toolkit_registry:Warning: Unable to load toolkit 'OpenEye Toolkit'. The Open Force Field Toolkit does not require the OpenEye Toolkits, and can use RDKit/AmberTools instead. However, if you have a valid license for the OpenEye Toolkits, consider installing them for faster performance and additional file format support: https://docs.eyesopen.com/toolkits/python/quickstart-python/linuxosx.html OpenEye offers free Toolkit licenses for academics: https://www.eyesopen.com/academic-licensing\n",
      "WARNING:root:Warning: importing 'simtk.openmm' is deprecated.  Import 'openmm' instead.\n"
     ]
    }
   ],
   "source": [
    "import sys\n",
    "\n",
    "sys.path.remove(\"/home/anna/BioSimSpace/python\")\n",
    "\n",
    "import networkx as nx\n",
    "import pickle\n",
    "import itertools as it\n",
    "import os\n",
    "import shutil\n",
    "\n",
    "import MDAnalysis as mda\n",
    "import MDAnalysis.transformations as trans\n",
    "import nglview as nv\n",
    "\n",
    "\n",
    "import warnings\n",
    "warnings.filterwarnings(action='once')\n",
    "\n",
    "\n",
    "if '/home/anna/Documents/cinnabar' not in sys.path:\n",
    "    sys.path.insert(1, '/home/anna/Documents/cinnabar')\n",
    "import cinnabar\n",
    "\n",
    "print(cinnabar.__file__)\n",
    "\n",
    "print(\"adding code to the pythonpath...\")\n",
    "code = '/home/anna/Documents/code/python'\n",
    "if code not in sys.path:\n",
    "    sys.path.insert(1, code)\n",
    "import pipeline\n",
    "\n",
    "from pipeline import *\n",
    "from pipeline.analysis import *\n",
    "from pipeline.prep import *\n",
    "from pipeline.utils import *\n"
   ]
  },
  {
   "cell_type": "code",
   "execution_count": 8,
   "metadata": {},
   "outputs": [
    {
     "name": "stdout",
     "output_type": "stream",
     "text": [
      "hmr factor not found in protocol. auto will be used.\n",
      "engines not found in protocol. ALL will be used.\n",
      "fepprep not found in protocol. middle will be used.\n",
      "'hmr' must be set to True for a hmr factor to be applied. It will still be set as auto.\n"
     ]
    }
   ],
   "source": [
    "prot_file = \"/home/anna/Documents/benchmark/tyk2_benchmark/execution_model/protocol_2fs.dat\"\n",
    "protocol = pipeline_protocol(prot_file)\n",
    "protocol.validate()\n",
    "protocol.fepprep(\"both\")\n",
    "\n",
    "protocol.num_lambda(11)\n",
    "protocol.engine(\"AMBER\")"
   ]
  },
  {
   "cell_type": "code",
   "execution_count": 11,
   "metadata": {},
   "outputs": [],
   "source": [
    "# Load equilibrated inputs for both ligands\n",
    "prep_dir = \"/home/anna/Documents/benchmark/tyk2_benchmark/prep\"\n",
    "lig_1 = \"lig_ejm31\"\n",
    "lig_2 = \"lig_ejm48\"\n",
    "\n",
    "# fepprep_obj = fepprep(protocol=protocol)\n",
    "\n",
    "for name, leg in zip([\"lig\", \"sys\"], [\"free\", \"bound\"]):\n",
    "\n",
    "    # Load equilibrated inputs for both ligands\n",
    "    system_1 = BSS.IO.readMolecules(\n",
    "        [f\"{prep_dir}/{lig_1}_{name}_equil_solv.rst7\", f\"{prep_dir}/{lig_1}_{name}_equil_solv.prm7\"])\n",
    "    system_2 = BSS.IO.readMolecules(\n",
    "        [f\"{prep_dir}/{lig_2}_{name}_equil_solv.rst7\", f\"{prep_dir}/{lig_2}_{name}_equil_solv.prm7\"])\n",
    "\n",
    "    # fepprep_obj.add_system(system_1, free_bound=leg, start_end=\"start\")\n",
    "    # fepprep_obj.add_system(system_2, free_bound=leg, start_end=\"end\")\n",
    "\n",
    "# folder = f\"/home/anna/Documents/code/test/both_{lig_1}~{lig_2}\"\n",
    "# fepprep_obj.generate_folders(f\"{folder}\")"
   ]
  },
  {
   "cell_type": "code",
   "execution_count": 19,
   "metadata": {},
   "outputs": [
    {
     "name": "stdout",
     "output_type": "stream",
     "text": [
      "<BioSimSpace.Molecule: nAtoms=32, nResidues=1>\n",
      "<BioSimSpace.Molecule: nAtoms=42, nResidues=1>\n",
      "mapping, aligning and merging the ligands...\n"
     ]
    },
    {
     "ename": "TypeError",
     "evalue": "matchAtoms() got an unexpected keyword argument 'prune_perturbed_constraints'",
     "output_type": "error",
     "traceback": [
      "\u001b[0;31m---------------------------------------------------------------------------\u001b[0m",
      "\u001b[0;31mTypeError\u001b[0m                                 Traceback (most recent call last)",
      "Cell \u001b[0;32mIn[19], line 5\u001b[0m\n\u001b[1;32m      3\u001b[0m lig1 \u001b[39m=\u001b[39m merge\u001b[39m.\u001b[39mextract_ligand(system_2)\n\u001b[1;32m      4\u001b[0m \u001b[39mprint\u001b[39m(lig1)\n\u001b[0;32m----> 5\u001b[0m sys_merge \u001b[39m=\u001b[39m merge\u001b[39m.\u001b[39;49mmerge_system(system_1, system_2, \u001b[39m*\u001b[39;49m\u001b[39m*\u001b[39;49m{\u001b[39m\"\u001b[39;49m\u001b[39malign to\u001b[39;49m\u001b[39m\"\u001b[39;49m: \u001b[39m\"\u001b[39;49m\u001b[39mlig1\u001b[39;49m\u001b[39m\"\u001b[39;49m})\n",
      "File \u001b[0;32m~/Documents/code/python/pipeline/prep/_merge.py:136\u001b[0m, in \u001b[0;36mmerge.merge_system\u001b[0;34m(system0, system1, **kwargs)\u001b[0m\n\u001b[1;32m    134\u001b[0m \u001b[39m# merge the ligands based on the engine.\u001b[39;00m\n\u001b[1;32m    135\u001b[0m \u001b[39mprint\u001b[39m(\u001b[39m\"\u001b[39m\u001b[39mmapping, aligning and merging the ligands...\u001b[39m\u001b[39m\"\u001b[39m)\n\u001b[0;32m--> 136\u001b[0m merged_trans \u001b[39m=\u001b[39m merge\u001b[39m.\u001b[39;49mmerge_ligands(ligand_0, ligand_1, \u001b[39m*\u001b[39;49m\u001b[39m*\u001b[39;49mkwargs)\n\u001b[1;32m    138\u001b[0m \u001b[39mif\u001b[39;00m align_to \u001b[39m==\u001b[39m \u001b[39m\"\u001b[39m\u001b[39mlig0\u001b[39m\u001b[39m\"\u001b[39m:\n\u001b[1;32m    139\u001b[0m     \u001b[39m# put the merged ligand into the system_0 in place of ligand_0\u001b[39;00m\n\u001b[1;32m    140\u001b[0m     system_0\u001b[39m.\u001b[39mremoveMolecules(ligand_0)\n",
      "File \u001b[0;32m~/Documents/code/python/pipeline/prep/_merge.py:41\u001b[0m, in \u001b[0;36mmerge.merge_ligands\u001b[0;34m(ligand_0, ligand_1, **kwargs)\u001b[0m\n\u001b[1;32m     37\u001b[0m         align_to \u001b[39m=\u001b[39m validate\u001b[39m.\u001b[39mstring(value)  \n\u001b[1;32m     39\u001b[0m \u001b[39m# Align ligand2 on ligand1\u001b[39;00m\n\u001b[1;32m     40\u001b[0m \u001b[39m# get the mapping of ligand0 to atoms in ligand1\u001b[39;00m\n\u001b[0;32m---> 41\u001b[0m mapping \u001b[39m=\u001b[39m BSS\u001b[39m.\u001b[39;49mAlign\u001b[39m.\u001b[39;49mmatchAtoms(\n\u001b[1;32m     42\u001b[0m                             ligand_0, ligand_1,\n\u001b[1;32m     43\u001b[0m                             complete_rings_only\u001b[39m=\u001b[39;49m\u001b[39mTrue\u001b[39;49;00m,\n\u001b[1;32m     44\u001b[0m                             prune_perturbed_constraints\u001b[39m=\u001b[39;49mprune_perturbed_constraints,\n\u001b[1;32m     45\u001b[0m                             prune_crossing_constraints\u001b[39m=\u001b[39;49mprune_crossing_constraints\n\u001b[1;32m     46\u001b[0m                             )           \n\u001b[1;32m     47\u001b[0m inv_mapping \u001b[39m=\u001b[39m {v: k \u001b[39mfor\u001b[39;00m k, v \u001b[39min\u001b[39;00m mapping\u001b[39m.\u001b[39mitems()}\n\u001b[1;32m     49\u001b[0m \u001b[39mif\u001b[39;00m align_to \u001b[39m==\u001b[39m \u001b[39m\"\u001b[39m\u001b[39mlig0\u001b[39m\u001b[39m\"\u001b[39m:\n\u001b[1;32m     50\u001b[0m     \u001b[39m# need inverse mapping to align\u001b[39;00m\n\u001b[1;32m     51\u001b[0m     \u001b[39m# aligns atoms in first argument to atoms in second argument\u001b[39;00m\n",
      "\u001b[0;31mTypeError\u001b[0m: matchAtoms() got an unexpected keyword argument 'prune_perturbed_constraints'"
     ]
    }
   ],
   "source": [
    "lig0 = merge.extract_ligand(system_1)\n",
    "print(lig0)\n",
    "lig1 = merge.extract_ligand(system_2)\n",
    "print(lig1)\n",
    "sys_merge = merge.merge_system(system_1, system_2, **{\"align to\": \"lig1\"})"
   ]
  },
  {
   "cell_type": "code",
   "execution_count": 5,
   "metadata": {},
   "outputs": [
    {
     "name": "stdout",
     "output_type": "stream",
     "text": [
      "<BioSimSpace.Molecule: nAtoms=32, nResidues=1>\n",
      "<BioSimSpace.Molecule: nAtoms=42, nResidues=1>\n",
      "18795\n"
     ]
    }
   ],
   "source": [
    "merge_mol = sys_merge.getPerturbableMolecules()[0]\n",
    "print(merge_mol.molecule0())\n",
    "print(merge_mol.molecule1())\n",
    "print(sys_merge.nMolecules()) # 18796"
   ]
  },
  {
   "cell_type": "code",
   "execution_count": 23,
   "metadata": {},
   "outputs": [],
   "source": [
    "BSS.IO.savePerturbableSystem(\"test/merge_sys2\", no_wat)"
   ]
  },
  {
   "cell_type": "code",
   "execution_count": 24,
   "metadata": {},
   "outputs": [],
   "source": [
    "load_sys = BSS.IO.readPerturbableSystem(top0=\"test/merge_sys20.prm7\", coords0=\"test/merge_sys20.rst7\",\n",
    "                             top1=\"test/merge_sys21.prm7\", coords1=\"test/merge_sys21.rst7\")"
   ]
  },
  {
   "cell_type": "code",
   "execution_count": 25,
   "metadata": {},
   "outputs": [
    {
     "data": {
      "text/plain": [
       "<BioSimSpace.System: nMolecules=116>"
      ]
     },
     "execution_count": 25,
     "metadata": {},
     "output_type": "execute_result"
    }
   ],
   "source": [
    "load_sys"
   ]
  },
  {
   "cell_type": "code",
   "execution_count": 33,
   "metadata": {},
   "outputs": [
    {
     "name": "stdout",
     "output_type": "stream",
     "text": [
      "box dimensions for 25 1.0000 A truncatedOctahedron are:\n",
      "box_min : [12.8610 A, -43.0837 A, 1.2238 A]\n",
      "box_max : [141.5887 A, 85.6908 A, 75.5933 A]\n",
      "box_size : [128.7276 A, 128.7745 A, 74.3695 A]\n",
      "box_sizes : [153.7276 A, 153.7745 A, 99.3695 A]\n",
      "with the final box : [153.7745 A, 153.7745 A, 153.7745 A] with angles as : [109.4712 degrees, 70.5288 degrees, 70.5288 degrees]\n",
      "The total no of molecules is : 90248\n"
     ]
    }
   ],
   "source": [
    "sol_sys = ligprep.minimum_solvation(load_sys, \"TIP3P\",\"truncatedOctahedron\",25)"
   ]
  },
  {
   "cell_type": "code",
   "execution_count": 31,
   "metadata": {},
   "outputs": [
    {
     "data": {
      "text/plain": [
       "1"
      ]
     },
     "execution_count": 31,
     "metadata": {},
     "output_type": "execute_result"
    }
   ],
   "source": [
    "sol_sys.nPerturbableMolecules()"
   ]
  },
  {
   "cell_type": "code",
   "execution_count": 26,
   "metadata": {},
   "outputs": [],
   "source": [
    "no_wat = load_sys.copy()\n",
    "no_wat.removeWaterMolecules()"
   ]
  },
  {
   "cell_type": "code",
   "execution_count": 27,
   "metadata": {},
   "outputs": [
    {
     "data": {
      "application/vnd.jupyter.widget-view+json": {
       "model_id": "d96b944225a54cd981583f8000b2e6f1",
       "version_major": 2,
       "version_minor": 0
      },
      "text/plain": [
       "NGLWidget(gui_style='ngl')"
      ]
     },
     "metadata": {},
     "output_type": "display_data"
    }
   ],
   "source": [
    "BSS.Notebook.View(no_wat).system() "
   ]
  },
  {
   "cell_type": "code",
   "execution_count": 16,
   "metadata": {},
   "outputs": [
    {
     "name": "stderr",
     "output_type": "stream",
     "text": [
      "/home/anna/anaconda3/envs/working/lib/python3.9/tempfile.py:821: ResourceWarning: Implicitly cleaning up <TemporaryDirectory '/tmp/tmpx1wvvdvo'>\n",
      "  _warnings.warn(warn_message, ResourceWarning)\n",
      "sys:1: ResourceWarning: Unclosed socket <zmq.Socket(zmq.PUSH) at 0x7fa047561b80>\n",
      "ResourceWarning: Enable tracemalloc to get the object allocation traceback\n",
      "/home/anna/anaconda3/envs/working/lib/python3.9/tempfile.py:821: ResourceWarning: Implicitly cleaning up <TemporaryDirectory '/tmp/tmpwdy15ypl'>\n",
      "  _warnings.warn(warn_message, ResourceWarning)\n",
      "sys:1: ResourceWarning: Unclosed socket <zmq.Socket(zmq.PUSH) at 0x7fa047663940>\n",
      "ResourceWarning: Enable tracemalloc to get the object allocation traceback\n",
      "/home/anna/anaconda3/envs/working/lib/python3.9/tempfile.py:821: ResourceWarning: Implicitly cleaning up <TemporaryDirectory '/tmp/tmpvvv_r58v'>\n",
      "  _warnings.warn(warn_message, ResourceWarning)\n",
      "sys:1: ResourceWarning: Unclosed socket <zmq.Socket(zmq.PUSH) at 0x7fa04757e1c0>\n",
      "ResourceWarning: Enable tracemalloc to get the object allocation traceback\n",
      "/home/anna/anaconda3/envs/working/lib/python3.9/tempfile.py:821: ResourceWarning: Implicitly cleaning up <TemporaryDirectory '/tmp/tmp0cotdbk4'>\n",
      "  _warnings.warn(warn_message, ResourceWarning)\n",
      "/home/anna/anaconda3/envs/working/lib/python3.9/subprocess.py:1052: ResourceWarning: subprocess 3480723 is still running\n",
      "  _warn(\"subprocess %s is still running\" % self.pid,\n",
      "ResourceWarning: Enable tracemalloc to get the object allocation traceback\n",
      "/home/anna/anaconda3/envs/working/lib/python3.9/tempfile.py:821: ResourceWarning: Implicitly cleaning up <TemporaryDirectory '/tmp/tmpu0_lhz_u'>\n",
      "  _warnings.warn(warn_message, ResourceWarning)\n",
      "/home/anna/anaconda3/envs/working/lib/python3.9/subprocess.py:1052: ResourceWarning: subprocess 3480812 is still running\n",
      "  _warn(\"subprocess %s is still running\" % self.pid,\n",
      "ResourceWarning: Enable tracemalloc to get the object allocation traceback\n",
      "/home/anna/anaconda3/envs/working/lib/python3.9/tempfile.py:821: ResourceWarning: Implicitly cleaning up <TemporaryDirectory '/tmp/tmptxjfjqn8'>\n",
      "  _warnings.warn(warn_message, ResourceWarning)\n",
      "/home/anna/anaconda3/envs/working/lib/python3.9/subprocess.py:1052: ResourceWarning: subprocess 3480858 is still running\n",
      "  _warn(\"subprocess %s is still running\" % self.pid,\n",
      "ResourceWarning: Enable tracemalloc to get the object allocation traceback\n"
     ]
    }
   ],
   "source": [
    "mole = load_sys.getPerturbableMolecules()[0].molecule1()"
   ]
  },
  {
   "cell_type": "code",
   "execution_count": 17,
   "metadata": {},
   "outputs": [],
   "source": [
    "new_sys = load_sys.copy()\n",
    "new_sys.removeMolecules(new_sys.getPerturbableMolecules()[0])\n",
    "new_sys.removeWaterMolecules()\n",
    "new_sys.addMolecules(mole)"
   ]
  },
  {
   "cell_type": "code",
   "execution_count": 18,
   "metadata": {},
   "outputs": [
    {
     "data": {
      "application/vnd.jupyter.widget-view+json": {
       "model_id": "2c224fe5928f4c9c81dee067b61b5853",
       "version_major": 2,
       "version_minor": 0
      },
      "text/plain": [
       "NGLWidget(gui_style='ngl')"
      ]
     },
     "metadata": {},
     "output_type": "display_data"
    }
   ],
   "source": [
    "BSS.Notebook.View(new_sys).system() "
   ]
  },
  {
   "cell_type": "code",
   "execution_count": null,
   "metadata": {},
   "outputs": [],
   "source": [
    "pmemd_path = os.environ[\"AMBERHOME\"] + \"/bin/pmemd.cuda\""
   ]
  },
  {
   "cell_type": "code",
   "execution_count": null,
   "metadata": {},
   "outputs": [],
   "source": [
    "fepprep_obj = fepprep(system_free, system_bound, protocol)\n",
    "folder = f\"/home/anna/Documents/code/test/{lig_1}~{lig_2}_restraints\"\n",
    "free_system, bound_system = fepprep_obj.prep_system_middle(pmemd_path, work_dir=f\"{folder}/eq\")\n",
    "\n",
    "# fepprep_obj.generate_folders(f\"{folder}\")"
   ]
  },
  {
   "cell_type": "code",
   "execution_count": null,
   "metadata": {},
   "outputs": [],
   "source": [
    "\n",
    "fepprep_obj.generate_folders(f\"{folder}\")"
   ]
  },
  {
   "cell_type": "code",
   "execution_count": null,
   "metadata": {},
   "outputs": [],
   "source": [
    "mol_eq = free_system.getPerturbableMolecules()[0].copy()"
   ]
  },
  {
   "cell_type": "code",
   "execution_count": null,
   "metadata": {},
   "outputs": [],
   "source": [
    "mol_non = system_free.getPerturbableMolecules()[0]"
   ]
  },
  {
   "cell_type": "code",
   "execution_count": null,
   "metadata": {},
   "outputs": [],
   "source": [
    "both_mols = mol_eq + mol_non\n",
    "both_mols"
   ]
  },
  {
   "cell_type": "code",
   "execution_count": null,
   "metadata": {},
   "outputs": [],
   "source": [
    "BSS.Notebook.View(both_mols).molecules()"
   ]
  },
  {
   "cell_type": "code",
   "execution_count": null,
   "metadata": {},
   "outputs": [],
   "source": [
    "system_free.nPerturbableMolecules()"
   ]
  },
  {
   "cell_type": "code",
   "execution_count": null,
   "metadata": {},
   "outputs": [],
   "source": [
    "BSS.Notebook.View(system_bound).system()\n"
   ]
  },
  {
   "cell_type": "code",
   "execution_count": null,
   "metadata": {},
   "outputs": [],
   "source": [
    "fepprep_obj2 = fepprep(system_free, system_bound, protocol)\n",
    "folder2 = f\"/home/anna/Documents/code/test/{lig_1}~{lig_2}_noeq\"\n",
    "fepprep_obj2.generate_folders(f\"{folder2}\")"
   ]
  },
  {
   "cell_type": "code",
   "execution_count": null,
   "metadata": {},
   "outputs": [],
   "source": [
    "fepprep_obj.generate_folders(f\"{folder}\")"
   ]
  },
  {
   "cell_type": "code",
   "execution_count": null,
   "metadata": {},
   "outputs": [],
   "source": [
    "lig_fep = \"fepprep\"\n",
    "engine=\"AMBER\"\n",
    "\n",
    "protocol_min_rest, protocol_min = min_prots(lig_fep)\n",
    "\n",
    "protocol_nvt_sol, protocol_nvt_heavy, protocol_nvt = nvt_prots(lig_fep)\n",
    "\n",
    "protocol_npt_heavy, protocol_npt_heavy_lighter, protocol_npt = npt_prots(lig_fep)"
   ]
  },
  {
   "cell_type": "code",
   "execution_count": null,
   "metadata": {},
   "outputs": [],
   "source": [
    "protocol_min.getLambdaValues()"
   ]
  },
  {
   "cell_type": "code",
   "execution_count": null,
   "metadata": {},
   "outputs": [],
   "source": [
    "minimised1 = run_process(system_free, protocol_min_rest, engine, pmemd_path)\n",
    "minimised2 = run_process(minimised1, protocol_min, engine, pmemd_path, work_dir=folder)"
   ]
  },
  {
   "cell_type": "code",
   "execution_count": null,
   "metadata": {},
   "outputs": [],
   "source": [
    "BSS.IO.saveMolecules(f\"{folder}/minimised\", minimised2, \"PDB\")"
   ]
  },
  {
   "cell_type": "code",
   "execution_count": null,
   "metadata": {},
   "outputs": [],
   "source": [
    "BSS.IO.savePerturbableSystem(f\"{folder}/minimised\", minimised2)"
   ]
  },
  {
   "cell_type": "code",
   "execution_count": null,
   "metadata": {},
   "outputs": [],
   "source": [
    "equil1 = run_process(equil3, protocol_nvt_sol, engine, pmemd_path) #, work_dir=f\"{folder}/equil1\"\n"
   ]
  },
  {
   "cell_type": "code",
   "execution_count": null,
   "metadata": {},
   "outputs": [],
   "source": [
    "equil2 = run_process(equil1, protocol_nvt_heavy, engine, pmemd_path) #, work_dir=f\"{folder}/equil2\"\n"
   ]
  },
  {
   "cell_type": "code",
   "execution_count": null,
   "metadata": {},
   "outputs": [],
   "source": [
    "equil3a = run_process(equil2, protocol_nvt, engine, pmemd_path, work_dir=f\"{folder}/equil3\")"
   ]
  },
  {
   "cell_type": "code",
   "execution_count": null,
   "metadata": {},
   "outputs": [],
   "source": [
    "equil3 = run_process(minimised2, protocol_nvt, engine, pmemd_path, work_dir=f\"{folder}/min_to_equil3\")"
   ]
  },
  {
   "cell_type": "code",
   "execution_count": null,
   "metadata": {},
   "outputs": [],
   "source": [
    "BSS.Notebook.View(equil4).system()"
   ]
  },
  {
   "cell_type": "code",
   "execution_count": null,
   "metadata": {},
   "outputs": [],
   "source": [
    "equil4 = run_process(equil3, heat_protocol, engine, pmemd_path, work_dir=f\"{folder}/eq_test\")"
   ]
  },
  {
   "cell_type": "code",
   "execution_count": null,
   "metadata": {},
   "outputs": [],
   "source": [
    "BSS.Notebook.View(merge.extract_ligand(equil4)).system()"
   ]
  },
  {
   "cell_type": "code",
   "execution_count": null,
   "metadata": {},
   "outputs": [],
   "source": [
    "protocol_npt_heavy"
   ]
  },
  {
   "cell_type": "code",
   "execution_count": null,
   "metadata": {},
   "outputs": [],
   "source": [
    "equil4 = run_process(equil3, protocol_npt_heavy, engine, pmemd_path, work_dir=f\"{folder}/eq_test2\")\n"
   ]
  },
  {
   "cell_type": "code",
   "execution_count": null,
   "metadata": {},
   "outputs": [],
   "source": [
    "equil5 = run_process(equil4, protocol_npt_heavy_lighter, engine, pmemd_path, work_dir=f\"{folder}/equil5\")"
   ]
  },
  {
   "cell_type": "code",
   "execution_count": null,
   "metadata": {},
   "outputs": [],
   "source": [
    "sys_equil_fin = run_process(equil3, protocol_npt, engine, pmemd_path, work_dir=f\"{folder}/equilfinal\")"
   ]
  },
  {
   "cell_type": "code",
   "execution_count": null,
   "metadata": {},
   "outputs": [],
   "source": []
  },
  {
   "cell_type": "code",
   "execution_count": null,
   "metadata": {},
   "outputs": [],
   "source": [
    "fepprep_obj = fepprep(system_free, system_bound, protocol)\n",
    "free_system, bound_system = fepprep_obj.prep_system_middle(pmemd_path)\n",
    "# fepprep_obj.generate_folders(\"/home/anna/Documents/code/test/lig_ejm31~lig_ejm48\")"
   ]
  },
  {
   "cell_type": "code",
   "execution_count": null,
   "metadata": {},
   "outputs": [],
   "source": [
    "args = {\"lam\":0.5, \"lam_vals\":[0.5]}\n",
    "\n",
    "min_protocol = BSS.Protocol.FreeEnergyMinimisation(\n",
    "                                                num_lam=protocol.num_lambda(),\n",
    "                                                steps=protocol.min_steps(), **args\n",
    "                                                )\n",
    "heat_protocol = BSS.Protocol.FreeEnergyEquilibration(timestep=protocol.timestep()*protocol.timestep_unit(),\n",
    "                                                    num_lam=protocol.num_lambda(),\n",
    "                                                    runtime=protocol.eq_runtime()*protocol.eq_runtime_unit(),\n",
    "                                                    pressure=None,\n",
    "                                                    temperature_start=protocol.start_temperature()*protocol.temperature_unit(),\n",
    "                                                    temperature_end=protocol.end_temperature()*protocol.temperature_unit(),\n",
    "                                                    hmr_factor=protocol.hmr_factor(), **args\n",
    "                                                    )\n",
    "eq_protocol = BSS.Protocol.FreeEnergyEquilibration(timestep=protocol.timestep()*protocol.timestep_unit(),\n",
    "                                                num_lam=protocol.num_lambda(),\n",
    "                                                runtime=protocol.eq_runtime()*protocol.eq_runtime_unit(),\n",
    "                                                temperature=protocol.temperature()*protocol.temperature_unit(),\n",
    "                                                pressure=protocol.pressure()*protocol.pressure_unit(),\n",
    "                                                restart=True,\n",
    "                                                hmr_factor=protocol.hmr_factor(), **args\n",
    "                                                )\n",
    "freenrg_protocol = BSS.Protocol.FreeEnergy(timestep=protocol.timestep()*protocol.timestep_unit(),\n",
    "                                            num_lam=protocol.num_lambda(),\n",
    "                                            runtime=protocol.sampling()*protocol.sampling_unit(),\n",
    "                                            temperature=protocol.temperature()*protocol.temperature_unit(),\n",
    "                                            pressure=protocol.pressure()*protocol.pressure_unit(),\n",
    "                                            restart=True,\n",
    "                                            hmr_factor=protocol.hmr_factor(), **args\n",
    "                                        )"
   ]
  },
  {
   "cell_type": "code",
   "execution_count": null,
   "metadata": {},
   "outputs": [],
   "source": [
    "minimised1 = run_process(system_free, min_protocol, \"AMBER\", pmemd_path)"
   ]
  },
  {
   "cell_type": "code",
   "execution_count": null,
   "metadata": {},
   "outputs": [],
   "source": [
    "eq_sys = run_process(minimised1, heat_protocol, \"AMBER\", pmemd_path)"
   ]
  },
  {
   "cell_type": "code",
   "execution_count": null,
   "metadata": {},
   "outputs": [],
   "source": [
    "eq2_sys = run_process(eq_sys, eq_protocol, \"AMBER\", pmemd_path)"
   ]
  },
  {
   "cell_type": "code",
   "execution_count": null,
   "metadata": {},
   "outputs": [],
   "source": [
    "BSS.Notebook.View(eq_sys).system()"
   ]
  },
  {
   "cell_type": "code",
   "execution_count": null,
   "metadata": {},
   "outputs": [],
   "source": [
    "final_sys = run_process(eq2_sys, freenrg_protocol, \"AMBER\", pmemd_path)"
   ]
  },
  {
   "cell_type": "code",
   "execution_count": null,
   "metadata": {},
   "outputs": [],
   "source": [
    "free_system.nPerturbableMolecules()"
   ]
  },
  {
   "cell_type": "code",
   "execution_count": null,
   "metadata": {},
   "outputs": [],
   "source": []
  },
  {
   "cell_type": "code",
   "execution_count": null,
   "metadata": {},
   "outputs": [],
   "source": [
    "transf = [\"lig_ejm31~lig_ejm45\", \"lig_ejm44~lig_ejm45\",\"lig_ejm44~lig_ejm49\"]\n",
    "engine = \"GROMACS\"\n",
    "main_dir = \"/home/anna/Documents/benchmark/tyk2_benchmark\"\n",
    "# methods = [\"1fs\", \"2fs_HMR4\", \"4fs_HMR4\", \"4fs_HMR3\", \"2fs_HMR3\", \"2fs\"]\n",
    "methods = [\"2fs\"]\n",
    "\n",
    "# options\n",
    "ana_file = f\"{main_dir}/execution_model/analysis_protocol.dat\"\n",
    "analysis_options = analysis_protocol(ana_file, auto_validate=True)\n",
    "# analysis_options.rewrite_protocol()\n",
    "\n",
    "for method in methods:\n",
    "    for trans in transf:\n",
    "        path_to_dir = f\"{main_dir}/outputs_extracted/{engine}/{method}/{trans}\"\n",
    "        print(path_to_dir)\n",
    "        final_results_folder = f\"{main_dir}/outputs_extracted/results\"\n",
    "\n",
    "        # try:\n",
    "        # using the pipeline module for analysis\n",
    "        analysed_pert = analyse(path_to_dir)\n",
    "        analysed_pert.set_options(analysis_options)\n",
    "        analysed_pert.set_options({\"try pickle\":False})\n",
    "        avg, error, repeats_tuple_list = analysed_pert.analyse_all_repeats()\n",
    "        # analysed_pert.plot_graphs()\n",
    "        write_analysis_file(analysed_pert, final_results_folder, method=method)\n",
    "        # except Exception as e:\n",
    "        #     print(e)\n",
    "        #     print(f\"could not analyse {path_to_dir}\")"
   ]
  },
  {
   "cell_type": "code",
   "execution_count": null,
   "metadata": {},
   "outputs": [],
   "source": [
    "transf = [\"lig_ejm31~lig_ejm45\", \"lig_ejm31~lig_ejm48\",\"lig_ejm43~lig_ejm46\", \"lig_ejm46~lig_jmc28\", \"lig_jmc27~lig_jmc28\"]\n",
    "engine = \"AMBER\"\n",
    "main_dir = \"/home/anna/Documents/benchmark/tyk2_benchmark\"\n",
    "# methods = [\"1fs\", \"2fs_HMR4\", \"4fs\", \"4fs_HMR3\", \"2fs_HMR3\", \"2fs\"]\n",
    "methods = [\"both_failed_wrong_lambda_windows_used\"]\n",
    "\n",
    "# options\n",
    "ana_file = f\"{main_dir}/execution_model/analysis_protocol.dat\"\n",
    "analysis_options = analysis_protocol(ana_file, auto_validate=True)\n",
    "# analysis_options.rewrite_protocol()\n",
    "\n",
    "for method in methods:\n",
    "    for trans in transf:\n",
    "        # trans = f\"{trans.split('~')[1]}~{trans.split('~')[0]}\" # for reverse\n",
    "        path_to_dir = f\"{main_dir}/outputs_extracted/{engine}/{method}/{trans}\"\n",
    "        print(path_to_dir)\n",
    "        final_results_folder = f\"{main_dir}/outputs_extracted/results\"\n",
    "\n",
    "        try:\n",
    "            # using the pipeline module for analysis\n",
    "            analysed_pert = analyse(path_to_dir)\n",
    "            analysed_pert.set_options(analysis_options)\n",
    "            avg, error, repeats_tuple_list = analysed_pert.analyse_all_repeats()\n",
    "            # analysed_pert.plot_graphs()\n",
    "            write_analysis_file(analysed_pert, final_results_folder, method=method)\n",
    "        except Exception as e:\n",
    "            print(e)\n",
    "            print(f\"could not analyse {path_to_dir}\")"
   ]
  }
 ],
 "metadata": {
  "kernelspec": {
   "display_name": "Python 3.9.15 ('biosimspace-dev': conda)",
   "language": "python",
   "name": "python3"
  },
  "language_info": {
   "codemirror_mode": {
    "name": "ipython",
    "version": 3
   },
   "file_extension": ".py",
   "mimetype": "text/x-python",
   "name": "python",
   "nbconvert_exporter": "python",
   "pygments_lexer": "ipython3",
   "version": "3.9.16"
  },
  "orig_nbformat": 4,
  "vscode": {
   "interpreter": {
    "hash": "d79bb85316fa6c998e385cc39903e056bffeb3f6098416e9c269ddd32175e919"
   }
  }
 },
 "nbformat": 4,
 "nbformat_minor": 2
}
