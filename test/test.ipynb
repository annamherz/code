{
 "cells": [
  {
   "cell_type": "code",
   "execution_count": 1,
   "metadata": {},
   "outputs": [
    {
     "name": "stdout",
     "output_type": "stream",
     "text": [
      "\n",
      "==============================================================\n",
      "Sending anonymous Sire usage statistics to http://siremol.org.\n",
      "For more information, see http://siremol.org/analytics\n",
      "To disable, set the environment variable 'SIRE_DONT_PHONEHOME' to 1\n",
      "To see the information sent, set the environment variable \n",
      "SIRE_VERBOSE_PHONEHOME equal to 1. To silence this message, set\n",
      "the environment variable SIRE_SILENT_PHONEHOME to 1.\n",
      "==============================================================\n",
      "\n"
     ]
    },
    {
     "name": "stderr",
     "output_type": "stream",
     "text": [
      "/home/anna/BioSimSpace/python/BioSimSpace/FreeEnergy/_relative.py:1062: DeprecationWarning: invalid escape sequence \\d\n",
      "  match = _re.search(\"temp0=([\\d.]+)\", line)\n",
      "/home/anna/BioSimSpace/python/BioSimSpace/FreeEnergy/_relative.py:785: SyntaxWarning: \"is not\" with a literal. Did you mean \"!=\"?\n",
      "  if method is not \"alchemlyb\":\n",
      "/home/anna/anaconda3/envs/biosimspace-dev/lib/python3.9/site-packages/numpy/core/getlimits.py:500: UserWarning: The value of the smallest subnormal for <class 'numpy.float64'> type is zero.\n",
      "  setattr(self, word, getattr(machar, word).flat[0])\n",
      "/home/anna/anaconda3/envs/biosimspace-dev/lib/python3.9/site-packages/numpy/core/getlimits.py:89: UserWarning: The value of the smallest subnormal for <class 'numpy.float64'> type is zero.\n",
      "  return self._float_to_str(self.smallest_subnormal)\n",
      "/home/anna/anaconda3/envs/biosimspace-dev/lib/python3.9/site-packages/numpy/core/getlimits.py:500: UserWarning: The value of the smallest subnormal for <class 'numpy.float32'> type is zero.\n",
      "  setattr(self, word, getattr(machar, word).flat[0])\n",
      "/home/anna/anaconda3/envs/biosimspace-dev/lib/python3.9/site-packages/numpy/core/getlimits.py:89: UserWarning: The value of the smallest subnormal for <class 'numpy.float32'> type is zero.\n",
      "  return self._float_to_str(self.smallest_subnormal)\n",
      "Warning: importing 'simtk.openmm' is deprecated.  Import 'openmm' instead.\n"
     ]
    },
    {
     "name": "stdout",
     "output_type": "stream",
     "text": [
      "adding code to the pythonpath...\n"
     ]
    }
   ],
   "source": [
    "import BioSimSpace as BSS\n",
    "import sys\n",
    "\n",
    "try:\n",
    "    import pipeline\n",
    "except:\n",
    "    print(\"adding code to the pythonpath...\")\n",
    "    code = '/home/anna/Documents/code/python'\n",
    "    if code not in sys.path:\n",
    "        sys.path.insert(1, code)\n",
    "    import pipeline\n",
    "\n",
    "from pipeline import *"
   ]
  },
  {
   "cell_type": "code",
   "execution_count": 12,
   "metadata": {},
   "outputs": [],
   "source": [
    "def my_function(a, b, **kwargs):\n",
    "    print(a)\n",
    "    print(b)\n",
    "    for key,value in kwargs.items():\n",
    "        if key == \"autoequilibration\":\n",
    "            auto_eq = value\n",
    "        else:\n",
    "            auto_eq = True\n",
    "\n",
    "        if key == \"statistical_inefficiency\":\n",
    "            stat_ineff = value\n",
    "        else:\n",
    "            stat_ineff = False\n",
    "\n",
    "        if key == \"truncate_output\":\n",
    "            truncate = value\n",
    "        else:\n",
    "            truncate = 0"
   ]
  },
  {
   "cell_type": "code",
   "execution_count": 13,
   "metadata": {},
   "outputs": [
    {
     "name": "stdout",
     "output_type": "stream",
     "text": [
      "1\n",
      "2\n",
      "True\n"
     ]
    }
   ],
   "source": [
    "my_function(1,2,pipe=True)"
   ]
  },
  {
   "cell_type": "code",
   "execution_count": null,
   "metadata": {},
   "outputs": [],
   "source": [
    "\n",
    "\n",
    "\n",
    "    @staticmethod\n",
    "    def _truncate_extracted_data(data, truncate, truncate_keep):\n",
    "         \"\"\"truncate the extracted output as a percentage\n",
    "\n",
    "\n",
    "        \"\"\"       \n",
    "\n",
    "        if truncate_keep == \"start\":\n",
    "            truncated_data = 0 \n",
    "\n",
    "        return truncated_data"
   ]
  },
  {
   "cell_type": "code",
   "execution_count": 9,
   "metadata": {},
   "outputs": [
    {
     "name": "stdout",
     "output_type": "stream",
     "text": [
      "5000\n",
      "time    lambdas\n",
      "0.0     0.0        0.0\n",
      "0.8     0.0        0.0\n",
      "1.6     0.0        0.0\n",
      "2.4     0.0        0.0\n",
      "3.2     0.0        0.0\n",
      "                  ... \n",
      "3996.0  0.0        0.0\n",
      "3996.8  0.0        0.0\n",
      "3997.6  0.0        0.0\n",
      "3998.4  0.0        0.0\n",
      "3999.2  0.0        0.0\n",
      "Name: 0.0, Length: 5000, dtype: float64\n"
     ]
    }
   ],
   "source": [
    "\n",
    "data = BSS.FreeEnergy.Relative._somd_extract_u_nk(\"/home/anna/Documents/benchmark/tyk2_benchmark/outputs/SOMD_extracted/lig_ejm31~lig_ejm42/bound_0/lambda_0.0000/simfile.dat\",300)\n",
    "# print(type(data))\n",
    "# print(data)\n",
    "print(len(data))\n",
    "print(data.iloc[:, 0])"
   ]
  },
  {
   "cell_type": "code",
   "execution_count": 5,
   "metadata": {},
   "outputs": [],
   "source": [
    "def _truncate_extracted_data(data, truncate, truncate_keep):\n",
    "\n",
    "    perc_kept = int(len(data) * (truncate/100))\n",
    "    print(perc_kept)\n",
    "\n",
    "    if truncate_keep == \"start\":\n",
    "        truncated_data = data.iloc[:perc_kept, :]\n",
    "    \n",
    "    if truncate_keep == \"end\":\n",
    "        truncated_data = data.iloc[(len(data) - perc_kept):, :]\n",
    "    \n",
    "    print(len(truncated_data))\n",
    "\n",
    "    return truncated_data"
   ]
  },
  {
   "cell_type": "code",
   "execution_count": 6,
   "metadata": {},
   "outputs": [
    {
     "name": "stdout",
     "output_type": "stream",
     "text": [
      "1250\n",
      "1250\n",
      "                0.0       0.1        0.2        0.3        0.4        0.5  \\\n",
      "time   lambdas                                                              \n",
      "3000.0 0.0      0.0  3.590150   9.488722  17.457728  27.328551  38.971538   \n",
      "3000.8 0.0      0.0  5.297473  12.747583  22.110646  33.202654  45.845378   \n",
      "3001.6 0.0      0.0  5.012982  12.240624  21.457811  32.491949  45.175005   \n",
      "3002.4 0.0      0.0  5.418138  13.010177  22.530506  33.793812  46.626914   \n",
      "3003.2 0.0      0.0  2.134788   6.534271  12.943868  21.162476  30.983584   \n",
      "...             ...       ...        ...        ...        ...        ...   \n",
      "3996.0 0.0      0.0  4.240756  10.783506  19.414135  29.981540  42.381722   \n",
      "3996.8 0.0      0.0  4.916069  11.975053  20.939853  31.624245  43.838918   \n",
      "3997.6 0.0      0.0  4.509093  11.237753  19.956575  30.501077  42.754980   \n",
      "3998.4 0.0      0.0  4.196501  10.615720  19.016323  29.212786  41.025075   \n",
      "3999.2 0.0      0.0  3.644286   9.557437  17.501458  27.294786  38.766746   \n",
      "\n",
      "                      0.6        0.7         0.8         0.9         1.0  \n",
      "time   lambdas                                                            \n",
      "3000.0 0.0      52.484450  68.825831   92.515083  144.408628  334.918181  \n",
      "3000.8 0.0      59.957402  75.807806   95.041441  124.988975  199.636796  \n",
      "3001.6 0.0      59.432035  75.525686   95.071063  125.477875  203.006356  \n",
      "3002.4 0.0      60.980909  77.275734   97.863344  133.742210  241.868932  \n",
      "3003.2 0.0      42.257617  55.044137   70.242691   92.194626  141.087065  \n",
      "...                   ...        ...         ...         ...         ...  \n",
      "3996.0 0.0      56.765299  74.298015  100.666053  164.841878  448.114729  \n",
      "3996.8 0.0      57.458510  72.576892   90.126102  114.281220  162.890059  \n",
      "3997.6 0.0      56.870030  74.101430  100.855691  171.906861  526.389775  \n",
      "3998.4 0.0      54.370206  69.514900   88.101342  117.462823  191.646318  \n",
      "3999.2 0.0      51.859032  66.924555   85.934572  117.612168  202.605210  \n",
      "\n",
      "[1250 rows x 11 columns]\n"
     ]
    }
   ],
   "source": [
    "truncated_data = _truncate_extracted_data(data, 25, truncate_keep=\"end\") #BSS.FreeEnergy.Relative.\n",
    "print(truncated_data)"
   ]
  },
  {
   "cell_type": "code",
   "execution_count": 1,
   "metadata": {},
   "outputs": [
    {
     "name": "stdout",
     "output_type": "stream",
     "text": [
      "\n",
      "==============================================================\n",
      "Sending anonymous Sire usage statistics to http://siremol.org.\n",
      "For more information, see http://siremol.org/analytics\n",
      "To disable, set the environment variable 'SIRE_DONT_PHONEHOME' to 1\n",
      "To see the information sent, set the environment variable \n",
      "SIRE_VERBOSE_PHONEHOME equal to 1. To silence this message, set\n",
      "the environment variable SIRE_SILENT_PHONEHOME to 1.\n",
      "==============================================================\n",
      "\n"
     ]
    },
    {
     "name": "stderr",
     "output_type": "stream",
     "text": [
      "/home/anna/BioSimSpace/python/BioSimSpace/FreeEnergy/_relative.py:1165: DeprecationWarning: invalid escape sequence \\d\n",
      "  match = _re.search(\"temp0=([\\d.]+)\", line)\n",
      "/home/anna/BioSimSpace/python/BioSimSpace/FreeEnergy/_relative.py:785: SyntaxWarning: \"is not\" with a literal. Did you mean \"!=\"?\n",
      "  if method is not \"alchemlyb\":\n",
      "/home/anna/anaconda3/envs/biosimspace-dev/lib/python3.9/site-packages/numpy/core/getlimits.py:500: UserWarning: The value of the smallest subnormal for <class 'numpy.float64'> type is zero.\n",
      "  setattr(self, word, getattr(machar, word).flat[0])\n",
      "/home/anna/anaconda3/envs/biosimspace-dev/lib/python3.9/site-packages/numpy/core/getlimits.py:89: UserWarning: The value of the smallest subnormal for <class 'numpy.float64'> type is zero.\n",
      "  return self._float_to_str(self.smallest_subnormal)\n",
      "/home/anna/anaconda3/envs/biosimspace-dev/lib/python3.9/site-packages/numpy/core/getlimits.py:500: UserWarning: The value of the smallest subnormal for <class 'numpy.float32'> type is zero.\n",
      "  setattr(self, word, getattr(machar, word).flat[0])\n",
      "/home/anna/anaconda3/envs/biosimspace-dev/lib/python3.9/site-packages/numpy/core/getlimits.py:89: UserWarning: The value of the smallest subnormal for <class 'numpy.float32'> type is zero.\n",
      "  return self._float_to_str(self.smallest_subnormal)\n",
      "Warning: importing 'simtk.openmm' is deprecated.  Import 'openmm' instead.\n"
     ]
    }
   ],
   "source": [
    "import BioSimSpace as BSS"
   ]
  },
  {
   "cell_type": "code",
   "execution_count": 6,
   "metadata": {},
   "outputs": [
    {
     "name": "stdout",
     "output_type": "stream",
     "text": [
      "(0.2081 kcal/mol, 0.0648 kcal/mol)\n"
     ]
    }
   ],
   "source": [
    "process_dict = {\"autoequilibration\":False, \n",
    "                \"statistical_inefficiency\":False,\n",
    "                \"truncate_output\":50,\n",
    "                \"truncate_keep\":\"end\"}\n",
    "\n",
    "pmf_bound, overlap_matrix_bound = BSS.FreeEnergy.Relative.analyse(\n",
    "                        f'/home/anna/Documents/benchmark/tyk2_benchmark/outputs/SOMD_extracted/lig_ejm31~lig_ejm42/bound_0',\n",
    "                        estimator=\"MBAR\",\n",
    "                        method=\"alchemlyb\",\n",
    "                        **process_dict\n",
    "                        )\n",
    "\n",
    "pmf_free, overlap_matrix_free = BSS.FreeEnergy.Relative.analyse(\n",
    "                        f'/home/anna/Documents/benchmark/tyk2_benchmark/outputs/SOMD_extracted/lig_ejm31~lig_ejm42/free_0',\n",
    "                        estimator=\"MBAR\",\n",
    "                        method=\"alchemlyb\",\n",
    "                        **process_dict\n",
    "                        )\n",
    "\n",
    "freenrg_rel = BSS.FreeEnergy.Relative.difference(pmf_bound, pmf_free)\n",
    "print(freenrg_rel)"
   ]
  },
  {
   "cell_type": "markdown",
   "metadata": {},
   "source": [
    "start is (0.2081 kcal/mol, 0.0648 kcal/mol)"
   ]
  },
  {
   "cell_type": "code",
   "execution_count": 17,
   "metadata": {},
   "outputs": [],
   "source": [
    "from glob import glob\n",
    "import re as _re"
   ]
  },
  {
   "cell_type": "code",
   "execution_count": 21,
   "metadata": {},
   "outputs": [
    {
     "name": "stdout",
     "output_type": "stream",
     "text": [
      "<re.Match object; span=(3, 15), match='temp0=300.00'>\n"
     ]
    }
   ],
   "source": [
    "\n",
    "with open(\"/home/anna/Documents/benchmark/tyk2_benchmark/outputs/AMBER_extracted/lig_ejm31~lig_ejm42/bound_0/lambda_0.0000/amber.out\",\"r\") as file:\n",
    "    for line in file:\n",
    "        match = _re.search(\"temp0=([\\d.]+)\", line)\n",
    "        if match:\n",
    "            print(match)\n"
   ]
  },
  {
   "cell_type": "code",
   "execution_count": 13,
   "metadata": {},
   "outputs": [
    {
     "name": "stdout",
     "output_type": "stream",
     "text": [
      "['/home/anna/Documents/benchmark/tyk2_benchmark/outputs/SOMD_extracted/lig_ejm31~lig_ejm42/bound_0/lambda_0.0000/simfile.dat', '/home/anna/Documents/benchmark/tyk2_benchmark/outputs/SOMD_extracted/lig_ejm31~lig_ejm42/bound_0/lambda_0.1000/simfile.dat', '/home/anna/Documents/benchmark/tyk2_benchmark/outputs/SOMD_extracted/lig_ejm31~lig_ejm42/bound_0/lambda_0.2000/simfile.dat', '/home/anna/Documents/benchmark/tyk2_benchmark/outputs/SOMD_extracted/lig_ejm31~lig_ejm42/bound_0/lambda_0.3000/simfile.dat', '/home/anna/Documents/benchmark/tyk2_benchmark/outputs/SOMD_extracted/lig_ejm31~lig_ejm42/bound_0/lambda_0.4000/simfile.dat', '/home/anna/Documents/benchmark/tyk2_benchmark/outputs/SOMD_extracted/lig_ejm31~lig_ejm42/bound_0/lambda_0.5000/simfile.dat', '/home/anna/Documents/benchmark/tyk2_benchmark/outputs/SOMD_extracted/lig_ejm31~lig_ejm42/bound_0/lambda_0.6000/simfile.dat', '/home/anna/Documents/benchmark/tyk2_benchmark/outputs/SOMD_extracted/lig_ejm31~lig_ejm42/bound_0/lambda_0.7000/simfile.dat', '/home/anna/Documents/benchmark/tyk2_benchmark/outputs/SOMD_extracted/lig_ejm31~lig_ejm42/bound_0/lambda_0.8000/simfile.dat', '/home/anna/Documents/benchmark/tyk2_benchmark/outputs/SOMD_extracted/lig_ejm31~lig_ejm42/bound_0/lambda_0.9000/simfile.dat', '/home/anna/Documents/benchmark/tyk2_benchmark/outputs/SOMD_extracted/lig_ejm31~lig_ejm42/bound_0/lambda_1.0000/simfile.dat']\n"
     ]
    }
   ],
   "source": [
    "(\"/home/anna/Documents/benchmark/tyk2_benchmark/outputs/SOMD_extracted/lig_ejm31~lig_ejm42/bound_0/lambda_0.0000/simfile.dat\",300)\n",
    "\n",
    "files = sorted(glob(\"/home/anna/Documents/benchmark/tyk2_benchmark/outputs/SOMD_extracted/lig_ejm31~lig_ejm42/bound_0/lambda_*/simfile.dat\"))\n",
    "print(files)\n",
    "u_nk = [BSS.FreeEnergy.Relative._somd_extract_u_nk(x, T=300) for x in files]"
   ]
  },
  {
   "cell_type": "code",
   "execution_count": 27,
   "metadata": {},
   "outputs": [
    {
     "data": {
      "text/html": [
       "<div>\n",
       "<style scoped>\n",
       "    .dataframe tbody tr th:only-of-type {\n",
       "        vertical-align: middle;\n",
       "    }\n",
       "\n",
       "    .dataframe tbody tr th {\n",
       "        vertical-align: top;\n",
       "    }\n",
       "\n",
       "    .dataframe thead th {\n",
       "        text-align: right;\n",
       "    }\n",
       "</style>\n",
       "<table border=\"1\" class=\"dataframe\">\n",
       "  <thead>\n",
       "    <tr style=\"text-align: right;\">\n",
       "      <th></th>\n",
       "      <th></th>\n",
       "      <th>0.0</th>\n",
       "      <th>0.1</th>\n",
       "      <th>0.2</th>\n",
       "      <th>0.3</th>\n",
       "      <th>0.4</th>\n",
       "      <th>0.5</th>\n",
       "      <th>0.6</th>\n",
       "      <th>0.7</th>\n",
       "      <th>0.8</th>\n",
       "      <th>0.9</th>\n",
       "      <th>1.0</th>\n",
       "    </tr>\n",
       "    <tr>\n",
       "      <th>time</th>\n",
       "      <th>lambdas</th>\n",
       "      <th></th>\n",
       "      <th></th>\n",
       "      <th></th>\n",
       "      <th></th>\n",
       "      <th></th>\n",
       "      <th></th>\n",
       "      <th></th>\n",
       "      <th></th>\n",
       "      <th></th>\n",
       "      <th></th>\n",
       "      <th></th>\n",
       "    </tr>\n",
       "  </thead>\n",
       "  <tbody>\n",
       "    <tr>\n",
       "      <th>0.0</th>\n",
       "      <th>0.0</th>\n",
       "      <td>0.0</td>\n",
       "      <td>3.155941</td>\n",
       "      <td>8.486639</td>\n",
       "      <td>15.732104</td>\n",
       "      <td>24.687158</td>\n",
       "      <td>35.145032</td>\n",
       "      <td>46.974545</td>\n",
       "      <td>60.330893</td>\n",
       "      <td>76.557914</td>\n",
       "      <td>102.209412</td>\n",
       "      <td>170.399859</td>\n",
       "    </tr>\n",
       "    <tr>\n",
       "      <th>0.8</th>\n",
       "      <th>0.0</th>\n",
       "      <td>0.0</td>\n",
       "      <td>3.407293</td>\n",
       "      <td>9.004699</td>\n",
       "      <td>16.532746</td>\n",
       "      <td>25.788211</td>\n",
       "      <td>36.567279</td>\n",
       "      <td>48.741469</td>\n",
       "      <td>62.460151</td>\n",
       "      <td>78.979032</td>\n",
       "      <td>104.103821</td>\n",
       "      <td>164.604600</td>\n",
       "    </tr>\n",
       "    <tr>\n",
       "      <th>1.6</th>\n",
       "      <th>0.0</th>\n",
       "      <td>0.0</td>\n",
       "      <td>3.850045</td>\n",
       "      <td>9.899342</td>\n",
       "      <td>17.911229</td>\n",
       "      <td>27.696764</td>\n",
       "      <td>39.060137</td>\n",
       "      <td>51.852409</td>\n",
       "      <td>66.093025</td>\n",
       "      <td>82.496270</td>\n",
       "      <td>104.771480</td>\n",
       "      <td>151.597985</td>\n",
       "    </tr>\n",
       "    <tr>\n",
       "      <th>2.4</th>\n",
       "      <th>0.0</th>\n",
       "      <td>0.0</td>\n",
       "      <td>3.631949</td>\n",
       "      <td>9.495519</td>\n",
       "      <td>17.357033</td>\n",
       "      <td>27.038432</td>\n",
       "      <td>38.383629</td>\n",
       "      <td>51.394511</td>\n",
       "      <td>66.674851</td>\n",
       "      <td>87.372374</td>\n",
       "      <td>128.600520</td>\n",
       "      <td>273.183347</td>\n",
       "    </tr>\n",
       "    <tr>\n",
       "      <th>3.2</th>\n",
       "      <th>0.0</th>\n",
       "      <td>0.0</td>\n",
       "      <td>2.580767</td>\n",
       "      <td>7.425930</td>\n",
       "      <td>14.298340</td>\n",
       "      <td>23.010347</td>\n",
       "      <td>33.375576</td>\n",
       "      <td>45.286976</td>\n",
       "      <td>58.923058</td>\n",
       "      <td>75.610983</td>\n",
       "      <td>101.578092</td>\n",
       "      <td>166.922933</td>\n",
       "    </tr>\n",
       "    <tr>\n",
       "      <th>...</th>\n",
       "      <th>...</th>\n",
       "      <td>...</td>\n",
       "      <td>...</td>\n",
       "      <td>...</td>\n",
       "      <td>...</td>\n",
       "      <td>...</td>\n",
       "      <td>...</td>\n",
       "      <td>...</td>\n",
       "      <td>...</td>\n",
       "      <td>...</td>\n",
       "      <td>...</td>\n",
       "      <td>...</td>\n",
       "    </tr>\n",
       "    <tr>\n",
       "      <th>3996.0</th>\n",
       "      <th>0.0</th>\n",
       "      <td>0.0</td>\n",
       "      <td>4.240756</td>\n",
       "      <td>10.783506</td>\n",
       "      <td>19.414135</td>\n",
       "      <td>29.981540</td>\n",
       "      <td>42.381722</td>\n",
       "      <td>56.765299</td>\n",
       "      <td>74.298015</td>\n",
       "      <td>100.666053</td>\n",
       "      <td>164.841878</td>\n",
       "      <td>448.114729</td>\n",
       "    </tr>\n",
       "    <tr>\n",
       "      <th>3996.8</th>\n",
       "      <th>0.0</th>\n",
       "      <td>0.0</td>\n",
       "      <td>4.916069</td>\n",
       "      <td>11.975053</td>\n",
       "      <td>20.939853</td>\n",
       "      <td>31.624245</td>\n",
       "      <td>43.838918</td>\n",
       "      <td>57.458510</td>\n",
       "      <td>72.576892</td>\n",
       "      <td>90.126102</td>\n",
       "      <td>114.281220</td>\n",
       "      <td>162.890059</td>\n",
       "    </tr>\n",
       "    <tr>\n",
       "      <th>3997.6</th>\n",
       "      <th>0.0</th>\n",
       "      <td>0.0</td>\n",
       "      <td>4.509093</td>\n",
       "      <td>11.237753</td>\n",
       "      <td>19.956575</td>\n",
       "      <td>30.501077</td>\n",
       "      <td>42.754980</td>\n",
       "      <td>56.870030</td>\n",
       "      <td>74.101430</td>\n",
       "      <td>100.855691</td>\n",
       "      <td>171.906861</td>\n",
       "      <td>526.389775</td>\n",
       "    </tr>\n",
       "    <tr>\n",
       "      <th>3998.4</th>\n",
       "      <th>0.0</th>\n",
       "      <td>0.0</td>\n",
       "      <td>4.196501</td>\n",
       "      <td>10.615720</td>\n",
       "      <td>19.016323</td>\n",
       "      <td>29.212786</td>\n",
       "      <td>41.025075</td>\n",
       "      <td>54.370206</td>\n",
       "      <td>69.514900</td>\n",
       "      <td>88.101342</td>\n",
       "      <td>117.462823</td>\n",
       "      <td>191.646318</td>\n",
       "    </tr>\n",
       "    <tr>\n",
       "      <th>3999.2</th>\n",
       "      <th>0.0</th>\n",
       "      <td>0.0</td>\n",
       "      <td>3.644286</td>\n",
       "      <td>9.557437</td>\n",
       "      <td>17.501458</td>\n",
       "      <td>27.294786</td>\n",
       "      <td>38.766746</td>\n",
       "      <td>51.859032</td>\n",
       "      <td>66.924555</td>\n",
       "      <td>85.934572</td>\n",
       "      <td>117.612168</td>\n",
       "      <td>202.605210</td>\n",
       "    </tr>\n",
       "  </tbody>\n",
       "</table>\n",
       "<p>5000 rows × 11 columns</p>\n",
       "</div>"
      ],
      "text/plain": [
       "                0.0       0.1        0.2        0.3        0.4        0.5  \\\n",
       "time   lambdas                                                              \n",
       "0.0    0.0      0.0  3.155941   8.486639  15.732104  24.687158  35.145032   \n",
       "0.8    0.0      0.0  3.407293   9.004699  16.532746  25.788211  36.567279   \n",
       "1.6    0.0      0.0  3.850045   9.899342  17.911229  27.696764  39.060137   \n",
       "2.4    0.0      0.0  3.631949   9.495519  17.357033  27.038432  38.383629   \n",
       "3.2    0.0      0.0  2.580767   7.425930  14.298340  23.010347  33.375576   \n",
       "...             ...       ...        ...        ...        ...        ...   \n",
       "3996.0 0.0      0.0  4.240756  10.783506  19.414135  29.981540  42.381722   \n",
       "3996.8 0.0      0.0  4.916069  11.975053  20.939853  31.624245  43.838918   \n",
       "3997.6 0.0      0.0  4.509093  11.237753  19.956575  30.501077  42.754980   \n",
       "3998.4 0.0      0.0  4.196501  10.615720  19.016323  29.212786  41.025075   \n",
       "3999.2 0.0      0.0  3.644286   9.557437  17.501458  27.294786  38.766746   \n",
       "\n",
       "                      0.6        0.7         0.8         0.9         1.0  \n",
       "time   lambdas                                                            \n",
       "0.0    0.0      46.974545  60.330893   76.557914  102.209412  170.399859  \n",
       "0.8    0.0      48.741469  62.460151   78.979032  104.103821  164.604600  \n",
       "1.6    0.0      51.852409  66.093025   82.496270  104.771480  151.597985  \n",
       "2.4    0.0      51.394511  66.674851   87.372374  128.600520  273.183347  \n",
       "3.2    0.0      45.286976  58.923058   75.610983  101.578092  166.922933  \n",
       "...                   ...        ...         ...         ...         ...  \n",
       "3996.0 0.0      56.765299  74.298015  100.666053  164.841878  448.114729  \n",
       "3996.8 0.0      57.458510  72.576892   90.126102  114.281220  162.890059  \n",
       "3997.6 0.0      56.870030  74.101430  100.855691  171.906861  526.389775  \n",
       "3998.4 0.0      54.370206  69.514900   88.101342  117.462823  191.646318  \n",
       "3999.2 0.0      51.859032  66.924555   85.934572  117.612168  202.605210  \n",
       "\n",
       "[5000 rows x 11 columns]"
      ]
     },
     "execution_count": 27,
     "metadata": {},
     "output_type": "execute_result"
    }
   ],
   "source": [
    "u_nk[0]"
   ]
  },
  {
   "cell_type": "code",
   "execution_count": 40,
   "metadata": {},
   "outputs": [
    {
     "name": "stdout",
     "output_type": "stream",
     "text": [
      "5000\n"
     ]
    },
    {
     "data": {
      "text/plain": [
       "0.8"
      ]
     },
     "execution_count": 40,
     "metadata": {},
     "output_type": "execute_result"
    }
   ],
   "source": [
    "print(len(u_nk[0]))\n",
    "\n",
    "df = u_nk[0]\n",
    "round((u_nk[0].index[-1][0] - u_nk[0].index[-2][0]),1)"
   ]
  },
  {
   "cell_type": "code",
   "execution_count": 49,
   "metadata": {},
   "outputs": [
    {
     "name": "stdout",
     "output_type": "stream",
     "text": [
      "2000.0\n",
      "0\n",
      "1999.2\n"
     ]
    }
   ],
   "source": [
    "truncate_keep = \"start\"\n",
    "truncate = 50\n",
    "\n",
    "data_len = len(data[0]) # use just the first window for this\n",
    "data_step = round((data[0].index[-1][0] - data[0].index[-2][0]),1)\n",
    "data_kept = data_len * (truncate/100)\n",
    "data_time = data_kept * data_step\n",
    "print(data_time)\n",
    "if truncate_keep == \"start\":\n",
    "    truncate_lower = 0\n",
    "    truncate_upper = data_time - data_step\n",
    "if truncate_keep == \"end\":\n",
    "    truncate_lower = (data_len * data_step) - data_time\n",
    "    truncate_upper = (data_len * data_step) - data_step\n",
    "\n",
    "print(truncate_lower)\n",
    "print(truncate_upper)"
   ]
  },
  {
   "cell_type": "code",
   "execution_count": null,
   "metadata": {},
   "outputs": [],
   "source": [
    "    @staticmethod\n",
    "    def _truncate_extracted_data(data, truncate, truncate_keep):\n",
    "        \"\"\" truncate the data\n",
    "\n",
    "        Parameters\n",
    "        ----------\n",
    "\n",
    "            data : pandas.DataFrame\n",
    "                Dataframe of extracted dHdl or u_nk data.\n",
    "            \n",
    "            truncate: float\n",
    "                percentage / decimal of how much of the data\n",
    "                is to be kept.\n",
    "            \n",
    "            truncate_keep: str\n",
    "                \"start\" or \"end\". Whether to keep the start or\n",
    "                the end of the data.\n",
    "\n",
    "        Returns\n",
    "        -------\n",
    "\n",
    "            processed_data : pandas.DataFrame\n",
    "            Dataframe of dHdl or u_nk data processed to give the specified\n",
    "            amount of data to be kept\n",
    "        \"\"\"\n",
    "        truncated_data = []\n",
    "\n",
    "        for df in data:\n",
    "            print(len(df))\n",
    "            perc_kept = int(len(df) * (truncate/100))\n",
    "            print(perc_kept)\n",
    "\n",
    "            if truncate_keep == \"start\":\n",
    "                trunc_data = df.iloc[:perc_kept, :]\n",
    "            elif truncate_keep == \"end\":\n",
    "                trunc_data = df.iloc[(len(df) - perc_kept):, :]\n",
    "            else:\n",
    "                raise ValueError(\"'truncate_keep' must be either 'start' or 'end'.\")\n",
    "\n",
    "            print(len(trunc_data))\n",
    "            truncated_data.append(trunc_data)\n",
    "\n",
    "        return _alchemlyb.concat(truncated_data)"
   ]
  }
 ],
 "metadata": {
  "kernelspec": {
   "display_name": "Python 3.9.15 ('biosimspace-dev': conda)",
   "language": "python",
   "name": "python3"
  },
  "language_info": {
   "codemirror_mode": {
    "name": "ipython",
    "version": 3
   },
   "file_extension": ".py",
   "mimetype": "text/x-python",
   "name": "python",
   "nbconvert_exporter": "python",
   "pygments_lexer": "ipython3",
   "version": "3.9.15"
  },
  "orig_nbformat": 4,
  "vscode": {
   "interpreter": {
    "hash": "d79bb85316fa6c998e385cc39903e056bffeb3f6098416e9c269ddd32175e919"
   }
  }
 },
 "nbformat": 4,
 "nbformat_minor": 2
}
