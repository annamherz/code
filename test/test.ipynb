{
 "cells": [
  {
   "cell_type": "code",
   "execution_count": 10,
   "metadata": {},
   "outputs": [],
   "source": [
    "import BioSimSpace as BSS\n",
    "import sys\n",
    "import networkx as nx\n",
    "import pickle\n",
    "import itertools as it\n",
    "\n",
    "import warnings\n",
    "warnings.filterwarnings(action='once')\n",
    "\n",
    "\n",
    "try:\n",
    "    import pipeline\n",
    "except:\n",
    "    print(\"adding code to the pythonpath...\")\n",
    "    code = '/home/anna/Documents/code/python'\n",
    "    if code not in sys.path:\n",
    "        sys.path.insert(1, code)\n",
    "    import pipeline\n",
    "\n",
    "from pipeline import *\n",
    "from pipeline.analysis import *"
   ]
  },
  {
   "cell_type": "code",
   "execution_count": 7,
   "metadata": {},
   "outputs": [
    {
     "name": "stdout",
     "output_type": "stream",
     "text": [
      "using input file to get the weights\n",
      "36.08531894778112\n"
     ]
    }
   ],
   "source": [
    "for prot, net in it.product([\"tyk2\",\"p38\",\"mcl1\"],[\"rbfenn\",\"lomap\"]):\n",
    "\n",
    "results_files = [\"/home/anna/Documents/code/test/final_summary_SOMD_MBAR_alchemlyb_benchmark.csv\"]\n",
    "engine = \"SOMD\"\n",
    "output_folder = \"/home/anna/Documents/code/test\"\n",
    "net_file = f\"/home/anna/Documents/benchmark/{prot}_benchmark/execution_model/network_{net}.dat\"\n",
    "weight_file = f\"/home/anna/Documents/benchmark/{prot}_benchmark/execution_model/network_{net}_scores.dat\"\n",
    "\n",
    "perturbations, ligands, mod_results_files = get_info_network(results_files, net_file, extra_options={\"engine\":engine})\n",
    "\n",
    "graph_x = graph(ligands, perturbations)\n",
    "graph_x.add_weight(weight_file)\n",
    "# graph_x.draw_graph()\n",
    "avg_weighted = graph_x.get_average_weighted_simple_paths()\n",
    "print(f\"{prot} {net} is {avg_weighted}\")\n",
    "\n",
    "with open(f\"{output_folder}/bound_pmf_{prot}_{net}.pickle\", 'wb') as handle:\n",
    "    pickle.dump(graph_x, handle)"
   ]
  },
  {
   "cell_type": "code",
   "execution_count": 8,
   "metadata": {},
   "outputs": [
    {
     "name": "stdout",
     "output_type": "stream",
     "text": [
      "48\n"
     ]
    }
   ],
   "source": [
    "# cycles = graph.cycle_closures()\n",
    "# print(cycles)\n",
    "\n",
    "nx.get_edge_attributes(graph_x.graph, \"weight\")\n",
    "\n",
    "print(len(perturbations))"
   ]
  },
  {
   "cell_type": "code",
   "execution_count": null,
   "metadata": {},
   "outputs": [],
   "source": [
    "with open(f\"{self._pickle_dir}/bound_pmf_{pickle_ext}.pickle\", \"rb\") as file:\n",
    "                    self._bound_pmf_dict = pickle.load(file)"
   ]
  },
  {
   "cell_type": "code",
   "execution_count": null,
   "metadata": {},
   "outputs": [],
   "source": []
  }
 ],
 "metadata": {
  "kernelspec": {
   "display_name": "Python 3.9.15 ('biosimspace-dev': conda)",
   "language": "python",
   "name": "python3"
  },
  "language_info": {
   "codemirror_mode": {
    "name": "ipython",
    "version": 3
   },
   "file_extension": ".py",
   "mimetype": "text/x-python",
   "name": "python",
   "nbconvert_exporter": "python",
   "pygments_lexer": "ipython3",
   "version": "3.9.15"
  },
  "orig_nbformat": 4,
  "vscode": {
   "interpreter": {
    "hash": "d79bb85316fa6c998e385cc39903e056bffeb3f6098416e9c269ddd32175e919"
   }
  }
 },
 "nbformat": 4,
 "nbformat_minor": 2
}
