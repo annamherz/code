{
 "cells": [
  {
   "cell_type": "code",
   "execution_count": null,
   "metadata": {},
   "outputs": [],
   "source": [
    "import sys\n",
    "import networkx as nx\n",
    "import pickle\n",
    "import itertools as it\n",
    "import os\n",
    "import shutil\n",
    "\n",
    "import MDAnalysis as mda\n",
    "import MDAnalysis.transformations as trans\n",
    "import nglview as nv\n",
    "\n",
    "\n",
    "import warnings\n",
    "warnings.filterwarnings(action='once')\n",
    "\n",
    "\n",
    "if '/home/anna/Documents/cinnabar' not in sys.path:\n",
    "    sys.path.insert(1, '/home/anna/Documents/cinnabar')\n",
    "import cinnabar\n",
    "\n",
    "print(cinnabar.__file__)\n",
    "\n",
    "print(\"adding code to the pythonpath...\")\n",
    "code = '/home/anna/Documents/code/python'\n",
    "if code not in sys.path:\n",
    "    sys.path.insert(1, code)\n",
    "import pipeline\n",
    "\n",
    "from pipeline import *\n",
    "from pipeline.analysis import *\n",
    "from pipeline.prep import *\n",
    "from pipeline.utils import *\n"
   ]
  },
  {
   "cell_type": "code",
   "execution_count": null,
   "metadata": {},
   "outputs": [],
   "source": [
    "prot_file = \"/home/anna/Documents/benchmark/tyk2_benchmark/execution_model/protocol_2fs.dat\"\n",
    "protocol = pipeline_protocol(prot_file)\n",
    "protocol.validate()\n",
    "protocol.fepprep(\"both\")\n",
    "\n",
    "protocol.num_lambda(11)\n",
    "protocol.engine(\"AMBER\")"
   ]
  },
  {
   "cell_type": "code",
   "execution_count": null,
   "metadata": {},
   "outputs": [],
   "source": [
    "# Load equilibrated inputs for both ligands\n",
    "prep_dir = \"/home/anna/Documents/benchmark/tyk2_benchmark/prep\"\n",
    "lig_1 = \"lig_ejm31\"\n",
    "lig_2 = \"lig_ejm48\"\n",
    "\n",
    "fepprep_obj = fepprep(protocol=protocol)\n",
    "\n",
    "for name, leg in zip([\"lig\", \"sys\"], [\"free\", \"bound\"]):\n",
    "\n",
    "    # Load equilibrated inputs for both ligands\n",
    "    system_1 = BSS.IO.readMolecules(\n",
    "        [f\"{prep_dir}/{lig_1}_{name}_equil_solv.rst7\", f\"{prep_dir}/{lig_1}_{name}_equil_solv.prm7\"])\n",
    "    system_2 = BSS.IO.readMolecules(\n",
    "        [f\"{prep_dir}/{lig_2}_{name}_equil_solv.rst7\", f\"{prep_dir}/{lig_2}_{name}_equil_solv.prm7\"])\n",
    "\n",
    "    fepprep_obj.add_system(system_1, free_bound=leg, start_end=\"start\")\n",
    "    fepprep_obj.add_system(system_2, free_bound=leg, start_end=\"end\")\n",
    "\n",
    "folder = f\"/home/anna/Documents/code/test/both_{lig_1}~{lig_2}\"\n",
    "fepprep_obj.generate_folders(f\"{folder}\")"
   ]
  },
  {
   "cell_type": "code",
   "execution_count": null,
   "metadata": {},
   "outputs": [],
   "source": []
  },
  {
   "cell_type": "code",
   "execution_count": null,
   "metadata": {},
   "outputs": [],
   "source": [
    "fepprep_obj = fepprep(system_free, system_bound, protocol)"
   ]
  },
  {
   "cell_type": "code",
   "execution_count": null,
   "metadata": {},
   "outputs": [],
   "source": [
    "fepprep_obj._free_system_0"
   ]
  },
  {
   "cell_type": "code",
   "execution_count": null,
   "metadata": {},
   "outputs": [],
   "source": [
    "sys3"
   ]
  },
  {
   "cell_type": "code",
   "execution_count": null,
   "metadata": {},
   "outputs": [],
   "source": [
    "BSS.Notebook.View(fepprep_obj._free_system_0).system()"
   ]
  },
  {
   "cell_type": "code",
   "execution_count": null,
   "metadata": {},
   "outputs": [],
   "source": [
    "pmemd_path = os.environ[\"AMBERHOME\"] + \"/bin/pmemd.cuda\""
   ]
  },
  {
   "cell_type": "code",
   "execution_count": null,
   "metadata": {},
   "outputs": [],
   "source": [
    "fepprep_obj = fepprep(system_free, system_bound, protocol)\n",
    "folder = f\"/home/anna/Documents/code/test/{lig_1}~{lig_2}_restraints\"\n",
    "free_system, bound_system = fepprep_obj.prep_system_middle(pmemd_path, work_dir=f\"{folder}/eq\")\n",
    "\n",
    "# fepprep_obj.generate_folders(f\"{folder}\")"
   ]
  },
  {
   "cell_type": "code",
   "execution_count": null,
   "metadata": {},
   "outputs": [],
   "source": [
    "\n",
    "fepprep_obj.generate_folders(f\"{folder}\")"
   ]
  },
  {
   "cell_type": "code",
   "execution_count": null,
   "metadata": {},
   "outputs": [],
   "source": [
    "mol_eq = free_system.getPerturbableMolecules()[0].copy()"
   ]
  },
  {
   "cell_type": "code",
   "execution_count": null,
   "metadata": {},
   "outputs": [],
   "source": [
    "mol_non = system_free.getPerturbableMolecules()[0]"
   ]
  },
  {
   "cell_type": "code",
   "execution_count": null,
   "metadata": {},
   "outputs": [],
   "source": [
    "both_mols = mol_eq + mol_non\n",
    "both_mols"
   ]
  },
  {
   "cell_type": "code",
   "execution_count": null,
   "metadata": {},
   "outputs": [],
   "source": [
    "BSS.Notebook.View(both_mols).molecules()"
   ]
  },
  {
   "cell_type": "code",
   "execution_count": null,
   "metadata": {},
   "outputs": [],
   "source": [
    "system_free.nPerturbableMolecules()"
   ]
  },
  {
   "cell_type": "code",
   "execution_count": null,
   "metadata": {},
   "outputs": [],
   "source": [
    "BSS.Notebook.View(system_bound).system()\n"
   ]
  },
  {
   "cell_type": "code",
   "execution_count": null,
   "metadata": {},
   "outputs": [],
   "source": [
    "fepprep_obj2 = fepprep(system_free, system_bound, protocol)\n",
    "folder2 = f\"/home/anna/Documents/code/test/{lig_1}~{lig_2}_noeq\"\n",
    "fepprep_obj2.generate_folders(f\"{folder2}\")"
   ]
  },
  {
   "cell_type": "code",
   "execution_count": null,
   "metadata": {},
   "outputs": [],
   "source": [
    "fepprep_obj.generate_folders(f\"{folder}\")"
   ]
  },
  {
   "cell_type": "code",
   "execution_count": null,
   "metadata": {},
   "outputs": [],
   "source": [
    "lig_fep = \"fepprep\"\n",
    "engine=\"AMBER\"\n",
    "\n",
    "protocol_min_rest, protocol_min = min_prots(lig_fep)\n",
    "\n",
    "protocol_nvt_sol, protocol_nvt_heavy, protocol_nvt = nvt_prots(lig_fep)\n",
    "\n",
    "protocol_npt_heavy, protocol_npt_heavy_lighter, protocol_npt = npt_prots(lig_fep)"
   ]
  },
  {
   "cell_type": "code",
   "execution_count": null,
   "metadata": {},
   "outputs": [],
   "source": [
    "protocol_min.getLambdaValues()"
   ]
  },
  {
   "cell_type": "code",
   "execution_count": null,
   "metadata": {},
   "outputs": [],
   "source": [
    "minimised1 = run_process(system_free, protocol_min_rest, engine, pmemd_path)\n",
    "minimised2 = run_process(minimised1, protocol_min, engine, pmemd_path, work_dir=folder)"
   ]
  },
  {
   "cell_type": "code",
   "execution_count": null,
   "metadata": {},
   "outputs": [],
   "source": [
    "BSS.IO.saveMolecules(f\"{folder}/minimised\", minimised2, \"PDB\")"
   ]
  },
  {
   "cell_type": "code",
   "execution_count": null,
   "metadata": {},
   "outputs": [],
   "source": [
    "BSS.IO.savePerturbableSystem(f\"{folder}/minimised\", minimised2)"
   ]
  },
  {
   "cell_type": "code",
   "execution_count": null,
   "metadata": {},
   "outputs": [],
   "source": [
    "equil1 = run_process(equil3, protocol_nvt_sol, engine, pmemd_path) #, work_dir=f\"{folder}/equil1\"\n"
   ]
  },
  {
   "cell_type": "code",
   "execution_count": null,
   "metadata": {},
   "outputs": [],
   "source": [
    "equil2 = run_process(equil1, protocol_nvt_heavy, engine, pmemd_path) #, work_dir=f\"{folder}/equil2\"\n"
   ]
  },
  {
   "cell_type": "code",
   "execution_count": null,
   "metadata": {},
   "outputs": [],
   "source": [
    "equil3a = run_process(equil2, protocol_nvt, engine, pmemd_path, work_dir=f\"{folder}/equil3\")"
   ]
  },
  {
   "cell_type": "code",
   "execution_count": null,
   "metadata": {},
   "outputs": [],
   "source": [
    "equil3 = run_process(minimised2, protocol_nvt, engine, pmemd_path, work_dir=f\"{folder}/min_to_equil3\")"
   ]
  },
  {
   "cell_type": "code",
   "execution_count": null,
   "metadata": {},
   "outputs": [],
   "source": [
    "BSS.Notebook.View(equil4).system()"
   ]
  },
  {
   "cell_type": "code",
   "execution_count": null,
   "metadata": {},
   "outputs": [],
   "source": [
    "equil4 = run_process(equil3, heat_protocol, engine, pmemd_path, work_dir=f\"{folder}/eq_test\")"
   ]
  },
  {
   "cell_type": "code",
   "execution_count": null,
   "metadata": {},
   "outputs": [],
   "source": [
    "BSS.Notebook.View(merge.extract_ligand(equil4)).system()"
   ]
  },
  {
   "cell_type": "code",
   "execution_count": null,
   "metadata": {},
   "outputs": [],
   "source": [
    "protocol_npt_heavy"
   ]
  },
  {
   "cell_type": "code",
   "execution_count": null,
   "metadata": {},
   "outputs": [],
   "source": [
    "equil4 = run_process(equil3, protocol_npt_heavy, engine, pmemd_path, work_dir=f\"{folder}/eq_test2\")\n"
   ]
  },
  {
   "cell_type": "code",
   "execution_count": null,
   "metadata": {},
   "outputs": [],
   "source": [
    "equil5 = run_process(equil4, protocol_npt_heavy_lighter, engine, pmemd_path, work_dir=f\"{folder}/equil5\")"
   ]
  },
  {
   "cell_type": "code",
   "execution_count": null,
   "metadata": {},
   "outputs": [],
   "source": [
    "sys_equil_fin = run_process(equil3, protocol_npt, engine, pmemd_path, work_dir=f\"{folder}/equilfinal\")"
   ]
  },
  {
   "cell_type": "code",
   "execution_count": null,
   "metadata": {},
   "outputs": [],
   "source": []
  },
  {
   "cell_type": "code",
   "execution_count": null,
   "metadata": {},
   "outputs": [],
   "source": [
    "fepprep_obj = fepprep(system_free, system_bound, protocol)\n",
    "free_system, bound_system = fepprep_obj.prep_system_middle(pmemd_path)\n",
    "# fepprep_obj.generate_folders(\"/home/anna/Documents/code/test/lig_ejm31~lig_ejm48\")"
   ]
  },
  {
   "cell_type": "code",
   "execution_count": null,
   "metadata": {},
   "outputs": [],
   "source": [
    "args = {\"lam\":0.5, \"lam_vals\":[0.5]}\n",
    "\n",
    "min_protocol = BSS.Protocol.FreeEnergyMinimisation(\n",
    "                                                num_lam=protocol.num_lambda(),\n",
    "                                                steps=protocol.min_steps(), **args\n",
    "                                                )\n",
    "heat_protocol = BSS.Protocol.FreeEnergyEquilibration(timestep=protocol.timestep()*protocol.timestep_unit(),\n",
    "                                                    num_lam=protocol.num_lambda(),\n",
    "                                                    runtime=protocol.eq_runtime()*protocol.eq_runtime_unit(),\n",
    "                                                    pressure=None,\n",
    "                                                    temperature_start=protocol.start_temperature()*protocol.temperature_unit(),\n",
    "                                                    temperature_end=protocol.end_temperature()*protocol.temperature_unit(),\n",
    "                                                    hmr_factor=protocol.hmr_factor(), **args\n",
    "                                                    )\n",
    "eq_protocol = BSS.Protocol.FreeEnergyEquilibration(timestep=protocol.timestep()*protocol.timestep_unit(),\n",
    "                                                num_lam=protocol.num_lambda(),\n",
    "                                                runtime=protocol.eq_runtime()*protocol.eq_runtime_unit(),\n",
    "                                                temperature=protocol.temperature()*protocol.temperature_unit(),\n",
    "                                                pressure=protocol.pressure()*protocol.pressure_unit(),\n",
    "                                                restart=True,\n",
    "                                                hmr_factor=protocol.hmr_factor(), **args\n",
    "                                                )\n",
    "freenrg_protocol = BSS.Protocol.FreeEnergy(timestep=protocol.timestep()*protocol.timestep_unit(),\n",
    "                                            num_lam=protocol.num_lambda(),\n",
    "                                            runtime=protocol.sampling()*protocol.sampling_unit(),\n",
    "                                            temperature=protocol.temperature()*protocol.temperature_unit(),\n",
    "                                            pressure=protocol.pressure()*protocol.pressure_unit(),\n",
    "                                            restart=True,\n",
    "                                            hmr_factor=protocol.hmr_factor(), **args\n",
    "                                        )"
   ]
  },
  {
   "cell_type": "code",
   "execution_count": null,
   "metadata": {},
   "outputs": [],
   "source": [
    "minimised1 = run_process(system_free, min_protocol, \"AMBER\", pmemd_path)"
   ]
  },
  {
   "cell_type": "code",
   "execution_count": null,
   "metadata": {},
   "outputs": [],
   "source": [
    "eq_sys = run_process(minimised1, heat_protocol, \"AMBER\", pmemd_path)"
   ]
  },
  {
   "cell_type": "code",
   "execution_count": null,
   "metadata": {},
   "outputs": [],
   "source": [
    "eq2_sys = run_process(eq_sys, eq_protocol, \"AMBER\", pmemd_path)"
   ]
  },
  {
   "cell_type": "code",
   "execution_count": null,
   "metadata": {},
   "outputs": [],
   "source": [
    "BSS.Notebook.View(eq_sys).system()"
   ]
  },
  {
   "cell_type": "code",
   "execution_count": null,
   "metadata": {},
   "outputs": [],
   "source": [
    "final_sys = run_process(eq2_sys, freenrg_protocol, \"AMBER\", pmemd_path)"
   ]
  },
  {
   "cell_type": "code",
   "execution_count": null,
   "metadata": {},
   "outputs": [],
   "source": [
    "free_system.nPerturbableMolecules()"
   ]
  },
  {
   "cell_type": "code",
   "execution_count": null,
   "metadata": {},
   "outputs": [],
   "source": []
  },
  {
   "cell_type": "code",
   "execution_count": null,
   "metadata": {},
   "outputs": [],
   "source": [
    "transf = [\"lig_ejm31~lig_ejm45\", \"lig_ejm44~lig_ejm45\",\"lig_ejm44~lig_ejm49\"]\n",
    "engine = \"GROMACS\"\n",
    "main_dir = \"/home/anna/Documents/benchmark/tyk2_benchmark\"\n",
    "# methods = [\"1fs\", \"2fs_HMR4\", \"4fs_HMR4\", \"4fs_HMR3\", \"2fs_HMR3\", \"2fs\"]\n",
    "methods = [\"2fs\"]\n",
    "\n",
    "# options\n",
    "ana_file = f\"{main_dir}/execution_model/analysis_protocol.dat\"\n",
    "analysis_options = analysis_protocol(ana_file, auto_validate=True)\n",
    "# analysis_options.rewrite_protocol()\n",
    "\n",
    "for method in methods:\n",
    "    for trans in transf:\n",
    "        path_to_dir = f\"{main_dir}/outputs_extracted/{engine}/{method}/{trans}\"\n",
    "        print(path_to_dir)\n",
    "        final_results_folder = f\"{main_dir}/outputs_extracted/results\"\n",
    "\n",
    "        # try:\n",
    "        # using the pipeline module for analysis\n",
    "        analysed_pert = analyse(path_to_dir)\n",
    "        analysed_pert.set_options(analysis_options)\n",
    "        analysed_pert.set_options({\"try pickle\":False})\n",
    "        avg, error, repeats_tuple_list = analysed_pert.analyse_all_repeats()\n",
    "        # analysed_pert.plot_graphs()\n",
    "        write_analysis_file(analysed_pert, final_results_folder, method=method)\n",
    "        # except Exception as e:\n",
    "        #     print(e)\n",
    "        #     print(f\"could not analyse {path_to_dir}\")"
   ]
  },
  {
   "cell_type": "code",
   "execution_count": null,
   "metadata": {},
   "outputs": [],
   "source": [
    "transf = [\"lig_ejm31~lig_ejm45\", \"lig_ejm31~lig_ejm48\",\"lig_ejm43~lig_ejm46\", \"lig_ejm46~lig_jmc28\", \"lig_jmc27~lig_jmc28\"]\n",
    "engine = \"AMBER\"\n",
    "main_dir = \"/home/anna/Documents/benchmark/tyk2_benchmark\"\n",
    "# methods = [\"1fs\", \"2fs_HMR4\", \"4fs\", \"4fs_HMR3\", \"2fs_HMR3\", \"2fs\"]\n",
    "methods = [\"both_failed_wrong_lambda_windows_used\"]\n",
    "\n",
    "# options\n",
    "ana_file = f\"{main_dir}/execution_model/analysis_protocol.dat\"\n",
    "analysis_options = analysis_protocol(ana_file, auto_validate=True)\n",
    "# analysis_options.rewrite_protocol()\n",
    "\n",
    "for method in methods:\n",
    "    for trans in transf:\n",
    "        # trans = f\"{trans.split('~')[1]}~{trans.split('~')[0]}\" # for reverse\n",
    "        path_to_dir = f\"{main_dir}/outputs_extracted/{engine}/{method}/{trans}\"\n",
    "        print(path_to_dir)\n",
    "        final_results_folder = f\"{main_dir}/outputs_extracted/results\"\n",
    "\n",
    "        try:\n",
    "            # using the pipeline module for analysis\n",
    "            analysed_pert = analyse(path_to_dir)\n",
    "            analysed_pert.set_options(analysis_options)\n",
    "            avg, error, repeats_tuple_list = analysed_pert.analyse_all_repeats()\n",
    "            # analysed_pert.plot_graphs()\n",
    "            write_analysis_file(analysed_pert, final_results_folder, method=method)\n",
    "        except Exception as e:\n",
    "            print(e)\n",
    "            print(f\"could not analyse {path_to_dir}\")"
   ]
  },
  {
   "cell_type": "code",
   "execution_count": null,
   "metadata": {},
   "outputs": [],
   "source": []
  }
 ],
 "metadata": {
  "kernelspec": {
   "display_name": "Python 3.9.15 ('biosimspace-dev': conda)",
   "language": "python",
   "name": "python3"
  },
  "language_info": {
   "codemirror_mode": {
    "name": "ipython",
    "version": 3
   },
   "file_extension": ".py",
   "mimetype": "text/x-python",
   "name": "python",
   "nbconvert_exporter": "python",
   "pygments_lexer": "ipython3",
   "version": "3.9.15"
  },
  "orig_nbformat": 4,
  "vscode": {
   "interpreter": {
    "hash": "d79bb85316fa6c998e385cc39903e056bffeb3f6098416e9c269ddd32175e919"
   }
  }
 },
 "nbformat": 4,
 "nbformat_minor": 2
}
