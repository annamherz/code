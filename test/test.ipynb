{
 "cells": [
  {
   "cell_type": "code",
   "execution_count": 1,
   "metadata": {},
   "outputs": [
    {
     "name": "stderr",
     "output_type": "stream",
     "text": [
      "/home/anna/anaconda3/envs/biosimspace-dev/lib/python3.9/site-packages/Bio/pairwise2.py:278: BiopythonDeprecationWarning: Bio.pairwise2 has been deprecated, and we intend to remove it in a future release of Biopython. As an alternative, please consider using Bio.Align.PairwiseAligner as a replacement, and contact the Biopython developers if you still need the Bio.pairwise2 module.\n",
      "  warnings.warn(\n"
     ]
    },
    {
     "data": {
      "application/vnd.jupyter.widget-view+json": {
       "model_id": "df4423df230842bcbc16720437cf73ea",
       "version_major": 2,
       "version_minor": 0
      },
      "text/plain": []
     },
     "metadata": {},
     "output_type": "display_data"
    },
    {
     "name": "stdout",
     "output_type": "stream",
     "text": [
      "/home/anna/Documents/cinnabar/cinnabar/__init__.py\n",
      "adding code to the pythonpath...\n"
     ]
    },
    {
     "name": "stderr",
     "output_type": "stream",
     "text": [
      "Warning on use of the timeseries module: If the inherent timescales of the system are long compared to those being analyzed, this statistical inefficiency may be an underestimate.  The estimate presumes the use of many statistically independent samples.  Tests should be performed to assess whether this condition is satisfied.   Be cautious in the interpretation of the data.\n"
     ]
    },
    {
     "name": "stderr",
     "output_type": "stream",
     "text": [
      "Warning: importing 'simtk.openmm' is deprecated.  Import 'openmm' instead.\n",
      "sys:1: ResourceWarning: Unclosed socket <zmq.Socket(zmq.PUSH) at 0x7f62a98c7b80>\n",
      "ResourceWarning: Enable tracemalloc to get the object allocation traceback\n"
     ]
    }
   ],
   "source": [
    "import sys\n",
    "import pickle\n",
    "\n",
    "# sys.path.remove(\"/home/anna/BioSimSpace/python\")\n",
    "\n",
    "import networkx as nx\n",
    "import pickle\n",
    "import itertools as it\n",
    "import os\n",
    "import shutil\n",
    "\n",
    "import MDAnalysis as mda\n",
    "import MDAnalysis.transformations as trans\n",
    "import nglview as nv\n",
    "\n",
    "\n",
    "import warnings\n",
    "warnings.filterwarnings(action='once')\n",
    "\n",
    "\n",
    "if '/home/anna/Documents/cinnabar' not in sys.path:\n",
    "    sys.path.insert(1, '/home/anna/Documents/cinnabar')\n",
    "import cinnabar\n",
    "\n",
    "print(cinnabar.__file__)\n",
    "\n",
    "print(\"adding code to the pythonpath...\")\n",
    "code = '/home/anna/Documents/code/python'\n",
    "if code not in sys.path:\n",
    "    sys.path.insert(1, code)\n",
    "import pipeline\n",
    "\n",
    "from pipeline import *\n",
    "from pipeline.analysis import *\n",
    "from pipeline.prep import *\n",
    "from pipeline.utils import *\n",
    "\n",
    "# import BioSimSpace.Sandpit.Exscientia as BSS\n",
    "import BioSimSpace as BSS\n"
   ]
  },
  {
   "cell_type": "code",
   "execution_count": null,
   "metadata": {},
   "outputs": [],
   "source": [
    "transf = [\"lig_ejm31~lig_ejm45\", \"lig_ejm44~lig_ejm45\",\"lig_ejm44~lig_ejm49\"]\n",
    "engine = \"GROMACS\"\n",
    "main_dir = \"/home/anna/Documents/benchmark/tyk2_benchmark\"\n",
    "# methods = [\"1fs\", \"2fs_HMR4\", \"4fs_HMR4\", \"4fs_HMR3\", \"2fs_HMR3\", \"2fs\"]\n",
    "methods = [\"2fs\"]\n",
    "\n",
    "# options\n",
    "ana_file = f\"{main_dir}/execution_model/analysis_protocol.dat\"\n",
    "analysis_options = analysis_protocol(ana_file, auto_validate=True)\n",
    "# analysis_options.rewrite_protocol()\n",
    "\n",
    "for method in methods:\n",
    "    for trans in transf:\n",
    "        path_to_dir = f\"{main_dir}/outputs_extracted/{engine}/{method}/{trans}\"\n",
    "        print(path_to_dir)\n",
    "        final_results_folder = f\"{main_dir}/outputs_extracted/results\"\n",
    "\n",
    "        # try:\n",
    "        # using the pipeline module for analysis\n",
    "        analysed_pert = analyse(path_to_dir)\n",
    "        analysed_pert.set_options(analysis_options)\n",
    "        analysed_pert.set_options({\"try pickle\":False})\n",
    "        avg, error, repeats_tuple_list = analysed_pert.analyse_all_repeats()\n",
    "        # analysed_pert.plot_graphs()\n",
    "        write_analysis_file(analysed_pert, final_results_folder, method=method)\n",
    "        # except Exception as e:\n",
    "        #     print(e)\n",
    "        #     print(f\"could not analyse {path_to_dir}\")"
   ]
  },
  {
   "cell_type": "code",
   "execution_count": null,
   "metadata": {},
   "outputs": [],
   "source": [
    "transf = [\"lig_ejm31~lig_ejm45\", \"lig_ejm31~lig_ejm48\",\"lig_ejm43~lig_ejm46\", \"lig_ejm46~lig_jmc28\", \"lig_jmc27~lig_jmc28\"]\n",
    "# transf = [\"lig_27~lig_29\", \"lig_27~lig_38\",\"lig_33~lig_38\", \"lig_33~lig_45\", \"lig_56~lig_58\"]\n",
    "engine = \"AMBER\"\n",
    "main_dir = \"/home/anna/Documents/benchmark/tyk2_benchmark\"\n",
    "# methods = [\"1fs\", \"2fs_HMR4\", \"4fs\", \"4fs_HMR3\", \"2fs_HMR3\", \"2fs\"]\n",
    "methods = [\"both_new_mapping\"]\n",
    "\n",
    "# options\n",
    "ana_file = f\"/home/anna/Documents/benchmark/extracted/mcl1/execution_model/analysis_protocol.dat\"\n",
    "analysis_options = analysis_protocol(ana_file, auto_validate=True)\n",
    "analysis_options.estimator(\"MBAR\")\n",
    "# analysis_options.rewrite_protocol()\n",
    "\n",
    "for method in methods:\n",
    "    for trans in transf:\n",
    "        # trans = f\"{trans.split('~')[1]}~{trans.split('~')[0]}\" # for reverse\n",
    "        path_to_dir = f\"{main_dir}/outputs_extracted/{engine}/{method}/{trans}\"\n",
    "        # path_to_dir = f\"{main_dir}/outputs_extracted/{engine}/{trans}\"\n",
    "        print(path_to_dir)\n",
    "        final_results_folder = f\"{main_dir}/outputs_extracted/results\"\n",
    "\n",
    "        try:\n",
    "            # using the pipeline module for analysis\n",
    "            analysed_pert = analyse(path_to_dir)\n",
    "            analysed_pert.set_options(analysis_options)\n",
    "            avg, error, repeats_tuple_list = analysed_pert.analyse_all_repeats()\n",
    "            # analysed_pert.plot_graphs()\n",
    "            write_analysis_file(analysed_pert, final_results_folder, method=method)\n",
    "        except Exception as e:\n",
    "            print(e)\n",
    "            print(f\"could not analyse {path_to_dir}\")"
   ]
  },
  {
   "cell_type": "code",
   "execution_count": null,
   "metadata": {},
   "outputs": [],
   "source": []
  }
 ],
 "metadata": {
  "kernelspec": {
   "display_name": "Python 3 (ipykernel)",
   "language": "python",
   "name": "python3"
  },
  "language_info": {
   "codemirror_mode": {
    "name": "ipython",
    "version": 3
   },
   "file_extension": ".py",
   "mimetype": "text/x-python",
   "name": "python",
   "nbconvert_exporter": "python",
   "pygments_lexer": "ipython3",
   "version": "3.9.15"
  },
  "varInspector": {
   "cols": {
    "lenName": 16,
    "lenType": 16,
    "lenVar": 40
   },
   "kernels_config": {
    "python": {
     "delete_cmd_postfix": "",
     "delete_cmd_prefix": "del ",
     "library": "var_list.py",
     "varRefreshCmd": "print(var_dic_list())"
    },
    "r": {
     "delete_cmd_postfix": ") ",
     "delete_cmd_prefix": "rm(",
     "library": "var_list.r",
     "varRefreshCmd": "cat(var_dic_list()) "
    }
   },
   "types_to_exclude": [
    "module",
    "function",
    "builtin_function_or_method",
    "instance",
    "_Feature"
   ],
   "window_display": false
  },
  "vscode": {
   "interpreter": {
    "hash": "d79bb85316fa6c998e385cc39903e056bffeb3f6098416e9c269ddd32175e919"
   }
  }
 },
 "nbformat": 4,
 "nbformat_minor": 2
}
