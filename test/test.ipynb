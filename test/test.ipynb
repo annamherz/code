{
 "cells": [
  {
   "cell_type": "code",
   "execution_count": 1,
   "metadata": {},
   "outputs": [
    {
     "name": "stderr",
     "output_type": "stream",
     "text": [
      "Warning on use of the timeseries module: If the inherent timescales of the system are long compared to those being analyzed, this statistical inefficiency may be an underestimate.  The estimate presumes the use of many statistically independent samples.  Tests should be performed to assess whether this condition is satisfied.   Be cautious in the interpretation of the data.\n",
      "/home/anna/anaconda3/envs/biosimspace-dev/lib/python3.9/site-packages/numpy/core/getlimits.py:500: UserWarning: The value of the smallest subnormal for <class 'numpy.float64'> type is zero.\n",
      "  setattr(self, word, getattr(machar, word).flat[0])\n",
      "/home/anna/anaconda3/envs/biosimspace-dev/lib/python3.9/site-packages/numpy/core/getlimits.py:89: UserWarning: The value of the smallest subnormal for <class 'numpy.float64'> type is zero.\n",
      "  return self._float_to_str(self.smallest_subnormal)\n",
      "/home/anna/anaconda3/envs/biosimspace-dev/lib/python3.9/site-packages/numpy/core/getlimits.py:500: UserWarning: The value of the smallest subnormal for <class 'numpy.float32'> type is zero.\n",
      "  setattr(self, word, getattr(machar, word).flat[0])\n",
      "/home/anna/anaconda3/envs/biosimspace-dev/lib/python3.9/site-packages/numpy/core/getlimits.py:89: UserWarning: The value of the smallest subnormal for <class 'numpy.float32'> type is zero.\n",
      "  return self._float_to_str(self.smallest_subnormal)\n",
      "Warning: importing 'simtk.openmm' is deprecated.  Import 'openmm' instead.\n"
     ]
    },
    {
     "name": "stdout",
     "output_type": "stream",
     "text": [
      "\n",
      "==============================================================\n",
      "Sending anonymous Sire usage statistics to http://siremol.org.\n",
      "For more information, see http://siremol.org/analytics\n",
      "To disable, set the environment variable 'SIRE_DONT_PHONEHOME' to 1\n",
      "To see the information sent, set the environment variable \n",
      "SIRE_VERBOSE_PHONEHOME equal to 1. To silence this message, set\n",
      "the environment variable SIRE_SILENT_PHONEHOME to 1.\n",
      "==============================================================\n",
      "\n",
      "adding code to the pythonpath...\n"
     ]
    }
   ],
   "source": [
    "import BioSimSpace as BSS\n",
    "import sys\n",
    "import networkx as nx\n",
    "import pickle\n",
    "import itertools as it\n",
    "\n",
    "import warnings\n",
    "warnings.filterwarnings(action='once')\n",
    "\n",
    "\n",
    "try:\n",
    "    import pipeline\n",
    "except:\n",
    "    print(\"adding code to the pythonpath...\")\n",
    "    code = '/home/anna/Documents/code/python'\n",
    "    if code not in sys.path:\n",
    "        sys.path.insert(1, code)\n",
    "    import pipeline\n",
    "\n",
    "from pipeline import *\n",
    "from pipeline.analysis import *"
   ]
  },
  {
   "cell_type": "code",
   "execution_count": 7,
   "metadata": {},
   "outputs": [
    {
     "name": "stdout",
     "output_type": "stream",
     "text": [
      "there are : 1 results files.\n",
      "using /home/anna/Documents/code/test to write the results as none specified...\n",
      "tyk2 rbfenn is 34.3569831295206\n",
      "there are : 1 results files.\n",
      "using /home/anna/Documents/code/test to write the results as none specified...\n",
      "tyk2 lomap is 8.711443628278584\n",
      "there are : 1 results files.\n",
      "using /home/anna/Documents/code/test to write the results as none specified...\n",
      "p38 rbfenn is 1766.0956835143988\n",
      "there are : 1 results files.\n",
      "using /home/anna/Documents/code/test to write the results as none specified...\n",
      "p38 lomap is 36.08531894778112\n",
      "there are : 1 results files.\n",
      "using /home/anna/Documents/code/test to write the results as none specified...\n",
      "mcl1 rbfenn is 43.26526059340567\n",
      "there are : 1 results files.\n",
      "using /home/anna/Documents/code/test to write the results as none specified...\n",
      "mcl1 lomap is 53.95026406713818\n"
     ]
    }
   ],
   "source": [
    "for prot, net in it.product([\"tyk2\",\"p38\",\"mcl1\"],[\"rbfenn\",\"lomap\"]):\n",
    "\n",
    "    results_files = [\"/home/anna/Documents/code/test/final_summary_SOMD_MBAR_alchemlyb_benchmark.csv\"]\n",
    "    engine = \"SOMD\"\n",
    "    output_folder = \"/home/anna/Documents/code/test\"\n",
    "    net_file = f\"/home/anna/Documents/benchmark/{prot}_benchmark/execution_model/network_{net}.dat\"\n",
    "    weight_file = f\"/home/anna/Documents/benchmark/{prot}_benchmark/execution_model/network_{net}_scores.dat\"\n",
    "\n",
    "    perturbations, ligands, mod_results_files = get_info_network(results_files, net_file, extra_options={\"engine\":engine})\n",
    "\n",
    "    graph_x = graph(ligands, perturbations)\n",
    "    graph_x.add_weight(weight_file)\n",
    "    # graph_x.draw_graph()\n",
    "    avg_weighted = graph_x.get_average_weighted_simple_paths()\n",
    "    print(f\"{prot} {net} is {avg_weighted}\")\n",
    "\n",
    "    with open(f\"{output_folder}/graph_{prot}_{net}.pickle\", 'wb') as handle:\n",
    "        pickle.dump(graph_x.graph, handle)"
   ]
  },
  {
   "cell_type": "code",
   "execution_count": 8,
   "metadata": {},
   "outputs": [
    {
     "name": "stdout",
     "output_type": "stream",
     "text": [
      "48\n"
     ]
    }
   ],
   "source": [
    "# cycles = graph.cycle_closures()\n",
    "# print(cycles)\n",
    "\n",
    "nx.get_edge_attributes(graph_x.graph, \"weight\")\n",
    "\n",
    "print(len(perturbations))"
   ]
  },
  {
   "cell_type": "code",
   "execution_count": 8,
   "metadata": {},
   "outputs": [
    {
     "name": "stdout",
     "output_type": "stream",
     "text": [
      "<class 'networkx.classes.graph.Graph'>\n"
     ]
    },
    {
     "data": {
      "text/plain": [
       "{('lig_ejm45', 'lig_ejm53'): 0.09933,\n",
       " ('lig_ejm45', 'lig_ejm55'): 0.1367,\n",
       " ('lig_ejm45', 'lig_ejm42'): 0.23437,\n",
       " ('lig_ejm44', 'lig_ejm54'): 0.11444,\n",
       " ('lig_ejm44', 'lig_ejm55'): 0.26,\n",
       " ('lig_ejm44', 'lig_ejm49'): 0.26079,\n",
       " ('lig_ejm44', 'lig_ejm42'): 0.30691,\n",
       " ('lig_ejm44', 'lig_ejm31'): 0.34516,\n",
       " ('lig_ejm44', 'lig_ejm43'): 0.35593,\n",
       " ('lig_ejm54', 'lig_ejm55'): 0.12815,\n",
       " ('lig_ejm48', 'lig_ejm55'): 0.13334,\n",
       " ('lig_ejm48', 'lig_ejm42'): 0.22289,\n",
       " ('lig_ejm55', 'lig_ejm42'): 0.30664,\n",
       " ('lig_ejm43', 'lig_ejm46'): 0.14135,\n",
       " ('lig_ejm43', 'lig_ejm47'): 0.16209,\n",
       " ('lig_ejm43', 'lig_ejm50'): 0.23105,\n",
       " ('lig_ejm43', 'lig_ejm42'): 0.35593,\n",
       " ('lig_ejm47', 'lig_ejm42'): 0.21851,\n",
       " ('lig_ejm42', 'lig_ejm53'): 0.20372,\n",
       " ('lig_ejm42', 'lig_ejm46'): 0.20628,\n",
       " ('lig_ejm42', 'lig_ejm50'): 0.23669,\n",
       " ('lig_ejm42', 'lig_ejm31'): 0.29608,\n",
       " ('lig_ejm46', 'lig_jmc27'): 0.35906,\n",
       " ('lig_ejm46', 'lig_jmc23'): 0.36255,\n",
       " ('lig_ejm49', 'lig_ejm31'): 0.28213,\n",
       " ('lig_jmc27', 'lig_jmc30'): 0.31176,\n",
       " ('lig_jmc27', 'lig_jmc28'): 0.37638,\n",
       " ('lig_jmc27', 'lig_jmc23'): 1.0,\n",
       " ('lig_jmc23', 'lig_jmc30'): 0.31414,\n",
       " ('lig_jmc23', 'lig_jmc28'): 0.38291}"
      ]
     },
     "execution_count": 8,
     "metadata": {},
     "output_type": "execute_result"
    }
   ],
   "source": [
    "\n",
    "with open(f\"{output_folder}/graph_tyk2_rbfenn.pickle\", \"rb\") as file:\n",
    "    graph_t = pickle.load(file)\n",
    "print(type(graph_t))\n",
    "nx.get_edge_attributes(graph_t, \"weight\")"
   ]
  },
  {
   "cell_type": "code",
   "execution_count": null,
   "metadata": {},
   "outputs": [],
   "source": []
  }
 ],
 "metadata": {
  "kernelspec": {
   "display_name": "Python 3.9.15 ('biosimspace-dev': conda)",
   "language": "python",
   "name": "python3"
  },
  "language_info": {
   "codemirror_mode": {
    "name": "ipython",
    "version": 3
   },
   "file_extension": ".py",
   "mimetype": "text/x-python",
   "name": "python",
   "nbconvert_exporter": "python",
   "pygments_lexer": "ipython3",
   "version": "3.9.15"
  },
  "orig_nbformat": 4,
  "vscode": {
   "interpreter": {
    "hash": "d79bb85316fa6c998e385cc39903e056bffeb3f6098416e9c269ddd32175e919"
   }
  }
 },
 "nbformat": 4,
 "nbformat_minor": 2
}
