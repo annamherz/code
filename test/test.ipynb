{
 "cells": [
  {
   "cell_type": "code",
   "execution_count": 1,
   "metadata": {},
   "outputs": [
    {
     "name": "stderr",
     "output_type": "stream",
     "text": [
      "/home/anna/anaconda3/envs/biosimspace-dev/lib/python3.9/site-packages/Bio/pairwise2.py:278: BiopythonDeprecationWarning: Bio.pairwise2 has been deprecated, and we intend to remove it in a future release of Biopython. As an alternative, please consider using Bio.Align.PairwiseAligner as a replacement, and contact the Biopython developers if you still need the Bio.pairwise2 module.\n",
      "  warnings.warn(\n"
     ]
    },
    {
     "data": {
      "application/vnd.jupyter.widget-view+json": {
       "model_id": "8023cee074dd4e81ab9fb0ca23eccf6e",
       "version_major": 2,
       "version_minor": 0
      },
      "text/plain": []
     },
     "metadata": {},
     "output_type": "display_data"
    },
    {
     "name": "stdout",
     "output_type": "stream",
     "text": [
      "/home/anna/Documents/cinnabar/cinnabar/__init__.py\n",
      "adding code to the pythonpath...\n"
     ]
    },
    {
     "name": "stderr",
     "output_type": "stream",
     "text": [
      "Warning on use of the timeseries module: If the inherent timescales of the system are long compared to those being analyzed, this statistical inefficiency may be an underestimate.  The estimate presumes the use of many statistically independent samples.  Tests should be performed to assess whether this condition is satisfied.   Be cautious in the interpretation of the data.\n"
     ]
    }
   ],
   "source": [
    "import sys\n",
    "import networkx as nx\n",
    "import pickle\n",
    "import itertools as it\n",
    "import os\n",
    "import shutil\n",
    "\n",
    "import MDAnalysis as mda\n",
    "import MDAnalysis.transformations as trans\n",
    "import nglview as nv\n",
    "\n",
    "\n",
    "import warnings\n",
    "warnings.filterwarnings(action='once')\n",
    "\n",
    "\n",
    "if '/home/anna/Documents/cinnabar' not in sys.path:\n",
    "    sys.path.insert(1, '/home/anna/Documents/cinnabar')\n",
    "import cinnabar\n",
    "\n",
    "print(cinnabar.__file__)\n",
    "\n",
    "print(\"adding code to the pythonpath...\")\n",
    "code = '/home/anna/Documents/code/python'\n",
    "if code not in sys.path:\n",
    "    sys.path.insert(1, code)\n",
    "import pipeline\n",
    "\n",
    "from pipeline import *\n",
    "from pipeline.analysis import *\n",
    "from pipeline.prep import *\n",
    "from pipeline.utils import *\n"
   ]
  },
  {
   "cell_type": "code",
   "execution_count": 2,
   "metadata": {},
   "outputs": [
    {
     "name": "stderr",
     "output_type": "stream",
     "text": [
      "Warning: importing 'simtk.openmm' is deprecated.  Import 'openmm' instead.\n",
      "sys:1: ResourceWarning: Unclosed socket <zmq.Socket(zmq.PUSH) at 0x7fa5f0a24520>\n",
      "ResourceWarning: Enable tracemalloc to get the object allocation traceback\n",
      "/home/anna/anaconda3/envs/biosimspace-dev/lib/python3.9/tempfile.py:821: ResourceWarning: Implicitly cleaning up <TemporaryDirectory '/tmp/tmpo79qc54n'>\n",
      "  _warnings.warn(warn_message, ResourceWarning)\n",
      "/home/anna/anaconda3/envs/biosimspace-dev/lib/python3.9/tempfile.py:821: ResourceWarning: Implicitly cleaning up <TemporaryDirectory '/tmp/tmpfu_lqyuz'>\n",
      "  _warnings.warn(warn_message, ResourceWarning)\n",
      "/home/anna/anaconda3/envs/biosimspace-dev/lib/python3.9/tempfile.py:821: ResourceWarning: Implicitly cleaning up <TemporaryDirectory '/tmp/tmps3mewgvk'>\n",
      "  _warnings.warn(warn_message, ResourceWarning)\n",
      "/home/anna/anaconda3/envs/biosimspace-dev/lib/python3.9/tempfile.py:821: ResourceWarning: Implicitly cleaning up <TemporaryDirectory '/tmp/tmpp4y4g6i2'>\n",
      "  _warnings.warn(warn_message, ResourceWarning)\n",
      "sys:1: ResourceWarning: Unclosed socket <zmq.Socket(zmq.PUSH) at 0x7fa47b78d160>\n",
      "ResourceWarning: Enable tracemalloc to get the object allocation traceback\n",
      "/home/anna/anaconda3/envs/biosimspace-dev/lib/python3.9/tempfile.py:821: ResourceWarning: Implicitly cleaning up <TemporaryDirectory '/tmp/tmpems5um4n'>\n",
      "  _warnings.warn(warn_message, ResourceWarning)\n",
      "/home/anna/anaconda3/envs/biosimspace-dev/lib/python3.9/tempfile.py:821: ResourceWarning: Implicitly cleaning up <TemporaryDirectory '/tmp/tmpirt1eepf'>\n",
      "  _warnings.warn(warn_message, ResourceWarning)\n",
      "/home/anna/anaconda3/envs/biosimspace-dev/lib/python3.9/tempfile.py:821: ResourceWarning: Implicitly cleaning up <TemporaryDirectory '/tmp/tmpt2d23mo_'>\n",
      "  _warnings.warn(warn_message, ResourceWarning)\n",
      "sys:1: ResourceWarning: Unclosed socket <zmq.Socket(zmq.PUSH) at 0x7fa42c4cc820>\n",
      "ResourceWarning: Enable tracemalloc to get the object allocation traceback\n",
      "/home/anna/anaconda3/envs/biosimspace-dev/lib/python3.9/tempfile.py:821: ResourceWarning: Implicitly cleaning up <TemporaryDirectory '/tmp/tmpho6v3s0z'>\n",
      "  _warnings.warn(warn_message, ResourceWarning)\n",
      "sys:1: ResourceWarning: Unclosed socket <zmq.Socket(zmq.PUSH) at 0x7fa42c4cc700>\n",
      "ResourceWarning: Enable tracemalloc to get the object allocation traceback\n",
      "/home/anna/anaconda3/envs/biosimspace-dev/lib/python3.9/tempfile.py:821: ResourceWarning: Implicitly cleaning up <TemporaryDirectory '/tmp/tmp7h7q1uph'>\n",
      "  _warnings.warn(warn_message, ResourceWarning)\n",
      "sys:1: ResourceWarning: Unclosed socket <zmq.Socket(zmq.PUSH) at 0x7fa42c165e20>\n",
      "ResourceWarning: Enable tracemalloc to get the object allocation traceback\n",
      "/home/anna/anaconda3/envs/biosimspace-dev/lib/python3.9/tempfile.py:821: ResourceWarning: Implicitly cleaning up <TemporaryDirectory '/tmp/tmp897qn3iq'>\n",
      "  _warnings.warn(warn_message, ResourceWarning)\n",
      "/home/anna/anaconda3/envs/biosimspace-dev/lib/python3.9/tempfile.py:821: ResourceWarning: Implicitly cleaning up <TemporaryDirectory '/tmp/tmp8tve4i1z'>\n",
      "  _warnings.warn(warn_message, ResourceWarning)\n",
      "sys:1: ResourceWarning: Unclosed socket <zmq.Socket(zmq.PUSH) at 0x7fa42c673e80>\n",
      "ResourceWarning: Enable tracemalloc to get the object allocation traceback\n"
     ]
    },
    {
     "name": "stdout",
     "output_type": "stream",
     "text": [
      "hmr factor not found in protocol. auto will be used.\n",
      "engines not found in protocol. ALL will be used.\n",
      "fepprep not found in protocol. middle will be used.\n",
      "'hmr' must be set to True for a hmr factor to be applied. It will still be set as auto.\n"
     ]
    },
    {
     "data": {
      "text/plain": [
       "'AMBER'"
      ]
     },
     "execution_count": 2,
     "metadata": {},
     "output_type": "execute_result"
    },
    {
     "name": "stdout",
     "output_type": "stream",
     "text": [
      "\n",
      "==============================================================\n",
      "Sending anonymous Sire usage statistics to http://siremol.org.\n",
      "For more information, see http://siremol.org/analytics\n",
      "To disable, set the environment variable 'SIRE_DONT_PHONEHOME' to 1\n",
      "To see the information sent, set the environment variable \n",
      "SIRE_VERBOSE_PHONEHOME equal to 1. To silence this message, set\n",
      "the environment variable SIRE_SILENT_PHONEHOME to 1.\n",
      "==============================================================\n",
      "\n"
     ]
    }
   ],
   "source": [
    "prot_file = \"/home/anna/Documents/benchmark/tyk2_benchmark/execution_model/protocol_2fs.dat\"\n",
    "protocol = pipeline_protocol(prot_file)\n",
    "protocol.validate()\n",
    "protocol.fepprep(\"middle\")\n",
    "\n",
    "protocol.num_lambda(11)\n",
    "protocol.engine(\"AMBER\")"
   ]
  },
  {
   "cell_type": "code",
   "execution_count": 5,
   "metadata": {},
   "outputs": [
    {
     "name": "stdout",
     "output_type": "stream",
     "text": [
      "Preparing the free leg...\n",
      "mapping, aligning and merging the ligands...\n",
      "Preparing the bound leg...\n",
      "mapping, aligning and merging the ligands...\n"
     ]
    }
   ],
   "source": [
    "# Load equilibrated inputs for both ligands\n",
    "prep_dir = \"/home/anna/Documents/benchmark/tyk2_benchmark/prep\"\n",
    "lig_1 = \"lig_ejm31\"\n",
    "lig_2 = \"lig_ejm48\"\n",
    "\n",
    "for name, leg in zip([\"lig\", \"sys\"], [\"free\", \"bound\"]):\n",
    "    # Load equilibrated inputs for both ligands\n",
    "    system_1 = BSS.IO.readMolecules(\n",
    "        [f\"{prep_dir}/{lig_1}_{name}_equil_solv.rst7\", f\"{prep_dir}/{lig_1}_{name}_equil_solv.prm7\"])\n",
    "    system_2 = BSS.IO.readMolecules(\n",
    "        [f\"{prep_dir}/{lig_2}_{name}_equil_solv.rst7\", f\"{prep_dir}/{lig_2}_{name}_equil_solv.prm7\"])\n",
    "\n",
    "    print(f\"Preparing the {leg} leg...\")\n",
    "    if leg == \"free\":\n",
    "        system_free = merge.merge_system(system_1, system_2)\n",
    "    if leg == \"bound\":\n",
    "        system_bound = merge.merge_system(system_1, system_2)"
   ]
  },
  {
   "cell_type": "code",
   "execution_count": 3,
   "metadata": {},
   "outputs": [],
   "source": [
    "pmemd_path = os.environ[\"AMBERHOME\"] + \"/bin/pmemd.cuda\""
   ]
  },
  {
   "cell_type": "code",
   "execution_count": 6,
   "metadata": {},
   "outputs": [
    {
     "name": "stdout",
     "output_type": "stream",
     "text": [
      "'hmr' must be set to True for a hmr factor to be applied. It will still be set as auto.\n"
     ]
    }
   ],
   "source": [
    "fepprep_obj = fepprep(system_free, system_bound, protocol)\n",
    "folder = f\"/home/anna/Documents/code/test/{lig_1}~{lig_2}_neweq\"\n",
    "free_system, bound_system = fepprep_obj.prep_system_middle(pmemd_path)\n",
    "\n",
    "# fepprep_obj.generate_folders(f\"{folder}\")"
   ]
  },
  {
   "cell_type": "code",
   "execution_count": 7,
   "metadata": {},
   "outputs": [],
   "source": [
    "lig_fep = \"fepprep\"\n",
    "engine=\"AMBER\"\n",
    "\n",
    "protocol_min_rest, protocol_min = min_prots(lig_fep)\n",
    "\n",
    "protocol_nvt_sol, protocol_nvt_heavy, protocol_nvt = nvt_prots(lig_fep)\n",
    "\n",
    "protocol_npt_heavy, protocol_npt_heavy_lighter, protocol_npt = npt_prots(lig_fep)"
   ]
  },
  {
   "cell_type": "code",
   "execution_count": 8,
   "metadata": {},
   "outputs": [],
   "source": [
    "minimised1 = run_process(system_free, protocol_min_rest, engine, pmemd_path)\n",
    "minimised2 = run_process(minimised1, protocol_min, engine, pmemd_path, work_dir=folder)"
   ]
  },
  {
   "cell_type": "code",
   "execution_count": 8,
   "metadata": {},
   "outputs": [
    {
     "data": {
      "text/plain": [
       "['/home/anna/Documents/code/test/lig_43~lig_48/minimised.pdb']"
      ]
     },
     "execution_count": 8,
     "metadata": {},
     "output_type": "execute_result"
    }
   ],
   "source": [
    "BSS.IO.saveMolecules(f\"{folder}/minimised\", minimised2, \"PDB\")"
   ]
  },
  {
   "cell_type": "code",
   "execution_count": 24,
   "metadata": {},
   "outputs": [],
   "source": [
    "BSS.IO.savePerturbableSystem(f\"{folder}/minimised\", minimised2)"
   ]
  },
  {
   "cell_type": "code",
   "execution_count": 14,
   "metadata": {},
   "outputs": [],
   "source": [
    "equil1 = run_process(equil3, protocol_nvt_sol, engine, pmemd_path) #, work_dir=f\"{folder}/equil1\"\n"
   ]
  },
  {
   "cell_type": "code",
   "execution_count": 12,
   "metadata": {},
   "outputs": [],
   "source": [
    "equil2 = run_process(equil1, protocol_nvt_heavy, engine, pmemd_path) #, work_dir=f\"{folder}/equil2\"\n"
   ]
  },
  {
   "cell_type": "code",
   "execution_count": 17,
   "metadata": {},
   "outputs": [
    {
     "ename": "OSError",
     "evalue": "Failed to write system to 'RST7' format.",
     "output_type": "error",
     "traceback": [
      "\u001b[0;31m---------------------------------------------------------------------------\u001b[0m",
      "\u001b[0;31mOSError\u001b[0m                                   Traceback (most recent call last)",
      "Cell \u001b[0;32mIn[17], line 1\u001b[0m\n\u001b[0;32m----> 1\u001b[0m equil3a \u001b[39m=\u001b[39m run_process(equil2, protocol_nvt, engine, pmemd_path, work_dir\u001b[39m=\u001b[39;49m\u001b[39mf\u001b[39;49m\u001b[39m\"\u001b[39;49m\u001b[39m{\u001b[39;49;00mfolder\u001b[39m}\u001b[39;49;00m\u001b[39m/equil3\u001b[39;49m\u001b[39m\"\u001b[39;49m)\n",
      "File \u001b[0;32m~/Documents/code/python/pipeline/prep/_equilibrate.py:19\u001b[0m, in \u001b[0;36mrun_process\u001b[0;34m(system, protocol, engine, pmemd_path, work_dir)\u001b[0m\n\u001b[1;32m     17\u001b[0m \u001b[39mif\u001b[39;00m engine \u001b[39m==\u001b[39m \u001b[39m\"\u001b[39m\u001b[39mAMBER\u001b[39m\u001b[39m\"\u001b[39m:\n\u001b[1;32m     18\u001b[0m     \u001b[39mif\u001b[39;00m pmemd_path:\n\u001b[0;32m---> 19\u001b[0m         process \u001b[39m=\u001b[39m BSS\u001b[39m.\u001b[39;49mProcess\u001b[39m.\u001b[39;49mAmber(\n\u001b[1;32m     20\u001b[0m             system, protocol, work_dir\u001b[39m=\u001b[39;49mwork_dir, exe\u001b[39m=\u001b[39;49mpmemd_path)\n\u001b[1;32m     21\u001b[0m     \u001b[39melse\u001b[39;00m:\n\u001b[1;32m     22\u001b[0m         process \u001b[39m=\u001b[39m BSS\u001b[39m.\u001b[39mProcess\u001b[39m.\u001b[39mAmber(\n\u001b[1;32m     23\u001b[0m             system, protocol, work_dir\u001b[39m=\u001b[39mwork_dir)\n",
      "File \u001b[0;32m~/BioSimSpace/python/BioSimSpace/Process/_amber.py:251\u001b[0m, in \u001b[0;36mAmber.__init__\u001b[0;34m(self, system, protocol, exe, name, work_dir, seed, extra_options, extra_lines, property_map)\u001b[0m\n\u001b[1;32m    248\u001b[0m \u001b[39mself\u001b[39m\u001b[39m.\u001b[39m_input_files \u001b[39m=\u001b[39m [\u001b[39mself\u001b[39m\u001b[39m.\u001b[39m_config_file, \u001b[39mself\u001b[39m\u001b[39m.\u001b[39m_rst_file, \u001b[39mself\u001b[39m\u001b[39m.\u001b[39m_top_file]\n\u001b[1;32m    250\u001b[0m \u001b[39m# Now set up the working directory for the process.\u001b[39;00m\n\u001b[0;32m--> 251\u001b[0m \u001b[39mself\u001b[39;49m\u001b[39m.\u001b[39;49m_setup()\n",
      "File \u001b[0;32m~/BioSimSpace/python/BioSimSpace/Process/_amber.py:280\u001b[0m, in \u001b[0;36mAmber._setup\u001b[0;34m(self)\u001b[0m\n\u001b[1;32m    278\u001b[0m         \u001b[39mraise\u001b[39;00m \u001b[39mIOError\u001b[39;00m(msg) \u001b[39mfrom\u001b[39;00m \u001b[39me\u001b[39;00m\n\u001b[1;32m    279\u001b[0m     \u001b[39melse\u001b[39;00m:\n\u001b[0;32m--> 280\u001b[0m         \u001b[39mraise\u001b[39;00m \u001b[39mIOError\u001b[39;00m(msg) \u001b[39mfrom\u001b[39;00m \u001b[39mNone\u001b[39m\n\u001b[1;32m    282\u001b[0m \u001b[39m# PRM file (topology).\u001b[39;00m\n\u001b[1;32m    283\u001b[0m \u001b[39mtry\u001b[39;00m:\n",
      "\u001b[0;31mOSError\u001b[0m: Failed to write system to 'RST7' format."
     ]
    }
   ],
   "source": [
    "equil3a = run_process(equil2, protocol_nvt, engine, pmemd_path, work_dir=f\"{folder}/equil3\")"
   ]
  },
  {
   "cell_type": "code",
   "execution_count": 9,
   "metadata": {},
   "outputs": [],
   "source": [
    "equil3 = run_process(minimised2, protocol_nvt, engine, pmemd_path, work_dir=f\"{folder}/min_to_equil3\")"
   ]
  },
  {
   "cell_type": "code",
   "execution_count": 21,
   "metadata": {},
   "outputs": [
    {
     "ename": "NameError",
     "evalue": "name 'equil4' is not defined",
     "output_type": "error",
     "traceback": [
      "\u001b[0;31m---------------------------------------------------------------------------\u001b[0m",
      "\u001b[0;31mNameError\u001b[0m                                 Traceback (most recent call last)",
      "Cell \u001b[0;32mIn[21], line 1\u001b[0m\n\u001b[0;32m----> 1\u001b[0m BSS\u001b[39m.\u001b[39mNotebook\u001b[39m.\u001b[39mView(equil4)\u001b[39m.\u001b[39msystem()\n",
      "\u001b[0;31mNameError\u001b[0m: name 'equil4' is not defined"
     ]
    }
   ],
   "source": [
    "BSS.Notebook.View(equil4).system()"
   ]
  },
  {
   "cell_type": "code",
   "execution_count": 33,
   "metadata": {},
   "outputs": [
    {
     "ename": "OSError",
     "evalue": "Failed to write system to 'RST7' format.",
     "output_type": "error",
     "traceback": [
      "\u001b[0;31m---------------------------------------------------------------------------\u001b[0m",
      "\u001b[0;31mOSError\u001b[0m                                   Traceback (most recent call last)",
      "Cell \u001b[0;32mIn[33], line 1\u001b[0m\n\u001b[0;32m----> 1\u001b[0m equil4 \u001b[39m=\u001b[39m run_process(equil2, heat_protocol, engine, pmemd_path, work_dir\u001b[39m=\u001b[39;49m\u001b[39mf\u001b[39;49m\u001b[39m\"\u001b[39;49m\u001b[39m{\u001b[39;49;00mfolder\u001b[39m}\u001b[39;49;00m\u001b[39m/eq_test\u001b[39;49m\u001b[39m\"\u001b[39;49m)\n",
      "File \u001b[0;32m~/Documents/code/python/pipeline/prep/_equilibrate.py:19\u001b[0m, in \u001b[0;36mrun_process\u001b[0;34m(system, protocol, engine, pmemd_path, work_dir)\u001b[0m\n\u001b[1;32m     17\u001b[0m \u001b[39mif\u001b[39;00m engine \u001b[39m==\u001b[39m \u001b[39m\"\u001b[39m\u001b[39mAMBER\u001b[39m\u001b[39m\"\u001b[39m:\n\u001b[1;32m     18\u001b[0m     \u001b[39mif\u001b[39;00m pmemd_path:\n\u001b[0;32m---> 19\u001b[0m         process \u001b[39m=\u001b[39m BSS\u001b[39m.\u001b[39;49mProcess\u001b[39m.\u001b[39;49mAmber(\n\u001b[1;32m     20\u001b[0m             system, protocol, work_dir\u001b[39m=\u001b[39;49mwork_dir, exe\u001b[39m=\u001b[39;49mpmemd_path)\n\u001b[1;32m     21\u001b[0m     \u001b[39melse\u001b[39;00m:\n\u001b[1;32m     22\u001b[0m         process \u001b[39m=\u001b[39m BSS\u001b[39m.\u001b[39mProcess\u001b[39m.\u001b[39mAmber(\n\u001b[1;32m     23\u001b[0m             system, protocol, work_dir\u001b[39m=\u001b[39mwork_dir)\n",
      "File \u001b[0;32m~/BioSimSpace/python/BioSimSpace/Process/_amber.py:251\u001b[0m, in \u001b[0;36mAmber.__init__\u001b[0;34m(self, system, protocol, exe, name, work_dir, seed, extra_options, extra_lines, property_map)\u001b[0m\n\u001b[1;32m    248\u001b[0m \u001b[39mself\u001b[39m\u001b[39m.\u001b[39m_input_files \u001b[39m=\u001b[39m [\u001b[39mself\u001b[39m\u001b[39m.\u001b[39m_config_file, \u001b[39mself\u001b[39m\u001b[39m.\u001b[39m_rst_file, \u001b[39mself\u001b[39m\u001b[39m.\u001b[39m_top_file]\n\u001b[1;32m    250\u001b[0m \u001b[39m# Now set up the working directory for the process.\u001b[39;00m\n\u001b[0;32m--> 251\u001b[0m \u001b[39mself\u001b[39;49m\u001b[39m.\u001b[39;49m_setup()\n",
      "File \u001b[0;32m~/BioSimSpace/python/BioSimSpace/Process/_amber.py:280\u001b[0m, in \u001b[0;36mAmber._setup\u001b[0;34m(self)\u001b[0m\n\u001b[1;32m    278\u001b[0m         \u001b[39mraise\u001b[39;00m \u001b[39mIOError\u001b[39;00m(msg) \u001b[39mfrom\u001b[39;00m \u001b[39me\u001b[39;00m\n\u001b[1;32m    279\u001b[0m     \u001b[39melse\u001b[39;00m:\n\u001b[0;32m--> 280\u001b[0m         \u001b[39mraise\u001b[39;00m \u001b[39mIOError\u001b[39;00m(msg) \u001b[39mfrom\u001b[39;00m \u001b[39mNone\u001b[39m\n\u001b[1;32m    282\u001b[0m \u001b[39m# PRM file (topology).\u001b[39;00m\n\u001b[1;32m    283\u001b[0m \u001b[39mtry\u001b[39;00m:\n",
      "\u001b[0;31mOSError\u001b[0m: Failed to write system to 'RST7' format."
     ]
    }
   ],
   "source": [
    "equil4 = run_process(equil3, heat_protocol, engine, pmemd_path, work_dir=f\"{folder}/eq_test\")"
   ]
  },
  {
   "cell_type": "code",
   "execution_count": null,
   "metadata": {},
   "outputs": [],
   "source": [
    "BSS.Notebook.View(merge.extract_ligand(equil4)).system()"
   ]
  },
  {
   "cell_type": "code",
   "execution_count": null,
   "metadata": {},
   "outputs": [],
   "source": [
    "protocol_npt_heavy"
   ]
  },
  {
   "cell_type": "code",
   "execution_count": 19,
   "metadata": {},
   "outputs": [
    {
     "name": "stdout",
     "output_type": "stream",
     "text": [
      "ERROR: Calculation halted.  Periodic box dimensions have changed too much from their initial values.\n",
      "  Your system density has likely changed by a large amount, probably from\n",
      "  starting the simulation from a structure a long way from equilibrium.\n",
      "\n",
      "  [Although this error can also occur if the simulation has blown up for some reason]\n",
      "\n",
      "  The GPU code does not automatically reorganize grid cells and thus you\n",
      "  will need to restart the calculation from the previous restart file.\n",
      "  This will generate new grid cells and allow the calculation to continue.\n",
      "  It may be necessary to repeat this restarting multiple times if your system\n",
      "  is a long way from an equilibrated density.\n",
      "\n",
      "  Alternatively you can run with the CPU code until the density has converged\n",
      "  and then switch back to the GPU code.\n",
      "\n",
      "\n",
      "  Softcore part of the system:       7 atoms,       TEMP(K)    =     1299306.33\n",
      " SC_Etot=    588512.5169  SC_EKtot=     27110.6927  SC_EPtot   =    561401.8242\n",
      " SC_BOND=    560582.3151  SC_ANGLE=       738.3843  SC_DIHED   =        79.3409\n",
      " SC_14NB=        -0.0000  SC_14EEL=         0.2323  SC_VDW     =        -0.0000\n",
      " SC_EEL =         1.5516\n",
      " SC_RES_DIST=     0.0000  SC_RES_ANG=       0.0000  SC_RES_TORS=         0.0000\n",
      " SC_EEL_DER=     -0.6493  SC_VDW_DER=      -3.7615  SC_DERIV   =        -4.4108\n",
      " ------------------------------------------------------------------------------\n",
      "\n",
      "None\n",
      "None\n"
     ]
    },
    {
     "ename": "ThirdPartyError",
     "evalue": "The process exited with an error!",
     "output_type": "error",
     "traceback": [
      "\u001b[0;31m---------------------------------------------------------------------------\u001b[0m",
      "\u001b[0;31mThirdPartyError\u001b[0m                           Traceback (most recent call last)",
      "Cell \u001b[0;32mIn[19], line 1\u001b[0m\n\u001b[0;32m----> 1\u001b[0m equil4 \u001b[39m=\u001b[39m run_process(equil3, protocol_npt_heavy, engine, pmemd_path, work_dir\u001b[39m=\u001b[39;49m\u001b[39mf\u001b[39;49m\u001b[39m\"\u001b[39;49m\u001b[39m{\u001b[39;49;00mfolder\u001b[39m}\u001b[39;49;00m\u001b[39m/eq_test2\u001b[39;49m\u001b[39m\"\u001b[39;49m)\n",
      "File \u001b[0;32m~/Documents/code/python/pipeline/prep/_equilibrate.py:37\u001b[0m, in \u001b[0;36mrun_process\u001b[0;34m(system, protocol, engine, pmemd_path, work_dir)\u001b[0m\n\u001b[1;32m     35\u001b[0m     \u001b[39mprint\u001b[39m(process\u001b[39m.\u001b[39mstdout())\n\u001b[1;32m     36\u001b[0m     \u001b[39mprint\u001b[39m(process\u001b[39m.\u001b[39mstderr())\n\u001b[0;32m---> 37\u001b[0m     \u001b[39mraise\u001b[39;00m _Exceptions\u001b[39m.\u001b[39mThirdPartyError(\u001b[39m\"\u001b[39m\u001b[39mThe process exited with an error!\u001b[39m\u001b[39m\"\u001b[39m)\n\u001b[1;32m     39\u001b[0m \u001b[39m# If it worked, try to get the system. No need to block, since it's already finished.\u001b[39;00m\n\u001b[1;32m     40\u001b[0m system \u001b[39m=\u001b[39m process\u001b[39m.\u001b[39mgetSystem()\n",
      "\u001b[0;31mThirdPartyError\u001b[0m: The process exited with an error!"
     ]
    }
   ],
   "source": [
    "equil4 = run_process(equil3, protocol_npt_heavy, engine, pmemd_path, work_dir=f\"{folder}/eq_test2\")\n"
   ]
  },
  {
   "cell_type": "code",
   "execution_count": null,
   "metadata": {},
   "outputs": [],
   "source": [
    "equil5 = run_process(equil4, protocol_npt_heavy_lighter, engine, pmemd_path, work_dir=f\"{folder}/equil5\")"
   ]
  },
  {
   "cell_type": "code",
   "execution_count": 22,
   "metadata": {},
   "outputs": [],
   "source": [
    "sys_equil_fin = run_process(equil3, protocol_npt, engine, pmemd_path, work_dir=f\"{folder}/equilfinal\")"
   ]
  },
  {
   "cell_type": "code",
   "execution_count": null,
   "metadata": {},
   "outputs": [],
   "source": []
  },
  {
   "cell_type": "code",
   "execution_count": null,
   "metadata": {},
   "outputs": [],
   "source": [
    "fepprep_obj = fepprep(system_free, system_bound, protocol)\n",
    "free_system, bound_system = fepprep_obj.prep_system_middle(pmemd_path)\n",
    "# fepprep_obj.generate_folders(\"/home/anna/Documents/code/test/lig_ejm31~lig_ejm48\")"
   ]
  },
  {
   "cell_type": "code",
   "execution_count": 21,
   "metadata": {},
   "outputs": [],
   "source": [
    "args = {\"lam\":0.5, \"lam_vals\":[0.5]}\n",
    "\n",
    "min_protocol = BSS.Protocol.FreeEnergyMinimisation(\n",
    "                                                num_lam=protocol.num_lambda(),\n",
    "                                                steps=protocol.min_steps(), **args\n",
    "                                                )\n",
    "heat_protocol = BSS.Protocol.FreeEnergyEquilibration(timestep=protocol.timestep()*protocol.timestep_unit(),\n",
    "                                                    num_lam=protocol.num_lambda(),\n",
    "                                                    runtime=protocol.eq_runtime()*protocol.eq_runtime_unit(),\n",
    "                                                    pressure=None,\n",
    "                                                    temperature_start=protocol.start_temperature()*protocol.temperature_unit(),\n",
    "                                                    temperature_end=protocol.end_temperature()*protocol.temperature_unit(),\n",
    "                                                    hmr_factor=protocol.hmr_factor(), **args\n",
    "                                                    )\n",
    "eq_protocol = BSS.Protocol.FreeEnergyEquilibration(timestep=protocol.timestep()*protocol.timestep_unit(),\n",
    "                                                num_lam=protocol.num_lambda(),\n",
    "                                                runtime=protocol.eq_runtime()*protocol.eq_runtime_unit(),\n",
    "                                                temperature=protocol.temperature()*protocol.temperature_unit(),\n",
    "                                                pressure=protocol.pressure()*protocol.pressure_unit(),\n",
    "                                                restart=True,\n",
    "                                                hmr_factor=protocol.hmr_factor(), **args\n",
    "                                                )\n",
    "freenrg_protocol = BSS.Protocol.FreeEnergy(timestep=protocol.timestep()*protocol.timestep_unit(),\n",
    "                                            num_lam=protocol.num_lambda(),\n",
    "                                            runtime=protocol.sampling()*protocol.sampling_unit(),\n",
    "                                            temperature=protocol.temperature()*protocol.temperature_unit(),\n",
    "                                            pressure=protocol.pressure()*protocol.pressure_unit(),\n",
    "                                            restart=True,\n",
    "                                            hmr_factor=protocol.hmr_factor(), **args\n",
    "                                        )"
   ]
  },
  {
   "cell_type": "code",
   "execution_count": null,
   "metadata": {},
   "outputs": [],
   "source": [
    "minimised1 = run_process(system_free, min_protocol, \"AMBER\", pmemd_path)"
   ]
  },
  {
   "cell_type": "code",
   "execution_count": null,
   "metadata": {},
   "outputs": [],
   "source": [
    "eq_sys = run_process(minimised1, heat_protocol, \"AMBER\", pmemd_path)"
   ]
  },
  {
   "cell_type": "code",
   "execution_count": null,
   "metadata": {},
   "outputs": [],
   "source": [
    "eq2_sys = run_process(eq_sys, eq_protocol, \"AMBER\", pmemd_path)"
   ]
  },
  {
   "cell_type": "code",
   "execution_count": null,
   "metadata": {},
   "outputs": [],
   "source": [
    "BSS.Notebook.View(eq_sys).system()"
   ]
  },
  {
   "cell_type": "code",
   "execution_count": null,
   "metadata": {},
   "outputs": [],
   "source": [
    "final_sys = run_process(eq2_sys, freenrg_protocol, \"AMBER\", pmemd_path)"
   ]
  },
  {
   "cell_type": "code",
   "execution_count": null,
   "metadata": {},
   "outputs": [],
   "source": [
    "free_system.nPerturbableMolecules()"
   ]
  },
  {
   "cell_type": "code",
   "execution_count": null,
   "metadata": {},
   "outputs": [],
   "source": []
  },
  {
   "cell_type": "code",
   "execution_count": null,
   "metadata": {},
   "outputs": [],
   "source": [
    "transf = [\"lig_ejm31~lig_ejm45\", \"lig_ejm44~lig_ejm45\",\"lig_ejm44~lig_ejm49\"]\n",
    "engine = \"GROMACS\"\n",
    "main_dir = \"/home/anna/Documents/benchmark/tyk2_benchmark\"\n",
    "# methods = [\"1fs\", \"2fs_HMR4\", \"4fs_HMR4\", \"4fs_HMR3\", \"2fs_HMR3\", \"2fs\"]\n",
    "methods = [\"2fs\"]\n",
    "\n",
    "# options\n",
    "ana_file = f\"{main_dir}/execution_model/analysis_protocol.dat\"\n",
    "analysis_options = analysis_protocol(ana_file, auto_validate=True)\n",
    "# analysis_options.rewrite_protocol()\n",
    "\n",
    "for method in methods:\n",
    "    for trans in transf:\n",
    "        path_to_dir = f\"{main_dir}/outputs_extracted/{engine}/{method}/{trans}\"\n",
    "        print(path_to_dir)\n",
    "        final_results_folder = f\"{main_dir}/outputs_extracted/results\"\n",
    "\n",
    "        # try:\n",
    "        # using the pipeline module for analysis\n",
    "        analysed_pert = analyse(path_to_dir)\n",
    "        analysed_pert.set_options(analysis_options)\n",
    "        analysed_pert.set_options({\"try pickle\":False})\n",
    "        avg, error, repeats_tuple_list = analysed_pert.analyse_all_repeats()\n",
    "        # analysed_pert.plot_graphs()\n",
    "        write_analysis_file(analysed_pert, final_results_folder, method=method)\n",
    "        # except Exception as e:\n",
    "        #     print(e)\n",
    "        #     print(f\"could not analyse {path_to_dir}\")"
   ]
  },
  {
   "cell_type": "code",
   "execution_count": null,
   "metadata": {},
   "outputs": [],
   "source": [
    "transf = [\"lig_ejm31~lig_ejm45\", \"lig_ejm31~lig_ejm48\",\"lig_ejm43~lig_ejm46\", \"lig_ejm46~lig_jmc28\", \"lig_jmc27~lig_jmc28\"]\n",
    "engine = \"AMBER\"\n",
    "main_dir = \"/home/anna/Documents/benchmark/tyk2_benchmark\"\n",
    "# methods = [\"1fs\", \"2fs_HMR4\", \"4fs\", \"4fs_HMR3\", \"2fs_HMR3\", \"2fs\"]\n",
    "methods = [\"both_failed_wrong_lambda_windows_used\"]\n",
    "\n",
    "# options\n",
    "ana_file = f\"{main_dir}/execution_model/analysis_protocol.dat\"\n",
    "analysis_options = analysis_protocol(ana_file, auto_validate=True)\n",
    "# analysis_options.rewrite_protocol()\n",
    "\n",
    "for method in methods:\n",
    "    for trans in transf:\n",
    "        # trans = f\"{trans.split('~')[1]}~{trans.split('~')[0]}\" # for reverse\n",
    "        path_to_dir = f\"{main_dir}/outputs_extracted/{engine}/{method}/{trans}\"\n",
    "        print(path_to_dir)\n",
    "        final_results_folder = f\"{main_dir}/outputs_extracted/results\"\n",
    "\n",
    "        try:\n",
    "            # using the pipeline module for analysis\n",
    "            analysed_pert = analyse(path_to_dir)\n",
    "            analysed_pert.set_options(analysis_options)\n",
    "            avg, error, repeats_tuple_list = analysed_pert.analyse_all_repeats()\n",
    "            # analysed_pert.plot_graphs()\n",
    "            write_analysis_file(analysed_pert, final_results_folder, method=method)\n",
    "        except Exception as e:\n",
    "            print(e)\n",
    "            print(f\"could not analyse {path_to_dir}\")"
   ]
  },
  {
   "cell_type": "code",
   "execution_count": null,
   "metadata": {},
   "outputs": [],
   "source": []
  }
 ],
 "metadata": {
  "kernelspec": {
   "display_name": "Python 3.9.15 ('biosimspace-dev': conda)",
   "language": "python",
   "name": "python3"
  },
  "language_info": {
   "codemirror_mode": {
    "name": "ipython",
    "version": 3
   },
   "file_extension": ".py",
   "mimetype": "text/x-python",
   "name": "python",
   "nbconvert_exporter": "python",
   "pygments_lexer": "ipython3",
   "version": "3.9.15"
  },
  "orig_nbformat": 4,
  "vscode": {
   "interpreter": {
    "hash": "d79bb85316fa6c998e385cc39903e056bffeb3f6098416e9c269ddd32175e919"
   }
  }
 },
 "nbformat": 4,
 "nbformat_minor": 2
}
