{
 "cells": [
  {
   "cell_type": "code",
   "execution_count": 1,
   "metadata": {},
   "outputs": [
    {
     "name": "stderr",
     "output_type": "stream",
     "text": [
      "/home/anna/anaconda3/envs/biosimspace-dev/lib/python3.9/site-packages/Bio/pairwise2.py:278: BiopythonDeprecationWarning: Bio.pairwise2 has been deprecated, and we intend to remove it in a future release of Biopython. As an alternative, please consider using Bio.Align.PairwiseAligner as a replacement, and contact the Biopython developers if you still need the Bio.pairwise2 module.\n",
      "  warnings.warn(\n"
     ]
    },
    {
     "data": {
      "application/vnd.jupyter.widget-view+json": {
       "model_id": "45cf490b7cf5412eb46945da371dc205",
       "version_major": 2,
       "version_minor": 0
      },
      "text/plain": []
     },
     "metadata": {},
     "output_type": "display_data"
    },
    {
     "name": "stdout",
     "output_type": "stream",
     "text": [
      "/home/anna/Documents/cinnabar/cinnabar/__init__.py\n",
      "adding code to the pythonpath...\n"
     ]
    },
    {
     "name": "stderr",
     "output_type": "stream",
     "text": [
      "Warning on use of the timeseries module: If the inherent timescales of the system are long compared to those being analyzed, this statistical inefficiency may be an underestimate.  The estimate presumes the use of many statistically independent samples.  Tests should be performed to assess whether this condition is satisfied.   Be cautious in the interpretation of the data.\n"
     ]
    }
   ],
   "source": [
    "import sys\n",
    "import networkx as nx\n",
    "import pickle\n",
    "import itertools as it\n",
    "import os\n",
    "import shutil\n",
    "\n",
    "import MDAnalysis as mda\n",
    "import MDAnalysis.transformations as trans\n",
    "import nglview as nv\n",
    "\n",
    "\n",
    "import warnings\n",
    "warnings.filterwarnings(action='once')\n",
    "\n",
    "\n",
    "if '/home/anna/Documents/cinnabar' not in sys.path:\n",
    "    sys.path.insert(1, '/home/anna/Documents/cinnabar')\n",
    "import cinnabar\n",
    "\n",
    "print(cinnabar.__file__)\n",
    "\n",
    "print(\"adding code to the pythonpath...\")\n",
    "code = '/home/anna/Documents/code/python'\n",
    "if code not in sys.path:\n",
    "    sys.path.insert(1, code)\n",
    "import pipeline\n",
    "\n",
    "from pipeline import *\n",
    "from pipeline.analysis import *\n",
    "from pipeline.prep import *\n",
    "from pipeline.utils import *\n"
   ]
  },
  {
   "cell_type": "code",
   "execution_count": 2,
   "metadata": {},
   "outputs": [
    {
     "name": "stderr",
     "output_type": "stream",
     "text": [
      "Warning: importing 'simtk.openmm' is deprecated.  Import 'openmm' instead.\n",
      "sys:1: ResourceWarning: Unclosed socket <zmq.Socket(zmq.PUSH) at 0x7f8dbceb59a0>\n",
      "ResourceWarning: Enable tracemalloc to get the object allocation traceback\n",
      "/home/anna/anaconda3/envs/biosimspace-dev/lib/python3.9/tempfile.py:821: ResourceWarning: Implicitly cleaning up <TemporaryDirectory '/tmp/tmp3qpj4566'>\n",
      "  _warnings.warn(warn_message, ResourceWarning)\n",
      "/home/anna/anaconda3/envs/biosimspace-dev/lib/python3.9/tempfile.py:821: ResourceWarning: Implicitly cleaning up <TemporaryDirectory '/tmp/tmpwjhv1tgg'>\n",
      "  _warnings.warn(warn_message, ResourceWarning)\n",
      "/home/anna/anaconda3/envs/biosimspace-dev/lib/python3.9/tempfile.py:821: ResourceWarning: Implicitly cleaning up <TemporaryDirectory '/tmp/tmp_umnojxc'>\n",
      "  _warnings.warn(warn_message, ResourceWarning)\n",
      "/home/anna/anaconda3/envs/biosimspace-dev/lib/python3.9/tempfile.py:821: ResourceWarning: Implicitly cleaning up <TemporaryDirectory '/tmp/tmpcyt2vhyv'>\n",
      "  _warnings.warn(warn_message, ResourceWarning)\n",
      "/home/anna/anaconda3/envs/biosimspace-dev/lib/python3.9/tempfile.py:821: ResourceWarning: Implicitly cleaning up <TemporaryDirectory '/tmp/tmpwdcyh9qs'>\n",
      "  _warnings.warn(warn_message, ResourceWarning)\n",
      "/home/anna/anaconda3/envs/biosimspace-dev/lib/python3.9/tempfile.py:821: ResourceWarning: Implicitly cleaning up <TemporaryDirectory '/tmp/tmpv85qxs51'>\n",
      "  _warnings.warn(warn_message, ResourceWarning)\n",
      "/home/anna/anaconda3/envs/biosimspace-dev/lib/python3.9/tempfile.py:821: ResourceWarning: Implicitly cleaning up <TemporaryDirectory '/tmp/tmpxpuzc901'>\n",
      "  _warnings.warn(warn_message, ResourceWarning)\n",
      "/home/anna/anaconda3/envs/biosimspace-dev/lib/python3.9/tempfile.py:821: ResourceWarning: Implicitly cleaning up <TemporaryDirectory '/tmp/tmp07tlxupq'>\n",
      "  _warnings.warn(warn_message, ResourceWarning)\n",
      "sys:1: ResourceWarning: Unclosed socket <zmq.Socket(zmq.PUSH) at 0x7f8d26110700>\n",
      "ResourceWarning: Enable tracemalloc to get the object allocation traceback\n",
      "/home/anna/anaconda3/envs/biosimspace-dev/lib/python3.9/tempfile.py:821: ResourceWarning: Implicitly cleaning up <TemporaryDirectory '/tmp/tmpung_aju3'>\n",
      "  _warnings.warn(warn_message, ResourceWarning)\n",
      "/home/anna/anaconda3/envs/biosimspace-dev/lib/python3.9/tempfile.py:821: ResourceWarning: Implicitly cleaning up <TemporaryDirectory '/tmp/tmpzag_laz0'>\n",
      "  _warnings.warn(warn_message, ResourceWarning)\n",
      "sys:1: ResourceWarning: Unclosed socket <zmq.Socket(zmq.PUSH) at 0x7f8d25984e20>\n",
      "ResourceWarning: Enable tracemalloc to get the object allocation traceback\n",
      "/home/anna/anaconda3/envs/biosimspace-dev/lib/python3.9/tempfile.py:821: ResourceWarning: Implicitly cleaning up <TemporaryDirectory '/tmp/tmp8tq5slg2'>\n",
      "  _warnings.warn(warn_message, ResourceWarning)\n",
      "sys:1: ResourceWarning: Unclosed socket <zmq.Socket(zmq.PUSH) at 0x7f8d2599bbe0>\n",
      "ResourceWarning: Enable tracemalloc to get the object allocation traceback\n",
      "/home/anna/anaconda3/envs/biosimspace-dev/lib/python3.9/tempfile.py:821: ResourceWarning: Implicitly cleaning up <TemporaryDirectory '/tmp/tmpjqz4hky8'>\n",
      "  _warnings.warn(warn_message, ResourceWarning)\n",
      "sys:1: ResourceWarning: Unclosed socket <zmq.Socket(zmq.PUSH) at 0x7f8d26110040>\n",
      "ResourceWarning: Enable tracemalloc to get the object allocation traceback\n",
      "/home/anna/anaconda3/envs/biosimspace-dev/lib/python3.9/tempfile.py:821: ResourceWarning: Implicitly cleaning up <TemporaryDirectory '/tmp/tmplxpx7xr2'>\n",
      "  _warnings.warn(warn_message, ResourceWarning)\n",
      "/home/anna/anaconda3/envs/biosimspace-dev/lib/python3.9/tempfile.py:821: ResourceWarning: Implicitly cleaning up <TemporaryDirectory '/tmp/tmp07qcyijq'>\n",
      "  _warnings.warn(warn_message, ResourceWarning)\n",
      "sys:1: ResourceWarning: Unclosed socket <zmq.Socket(zmq.PUSH) at 0x7f8d259843a0>\n",
      "ResourceWarning: Enable tracemalloc to get the object allocation traceback\n",
      "/home/anna/anaconda3/envs/biosimspace-dev/lib/python3.9/tempfile.py:821: ResourceWarning: Implicitly cleaning up <TemporaryDirectory '/tmp/tmpbw_hpzak'>\n",
      "  _warnings.warn(warn_message, ResourceWarning)\n",
      "sys:1: ResourceWarning: Unclosed socket <zmq.Socket(zmq.PUSH) at 0x7f8d25984400>\n",
      "ResourceWarning: Enable tracemalloc to get the object allocation traceback\n",
      "/home/anna/anaconda3/envs/biosimspace-dev/lib/python3.9/tempfile.py:821: ResourceWarning: Implicitly cleaning up <TemporaryDirectory '/tmp/tmphfk16590'>\n",
      "  _warnings.warn(warn_message, ResourceWarning)\n",
      "sys:1: ResourceWarning: Unclosed socket <zmq.Socket(zmq.PUSH) at 0x7f8d25984a00>\n",
      "ResourceWarning: Enable tracemalloc to get the object allocation traceback\n",
      "/home/anna/anaconda3/envs/biosimspace-dev/lib/python3.9/tempfile.py:821: ResourceWarning: Implicitly cleaning up <TemporaryDirectory '/tmp/tmpnch64pj6'>\n",
      "  _warnings.warn(warn_message, ResourceWarning)\n"
     ]
    },
    {
     "name": "stdout",
     "output_type": "stream",
     "text": [
      "hmr factor not found in protocol. auto will be used.\n",
      "engines not found in protocol. ALL will be used.\n",
      "fepprep not found in protocol. middle will be used.\n",
      "'hmr' must be set to True for a hmr factor to be applied. It will still be set as auto.\n"
     ]
    },
    {
     "data": {
      "text/plain": [
       "'AMBER'"
      ]
     },
     "execution_count": 2,
     "metadata": {},
     "output_type": "execute_result"
    }
   ],
   "source": [
    "prot_file = \"/home/anna/Documents/benchmark/tyk2_benchmark/execution_model/protocol_2fs.dat\"\n",
    "protocol = pipeline_protocol(prot_file)\n",
    "protocol.validate()\n",
    "protocol.fepprep(\"middle\")\n",
    "\n",
    "protocol.num_lambda(11)\n",
    "protocol.engine(\"AMBER\")"
   ]
  },
  {
   "cell_type": "code",
   "execution_count": 3,
   "metadata": {},
   "outputs": [
    {
     "name": "stdout",
     "output_type": "stream",
     "text": [
      "\n",
      "==============================================================\n",
      "Sending anonymous Sire usage statistics to http://siremol.org.\n",
      "For more information, see http://siremol.org/analytics\n",
      "To disable, set the environment variable 'SIRE_DONT_PHONEHOME' to 1\n",
      "To see the information sent, set the environment variable \n",
      "SIRE_VERBOSE_PHONEHOME equal to 1. To silence this message, set\n",
      "the environment variable SIRE_SILENT_PHONEHOME to 1.\n",
      "==============================================================\n",
      "\n",
      "Preparing the free leg...\n",
      "mapping, aligning and merging the ligands...\n",
      "Preparing the bound leg...\n",
      "mapping, aligning and merging the ligands...\n"
     ]
    }
   ],
   "source": [
    "# Load equilibrated inputs for both ligands\n",
    "prep_dir = \"/home/anna/Documents/benchmark/tyk2_benchmark/prep\"\n",
    "lig_1 = \"lig_ejm31\"\n",
    "lig_2 = \"lig_ejm48\"\n",
    "\n",
    "for name, leg in zip([\"lig\", \"sys\"], [\"free\", \"bound\"]):\n",
    "    # Load equilibrated inputs for both ligands\n",
    "    system_1 = BSS.IO.readMolecules(\n",
    "        [f\"{prep_dir}/{lig_1}_{name}_equil_solv.rst7\", f\"{prep_dir}/{lig_1}_{name}_equil_solv.prm7\"])\n",
    "    system_2 = BSS.IO.readMolecules(\n",
    "        [f\"{prep_dir}/{lig_2}_{name}_equil_solv.rst7\", f\"{prep_dir}/{lig_2}_{name}_equil_solv.prm7\"])\n",
    "\n",
    "    print(f\"Preparing the {leg} leg...\")\n",
    "    if leg == \"free\":\n",
    "        system_free = merge.merge_system(system_1, system_2)\n",
    "    if leg == \"bound\":\n",
    "        system_bound = merge.merge_system(system_1, system_2)"
   ]
  },
  {
   "cell_type": "code",
   "execution_count": 4,
   "metadata": {},
   "outputs": [],
   "source": [
    "pmemd_path = os.environ[\"AMBERHOME\"] + \"/bin/pmemd.cuda\""
   ]
  },
  {
   "cell_type": "code",
   "execution_count": null,
   "metadata": {},
   "outputs": [],
   "source": [
    "fepprep_obj = fepprep(system_free, system_bound, protocol)\n",
    "free_system, bound_system = fepprep_obj.prep_system_middle(pmemd_path)\n",
    "# fepprep_obj.generate_folders(\"/home/anna/Documents/code/test/lig_ejm31~lig_ejm48\")"
   ]
  },
  {
   "cell_type": "code",
   "execution_count": 5,
   "metadata": {},
   "outputs": [],
   "source": [
    "lig_fep = \"fepprep\"\n",
    "engine=\"AMBER\"\n",
    "\n",
    "protocol_min_rest, protocol_min = min_prots(lig_fep)\n",
    "\n",
    "protocol_nvt_sol, protocol_nvt_heavy, protocol_nvt = nvt_prots(lig_fep)\n",
    "\n",
    "protocol_npt_heavy, protocol_npt_heavy_lighter, protocol_npt = npt_prots(lig_fep)"
   ]
  },
  {
   "cell_type": "code",
   "execution_count": 27,
   "metadata": {},
   "outputs": [],
   "source": [
    "minimised1 = run_process(system_bound, protocol_min_rest, engine, pmemd_path)\n",
    "minimised2 = run_process(minimised1, protocol_min, engine, pmemd_path)"
   ]
  },
  {
   "cell_type": "code",
   "execution_count": null,
   "metadata": {},
   "outputs": [],
   "source": [
    "equil1 = run_process(minimised2, protocol_nvt_sol, engine, pmemd_path)\n"
   ]
  },
  {
   "cell_type": "code",
   "execution_count": null,
   "metadata": {},
   "outputs": [],
   "source": [
    "equil2 = run_process(equil1, protocol_nvt_heavy, engine, pmemd_path)\n"
   ]
  },
  {
   "cell_type": "code",
   "execution_count": null,
   "metadata": {},
   "outputs": [],
   "source": [
    "equil3 = run_process(equil2, protocol_nvt, engine, pmemd_path)"
   ]
  },
  {
   "cell_type": "code",
   "execution_count": 24,
   "metadata": {},
   "outputs": [
    {
     "data": {
      "application/vnd.jupyter.widget-view+json": {
       "model_id": "dc3129b9c8794d29b373e93f301f701c",
       "version_major": 2,
       "version_minor": 0
      },
      "text/plain": [
       "NGLWidget(gui_style='ngl')"
      ]
     },
     "metadata": {},
     "output_type": "display_data"
    }
   ],
   "source": [
    "BSS.Notebook.View(equil2).system()"
   ]
  },
  {
   "cell_type": "code",
   "execution_count": 20,
   "metadata": {},
   "outputs": [],
   "source": [
    "equil4 = run_process(equil3, eq_protocol, engine, pmemd_path, work_dir=\"eq_test\")"
   ]
  },
  {
   "cell_type": "code",
   "execution_count": 26,
   "metadata": {},
   "outputs": [
    {
     "data": {
      "application/vnd.jupyter.widget-view+json": {
       "model_id": "794d29720e7e4e6f9ce94d9bac408701",
       "version_major": 2,
       "version_minor": 0
      },
      "text/plain": [
       "NGLWidget(gui_style='ngl')"
      ]
     },
     "metadata": {},
     "output_type": "display_data"
    }
   ],
   "source": [
    "BSS.Notebook.View(equil4).system()"
   ]
  },
  {
   "cell_type": "code",
   "execution_count": null,
   "metadata": {},
   "outputs": [],
   "source": [
    "equil4 = run_process(equil3, protocol_npt_heavy, engine, pmemd_path, work_dir=\"eq_test2\")\n"
   ]
  },
  {
   "cell_type": "code",
   "execution_count": null,
   "metadata": {},
   "outputs": [],
   "source": [
    "equil5 = run_process(equil4, protocol_npt_heavy_lighter, engine, pmemd_path)"
   ]
  },
  {
   "cell_type": "code",
   "execution_count": null,
   "metadata": {},
   "outputs": [],
   "source": [
    "sys_equil_fin = run_process(equil5, protocol_npt, engine, pmemd_path)"
   ]
  },
  {
   "cell_type": "code",
   "execution_count": null,
   "metadata": {},
   "outputs": [],
   "source": []
  },
  {
   "cell_type": "code",
   "execution_count": null,
   "metadata": {},
   "outputs": [],
   "source": [
    "fepprep_obj = fepprep(system_free, system_bound, protocol)\n",
    "free_system, bound_system = fepprep_obj.prep_system_middle(pmemd_path)\n",
    "# fepprep_obj.generate_folders(\"/home/anna/Documents/code/test/lig_ejm31~lig_ejm48\")"
   ]
  },
  {
   "cell_type": "code",
   "execution_count": 15,
   "metadata": {},
   "outputs": [],
   "source": [
    "args = {\"lam\":0.5, \"lam_vals\":[0.5]}\n",
    "\n",
    "min_protocol = BSS.Protocol.FreeEnergyMinimisation(\n",
    "                                                num_lam=protocol.num_lambda(),\n",
    "                                                steps=protocol.min_steps(), **args\n",
    "                                                )\n",
    "heat_protocol = BSS.Protocol.FreeEnergyEquilibration(timestep=protocol.timestep()*protocol.timestep_unit(),\n",
    "                                                    num_lam=protocol.num_lambda(),\n",
    "                                                    runtime=protocol.eq_runtime()*protocol.eq_runtime_unit(),\n",
    "                                                    pressure=None,\n",
    "                                                    temperature_start=protocol.start_temperature()*protocol.temperature_unit(),\n",
    "                                                    temperature_end=protocol.end_temperature()*protocol.temperature_unit(),\n",
    "                                                    hmr_factor=protocol.hmr_factor(), **args\n",
    "                                                    )\n",
    "eq_protocol = BSS.Protocol.FreeEnergyEquilibration(timestep=protocol.timestep()*protocol.timestep_unit(),\n",
    "                                                num_lam=protocol.num_lambda(),\n",
    "                                                runtime=protocol.eq_runtime()*protocol.eq_runtime_unit(),\n",
    "                                                temperature=protocol.temperature()*protocol.temperature_unit(),\n",
    "                                                pressure=protocol.pressure()*protocol.pressure_unit(),\n",
    "                                                restart=True,\n",
    "                                                hmr_factor=protocol.hmr_factor(), **args\n",
    "                                                )\n",
    "freenrg_protocol = BSS.Protocol.FreeEnergy(timestep=protocol.timestep()*protocol.timestep_unit(),\n",
    "                                            num_lam=protocol.num_lambda(),\n",
    "                                            runtime=protocol.sampling()*protocol.sampling_unit(),\n",
    "                                            temperature=protocol.temperature()*protocol.temperature_unit(),\n",
    "                                            pressure=protocol.pressure()*protocol.pressure_unit(),\n",
    "                                            restart=True,\n",
    "                                            hmr_factor=protocol.hmr_factor(), **args\n",
    "                                        )"
   ]
  },
  {
   "cell_type": "code",
   "execution_count": 7,
   "metadata": {},
   "outputs": [],
   "source": [
    "minimised1 = run_process(system_free, min_protocol, \"AMBER\", pmemd_path)"
   ]
  },
  {
   "cell_type": "code",
   "execution_count": 8,
   "metadata": {},
   "outputs": [],
   "source": [
    "eq_sys = run_process(minimised1, heat_protocol, \"AMBER\", pmemd_path)"
   ]
  },
  {
   "cell_type": "code",
   "execution_count": 9,
   "metadata": {},
   "outputs": [],
   "source": [
    "eq2_sys = run_process(eq_sys, eq_protocol, \"AMBER\", pmemd_path)"
   ]
  },
  {
   "cell_type": "code",
   "execution_count": 26,
   "metadata": {},
   "outputs": [
    {
     "data": {
      "application/vnd.jupyter.widget-view+json": {
       "model_id": "3fb78bbf056c4067b5cd0297c76df444",
       "version_major": 2,
       "version_minor": 0
      },
      "text/plain": [
       "NGLWidget(gui_style='ngl')"
      ]
     },
     "metadata": {},
     "output_type": "display_data"
    }
   ],
   "source": [
    "BSS.Notebook.View(eq_sys).system()"
   ]
  },
  {
   "cell_type": "code",
   "execution_count": null,
   "metadata": {},
   "outputs": [],
   "source": [
    "final_sys = run_process(eq2_sys, freenrg_protocol, \"AMBER\", pmemd_path)"
   ]
  },
  {
   "cell_type": "code",
   "execution_count": null,
   "metadata": {},
   "outputs": [],
   "source": [
    "free_system.nPerturbableMolecules()"
   ]
  },
  {
   "cell_type": "code",
   "execution_count": null,
   "metadata": {},
   "outputs": [],
   "source": []
  },
  {
   "cell_type": "code",
   "execution_count": null,
   "metadata": {},
   "outputs": [],
   "source": [
    "transf = [\"lig_ejm31~lig_ejm45\", \"lig_ejm44~lig_ejm45\",\"lig_ejm44~lig_ejm49\"]\n",
    "engine = \"GROMACS\"\n",
    "main_dir = \"/home/anna/Documents/benchmark/tyk2_benchmark\"\n",
    "# methods = [\"1fs\", \"2fs_HMR4\", \"4fs_HMR4\", \"4fs_HMR3\", \"2fs_HMR3\", \"2fs\"]\n",
    "methods = [\"2fs\"]\n",
    "\n",
    "# options\n",
    "ana_file = f\"{main_dir}/execution_model/analysis_protocol.dat\"\n",
    "analysis_options = analysis_protocol(ana_file, auto_validate=True)\n",
    "# analysis_options.rewrite_protocol()\n",
    "\n",
    "for method in methods:\n",
    "    for trans in transf:\n",
    "        path_to_dir = f\"{main_dir}/outputs_extracted/{engine}/{method}/{trans}\"\n",
    "        print(path_to_dir)\n",
    "        final_results_folder = f\"{main_dir}/outputs_extracted/results\"\n",
    "\n",
    "        # try:\n",
    "        # using the pipeline module for analysis\n",
    "        analysed_pert = analyse(path_to_dir)\n",
    "        analysed_pert.set_options(analysis_options)\n",
    "        analysed_pert.set_options({\"try pickle\":False})\n",
    "        avg, error, repeats_tuple_list = analysed_pert.analyse_all_repeats()\n",
    "        # analysed_pert.plot_graphs()\n",
    "        write_analysis_file(analysed_pert, final_results_folder, method=method)\n",
    "        # except Exception as e:\n",
    "        #     print(e)\n",
    "        #     print(f\"could not analyse {path_to_dir}\")"
   ]
  },
  {
   "cell_type": "code",
   "execution_count": null,
   "metadata": {},
   "outputs": [],
   "source": [
    "transf = [\"lig_ejm31~lig_ejm45\", \"lig_ejm31~lig_ejm48\",\"lig_ejm43~lig_ejm46\", \"lig_ejm46~lig_jmc28\", \"lig_jmc27~lig_jmc28\"]\n",
    "engine = \"AMBER\"\n",
    "main_dir = \"/home/anna/Documents/benchmark/tyk2_benchmark\"\n",
    "# methods = [\"1fs\", \"2fs_HMR4\", \"4fs\", \"4fs_HMR3\", \"2fs_HMR3\", \"2fs\"]\n",
    "methods = [\"both_failed_wrong_lambda_windows_used\"]\n",
    "\n",
    "# options\n",
    "ana_file = f\"{main_dir}/execution_model/analysis_protocol.dat\"\n",
    "analysis_options = analysis_protocol(ana_file, auto_validate=True)\n",
    "# analysis_options.rewrite_protocol()\n",
    "\n",
    "for method in methods:\n",
    "    for trans in transf:\n",
    "        # trans = f\"{trans.split('~')[1]}~{trans.split('~')[0]}\" # for reverse\n",
    "        path_to_dir = f\"{main_dir}/outputs_extracted/{engine}/{method}/{trans}\"\n",
    "        print(path_to_dir)\n",
    "        final_results_folder = f\"{main_dir}/outputs_extracted/results\"\n",
    "\n",
    "        try:\n",
    "            # using the pipeline module for analysis\n",
    "            analysed_pert = analyse(path_to_dir)\n",
    "            analysed_pert.set_options(analysis_options)\n",
    "            avg, error, repeats_tuple_list = analysed_pert.analyse_all_repeats()\n",
    "            # analysed_pert.plot_graphs()\n",
    "            write_analysis_file(analysed_pert, final_results_folder, method=method)\n",
    "        except Exception as e:\n",
    "            print(e)\n",
    "            print(f\"could not analyse {path_to_dir}\")"
   ]
  },
  {
   "cell_type": "code",
   "execution_count": null,
   "metadata": {},
   "outputs": [],
   "source": []
  }
 ],
 "metadata": {
  "kernelspec": {
   "display_name": "Python 3.9.15 ('biosimspace-dev': conda)",
   "language": "python",
   "name": "python3"
  },
  "language_info": {
   "codemirror_mode": {
    "name": "ipython",
    "version": 3
   },
   "file_extension": ".py",
   "mimetype": "text/x-python",
   "name": "python",
   "nbconvert_exporter": "python",
   "pygments_lexer": "ipython3",
   "version": "3.9.15"
  },
  "orig_nbformat": 4,
  "vscode": {
   "interpreter": {
    "hash": "d79bb85316fa6c998e385cc39903e056bffeb3f6098416e9c269ddd32175e919"
   }
  }
 },
 "nbformat": 4,
 "nbformat_minor": 2
}
