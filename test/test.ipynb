{
 "cells": [
  {
   "cell_type": "code",
   "execution_count": null,
   "metadata": {},
   "outputs": [],
   "source": [
    "import sys\n",
    "import networkx as nx\n",
    "import pickle\n",
    "import itertools as it\n",
    "import os\n",
    "import shutil\n",
    "\n",
    "import MDAnalysis as mda\n",
    "import MDAnalysis.transformations as trans\n",
    "import nglview as nv\n",
    "\n",
    "\n",
    "import warnings\n",
    "warnings.filterwarnings(action='once')\n",
    "\n",
    "\n",
    "if '/home/anna/Documents/cinnabar' not in sys.path:\n",
    "    sys.path.insert(1, '/home/anna/Documents/cinnabar')\n",
    "import cinnabar\n",
    "\n",
    "print(cinnabar.__file__)\n",
    "\n",
    "print(\"adding code to the pythonpath...\")\n",
    "code = '/home/anna/Documents/code/python'\n",
    "if code not in sys.path:\n",
    "    sys.path.insert(1, code)\n",
    "import pipeline\n",
    "\n",
    "print(pipeline.__file__)\n",
    "\n",
    "from pipeline import *\n",
    "from pipeline.analysis import *\n",
    "from pipeline.prep import *\n",
    "from pipeline.utils import *\n"
   ]
  },
  {
   "cell_type": "code",
   "execution_count": null,
   "metadata": {},
   "outputs": [],
   "source": [
    "transf = [\"lig_ejm31~lig_ejm45\", \"lig_ejm44~lig_ejm45\",\"lig_ejm44~lig_ejm49\"]\n",
    "engine = \"GROMACS\"\n",
    "main_dir = \"/home/anna/Documents/benchmark/tyk2_benchmark\"\n",
    "methods = [\"1fs\", \"2fs_HMR4\", \"4fs_HMR4\", \"4fs_HMR3\", \"2fs_HMR3\", \"2fs\"]\n",
    "# methods = [\"2fs\"]\n",
    "\n",
    "# options\n",
    "ana_file = f\"{main_dir}/execution_model/analysis_protocol.dat\"\n",
    "analysis_options = analysis_protocol(ana_file, auto_validate=True)\n",
    "# analysis_options.rewrite_protocol()\n",
    "\n",
    "for method in methods:\n",
    "    for trans in transf:\n",
    "        path_to_dir = f\"{main_dir}/outputs_extracted/{engine}/{method}/{trans}\"\n",
    "        print(path_to_dir)\n",
    "        final_results_folder = f\"{main_dir}/outputs_extracted/results\"\n",
    "\n",
    "        try:\n",
    "            # using the pipeline module for analysis\n",
    "            analysed_pert = analyse(path_to_dir)\n",
    "            analysed_pert.set_options(analysis_options)\n",
    "            # analysed_pert.set_options({\"try pickle\":False})\n",
    "            avg, error, repeats_tuple_list = analysed_pert.analyse_all_repeats()\n",
    "            # analysed_pert.plot_graphs()\n",
    "            write_analysis_file(analysed_pert, final_results_folder, method=method)\n",
    "        except Exception as e:\n",
    "            print(e)\n",
    "            print(f\"could not analyse {path_to_dir}\")"
   ]
  },
  {
   "cell_type": "code",
   "execution_count": null,
   "metadata": {},
   "outputs": [],
   "source": [
    "transf = [\"lig_ejm31~lig_ejm45\", \"lig_ejm31~lig_ejm48\",\"lig_ejm43~lig_ejm46\", \"lig_ejm46~lig_jmc28\", \"lig_jmc27~lig_jmc28\"]\n",
    "engine = \"AMBER\"\n",
    "main_dir = \"/home/anna/Documents/benchmark/tyk2_benchmark\"\n",
    "# methods = [\"1fs\", \"2fs_HMR4\", \"4fs\", \"4fs_HMR3\", \"2fs_HMR3\", \"2fs\"]\n",
    "methods = [\"new_mapping\"]\n",
    "\n",
    "# options\n",
    "ana_file = f\"{main_dir}/execution_model/analysis_protocol.dat\"\n",
    "analysis_options = analysis_protocol(ana_file, auto_validate=True)\n",
    "# analysis_options.rewrite_protocol()\n",
    "\n",
    "for method in methods:\n",
    "    for trans in transf:\n",
    "        path_to_dir = f\"{main_dir}/outputs_extracted/{engine}/{method}/{trans}\"\n",
    "        print(path_to_dir)\n",
    "        final_results_folder = f\"{main_dir}/outputs_extracted/results\"\n",
    "\n",
    "        try:\n",
    "            # using the pipeline module for analysis\n",
    "            analysed_pert = analyse(path_to_dir)\n",
    "            analysed_pert.set_options(analysis_options)\n",
    "            avg, error, repeats_tuple_list = analysed_pert.analyse_all_repeats()\n",
    "            # analysed_pert.plot_graphs()\n",
    "            write_analysis_file(analysed_pert, final_results_folder, method=method)\n",
    "        except Exception as e:\n",
    "            print(e)\n",
    "            print(f\"could not analyse {path_to_dir}\")"
   ]
  },
  {
   "cell_type": "code",
   "execution_count": null,
   "metadata": {},
   "outputs": [],
   "source": [
    "protein = \"mcl1\"\n",
    "\n",
    "bench_folder = f\"/home/anna/Documents/benchmark\"\n",
    "main_dir = f\"{bench_folder}/extracted/{protein}\"\n",
    "\n",
    "# choose location for the files\n",
    "net_file = f\"{main_dir}/execution_model/network_lomap.dat\"\n",
    "ana_file = f\"{main_dir}/execution_model/analysis_protocol.dat\"\n",
    "# exp_file = f\"{bench_folder}/inputs/experimental/tyk2.yml\"\n",
    "exp_file = f\"/home/anna/Documents/benchmark/inputs/experimental/{protein}.yml\"\n",
    "\n",
    "if os.path.exists(f\"{main_dir}/outputs_extracted/results\"):\n",
    "    results_folder = f\"{main_dir}/outputs_extracted/results\"\n",
    "elif os.path.exists(f\"{main_dir}/outputs/results\"):\n",
    "    results_folder = f\"{main_dir}/outputs/results\"\n",
    "else:\n",
    "    raise ValueError(f\"results directory not found in the {main_dir}. please make sure results were written using the analysis script previously in the pipeline\")\n",
    "\n",
    "output_folder = validate.folder_path(f\"{main_dir}/analysis\", create=True)\n",
    "\n",
    "all_analysis_object = analysis_network(results_folder,\n",
    "                                       exp_file=exp_file,\n",
    "                                       net_file=net_file,\n",
    "                                       output_folder=output_folder,\n",
    "                                       analysis_ext=ana_file\n",
    "                                        )\n",
    "\n",
    "# can add any other results files\n",
    "all_analysis_object.compute(cycle_closure=False)\n",
    "# all_analysis_object.compute_other_results(file_name=None, name=None)\n",
    "all_analysis_object.compute_other_results(sorted(glob.glob(f\"{bench_folder}/inputs/other_computed/exscentia/*.csv\")), name=\"Exscientia\")\n",
    "\n",
    "eng = \"AMBER\"\n",
    "perturbations = [\"lig_30~lig_40\", \"lig_27~lig_48\"]\n",
    "# ['lig_ejm42~lig_ejm44', 'lig_ejm42~lig_ejm49', 'lig_ejm42~lig_ejm45']\n",
    "# ['lig_ejm42~lig_ejm49', 'lig_ejm45~lig_ejm55', 'lig_ejm43~lig_ejm50'] #gromacs\n",
    "# ['lig_ejm45~lig_ejm53', 'lig_ejm44~lig_ejm45', 'lig_ejm31~lig_ejm49'] #somd\n",
    "\n",
    "for pert in perturbations:\n",
    "    try:\n",
    "        all_analysis_object.remove_perturbations(pert)\n",
    "    except:\n",
    "        pass\n",
    "\n",
    "all_analysis_object.compute()"
   ]
  },
  {
   "cell_type": "code",
   "execution_count": null,
   "metadata": {},
   "outputs": [],
   "source": [
    "values = all_analysis_object.compute_mue(pert_val=\"pert\", engines=\"AMBER\")\n",
    "print(values)"
   ]
  },
  {
   "cell_type": "code",
   "execution_count": null,
   "metadata": {},
   "outputs": [],
   "source": [
    "all_analysis_object._plotting_object.outlier(pert_val=\"pert\", engines=\"AMBER\", name=\"Exscientia\", outliers=5)"
   ]
  },
  {
   "cell_type": "code",
   "execution_count": null,
   "metadata": {},
   "outputs": [],
   "source": [
    "all_analysis_object._initalise_stats_object()\n",
    "all_analysis_object._stats_object.compute_mue(pert_val=\"pert\", y=\"Exscientia\", x=\"AMBER\")"
   ]
  },
  {
   "cell_type": "code",
   "execution_count": null,
   "metadata": {},
   "outputs": [],
   "source": [
    "all_analysis_object.calc_mae(pert_val=\"pert\")"
   ]
  },
  {
   "cell_type": "code",
   "execution_count": null,
   "metadata": {},
   "outputs": [],
   "source": []
  }
 ],
 "metadata": {
  "kernelspec": {
   "display_name": "Python 3.9.15 ('biosimspace-dev': conda)",
   "language": "python",
   "name": "python3"
  },
  "language_info": {
   "codemirror_mode": {
    "name": "ipython",
    "version": 3
   },
   "file_extension": ".py",
   "mimetype": "text/x-python",
   "name": "python",
   "nbconvert_exporter": "python",
   "pygments_lexer": "ipython3",
   "version": "3.9.15"
  },
  "orig_nbformat": 4,
  "vscode": {
   "interpreter": {
    "hash": "d79bb85316fa6c998e385cc39903e056bffeb3f6098416e9c269ddd32175e919"
   }
  }
 },
 "nbformat": 4,
 "nbformat_minor": 2
}
