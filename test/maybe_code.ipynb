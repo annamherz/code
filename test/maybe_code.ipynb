{
 "cells": [
  {
   "cell_type": "code",
   "execution_count": null,
   "metadata": {},
   "outputs": [],
   "source": [
    "direc = \"/backup/anna/benchmark/mcl1/outputs/GROMACS/lig_23~lig_26/bound_0/lambda_0.0000\"\n",
    "\n",
    "if \"GROMACS\" in direc:\n",
    "    coord_file = validate.file_path(f\"{direc}/gromacs.tpr\")\n",
    "    traj_files = validate.file_path(f\"{direc}/gromacs.trr\")\n",
    "\n",
    "u = mda.Universe(coord_file, traj_files)\n",
    "\n",
    "molecules = u.select_atoms('protein')\n",
    "not_molecules = u.select_atoms('not protein')\n",
    "transforms = [trans.unwrap(molecules),\n",
    "            trans.center_in_box(molecules, wrap=True),\n",
    "            trans.wrap(not_molecules)]\n",
    "u.trajectory.add_transformations(*transforms)\n",
    "\n",
    "view = nv.show_mdanalysis(u.select_atoms(\"protein\"))\n",
    "# view.center()\n",
    "view"
   ]
  },
  {
   "cell_type": "code",
   "execution_count": null,
   "metadata": {},
   "outputs": [],
   "source": [
    "lig0 = \"lig_27\"\n",
    "lig1 = \"lig_29\"\n",
    "path = \"/home/anna/Documents/benchmark/mcl1_benchmark/from_exscientia\"\n",
    "name = f\"Pre_NPT_Equilibration_Last_protein_{lig0}_{lig1}_bound_1.0000\"\n",
    "file = f\"{path}/pickles/{name}.pickle\"\n",
    "with open(file, \"rb\") as pf:\n",
    "    system = pickle.load(pf)\n",
    "# # BSS.IO.saveMolecules(f\"{path}/system_and_molecule/{lig0}~{lig1}/pert_system\", system, [\"PRM7\",\"RST7\",\"PDB\"])\n",
    "# BSS.IO.savePerturbableSystem(f\"{path}/system_and_molecule/{lig0}~{lig1}/pert_system\", system)\n",
    "# molecule = system.getPerturbableMolecules()[0]\n",
    "# molecule0 = molecule.molecule0()\n",
    "# molecule1 = molecule.molecule1()\n",
    "# system.removeMolecules(molecule)\n",
    "# system0 = system + molecule0\n",
    "# system1 = system + molecule1\n",
    "# BSS.IO.saveMolecules(f\"{path}/system_and_molecule/{lig0}~{lig1}/{lig0}_system\", system0, [\"PRM7\",\"RST7\",\"PDB\"])\n",
    "# BSS.IO.saveMolecules(f\"{path}/system_and_molecule/{lig0}~{lig1}/{lig1}_system\", system1, [\"PRM7\",\"RST7\",\"PDB\"])"
   ]
  },
  {
   "cell_type": "code",
   "execution_count": null,
   "metadata": {},
   "outputs": [],
   "source": [
    "file_name = \"pert_system\"\n",
    "systeem = BSS.IO.readPerturbableSystem(top0=f\"{path}/{lig0}~{lig1}/{file_name}0.prm7\", coords0=f\"{path}/{lig0}~{lig1}/{file_name}0.rst7\",\n",
    "                                       top1=f\"{path}/{lig0}~{lig1}/{file_name}1.prm7\" , coords1=f\"{path}/{lig0}~{lig1}/{file_name}1.rst7\")"
   ]
  },
  {
   "cell_type": "code",
   "execution_count": null,
   "metadata": {},
   "outputs": [],
   "source": [
    "# for prot, net in it.product([\"tyk2\",\"p38\",\"mcl1\"],[\"rbfenn\",\"lomap\"]):\n",
    "\n",
    "#     results_files = [\"/home/anna/Documents/code/test/final_summary_SOMD_MBAR_alchemlyb_benchmark.csv\"]\n",
    "#     engine = \"SOMD\"\n",
    "#     output_folder = \"/home/anna/Documents/code/test\"\n",
    "#     net_file = f\"/home/anna/Documents/benchmark/{prot}_benchmark/execution_model/network_{net}.dat\"\n",
    "#     weight_file = f\"/home/anna/Documents/benchmark/{prot}_benchmark/execution_model/network_{net}_scores.dat\"\n",
    "\n",
    "#     perturbations, ligands, mod_results_files = get_info_network(results_files, net_file, extra_options={\"engine\":engine})\n",
    "\n",
    "#     graph_x = graph(ligands, perturbations)\n",
    "#     graph_x.add_weight(weight_file)\n",
    "#     # graph_x.draw_graph()\n",
    "#     avg_weighted = graph_x.get_average_weighted_simple_paths()\n",
    "#     print(f\"{prot} {net} is {avg_weighted}\")\n",
    "\n",
    "#     with open(f\"{output_folder}/graph_{prot}_{net}.pickle\", 'wb') as handle:\n",
    "#         pickle.dump(graph_x.graph, handle)\n",
    "\n",
    "# # cycles = graph.cycle_closures()\n",
    "# # print(cycles)\n",
    "\n",
    "# # nx.get_edge_attributes(graph_x.graph, \"weight\")\n",
    "\n",
    "# # print(len(perturbations))\n",
    "\n",
    "\n",
    "# # with open(f\"{output_folder}/graph_tyk2_rbfenn.pickle\", \"rb\") as file:\n",
    "# #     graph_t = pickle.load(file)\n",
    "# # print(type(graph_t))\n",
    "# # nx.get_edge_attributes(graph_t, \"weight\")"
   ]
  },
  {
   "cell_type": "code",
   "execution_count": null,
   "metadata": {},
   "outputs": [],
   "source": [
    "# import MDAnalysis\n",
    "# from MDAnalysis.tests.datafiles import PSF,DCD,CRD\n",
    "# u = MDAnalysis.Universe(PSF,DCD)\n",
    "# ref = MDAnalysis.Universe(PSF,DCD)     # reference closed AdK (1AKE) (with the default ref_frame=0)\n",
    "# #ref = MDAnalysis.Universe(PSF,CRD)    # reference open AdK (4AKE)\n",
    "\n",
    "# import MDAnalysis.analysis.rms\n",
    "\n",
    "# R = MDAnalysis.analysis.rms.RMSD(u, ref,\n",
    "#            select=\"backbone\",             # superimpose on whole backbone of the whole protein\n",
    "#            groupselections=[\"backbone and (resid 1-29 or resid 60-121 or resid 160-214)\",   # CORE\n",
    "#                             \"backbone and resid 122-159\",                                   # LID\n",
    "#                             \"backbone and resid 30-59\"])                                    # NMP\n",
    "# R.run()\n",
    "\n",
    "# import matplotlib.pyplot as plt\n",
    "# rmsd = R.rmsd.T   # transpose makes it easier for plotting\n",
    "# time = rmsd[1]\n",
    "# fig = plt.figure(figsize=(4,4))\n",
    "# ax = fig.add_subplot(111)\n",
    "# ax.plot(time, rmsd[2], 'k-',  label=\"all\")\n",
    "# ax.plot(time, rmsd[3], 'k--', label=\"CORE\")\n",
    "# ax.plot(time, rmsd[4], 'r--', label=\"LID\")\n",
    "# ax.plot(time, rmsd[5], 'b--', label=\"NMP\")\n",
    "# ax.legend(loc=\"best\")\n",
    "# ax.set_xlabel(\"time (ps)\")\n",
    "# ax.set_ylabel(r\"RMSD ($\\AA$)\")\n",
    "# fig.savefig(\"rmsd_all_CORE_LID_NMP_ref1AKE.pdf\")"
   ]
  },
  {
   "cell_type": "code",
   "execution_count": null,
   "metadata": {},
   "outputs": [],
   "source": []
  },
  {
   "cell_type": "code",
   "execution_count": null,
   "metadata": {},
   "outputs": [],
   "source": [
    "import sys\n",
    "import os\n",
    "\n",
    "import warnings\n",
    "warnings.filterwarnings(action='once')\n",
    "\n",
    "import BioSimSpace as BSS\n",
    "import pickle\n",
    "\n",
    "\n",
    "if '/home/anna/Documents/cinnabar' not in sys.path:\n",
    "    sys.path.insert(1, '/home/anna/Documents/cinnabar')\n",
    "import cinnabar\n",
    "\n",
    "print(cinnabar.__file__)\n",
    "\n",
    "print(\"adding code to the pythonpath...\")\n",
    "code = '/home/anna/Documents/code/python'\n",
    "if code not in sys.path:\n",
    "    sys.path.insert(1, code)\n",
    "import pipeline\n",
    "\n",
    "from pipeline import *\n",
    "from pipeline.analysis import *\n",
    "from pipeline.prep import *\n",
    "from pipeline.utils import *\n",
    "from pipeline.setup import *\n"
   ]
  },
  {
   "cell_type": "code",
   "execution_count": null,
   "metadata": {},
   "outputs": [],
   "source": [
    "# Load equilibrated inputs for both ligands\n",
    "prep_dir = \"/home/anna/Documents/benchmark/mcl1_benchmark/prep\"\n",
    "lig_1 = \"lig_38\"\n",
    "lig_2 = \"lig_48\"\n",
    "\n",
    "for name, leg in zip([\"lig\"], [\"free\"]):\n",
    "    # Load equilibrated inputs for both ligands\n",
    "    system_1 = BSS.IO.readMolecules(\n",
    "        [f\"{prep_dir}/{lig_1}_{name}_equil_solv.rst7\", f\"{prep_dir}/{lig_1}_{name}_equil_solv.prm7\"])\n",
    "    system_2 = BSS.IO.readMolecules(\n",
    "        [f\"{prep_dir}/{lig_2}_{name}_equil_solv.rst7\", f\"{prep_dir}/{lig_2}_{name}_equil_solv.prm7\"])\n",
    "\n",
    "    ligand_0, ligand_1, mapping = merge.atom_mappings(system_1, system_2)\n",
    "\n",
    "    write_atom_mappings(lig_1, lig_2, ligand_0, ligand_1, mapping_done, output_file=f\"atom_mappings.dat\")"
   ]
  },
  {
   "cell_type": "code",
   "execution_count": null,
   "metadata": {},
   "outputs": [],
   "source": [
    "ligand_0 = merge.extract_ligand(system_1)\n",
    "ligand_1 = merge.extract_ligand(system_2)"
   ]
  },
  {
   "cell_type": "code",
   "execution_count": null,
   "metadata": {},
   "outputs": [],
   "source": [
    "BSS.Notebook.View(ligand_0).molecule()"
   ]
  },
  {
   "cell_type": "code",
   "execution_count": null,
   "metadata": {},
   "outputs": [],
   "source": [
    "ligand_0.getAtoms()"
   ]
  },
  {
   "cell_type": "code",
   "execution_count": null,
   "metadata": {},
   "outputs": [],
   "source": [
    "import sys\n",
    "import os\n",
    "\n",
    "import warnings\n",
    "warnings.filterwarnings(action='once')\n",
    "\n",
    "import BioSimSpace as BSS\n",
    "import pickle\n",
    "\n",
    "\n",
    "if '/home/anna/Documents/cinnabar' not in sys.path:\n",
    "    sys.path.insert(1, '/home/anna/Documents/cinnabar')\n",
    "import cinnabar\n",
    "\n",
    "print(cinnabar.__file__)\n",
    "\n",
    "print(\"adding code to the pythonpath...\")\n",
    "code = '/home/anna/Documents/code/python'\n",
    "if code not in sys.path:\n",
    "    sys.path.insert(1, code)\n",
    "import pipeline\n",
    "\n",
    "from pipeline import *\n",
    "from pipeline.analysis import *\n",
    "from pipeline.prep import *\n",
    "from pipeline.utils import *\n",
    "from pipeline.setup import *\n"
   ]
  },
  {
   "cell_type": "code",
   "execution_count": null,
   "metadata": {},
   "outputs": [],
   "source": [
    "path = \"/home/anna/Documents/benchmark/mcl1_benchmark/from_exscientia/test\"\n",
    "file_name = \"Pre_NPT_Equilibration_Last_protein_lig_33_lig_38_bound\"\n",
    "systeem = BSS.IO.readPerturbableSystem(top0=f\"{path}/{file_name}_0.prm7\", coords0=f\"{path}/{file_name}_0.rst7\",\n",
    "                                       top1=f\"{path}/{file_name}_0.prm7\" , coords1=f\"{path}/{file_name}_0.rst7\")"
   ]
  },
  {
   "cell_type": "code",
   "execution_count": null,
   "metadata": {},
   "outputs": [],
   "source": []
  }
 ],
 "metadata": {
  "kernelspec": {
   "display_name": "Python 3 (ipykernel)",
   "language": "python",
   "name": "python3"
  },
  "language_info": {
   "codemirror_mode": {
    "name": "ipython",
    "version": 3
   },
   "file_extension": ".py",
   "mimetype": "text/x-python",
   "name": "python",
   "nbconvert_exporter": "python",
   "pygments_lexer": "ipython3",
   "version": "3.9.15"
  },
  "varInspector": {
   "cols": {
    "lenName": 16,
    "lenType": 16,
    "lenVar": 40
   },
   "kernels_config": {
    "python": {
     "delete_cmd_postfix": "",
     "delete_cmd_prefix": "del ",
     "library": "var_list.py",
     "varRefreshCmd": "print(var_dic_list())"
    },
    "r": {
     "delete_cmd_postfix": ") ",
     "delete_cmd_prefix": "rm(",
     "library": "var_list.r",
     "varRefreshCmd": "cat(var_dic_list()) "
    }
   },
   "types_to_exclude": [
    "module",
    "function",
    "builtin_function_or_method",
    "instance",
    "_Feature"
   ],
   "window_display": false
  },
  "vscode": {
   "interpreter": {
    "hash": "d79bb85316fa6c998e385cc39903e056bffeb3f6098416e9c269ddd32175e919"
   }
  }
 },
 "nbformat": 4,
 "nbformat_minor": 2
}
