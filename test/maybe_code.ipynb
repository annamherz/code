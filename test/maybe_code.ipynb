{
 "cells": [
  {
   "cell_type": "code",
   "execution_count": null,
   "metadata": {},
   "outputs": [],
   "source": [
    "direc = \"/backup/anna/benchmark/mcl1/outputs/GROMACS/lig_23~lig_26/bound_0/lambda_0.0000\"\n",
    "\n",
    "if \"GROMACS\" in direc:\n",
    "    coord_file = validate.file_path(f\"{direc}/gromacs.tpr\")\n",
    "    traj_files = validate.file_path(f\"{direc}/gromacs.trr\")\n",
    "\n",
    "u = mda.Universe(coord_file, traj_files)\n",
    "\n",
    "molecules = u.select_atoms('protein')\n",
    "not_molecules = u.select_atoms('not protein')\n",
    "transforms = [trans.unwrap(molecules),\n",
    "            trans.center_in_box(molecules, wrap=True),\n",
    "            trans.wrap(not_molecules)]\n",
    "u.trajectory.add_transformations(*transforms)\n",
    "\n",
    "view = nv.show_mdanalysis(u.select_atoms(\"protein\"))\n",
    "# view.center()\n",
    "view"
   ]
  },
  {
   "cell_type": "code",
   "execution_count": null,
   "metadata": {},
   "outputs": [],
   "source": [
    "# for prot, net in it.product([\"tyk2\",\"p38\",\"mcl1\"],[\"rbfenn\",\"lomap\"]):\n",
    "\n",
    "#     results_files = [\"/home/anna/Documents/code/test/final_summary_SOMD_MBAR_alchemlyb_benchmark.csv\"]\n",
    "#     engine = \"SOMD\"\n",
    "#     output_folder = \"/home/anna/Documents/code/test\"\n",
    "#     net_file = f\"/home/anna/Documents/benchmark/{prot}_benchmark/execution_model/network_{net}.dat\"\n",
    "#     weight_file = f\"/home/anna/Documents/benchmark/{prot}_benchmark/execution_model/network_{net}_scores.dat\"\n",
    "\n",
    "#     perturbations, ligands, mod_results_files = get_info_network(results_files, net_file, extra_options={\"engine\":engine})\n",
    "\n",
    "#     graph_x = graph(ligands, perturbations)\n",
    "#     graph_x.add_weight(weight_file)\n",
    "#     # graph_x.draw_graph()\n",
    "#     avg_weighted = graph_x.get_average_weighted_simple_paths()\n",
    "#     print(f\"{prot} {net} is {avg_weighted}\")\n",
    "\n",
    "#     with open(f\"{output_folder}/graph_{prot}_{net}.pickle\", 'wb') as handle:\n",
    "#         pickle.dump(graph_x.graph, handle)\n",
    "\n",
    "# # cycles = graph.cycle_closures()\n",
    "# # print(cycles)\n",
    "\n",
    "# # nx.get_edge_attributes(graph_x.graph, \"weight\")\n",
    "\n",
    "# # print(len(perturbations))\n",
    "\n",
    "\n",
    "# # with open(f\"{output_folder}/graph_tyk2_rbfenn.pickle\", \"rb\") as file:\n",
    "# #     graph_t = pickle.load(file)\n",
    "# # print(type(graph_t))\n",
    "# # nx.get_edge_attributes(graph_t, \"weight\")"
   ]
  },
  {
   "cell_type": "code",
   "execution_count": null,
   "metadata": {},
   "outputs": [],
   "source": [
    "# import MDAnalysis\n",
    "# from MDAnalysis.tests.datafiles import PSF,DCD,CRD\n",
    "# u = MDAnalysis.Universe(PSF,DCD)\n",
    "# ref = MDAnalysis.Universe(PSF,DCD)     # reference closed AdK (1AKE) (with the default ref_frame=0)\n",
    "# #ref = MDAnalysis.Universe(PSF,CRD)    # reference open AdK (4AKE)\n",
    "\n",
    "# import MDAnalysis.analysis.rms\n",
    "\n",
    "# R = MDAnalysis.analysis.rms.RMSD(u, ref,\n",
    "#            select=\"backbone\",             # superimpose on whole backbone of the whole protein\n",
    "#            groupselections=[\"backbone and (resid 1-29 or resid 60-121 or resid 160-214)\",   # CORE\n",
    "#                             \"backbone and resid 122-159\",                                   # LID\n",
    "#                             \"backbone and resid 30-59\"])                                    # NMP\n",
    "# R.run()\n",
    "\n",
    "# import matplotlib.pyplot as plt\n",
    "# rmsd = R.rmsd.T   # transpose makes it easier for plotting\n",
    "# time = rmsd[1]\n",
    "# fig = plt.figure(figsize=(4,4))\n",
    "# ax = fig.add_subplot(111)\n",
    "# ax.plot(time, rmsd[2], 'k-',  label=\"all\")\n",
    "# ax.plot(time, rmsd[3], 'k--', label=\"CORE\")\n",
    "# ax.plot(time, rmsd[4], 'r--', label=\"LID\")\n",
    "# ax.plot(time, rmsd[5], 'b--', label=\"NMP\")\n",
    "# ax.legend(loc=\"best\")\n",
    "# ax.set_xlabel(\"time (ps)\")\n",
    "# ax.set_ylabel(r\"RMSD ($\\AA$)\")\n",
    "# fig.savefig(\"rmsd_all_CORE_LID_NMP_ref1AKE.pdf\")"
   ]
  }
 ],
 "metadata": {
  "kernelspec": {
   "display_name": "biosimspace-dev",
   "language": "python",
   "name": "python3"
  },
  "language_info": {
   "name": "python",
   "version": "3.9.15"
  },
  "orig_nbformat": 4,
  "vscode": {
   "interpreter": {
    "hash": "d79bb85316fa6c998e385cc39903e056bffeb3f6098416e9c269ddd32175e919"
   }
  }
 },
 "nbformat": 4,
 "nbformat_minor": 2
}
