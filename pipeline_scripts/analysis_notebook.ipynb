{
 "cells": [
  {
   "cell_type": "markdown",
   "metadata": {},
   "source": [
    "# <span style=\"color:teal\">RBFE Network - Analysis</span>\n"
   ]
  },
  {
   "cell_type": "code",
   "execution_count": 1,
   "metadata": {},
   "outputs": [
    {
     "name": "stdout",
     "output_type": "stream",
     "text": [
      "\n",
      "==============================================================\n",
      "Sending anonymous Sire usage statistics to http://siremol.org.\n",
      "For more information, see http://siremol.org/analytics\n",
      "To disable, set the environment variable 'SIRE_DONT_PHONEHOME' to 1\n",
      "To see the information sent, set the environment variable \n",
      "SIRE_VERBOSE_PHONEHOME equal to 1. To silence this message, set\n",
      "the environment variable SIRE_SILENT_PHONEHOME to 1.\n",
      "==============================================================\n",
      "\n"
     ]
    },
    {
     "name": "stderr",
     "output_type": "stream",
     "text": [
      "Warning on use of the timeseries module: If the inherent timescales of the system are long compared to those being analyzed, this statistical inefficiency may be an underestimate.  The estimate presumes the use of many statistically independent samples.  Tests should be performed to assess whether this condition is satisfied.   Be cautious in the interpretation of the data.\n",
      "/home/anna/anaconda3/envs/biosimspace-dev/lib/python3.9/site-packages/numpy/core/getlimits.py:500: UserWarning: The value of the smallest subnormal for <class 'numpy.float64'> type is zero.\n",
      "  setattr(self, word, getattr(machar, word).flat[0])\n",
      "/home/anna/anaconda3/envs/biosimspace-dev/lib/python3.9/site-packages/numpy/core/getlimits.py:89: UserWarning: The value of the smallest subnormal for <class 'numpy.float64'> type is zero.\n",
      "  return self._float_to_str(self.smallest_subnormal)\n",
      "/home/anna/anaconda3/envs/biosimspace-dev/lib/python3.9/site-packages/numpy/core/getlimits.py:500: UserWarning: The value of the smallest subnormal for <class 'numpy.float32'> type is zero.\n",
      "  setattr(self, word, getattr(machar, word).flat[0])\n",
      "/home/anna/anaconda3/envs/biosimspace-dev/lib/python3.9/site-packages/numpy/core/getlimits.py:89: UserWarning: The value of the smallest subnormal for <class 'numpy.float32'> type is zero.\n",
      "  return self._float_to_str(self.smallest_subnormal)\n",
      "Warning: importing 'simtk.openmm' is deprecated.  Import 'openmm' instead.\n"
     ]
    },
    {
     "name": "stdout",
     "output_type": "stream",
     "text": [
      "/home/anna/Documents/cinnabar/cinnabar/__init__.py\n",
      "adding code to the pythonpath...\n"
     ]
    }
   ],
   "source": [
    "# import libraries\n",
    "import BioSimSpace as BSS\n",
    "import os\n",
    "import glob\n",
    "import csv\n",
    "import numpy as np\n",
    "import math\n",
    "import pandas as pd\n",
    "import networkx as nx\n",
    "import yaml\n",
    "from scipy.stats import sem as sem\n",
    "from scipy.stats import bootstrap\n",
    "from sklearn.metrics import mean_absolute_error as mae\n",
    "import pickle\n",
    "import tempfile\n",
    "import itertools\n",
    "import matplotlib.pyplot as plt\n",
    "import csv\n",
    "import numpy as np\n",
    "import pandas as pd \n",
    "from rdkit import Chem\n",
    "\n",
    "# try w cinnabar\n",
    "sys.path.insert(1, '/home/anna/Documents/cinnabar')\n",
    "import cinnabar\n",
    "from cinnabar import wrangle,plotting\n",
    "print(cinnabar.__file__)\n",
    "\n",
    "try:\n",
    "    import pipeline\n",
    "except:\n",
    "    print(\"adding code to the pythonpath...\")\n",
    "    code = '/home/anna/Documents/code/python'\n",
    "    if code not in sys.path:\n",
    "        sys.path.insert(1, code)\n",
    "    import pipeline\n",
    "\n",
    "from pipeline import *\n",
    "from pipeline.utils import validate\n",
    "from pipeline.analysis import *"
   ]
  },
  {
   "cell_type": "code",
   "execution_count": 2,
   "metadata": {},
   "outputs": [],
   "source": [
    "# folders\n",
    "protein = \"tyk2\"\n",
    "file_ext = \"MBAR_alchemlyb_benchmark\" # for results files\n",
    "\n",
    "# define all the folder locations\n",
    "bench_folder = f\"/home/anna/Documents/benchmark\"\n",
    "main_folder = f\"{bench_folder}/{protein}_benchmark\"\n",
    "out_folder = f\"{main_folder}/outputs\"\n",
    "res_folder = f\"../test/results\"\n",
    "temp_folder = f\"{main_folder}/outputs/results/temp\"\n",
    "exp_folder = f\"{bench_folder}/inputs/experimental\"\n",
    "\n",
    "# make folders that may not exist\n",
    "folder_list = [res_folder, temp_folder]\n",
    "for fold in folder_list:\n",
    "    validate.folder_path(fold, create=True)\n",
    "\n",
    "# files\n",
    "net_file = f\"{main_folder}/execution_model/network_lomap.dat\"\n",
    "exp_file = f\"{exp_folder}/{protein}.yml\"\n",
    "exp_file_dat = f\"{res_folder}/exp_data_{protein}.dat\"\n",
    "\n",
    "# OUTPUT\n",
    "file_ext_out = \"test\" # for how files will be written\n",
    "\n",
    "# files that will get written\n",
    "comp_pert_file_name = f\"computed_perturbations_average_{file_ext_out}\"\n",
    "cinnabar_file = f\"cinnabar_format_{file_ext_out}\"\n",
    "# TODO add file names for saving graphs"
   ]
  },
  {
   "cell_type": "code",
   "execution_count": 9,
   "metadata": {},
   "outputs": [
    {
     "name": "stdout",
     "output_type": "stream",
     "text": [
      "engine input not recognised. Will use all engines.\n",
      "no results output folder provided, writing all output to the 'results_directory'.\n"
     ]
    },
    {
     "data": {
      "text/plain": [
       "{'AMBER': {'lig_ejm54': (-1.0428697384819718, 0.023611936309945885),\n",
       "  'lig_ejm55': (0.11953285550274204, 0.013442979584204524),\n",
       "  'lig_ejm45': (1.5626085568721744, 0.018311612715938765),\n",
       "  'lig_ejm53': (0.9625424313144026, 0.023072431759993003),\n",
       "  'lig_ejm48': (-0.328095848662203, 0.023783984972893437),\n",
       "  'lig_ejm44': (1.1321833683372324, 0.01431596983631065),\n",
       "  'lig_ejm43': (-0.17763425082766435, 0.014231054538892556),\n",
       "  'lig_ejm47': (-0.7031996975176686, 0.016808480174963454),\n",
       "  'lig_ejm42': (0.29912802231729585, 0.009296954324983479),\n",
       "  'lig_ejm46': (-0.5047490062497196, 0.01482169478479492),\n",
       "  'lig_ejm50': (-0.2645545857759153, 0.042723858948738945),\n",
       "  'lig_ejm31': (-0.1412410055351423, 0.012137397625099104),\n",
       "  'lig_ejm49': (-0.5942134945497212, 0.02170950164168538),\n",
       "  'lig_jmc27': (0.45652135463180343, 0.02108053890340404),\n",
       "  'lig_jmc23': (-0.4950176982922253, 0.02515373756321302),\n",
       "  'lig_jmc30': (-0.28094126308341605, 0.06758777248990212)},\n",
       " 'SOMD': {'lig_ejm45': (0.6628971518294626, 0.09591119801726128),\n",
       "  'lig_ejm53': (1.769333311164411, 0.07158050409152511),\n",
       "  'lig_ejm44': (1.5075937936610808, 0.053013995917800524),\n",
       "  'lig_ejm54': (-1.1203935699722685, 0.08913646490103168),\n",
       "  'lig_ejm55': (-0.15727890809445344, 0.060928173333954554),\n",
       "  'lig_ejm48': (0.8540954923784945, 0.05972513580493125),\n",
       "  'lig_ejm43': (0.107351523930189, 0.04952805603837424),\n",
       "  'lig_ejm46': (-0.9354130580074901, 0.039141122026914124),\n",
       "  'lig_ejm47': (-0.6718014300169751, 0.056094357961341886),\n",
       "  'lig_ejm42': (0.6658810346903803, 0.02990246178691814),\n",
       "  'lig_ejm50': (0.285896142398987, 0.049694388075367316),\n",
       "  'lig_ejm49': (-0.07132776562176932, 0.15921881827387552),\n",
       "  'lig_ejm31': (0.34351612540573934, 0.031003755988448754),\n",
       "  'lig_jmc27': (-1.2881308743468858, 0.04849040129185547),\n",
       "  'lig_jmc30': (-0.7868453203553116, 0.05751638976746995),\n",
       "  'lig_jmc23': (-0.4211576796046013, 0.04280905865557756),\n",
       "  'lig_jmc28': (-0.74421596943899, 0.045740597531330966)},\n",
       " 'GROMACS': {'lig_ejm45': (0.5828535732215057, 0.2583478063379232),\n",
       "  'lig_ejm53': (0.8627783771646419, 0.19161508500056948),\n",
       "  'lig_ejm54': (-1.4839266532351134, 0.1993196442849666),\n",
       "  'lig_ejm55': (-1.0631999909296912, 0.16561135096174695),\n",
       "  'lig_ejm48': (0.6795645038609035, 0.17254828819182644),\n",
       "  'lig_ejm43': (-0.02630363509526318, 0.11558250178294971),\n",
       "  'lig_ejm46': (-0.4003846746213242, 0.11103990801912955),\n",
       "  'lig_ejm47': (0.24290948132049492, 0.17383145838291442),\n",
       "  'lig_ejm42': (0.2662978267606177, 0.08761775365593935),\n",
       "  'lig_ejm50': (1.757900050002891, 0.19510547768919234),\n",
       "  'lig_ejm31': (0.5983586614198886, 0.09060039802955068),\n",
       "  'lig_ejm49': (0.7631267324755606, 0.23182783783477617),\n",
       "  'lig_ejm44': (-0.5911462312863212, 0.13241428529811608),\n",
       "  'lig_jmc27': (0.3449884807593956, 0.14989349838763702),\n",
       "  'lig_jmc30': (-1.659959766000074, 0.16010045702277986),\n",
       "  'lig_jmc23': (-0.5956127287228982, 0.15135273128945526),\n",
       "  'lig_jmc28': (-0.27824400709521613, 0.16223773605122688)}}"
      ]
     },
     "execution_count": 9,
     "metadata": {},
     "output_type": "execute_result"
    }
   ],
   "source": [
    "res_dir = \"/home/anna/Documents/benchmark/tyk2_benchmark/outputs\"\n",
    "res_obj = analysis_engines(res_dir, net_file=net_file, exp_file=exp_file, engines=\"SOMD\")\n",
    "res_obj.compute()\n",
    "res_obj.calc_val_dict\n",
    "# res_obj._results_repeat_files[\"SOMD\"]"
   ]
  },
  {
   "cell_type": "code",
   "execution_count": 14,
   "metadata": {},
   "outputs": [
    {
     "data": {
      "text/plain": [
       "{'lig_ejm45': (0.6628971518294626, 0.09591119801726128),\n",
       " 'lig_ejm53': (1.769333311164411, 0.07158050409152511),\n",
       " 'lig_ejm44': (1.5075937936610808, 0.053013995917800524),\n",
       " 'lig_ejm54': (-1.1203935699722685, 0.08913646490103168),\n",
       " 'lig_ejm55': (-0.15727890809445344, 0.060928173333954554),\n",
       " 'lig_ejm48': (0.8540954923784945, 0.05972513580493125),\n",
       " 'lig_ejm43': (0.107351523930189, 0.04952805603837424),\n",
       " 'lig_ejm46': (-0.9354130580074901, 0.039141122026914124),\n",
       " 'lig_ejm47': (-0.6718014300169751, 0.056094357961341886),\n",
       " 'lig_ejm42': (0.6658810346903803, 0.02990246178691814),\n",
       " 'lig_ejm50': (0.285896142398987, 0.049694388075367316),\n",
       " 'lig_ejm49': (-0.07132776562176932, 0.15921881827387552),\n",
       " 'lig_ejm31': (0.34351612540573934, 0.031003755988448754),\n",
       " 'lig_jmc27': (-1.2881308743468858, 0.04849040129185547),\n",
       " 'lig_jmc30': (-0.7868453203553116, 0.05751638976746995),\n",
       " 'lig_jmc23': (-0.4211576796046013, 0.04280905865557756),\n",
       " 'lig_jmc28': (-0.74421596943899, 0.045740597531330966)}"
      ]
     },
     "execution_count": 14,
     "metadata": {},
     "output_type": "execute_result"
    }
   ],
   "source": [
    "from cinnabar import wrangle,plotting\n",
    "network = wrangle.FEMap(f\"/home/anna/Documents/benchmark/tyk2_benchmark/outputs/cinnabar_SOMD.csv\")\n",
    "\n",
    "for node in network.graph.nodes(data=True):\n",
    "    # print(node[1][\"name\"], node[1][\"calc_DG\"])\n",
    "    # print(node[1])\n",
    "    print(node[1][\"name\"], node[1][\"exp_DG\"])\n"
   ]
  },
  {
   "cell_type": "code",
   "execution_count": 13,
   "metadata": {},
   "outputs": [
    {
     "name": "stdout",
     "output_type": "stream",
     "text": [
      "lig_ejm31 : 0.09554456211087381\n",
      "lig_ejm42 : -0.14617801546097248\n",
      "lig_ejm43 : 1.3886502840592203\n",
      "lig_ejm44 : 2.239441725990767\n",
      "lig_ejm45 : 0.08299333578780074\n",
      "lig_ejm46 : -1.6903948748417696\n",
      "lig_ejm47 : -0.05962612989820451\n",
      "lig_ejm48 : 0.6418015718625703\n",
      "lig_ejm49 : 1.9058204895277662\n",
      "lig_ejm50 : 0.6661380623268188\n",
      "lig_ejm53 : 1.7343155913659634\n",
      "lig_ejm54 : -0.9024152875182272\n",
      "lig_ejm55 : 0.43622104340109474\n",
      "lig_jmc23 : -2.0792858601111703\n",
      "lig_jmc27 : -1.6542528257313989\n",
      "lig_jmc28 : -1.3497183935515489\n",
      "lig_jmc30 : -1.3090552793195833\n",
      "Added additional data to 44 edges; added 0 new edges.\n",
      "Added additional data to 43 edges; added 0 new edges.\n",
      "lig_ejm31 : 0.4438846195538745\n",
      "lig_ejm42 : 0.5315348593421803\n",
      "lig_ejm43 : 0.9263060947904159\n",
      "lig_ejm44 : 1.6525224846333026\n",
      "lig_ejm45 : 0.34699773961395514\n",
      "lig_ejm46 : -0.6500995637874711\n",
      "lig_ejm47 : -0.5060220552959447\n",
      "lig_ejm48 : 0.28664870537773124\n",
      "lig_ejm49 : -1.083365506415589\n",
      "lig_ejm50 : -0.31127086389257824\n",
      "lig_ejm53 : 2.1805905756579995\n",
      "lig_ejm54 : -0.23068195127205976\n",
      "lig_ejm55 : -1.0068513853492018\n",
      "lig_jmc23 : -0.6686765737370772\n",
      "lig_jmc27 : -0.5215525154146856\n",
      "lig_jmc28 : -0.6270516072059147\n",
      "lig_jmc30 : -0.762913056598937\n",
      "R confidence is:   0.55 < 0.57 < 0.59\n",
      "MUE confidence is: 0.83 < 0.86 < 0.88\n",
      "Tau confidence is: 0.34 < 0.35 < 0.38\n"
     ]
    }
   ],
   "source": [
    "# import networkanalysis\n",
    "# import experiments\n",
    "# import stats\n",
    "\n",
    "exp_dicts = res_obj._get_exp_fwf(fwf_path='/home/anna/Documents/september_2022_workshops/freenrgworkflows/networkanalysis/')\n",
    "for key in exp_dicts[0]:\n",
    "    print(f\"{key} : {exp_dicts[0][key][0]}\")\n",
    "\n",
    "free_fwf_dict = res_obj._get_ana_fwf(fwf_path='/home/anna/Documents/september_2022_workshops/freenrgworkflows/networkanalysis/', engine=\"SOMD\")\n",
    "for key in free_fwf_dict:\n",
    "    print(f\"{key} : {free_fwf_dict[key][0]}\")\n",
    "\n",
    "fwf_stats = res_obj._get_stats_fwf(fwf_path='/home/anna/Documents/september_2022_workshops/freenrgworkflows/networkanalysis/', engine=\"SOMD\")\n"
   ]
  },
  {
   "cell_type": "code",
   "execution_count": null,
   "metadata": {},
   "outputs": [],
   "source": []
  },
  {
   "cell_type": "code",
   "execution_count": null,
   "metadata": {},
   "outputs": [],
   "source": [
    "# cycle closures\n",
    "for eng in engines:\n",
    "\n",
    "    pert_dict = values_dict[eng][\"pert_results\"]\n",
    "    cycle_closures = # get from the network graph object\n",
    "\n",
    "    cycles = pipeline.analysis.make_dict_cycle_closures(pert_dict, cycle_closures)    \n",
    "\n",
    "    print(f\"{eng} cycle vals is {cycles[1]}\")\n",
    "    print(f\"{eng} cycle mean is {cycles[2]}\")\n",
    "    print(f\"{eng} cycle deviation is {cycles[3]}\")\n",
    "\n",
    "    values_dict[eng][\"cycle_closures\"] = (cycles[0]) # the cycles dict"
   ]
  },
  {
   "cell_type": "code",
   "execution_count": null,
   "metadata": {},
   "outputs": [],
   "source": [
    "from cinnabar import wrangle,plotting\n",
    "network = wrangle.FEMap(f\"{res_folder}/{cinnabar_file}_{eng}.csv\")"
   ]
  },
  {
   "cell_type": "code",
   "execution_count": null,
   "metadata": {},
   "outputs": [],
   "source": [
    "for eng in engines:\n",
    "    convert_cinnabar_file(values_dict[eng][\"results_files\"], values_dict[\"experimental\"][\"val_results\"], f\"{res_folder}/{cinnabar_file}_{eng}\")\n",
    "\n",
    "    network = wrangle.FEMap(f\"{res_folder}/{cinnabar_file}_{eng}.csv\")\n",
    "    # plot the perturbations\n",
    "    plotting.plot_DDGs(network.graph, filename=f\"{res_folder}/DDGs_{file_ext_out}_{eng}.png\", title=f\"DDGs_{protein}_{file_ext_out}_{eng}\")\n",
    "    #plot the ligands\n",
    "    plotting.plot_DGs(network.graph, filename=f\"{res_folder}/DGs_{file_ext_out}_{eng}.png\", title=f\"DGs_{protein}_{file_ext_out}_{eng}\")"
   ]
  }
 ],
 "metadata": {
  "kernelspec": {
   "display_name": "Python 3.9.13 ('biosimspace-dev': conda)",
   "language": "python",
   "name": "python3"
  },
  "language_info": {
   "codemirror_mode": {
    "name": "ipython",
    "version": 3
   },
   "file_extension": ".py",
   "mimetype": "text/x-python",
   "name": "python",
   "nbconvert_exporter": "python",
   "pygments_lexer": "ipython3",
   "version": "3.9.15"
  },
  "varInspector": {
   "cols": {
    "lenName": 16,
    "lenType": 16,
    "lenVar": 40
   },
   "kernels_config": {
    "python": {
     "delete_cmd_postfix": "",
     "delete_cmd_prefix": "del ",
     "library": "var_list.py",
     "varRefreshCmd": "print(var_dic_list())"
    },
    "r": {
     "delete_cmd_postfix": ") ",
     "delete_cmd_prefix": "rm(",
     "library": "var_list.r",
     "varRefreshCmd": "cat(var_dic_list()) "
    }
   },
   "types_to_exclude": [
    "module",
    "function",
    "builtin_function_or_method",
    "instance",
    "_Feature"
   ],
   "window_display": false
  },
  "vscode": {
   "interpreter": {
    "hash": "d79bb85316fa6c998e385cc39903e056bffeb3f6098416e9c269ddd32175e919"
   }
  }
 },
 "nbformat": 4,
 "nbformat_minor": 2
}
