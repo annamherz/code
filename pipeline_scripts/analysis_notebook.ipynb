{
 "cells": [
  {
   "cell_type": "markdown",
   "metadata": {},
   "source": [
    "# <span style=\"color:teal\">RBFE Network - Analysis</span>\n"
   ]
  },
  {
   "cell_type": "code",
   "execution_count": 1,
   "metadata": {},
   "outputs": [
    {
     "name": "stdout",
     "output_type": "stream",
     "text": [
      "\n",
      "==============================================================\n",
      "Sending anonymous Sire usage statistics to http://siremol.org.\n",
      "For more information, see http://siremol.org/analytics\n",
      "To disable, set the environment variable 'SIRE_DONT_PHONEHOME' to 1\n",
      "To see the information sent, set the environment variable \n",
      "SIRE_VERBOSE_PHONEHOME equal to 1. To silence this message, set\n",
      "the environment variable SIRE_SILENT_PHONEHOME to 1.\n",
      "==============================================================\n",
      "\n"
     ]
    },
    {
     "name": "stderr",
     "output_type": "stream",
     "text": [
      "Warning on use of the timeseries module: If the inherent timescales of the system are long compared to those being analyzed, this statistical inefficiency may be an underestimate.  The estimate presumes the use of many statistically independent samples.  Tests should be performed to assess whether this condition is satisfied.   Be cautious in the interpretation of the data.\n",
      "/home/anna/anaconda3/envs/biosimspace-dev/lib/python3.9/site-packages/numpy/core/getlimits.py:500: UserWarning: The value of the smallest subnormal for <class 'numpy.float64'> type is zero.\n",
      "  setattr(self, word, getattr(machar, word).flat[0])\n",
      "/home/anna/anaconda3/envs/biosimspace-dev/lib/python3.9/site-packages/numpy/core/getlimits.py:89: UserWarning: The value of the smallest subnormal for <class 'numpy.float64'> type is zero.\n",
      "  return self._float_to_str(self.smallest_subnormal)\n",
      "/home/anna/anaconda3/envs/biosimspace-dev/lib/python3.9/site-packages/numpy/core/getlimits.py:500: UserWarning: The value of the smallest subnormal for <class 'numpy.float32'> type is zero.\n",
      "  setattr(self, word, getattr(machar, word).flat[0])\n",
      "/home/anna/anaconda3/envs/biosimspace-dev/lib/python3.9/site-packages/numpy/core/getlimits.py:89: UserWarning: The value of the smallest subnormal for <class 'numpy.float32'> type is zero.\n",
      "  return self._float_to_str(self.smallest_subnormal)\n",
      "Warning: importing 'simtk.openmm' is deprecated.  Import 'openmm' instead.\n"
     ]
    },
    {
     "name": "stdout",
     "output_type": "stream",
     "text": [
      "/home/anna/Documents/cinnabar/cinnabar/__init__.py\n",
      "adding code to the pythonpath...\n"
     ]
    }
   ],
   "source": [
    "# import libraries\n",
    "import BioSimSpace as BSS\n",
    "import os\n",
    "import glob\n",
    "import csv\n",
    "import numpy as np\n",
    "import math\n",
    "import pandas as pd\n",
    "import networkx as nx\n",
    "import yaml\n",
    "from scipy.stats import sem as sem\n",
    "from scipy.stats import bootstrap\n",
    "from sklearn.metrics import mean_absolute_error as mae\n",
    "import pickle\n",
    "import tempfile\n",
    "import itertools\n",
    "import matplotlib.pyplot as plt\n",
    "import csv\n",
    "import numpy as np\n",
    "import pandas as pd \n",
    "from rdkit import Chem\n",
    "\n",
    "# try w cinnabar\n",
    "sys.path.insert(1, '/home/anna/Documents/cinnabar')\n",
    "import cinnabar\n",
    "from cinnabar import wrangle,plotting\n",
    "print(cinnabar.__file__)\n",
    "\n",
    "try:\n",
    "    import pipeline\n",
    "except:\n",
    "    print(\"adding code to the pythonpath...\")\n",
    "    code = '/home/anna/Documents/code/python'\n",
    "    if code not in sys.path:\n",
    "        sys.path.insert(1, code)\n",
    "    import pipeline\n",
    "\n",
    "from pipeline import *\n",
    "from pipeline.utils import validate\n",
    "from pipeline.analysis import *"
   ]
  },
  {
   "cell_type": "code",
   "execution_count": 2,
   "metadata": {},
   "outputs": [],
   "source": [
    "# folders\n",
    "protein = \"tyk2\"\n",
    "file_ext = \"MBAR_alchemlyb_benchmark\" # for results files\n",
    "\n",
    "# define all the folder locations\n",
    "bench_folder = f\"/home/anna/Documents/benchmark\"\n",
    "main_folder = f\"{bench_folder}/{protein}_benchmark\"\n",
    "out_folder = f\"{main_folder}/outputs\"\n",
    "res_folder = f\"../test/results\"\n",
    "temp_folder = f\"{main_folder}/outputs/results/temp\"\n",
    "exp_folder = f\"{bench_folder}/inputs/experimental\"\n",
    "\n",
    "# make folders that may not exist\n",
    "folder_list = [res_folder, temp_folder]\n",
    "for fold in folder_list:\n",
    "    validate.folder_path(fold, create=True)\n",
    "\n",
    "# files\n",
    "net_file = f\"{main_folder}/execution_model/network_lomap.dat\"\n",
    "exp_file = f\"{exp_folder}/{protein}.yml\"\n",
    "exp_file_dat = f\"{res_folder}/exp_data_{protein}.dat\"\n",
    "\n",
    "# OUTPUT\n",
    "file_ext_out = \"test\" # for how files will be written\n",
    "\n",
    "# files that will get written\n",
    "comp_pert_file_name = f\"computed_perturbations_average_{file_ext_out}\"\n",
    "cinnabar_file = f\"cinnabar_format_{file_ext_out}\"\n",
    "# TODO add file names for saving graphs"
   ]
  },
  {
   "cell_type": "code",
   "execution_count": 3,
   "metadata": {},
   "outputs": [
    {
     "name": "stdout",
     "output_type": "stream",
     "text": [
      "engine input not recognised. Will use all engines.\n",
      "no results output folder provided, writing all output to the 'results_directory'.\n"
     ]
    },
    {
     "data": {
      "text/plain": [
       "{'lig_ejm42': (-9.875042796569057, 0.18247842991081598),\n",
       " 'lig_ejm49': (-7.823044291580318, 0.18452358795084045),\n",
       " 'lig_ejm31': (-9.633320218997211, 0.1858893663539991),\n",
       " 'lig_ejm48': (-9.087063209245514, 0.18452358795084045),\n",
       " 'lig_ejm53': (-7.994549189742122, 0.18452358795084045),\n",
       " 'lig_ejm47': (-9.788490911006289, 0.18275455833723164),\n",
       " 'lig_jmc23': (-11.808150641219255, 0.18452358795084045),\n",
       " 'lig_ejm46': (-11.419259655949855, 0.17907904179257983),\n",
       " 'lig_ejm44': (-7.489423055117317, 0.17520781056282297),\n",
       " 'lig_ejm45': (-9.645871445320283, 0.18313068534612764),\n",
       " 'lig_jmc28': (-11.078583174659633, 0.18838478980330997),\n",
       " 'lig_jmc30': (-11.037920060427668, 0.18236617963082224),\n",
       " 'lig_ejm54': (-10.63128006862631, 0.18452358795084045),\n",
       " 'lig_ejm55': (-9.292643737706989, 0.18452358795084134),\n",
       " 'lig_ejm50': (-9.062726718781265, 0.18452358795084045),\n",
       " 'lig_ejm43': (-8.340214497048866, 0.18296499294886548),\n",
       " 'lig_jmc27': (-11.383117606839484, 0.18067733310175882)}"
      ]
     },
     "execution_count": 3,
     "metadata": {},
     "output_type": "execute_result"
    }
   ],
   "source": [
    "res_dir = \"/home/anna/Documents/benchmark/tyk2_benchmark/outputs\"\n",
    "res_obj = analysis_engines(res_dir, net_file=net_file, exp_file=exp_file, engines=\"SOMD\")\n",
    "res_obj.compute()\n",
    "res_obj.exper_val_dict"
   ]
  },
  {
   "cell_type": "code",
   "execution_count": 4,
   "metadata": {},
   "outputs": [
    {
     "name": "stdout",
     "output_type": "stream",
     "text": [
      "0 {'name': 'lig_ejm45', 'exp_DG': -9.645871445320283, 'exp_dDG': 0.18313068534612764, 'calc_DG': 0.6628971518294626, 'calc_dDG': 0.09591119801726128}\n",
      "1 {'name': 'lig_ejm53', 'exp_DG': -7.994549189742122, 'exp_dDG': 0.18452358795084045, 'calc_DG': 1.769333311164411, 'calc_dDG': 0.07158050409152511}\n",
      "2 {'name': 'lig_ejm44', 'exp_DG': -7.489423055117317, 'exp_dDG': 0.17520781056282297, 'calc_DG': 1.5075937936610808, 'calc_dDG': 0.053013995917800524}\n",
      "3 {'name': 'lig_ejm54', 'exp_DG': -10.63128006862631, 'exp_dDG': 0.18452358795084045, 'calc_DG': -1.1203935699722685, 'calc_dDG': 0.08913646490103168}\n",
      "4 {'name': 'lig_ejm55', 'exp_DG': -9.292643737706989, 'exp_dDG': 0.18452358795084134, 'calc_DG': -0.15727890809445344, 'calc_dDG': 0.060928173333954554}\n",
      "5 {'name': 'lig_ejm48', 'exp_DG': -9.087063209245514, 'exp_dDG': 0.18452358795084045, 'calc_DG': 0.8540954923784945, 'calc_dDG': 0.05972513580493125}\n",
      "6 {'name': 'lig_ejm43', 'exp_DG': -8.340214497048866, 'exp_dDG': 0.18296499294886548, 'calc_DG': 0.107351523930189, 'calc_dDG': 0.04952805603837424}\n",
      "7 {'name': 'lig_ejm46', 'exp_DG': -11.419259655949855, 'exp_dDG': 0.17907904179257983, 'calc_DG': -0.9354130580074901, 'calc_dDG': 0.039141122026914124}\n",
      "8 {'name': 'lig_ejm47', 'exp_DG': -9.788490911006289, 'exp_dDG': 0.18275455833723164, 'calc_DG': -0.6718014300169751, 'calc_dDG': 0.056094357961341886}\n",
      "9 {'name': 'lig_ejm42', 'exp_DG': -9.875042796569057, 'exp_dDG': 0.18247842991081598, 'calc_DG': 0.6658810346903803, 'calc_dDG': 0.02990246178691814}\n",
      "10 {'name': 'lig_ejm50', 'exp_DG': -9.062726718781265, 'exp_dDG': 0.18452358795084045, 'calc_DG': 0.285896142398987, 'calc_dDG': 0.049694388075367316}\n",
      "11 {'name': 'lig_ejm49', 'exp_DG': -7.823044291580318, 'exp_dDG': 0.18452358795084045, 'calc_DG': -0.07132776562176932, 'calc_dDG': 0.15921881827387552}\n",
      "12 {'name': 'lig_ejm31', 'exp_DG': -9.633320218997211, 'exp_dDG': 0.1858893663539991, 'calc_DG': 0.34351612540573934, 'calc_dDG': 0.031003755988448754}\n",
      "13 {'name': 'lig_jmc27', 'exp_DG': -11.383117606839484, 'exp_dDG': 0.18067733310175882, 'calc_DG': -1.2881308743468858, 'calc_dDG': 0.04849040129185547}\n",
      "14 {'name': 'lig_jmc30', 'exp_DG': -11.037920060427668, 'exp_dDG': 0.18236617963082224, 'calc_DG': -0.7868453203553116, 'calc_dDG': 0.05751638976746995}\n",
      "15 {'name': 'lig_jmc23', 'exp_DG': -11.808150641219255, 'exp_dDG': 0.18452358795084045, 'calc_DG': -0.4211576796046013, 'calc_dDG': 0.04280905865557756}\n",
      "16 {'name': 'lig_jmc28', 'exp_DG': -11.078583174659633, 'exp_dDG': 0.18838478980330997, 'calc_DG': -0.74421596943899, 'calc_dDG': 0.045740597531330966}\n"
     ]
    }
   ],
   "source": [
    "from cinnabar import wrangle,plotting\n",
    "network = wrangle.FEMap(f\"/home/anna/Documents/benchmark/tyk2_benchmark/outputs/cinnabar_SOMD.csv\")\n",
    "\n",
    "for node in network.graph.nodes(data=True):\n",
    "    print(node[0], node[1])"
   ]
  },
  {
   "cell_type": "code",
   "execution_count": 4,
   "metadata": {},
   "outputs": [
    {
     "name": "stdout",
     "output_type": "stream",
     "text": [
      "Added additional data to 44 edges; added 0 new edges.\n",
      "Added additional data to 43 edges; added 0 new edges.\n",
      "R confidence is:   0.55 < 0.57 < 0.60\n",
      "MUE confidence is: 0.83 < 0.86 < 0.88\n",
      "Tau confidence is: 0.34 < 0.35 < 0.38\n",
      "(array([0.57072062, 0.54659264, 0.59502589]), array([0.35294118, 0.33823529, 0.38235294]), array([0.85643673, 0.83117573, 0.88212284]))\n"
     ]
    }
   ],
   "source": [
    "# import networkanalysis\n",
    "# import experiments\n",
    "# import stats\n",
    "\n",
    "exp_dicts = res_obj._get_exp_fwf(fwf_path='/home/anna/Documents/september_2022_workshops/freenrgworkflows/networkanalysis/')\n",
    "# for key in exp_dicts[0]:\n",
    "#     print(f\"{key} : {exp_lig_dict[key]}\")\n",
    "\n",
    "free_fwf_dict = res_obj._get_ana_fwf(fwf_path='/home/anna/Documents/september_2022_workshops/freenrgworkflows/networkanalysis/', engine=\"SOMD\")\n",
    "\n",
    "fwf_stats = res_obj._get_stats_fwf(fwf_path='/home/anna/Documents/september_2022_workshops/freenrgworkflows/networkanalysis/', engine=\"SOMD\")\n",
    "print(fwf_stats)"
   ]
  },
  {
   "cell_type": "code",
   "execution_count": null,
   "metadata": {},
   "outputs": [],
   "source": []
  },
  {
   "cell_type": "code",
   "execution_count": null,
   "metadata": {},
   "outputs": [],
   "source": [
    "# cycle closures\n",
    "for eng in engines:\n",
    "\n",
    "    pert_dict = values_dict[eng][\"pert_results\"]\n",
    "    cycle_closures = # get from the network graph object\n",
    "\n",
    "    cycles = pipeline.analysis.make_dict_cycle_closures(pert_dict, cycle_closures)    \n",
    "\n",
    "    print(f\"{eng} cycle vals is {cycles[1]}\")\n",
    "    print(f\"{eng} cycle mean is {cycles[2]}\")\n",
    "    print(f\"{eng} cycle deviation is {cycles[3]}\")\n",
    "\n",
    "    values_dict[eng][\"cycle_closures\"] = (cycles[0]) # the cycles dict"
   ]
  },
  {
   "cell_type": "code",
   "execution_count": null,
   "metadata": {},
   "outputs": [],
   "source": [
    "from cinnabar import wrangle,plotting\n",
    "network = wrangle.FEMap(f\"{res_folder}/{cinnabar_file}_{eng}.csv\")"
   ]
  },
  {
   "cell_type": "code",
   "execution_count": null,
   "metadata": {},
   "outputs": [],
   "source": [
    "for eng in engines:\n",
    "    convert_cinnabar_file(values_dict[eng][\"results_files\"], values_dict[\"experimental\"][\"val_results\"], f\"{res_folder}/{cinnabar_file}_{eng}\")\n",
    "\n",
    "    network = wrangle.FEMap(f\"{res_folder}/{cinnabar_file}_{eng}.csv\")\n",
    "    # plot the perturbations\n",
    "    plotting.plot_DDGs(network.graph, filename=f\"{res_folder}/DDGs_{file_ext_out}_{eng}.png\", title=f\"DDGs_{protein}_{file_ext_out}_{eng}\")\n",
    "    #plot the ligands\n",
    "    plotting.plot_DGs(network.graph, filename=f\"{res_folder}/DGs_{file_ext_out}_{eng}.png\", title=f\"DGs_{protein}_{file_ext_out}_{eng}\")"
   ]
  }
 ],
 "metadata": {
  "kernelspec": {
   "display_name": "Python 3.9.13 ('biosimspace-dev': conda)",
   "language": "python",
   "name": "python3"
  },
  "language_info": {
   "codemirror_mode": {
    "name": "ipython",
    "version": 3
   },
   "file_extension": ".py",
   "mimetype": "text/x-python",
   "name": "python",
   "nbconvert_exporter": "python",
   "pygments_lexer": "ipython3",
   "version": "3.9.15"
  },
  "varInspector": {
   "cols": {
    "lenName": 16,
    "lenType": 16,
    "lenVar": 40
   },
   "kernels_config": {
    "python": {
     "delete_cmd_postfix": "",
     "delete_cmd_prefix": "del ",
     "library": "var_list.py",
     "varRefreshCmd": "print(var_dic_list())"
    },
    "r": {
     "delete_cmd_postfix": ") ",
     "delete_cmd_prefix": "rm(",
     "library": "var_list.r",
     "varRefreshCmd": "cat(var_dic_list()) "
    }
   },
   "types_to_exclude": [
    "module",
    "function",
    "builtin_function_or_method",
    "instance",
    "_Feature"
   ],
   "window_display": false
  },
  "vscode": {
   "interpreter": {
    "hash": "d79bb85316fa6c998e385cc39903e056bffeb3f6098416e9c269ddd32175e919"
   }
  }
 },
 "nbformat": 4,
 "nbformat_minor": 2
}
