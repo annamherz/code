{
 "cells": [
  {
   "cell_type": "markdown",
   "metadata": {},
   "source": [
    "# <span style=\"color:teal\">RBFE Network - Analysis</span>\n"
   ]
  },
  {
   "cell_type": "code",
   "execution_count": 9,
   "metadata": {},
   "outputs": [
    {
     "name": "stdout",
     "output_type": "stream",
     "text": [
      "/home/anna/Documents/cinnabar/cinnabar/__init__.py\n"
     ]
    }
   ],
   "source": [
    "# import libraries\n",
    "import BioSimSpace as BSS\n",
    "import os\n",
    "import glob\n",
    "import csv\n",
    "import numpy as np\n",
    "import math\n",
    "import pandas as pd\n",
    "import networkx as nx\n",
    "import yaml\n",
    "from scipy.stats import sem as sem\n",
    "from scipy.stats import bootstrap\n",
    "from sklearn.metrics import mean_absolute_error as mae\n",
    "import pickle\n",
    "import tempfile\n",
    "import itertools\n",
    "import matplotlib.pyplot as plt\n",
    "import csv\n",
    "import numpy as np\n",
    "import pandas as pd \n",
    "from rdkit import Chem\n",
    "\n",
    "# import from path for freenrgworkflows.\n",
    "import sys\n",
    "sys.path.insert(1, '/home/anna/Documents/september_2022_workshops/freenrgworkflows/networkanalysis/') # FIXME this will need to be adjusted in the future\n",
    "import networkanalysis\n",
    "import experiments\n",
    "import stats\n",
    "\n",
    "# try w cinnabar\n",
    "sys.path.insert(1, '/home/anna/Documents/cinnabar')\n",
    "import cinnabar\n",
    "from cinnabar import wrangle,plotting\n",
    "print(cinnabar.__file__)\n",
    "\n",
    "try:\n",
    "    import pipeline\n",
    "except:\n",
    "    print(\"adding code to the pythonpath...\")\n",
    "    code = '/home/anna/Documents/code/python'\n",
    "    if code not in sys.path:\n",
    "        sys.path.insert(1, code)\n",
    "    import pipeline\n",
    "\n",
    "from pipeline import *\n",
    "from pipeline.utils import validate\n",
    "from pipeline.analysis import *"
   ]
  },
  {
   "cell_type": "code",
   "execution_count": 2,
   "metadata": {},
   "outputs": [],
   "source": [
    "# folders\n",
    "protein = \"tyk2\"\n",
    "file_ext = \"MBAR_alchemlyb_benchmark\" # for results files\n",
    "\n",
    "# define all the folder locations\n",
    "bench_folder = f\"/home/anna/Documents/benchmark\"\n",
    "main_folder = f\"{bench_folder}/{protein}_benchmark\"\n",
    "out_folder = f\"{main_folder}/outputs\"\n",
    "res_folder = f\"../test/results\"\n",
    "temp_folder = f\"{main_folder}/outputs/results/temp\"\n",
    "exp_folder = f\"{bench_folder}/inputs/experimental\"\n",
    "\n",
    "# make folders that may not exist\n",
    "folder_list = [res_folder, temp_folder]\n",
    "for fold in folder_list:\n",
    "    validate.folder_path(fold, create=True)\n",
    "\n",
    "# files\n",
    "net_file = f\"{main_folder}/execution_model/network_lomap.dat\"\n",
    "exp_file = f\"{exp_folder}/{protein}.yml\"\n",
    "exp_file_dat = f\"{res_folder}/exp_data_{protein}.dat\"\n",
    "\n",
    "# OUTPUT\n",
    "file_ext_out = \"test\" # for how files will be written\n",
    "\n",
    "# files that will get written\n",
    "comp_pert_file_name = f\"computed_perturbations_average_{file_ext_out}\"\n",
    "cinnabar_file = f\"cinnabar_format_{file_ext_out}\"\n",
    "# TODO add file names for saving graphs"
   ]
  },
  {
   "cell_type": "code",
   "execution_count": 3,
   "metadata": {},
   "outputs": [],
   "source": [
    "# we will define the engine here for ease\n",
    "engines = [\"SOMD\",\"AMBER\",\"GROMACS\"]\n",
    "\n",
    "results_dict = {}\n",
    "\n",
    "for eng in engines:\n",
    "    eng_object = analysis(\n",
    "        glob.glob(f\"{out_folder}/repeat_*_{eng}_{file_ext}.csv\"),\n",
    "        exp_file,\n",
    "        net_file\n",
    "        )\n",
    "    results_dict[eng] = eng_object\n"
   ]
  },
  {
   "cell_type": "code",
   "execution_count": 5,
   "metadata": {},
   "outputs": [],
   "source": [
    "# can generate graph to visualise\n",
    "# for eng in engines:\n",
    "#     graph_obj = graph(values_dict[eng][\"ligs\"],values_dict[eng][\"perts\"])\n",
    "#     graph_obj.draw_graph(file_dir = f\"{res_folder}\")"
   ]
  },
  {
   "cell_type": "code",
   "execution_count": 6,
   "metadata": {},
   "outputs": [],
   "source": [
    "# using freenergworkflows to convert\n",
    "# # first need to convert the yml file into one useable by freenergworkflows\n",
    "convert.yml_into_freenrgworkflows(exp_file, exp_file_dat)\n",
    "experiments = experiments.ExperimentalData()\n",
    "experiments.compute_affinities(exp_file_dat, data_type=\"IC50\", comments=\"#\", delimiter=\",\")\n",
    "experimental_DDGs = experiments.freeEnergiesInKcal\n",
    "exp_pert_dict,exp_lig_dict = make_dict.experimental_from_freenrgworkflows(experimental_DDGs, all_ligands, all_perturbations)\n",
    "values_dict[\"experimental\"][\"perts\"] = all_perturbations\n",
    "values_dict[\"experimental\"][\"ligs\"] = all_ligands\n",
    "values_dict[\"experimental\"][\"pert_results\"] = exp_pert_dict\n",
    "values_dict[\"experimental\"][\"val_results\"] = exp_lig_dict\n",
    "values_dict[\"experimental\"][\"freenrgworkflows_ouput\"] = experimental_DDGs\n"
   ]
  },
  {
   "cell_type": "code",
   "execution_count": 7,
   "metadata": {},
   "outputs": [],
   "source": [
    "# do without freenrgworkflows\n",
    "exper_val_dict = convert.yml_into_exper_dict(exp_file, exp_file_dat)\n",
    "exp_pert_dict,exp_lig_dict = make_dict.experimental_from_cinnabar(exper_val_dict, all_ligands, all_perturbations)\n",
    "values_dict[\"experimental\"][\"perts\"] = all_perturbations\n",
    "values_dict[\"experimental\"][\"ligs\"] = all_ligands\n",
    "values_dict[\"experimental\"][\"pert_results\"] = exp_pert_dict\n",
    "values_dict[\"experimental\"][\"val_results\"] = exp_lig_dict"
   ]
  },
  {
   "cell_type": "code",
   "execution_count": null,
   "metadata": {},
   "outputs": [],
   "source": [
    "# plotting\n"
   ]
  },
  {
   "cell_type": "code",
   "execution_count": null,
   "metadata": {},
   "outputs": [],
   "source": [
    "# cycle closures\n",
    "for eng in engines:\n",
    "\n",
    "    pert_dict = values_dict[eng][\"pert_results\"]\n",
    "    cycle_closures = # get from the network graph object\n",
    "\n",
    "    cycles = pipeline.analysis.make_dict_cycle_closures(pert_dict, cycle_closures)    \n",
    "\n",
    "    print(f\"{eng} cycle vals is {cycles[1]}\")\n",
    "    print(f\"{eng} cycle mean is {cycles[2]}\")\n",
    "    print(f\"{eng} cycle deviation is {cycles[3]}\")\n",
    "\n",
    "    values_dict[eng][\"cycle_closures\"] = (cycles[0]) # the cycles dict"
   ]
  },
  {
   "cell_type": "code",
   "execution_count": null,
   "metadata": {},
   "outputs": [],
   "source": [
    "from cinnabar import wrangle,plotting"
   ]
  },
  {
   "cell_type": "code",
   "execution_count": null,
   "metadata": {},
   "outputs": [],
   "source": [
    "for eng in engines:\n",
    "    convert_cinnabar_file(values_dict[eng][\"results_files\"], values_dict[\"experimental\"][\"val_results\"], f\"{res_folder}/{cinnabar_file}_{eng}\")\n",
    "\n",
    "    network = wrangle.FEMap(f\"{res_folder}/{cinnabar_file}_{eng}.csv\")\n",
    "    # plot the perturbations\n",
    "    plotting.plot_DDGs(network.graph, filename=f\"{res_folder}/DDGs_{file_ext_out}_{eng}.png\", title=f\"DDGs_{protein}_{file_ext_out}_{eng}\")\n",
    "    #plot the ligands\n",
    "    plotting.plot_DGs(network.graph, filename=f\"{res_folder}/DGs_{file_ext_out}_{eng}.png\", title=f\"DGs_{protein}_{file_ext_out}_{eng}\")"
   ]
  }
 ],
 "metadata": {
  "kernelspec": {
   "display_name": "Python 3.9.13 ('biosimspace-dev': conda)",
   "language": "python",
   "name": "python3"
  },
  "language_info": {
   "codemirror_mode": {
    "name": "ipython",
    "version": 3
   },
   "file_extension": ".py",
   "mimetype": "text/x-python",
   "name": "python",
   "nbconvert_exporter": "python",
   "pygments_lexer": "ipython3",
   "version": "3.9.15"
  },
  "varInspector": {
   "cols": {
    "lenName": 16,
    "lenType": 16,
    "lenVar": 40
   },
   "kernels_config": {
    "python": {
     "delete_cmd_postfix": "",
     "delete_cmd_prefix": "del ",
     "library": "var_list.py",
     "varRefreshCmd": "print(var_dic_list())"
    },
    "r": {
     "delete_cmd_postfix": ") ",
     "delete_cmd_prefix": "rm(",
     "library": "var_list.r",
     "varRefreshCmd": "cat(var_dic_list()) "
    }
   },
   "types_to_exclude": [
    "module",
    "function",
    "builtin_function_or_method",
    "instance",
    "_Feature"
   ],
   "window_display": false
  },
  "vscode": {
   "interpreter": {
    "hash": "d79bb85316fa6c998e385cc39903e056bffeb3f6098416e9c269ddd32175e919"
   }
  }
 },
 "nbformat": 4,
 "nbformat_minor": 2
}
