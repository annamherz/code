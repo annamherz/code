{
 "cells": [
  {
   "cell_type": "markdown",
   "metadata": {},
   "source": [
    "# <span style=\"color:teal\">RBFE Network - Analysis</span>\n"
   ]
  },
  {
   "cell_type": "code",
   "execution_count": null,
   "metadata": {},
   "outputs": [],
   "source": [
    "# import libraries\n",
    "import BioSimSpace as BSS\n",
    "from scipy.stats import sem as sem\n",
    "import sys\n",
    "import os\n",
    "\n",
    "if '/home/anna/Documents/cinnabar' not in sys.path:\n",
    "    sys.path.insert(1, '/home/anna/Documents/cinnabar')\n",
    "import cinnabar\n",
    "\n",
    "print(cinnabar.__file__)\n",
    "\n",
    "try:\n",
    "    import pipeline\n",
    "except:\n",
    "    print(\"adding code to the pythonpath...\")\n",
    "    code = '/home/anna/Documents/code/python'\n",
    "    if code not in sys.path:\n",
    "        sys.path.insert(1, code)\n",
    "    import pipeline\n",
    "\n",
    "from pipeline import *\n",
    "from pipeline.utils import validate\n",
    "from pipeline.analysis import *"
   ]
  },
  {
   "cell_type": "code",
   "execution_count": null,
   "metadata": {},
   "outputs": [],
   "source": [
    "bench_folder = f\"/home/anna/Documents/benchmark\"\n",
    "main_dir = f\"{bench_folder}/tyk2\"\n",
    "\n",
    "# choose location for the files\n",
    "net_file = f\"{main_dir}/execution_model/network_lomap.dat\"\n",
    "ana_file = f\"{main_dir}/execution_model/analysis_protocol.dat\"\n",
    "exp_file = f\"{bench_folder}/inputs/experimental/tyk2.yml\"\n",
    "\n",
    "if os.path.exists(f\"{main_dir}/outputs_extracted/results\"):\n",
    "    results_folder = f\"{main_dir}/outputs_extracted/results\"\n",
    "elif os.path.exists(f\"{main_dir}/outputs/results\"):\n",
    "    results_folder = f\"{main_dir}/outputs/results\"\n",
    "else:\n",
    "    raise ValueError(f\"results directory not found in the {main_dir}. please make sure results were written using the analysis script previously in the pipeline\")\n",
    "\n",
    "output_folder = validate.folder_path(f\"{main_dir}/analysis\", create=True)\n"
   ]
  },
  {
   "cell_type": "code",
   "execution_count": null,
   "metadata": {},
   "outputs": [],
   "source": [
    "all_analysis_object = analysis_network(results_folder,\n",
    "                                       exp_file=exp_file,\n",
    "                                       net_file=net_file,\n",
    "                                       output_folder=output_folder,\n",
    "                                       analysis_ext=ana_file\n",
    "                                        )\n",
    "\n",
    "# can add any other results files\n",
    "# all_analysis_object.compute_other_results(file_name=None, name=None)\n",
    "all_analysis_object.compute()"
   ]
  },
  {
   "attachments": {},
   "cell_type": "markdown",
   "metadata": {},
   "source": [
    "There are different options for plotting:\n",
    "bar (pert or lig)\n",
    "scatter (pert or lig) - can be plotted using cinnabar\n",
    "eng vs eng\n",
    "other results (eg from other workflows)\n",
    "outliers\n",
    "histograms (for the error of the runs, sem, legs)"
   ]
  },
  {
   "cell_type": "code",
   "execution_count": null,
   "metadata": {},
   "outputs": [],
   "source": [
    "# bar\n",
    "all_analysis_object.plot_bar_lig()\n",
    "all_analysis_object.plot_bar_pert()\n",
    "\n",
    "#scatter\n",
    "all_analysis_object.plot_scatter_lig()\n",
    "all_analysis_object.plot_scatter_pert()\n",
    "all_analysis_object.plot_scatter_lig(use_cinnabar=True)\n",
    "all_analysis_object.plot_scatter_pert(use_cinnabar=True)\n",
    "for eng in all_analysis_object.engines:\n",
    "    all_analysis_object.plot_scatter_lig(engine=eng)\n",
    "    all_analysis_object.plot_scatter_pert(engine=eng)\n",
    "\n",
    "    # outliers\n",
    "    all_analysis_object.plot_outliers(engine=eng)\n",
    "    all_analysis_object.plot_outliers(engine=eng, pert_val=\"val\")\n",
    "\n",
    "all_analysis_object.plot_histogram_legs(free_bound=\"free\")\n",
    "all_analysis_object.plot_histogram_legs(free_bound=\"bound\")\n",
    "all_analysis_object.plot_histogram_runs()\n",
    "all_analysis_object.plot_histogram_sem()\n",
    "all_analysis_object.plot_histogram_sem(pert_val=\"pert\")"
   ]
  },
  {
   "attachments": {},
   "cell_type": "markdown",
   "metadata": {},
   "source": [
    "for additiional analyses:\n",
    "calculate the mae\n",
    "fwf stuff"
   ]
  },
  {
   "cell_type": "code",
   "execution_count": null,
   "metadata": {},
   "outputs": [],
   "source": [
    "all_analysis_object.calc_mae(pert_val=\"pert\")\n",
    "all_analysis_object.calc_mae(pert_val=\"val\")"
   ]
  },
  {
   "cell_type": "code",
   "execution_count": null,
   "metadata": {},
   "outputs": [],
   "source": []
  },
  {
   "cell_type": "code",
   "execution_count": null,
   "metadata": {},
   "outputs": [],
   "source": [
    "# import networkanalysis\n",
    "# import experiments\n",
    "# import stats\n",
    "\n",
    "# exp_dicts = res_obj._get_exp_fwf(fwf_path='/home/anna/Documents/september_2022_workshops/freenrgworkflows/networkanalysis/')\n",
    "# for key in exp_dicts[0]:\n",
    "#     print(f\"{key} : {exp_dicts[0][key][0]}, {exp_dicts[0][key][1]}\")\n",
    "\n",
    "free_fwf_dict = res_obj._get_ana_fwf(fwf_path='/home/anna/Documents/september_2022_workshops/freenrgworkflows/networkanalysis/', engine=\"SOMD\")\n",
    "for key in free_fwf_dict:\n",
    "    print(f\"{key} : {free_fwf_dict[key][0]}, {free_fwf_dict[key][1]}\")\n",
    "\n",
    "# fwf_stats = res_obj._get_stats_fwf(fwf_path='/home/anna/Documents/september_2022_workshops/freenrgworkflows/networkanalysis/', engine=\"SOMD\")\n"
   ]
  }
 ],
 "metadata": {
  "kernelspec": {
   "display_name": "Python 3.9.13 ('biosimspace-dev': conda)",
   "language": "python",
   "name": "python3"
  },
  "language_info": {
   "codemirror_mode": {
    "name": "ipython",
    "version": 3
   },
   "file_extension": ".py",
   "mimetype": "text/x-python",
   "name": "python",
   "nbconvert_exporter": "python",
   "pygments_lexer": "ipython3",
   "version": "3.9.15"
  },
  "varInspector": {
   "cols": {
    "lenName": 16,
    "lenType": 16,
    "lenVar": 40
   },
   "kernels_config": {
    "python": {
     "delete_cmd_postfix": "",
     "delete_cmd_prefix": "del ",
     "library": "var_list.py",
     "varRefreshCmd": "print(var_dic_list())"
    },
    "r": {
     "delete_cmd_postfix": ") ",
     "delete_cmd_prefix": "rm(",
     "library": "var_list.r",
     "varRefreshCmd": "cat(var_dic_list()) "
    }
   },
   "types_to_exclude": [
    "module",
    "function",
    "builtin_function_or_method",
    "instance",
    "_Feature"
   ],
   "window_display": false
  },
  "vscode": {
   "interpreter": {
    "hash": "d79bb85316fa6c998e385cc39903e056bffeb3f6098416e9c269ddd32175e919"
   }
  }
 },
 "nbformat": 4,
 "nbformat_minor": 2
}
