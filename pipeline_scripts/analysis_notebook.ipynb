{
 "cells": [
  {
   "cell_type": "markdown",
   "metadata": {},
   "source": [
    "# <span style=\"color:teal\">RBFE Network - Analysis</span>\n"
   ]
  },
  {
   "cell_type": "code",
   "execution_count": 1,
   "metadata": {},
   "outputs": [
    {
     "name": "stderr",
     "output_type": "stream",
     "text": [
      "Warning on use of the timeseries module: If the inherent timescales of the system are long compared to those being analyzed, this statistical inefficiency may be an underestimate.  The estimate presumes the use of many statistically independent samples.  Tests should be performed to assess whether this condition is satisfied.   Be cautious in the interpretation of the data.\n",
      "/home/anna/anaconda3/envs/biosimspace-dev/lib/python3.9/site-packages/numpy/core/getlimits.py:500: UserWarning: The value of the smallest subnormal for <class 'numpy.float64'> type is zero.\n",
      "  setattr(self, word, getattr(machar, word).flat[0])\n",
      "/home/anna/anaconda3/envs/biosimspace-dev/lib/python3.9/site-packages/numpy/core/getlimits.py:89: UserWarning: The value of the smallest subnormal for <class 'numpy.float64'> type is zero.\n",
      "  return self._float_to_str(self.smallest_subnormal)\n",
      "/home/anna/anaconda3/envs/biosimspace-dev/lib/python3.9/site-packages/numpy/core/getlimits.py:500: UserWarning: The value of the smallest subnormal for <class 'numpy.float32'> type is zero.\n",
      "  setattr(self, word, getattr(machar, word).flat[0])\n",
      "/home/anna/anaconda3/envs/biosimspace-dev/lib/python3.9/site-packages/numpy/core/getlimits.py:89: UserWarning: The value of the smallest subnormal for <class 'numpy.float32'> type is zero.\n",
      "  return self._float_to_str(self.smallest_subnormal)\n",
      "Warning: importing 'simtk.openmm' is deprecated.  Import 'openmm' instead.\n"
     ]
    },
    {
     "name": "stdout",
     "output_type": "stream",
     "text": [
      "\n",
      "==============================================================\n",
      "Sending anonymous Sire usage statistics to http://siremol.org.\n",
      "For more information, see http://siremol.org/analytics\n",
      "To disable, set the environment variable 'SIRE_DONT_PHONEHOME' to 1\n",
      "To see the information sent, set the environment variable \n",
      "SIRE_VERBOSE_PHONEHOME equal to 1. To silence this message, set\n",
      "the environment variable SIRE_SILENT_PHONEHOME to 1.\n",
      "==============================================================\n",
      "\n",
      "/home/anna/Documents/cinnabar/cinnabar/__init__.py\n",
      "adding code to the pythonpath...\n"
     ]
    }
   ],
   "source": [
    "# import libraries\n",
    "import BioSimSpace as BSS\n",
    "import os\n",
    "import glob\n",
    "import csv\n",
    "import numpy as np\n",
    "import math\n",
    "import pandas as pd\n",
    "import networkx as nx\n",
    "import yaml\n",
    "from scipy.stats import sem as sem\n",
    "from scipy.stats import bootstrap\n",
    "from sklearn.metrics import mean_absolute_error as mae\n",
    "import pickle\n",
    "import tempfile\n",
    "import itertools\n",
    "import matplotlib.pyplot as plt\n",
    "import csv\n",
    "import numpy as np\n",
    "import pandas as pd \n",
    "from rdkit import Chem\n",
    "\n",
    "# try w cinnabar\n",
    "sys.path.insert(1, '/home/anna/Documents/cinnabar')\n",
    "import cinnabar\n",
    "from cinnabar import wrangle,plotting\n",
    "print(cinnabar.__file__)\n",
    "\n",
    "try:\n",
    "    import pipeline\n",
    "except:\n",
    "    print(\"adding code to the pythonpath...\")\n",
    "    code = '/home/anna/Documents/code/python'\n",
    "    if code not in sys.path:\n",
    "        sys.path.insert(1, code)\n",
    "    import pipeline\n",
    "\n",
    "from pipeline import *\n",
    "from pipeline.utils import validate\n",
    "from pipeline.analysis import *"
   ]
  },
  {
   "cell_type": "code",
   "execution_count": 2,
   "metadata": {},
   "outputs": [],
   "source": [
    "# folders\n",
    "protein = \"tyk2\"\n",
    "file_ext = \"MBAR_alchemlyb_benchmark\" # for results files\n",
    "\n",
    "# define all the folder locations\n",
    "bench_folder = f\"/home/anna/Documents/benchmark\"\n",
    "main_folder = f\"{bench_folder}/{protein}_benchmark\"\n",
    "out_folder = f\"{main_folder}/outputs\"\n",
    "res_folder = f\"../test/results\"\n",
    "temp_folder = f\"{main_folder}/outputs/results/temp\"\n",
    "exp_folder = f\"{bench_folder}/inputs/experimental\"\n",
    "\n",
    "# make folders that may not exist\n",
    "folder_list = [res_folder, temp_folder]\n",
    "for fold in folder_list:\n",
    "    validate.folder_path(fold, create=True)\n",
    "\n",
    "# files\n",
    "net_file = f\"{main_folder}/execution_model/network_lomap.dat\"\n",
    "exp_file = f\"{exp_folder}/{protein}.yml\"\n",
    "exp_file_dat = f\"{res_folder}/exp_data_{protein}.dat\"\n",
    "\n",
    "# OUTPUT\n",
    "file_ext_out = \"test\" # for how files will be written\n",
    "\n",
    "# files that will get written\n",
    "comp_pert_file_name = f\"computed_perturbations_average_{file_ext_out}\"\n",
    "cinnabar_file = f\"cinnabar_format_{file_ext_out}\"\n",
    "# TODO add file names for saving graphs"
   ]
  },
  {
   "cell_type": "code",
   "execution_count": 3,
   "metadata": {},
   "outputs": [
    {
     "name": "stdout",
     "output_type": "stream",
     "text": [
      "no results output folder provided, writing all output to the 'results_directory'.\n",
      "lig_ejm42~lig_ejm54 or lig_ejm54~lig_ejm42 does not exist in the results for ['lig_ejm54~lig_ejm55', 'lig_ejm55~lig_ejm42', 'lig_ejm42~lig_ejm54']. This cycle is not included.\n",
      "lig_ejm31~lig_ejm45 or lig_ejm45~lig_ejm31 does not exist in the results for ['lig_ejm31~lig_ejm45', 'lig_ejm45~lig_ejm44', 'lig_ejm44~lig_ejm43', 'lig_ejm43~lig_ejm42', 'lig_ejm42~lig_ejm50', 'lig_ejm50~lig_ejm31']. This cycle is not included.\n",
      "lig_ejm50~lig_ejm31 or lig_ejm31~lig_ejm50 does not exist in the results for ['lig_ejm31~lig_ejm47', 'lig_ejm47~lig_ejm42', 'lig_ejm42~lig_ejm50', 'lig_ejm50~lig_ejm31']. This cycle is not included.\n",
      "lig_ejm50~lig_ejm31 or lig_ejm31~lig_ejm50 does not exist in the results for ['lig_ejm31~lig_ejm49', 'lig_ejm49~lig_ejm42', 'lig_ejm42~lig_ejm50', 'lig_ejm50~lig_ejm31']. This cycle is not included.\n",
      "lig_jmc30~lig_jmc28 or lig_jmc28~lig_jmc30 does not exist in the results for ['lig_jmc30~lig_jmc28', 'lig_jmc28~lig_ejm46', 'lig_ejm46~lig_jmc30']. This cycle is not included.\n",
      "lig_jmc23~lig_jmc28 or lig_jmc28~lig_jmc23 does not exist in the results for ['lig_jmc23~lig_jmc28', 'lig_jmc28~lig_ejm46', 'lig_ejm46~lig_ejm31', 'lig_ejm31~lig_jmc23']. This cycle is not included.\n",
      "lig_jmc27~lig_jmc28 or lig_jmc28~lig_jmc27 does not exist in the results for ['lig_jmc23~lig_jmc27', 'lig_jmc27~lig_jmc28', 'lig_jmc28~lig_jmc23']. This cycle is not included.\n",
      "lig_ejm48~lig_ejm53 or lig_ejm53~lig_ejm48 does not exist in the results for ['lig_ejm48~lig_ejm53', 'lig_ejm53~lig_ejm31', 'lig_ejm31~lig_ejm48']. This cycle is not included.\n",
      "lig_ejm42~lig_ejm54 or lig_ejm54~lig_ejm42 does not exist in the results for ['lig_ejm54~lig_ejm55', 'lig_ejm55~lig_ejm42', 'lig_ejm42~lig_ejm54']. This cycle is not included.\n",
      "lig_ejm31~lig_ejm45 or lig_ejm45~lig_ejm31 does not exist in the results for ['lig_ejm31~lig_ejm45', 'lig_ejm45~lig_ejm44', 'lig_ejm44~lig_ejm43', 'lig_ejm43~lig_ejm42', 'lig_ejm42~lig_ejm50', 'lig_ejm50~lig_ejm31']. This cycle is not included.\n",
      "lig_ejm49~lig_ejm42 or lig_ejm42~lig_ejm49 does not exist in the results for ['lig_ejm31~lig_ejm49', 'lig_ejm49~lig_ejm42', 'lig_ejm42~lig_ejm50', 'lig_ejm50~lig_ejm31']. This cycle is not included.\n",
      "lig_jmc28~lig_ejm46 or lig_ejm46~lig_jmc28 does not exist in the results for ['lig_jmc30~lig_jmc28', 'lig_jmc28~lig_ejm46', 'lig_ejm46~lig_jmc30']. This cycle is not included.\n",
      "lig_jmc23~lig_jmc28 or lig_jmc28~lig_jmc23 does not exist in the results for ['lig_jmc23~lig_jmc28', 'lig_jmc28~lig_ejm46', 'lig_ejm46~lig_ejm31', 'lig_ejm31~lig_jmc23']. This cycle is not included.\n",
      "lig_jmc28~lig_jmc23 or lig_jmc23~lig_jmc28 does not exist in the results for ['lig_jmc23~lig_jmc27', 'lig_jmc27~lig_jmc28', 'lig_jmc28~lig_jmc23']. This cycle is not included.\n"
     ]
    }
   ],
   "source": [
    "res_dir = \"/home/anna/Documents/benchmark/tyk2_benchmark/outputs\"\n",
    "res_obj = analysis_engines(res_dir, net_file=net_file, exp_file=exp_file)\n",
    "res_obj.compute()\n",
    "# res_obj.calc_val_dict\n",
    "# res_obj._results_repeat_files[\"SOMD\"]"
   ]
  },
  {
   "cell_type": "code",
   "execution_count": 4,
   "metadata": {},
   "outputs": [
    {
     "data": {
      "text/plain": [
       "{'AMBER': ({'lig_jmc23~lig_jmc27_lig_jmc27~lig_jmc28_lig_jmc28~lig_jmc23': (-0.439919164536924,\n",
       "    [0.04032382231133346]),\n",
       "   'lig_ejm46~lig_ejm31_lig_ejm31~lig_jmc23_lig_jmc23~lig_jmc28_lig_jmc28~lig_ejm46': (-0.11836158059970092,\n",
       "    [0.09320776969225471, 0.052493739290820816]),\n",
       "   'lig_ejm49~lig_ejm42_lig_ejm42~lig_ejm50_lig_ejm50~lig_ejm31_lig_ejm31~lig_ejm49': (0.7905193602879501,\n",
       "    [0.24125213102200138, 0.021777020543073282]),\n",
       "   'lig_ejm47~lig_ejm42_lig_ejm42~lig_ejm50_lig_ejm50~lig_ejm31_lig_ejm31~lig_ejm47': (0.46775745372522015,\n",
       "    [0.015444851165581901, 0.021777020543073282]),\n",
       "   'lig_ejm54~lig_ejm55_lig_ejm55~lig_ejm42_lig_ejm42~lig_ejm54': (1.7084049447988867,\n",
       "    [0.03304783452709851, 0.029582971590044]),\n",
       "   'lig_ejm45~lig_ejm44_lig_ejm44~lig_ejm43_lig_ejm43~lig_ejm42_lig_ejm42~lig_ejm50_lig_ejm50~lig_ejm31_lig_ejm31~lig_ejm45': (-0.6915143230929446,\n",
       "    [0.14970601201467082,\n",
       "     0.06921245756659028,\n",
       "     0.0006476717924714686,\n",
       "     0.021777020543073282]),\n",
       "   'lig_ejm48~lig_ejm53_lig_ejm53~lig_ejm31_lig_ejm31~lig_ejm48': (0, []),\n",
       "   'lig_jmc30~lig_ejm46_lig_ejm46~lig_jmc28_lig_jmc28~lig_jmc30': (0, [])},\n",
       "  [-0.439919164536924,\n",
       "   -0.11836158059970092,\n",
       "   0.7905193602879501,\n",
       "   0.46775745372522015,\n",
       "   1.7084049447988867,\n",
       "   -0.6915143230929446],\n",
       "  0.2861477817637479,\n",
       "  0.8120768052756869),\n",
       " 'SOMD': ({'lig_jmc23~lig_jmc27_lig_jmc27~lig_jmc28_lig_jmc28~lig_jmc23': (1.147457321934742,\n",
       "    [0.04196609388710943, 0.09011233755900308, 0.14563949811773294]),\n",
       "   'lig_ejm46~lig_ejm31_lig_ejm31~lig_jmc23_lig_jmc23~lig_jmc28_lig_jmc28~lig_ejm46': (-1.0772787121682512,\n",
       "    [0.3492602088177122,\n",
       "     0.2529746770305498,\n",
       "     0.14563949811773294,\n",
       "     0.08948566371382866]),\n",
       "   'lig_ejm49~lig_ejm42_lig_ejm42~lig_ejm50_lig_ejm50~lig_ejm31_lig_ejm31~lig_ejm49': (-0.9794981917089138,\n",
       "    [0.6730763943840086,\n",
       "     0.14174455440344091,\n",
       "     0.2116988475305797,\n",
       "     0.7822791428004096]),\n",
       "   'lig_ejm47~lig_ejm42_lig_ejm42~lig_ejm50_lig_ejm50~lig_ejm31_lig_ejm31~lig_ejm47': (-0.6438937652729078,\n",
       "    [0.0821456128243394,\n",
       "     0.14174455440344091,\n",
       "     0.2116988475305797,\n",
       "     0.34118987637549403]),\n",
       "   'lig_ejm54~lig_ejm55_lig_ejm55~lig_ejm42_lig_ejm42~lig_ejm54': (2.7303377459645413,\n",
       "    [0.13409423207487847, 0.1500627552941552, 0.15097736623577732]),\n",
       "   'lig_ejm45~lig_ejm44_lig_ejm44~lig_ejm43_lig_ejm43~lig_ejm42_lig_ejm42~lig_ejm50_lig_ejm50~lig_ejm31_lig_ejm31~lig_ejm45': (-1.62290727919893,\n",
       "    [0.7885403413877172,\n",
       "     0.11816427075717281,\n",
       "     0.04054858856090242,\n",
       "     0.14174455440344091,\n",
       "     0.2116988475305797,\n",
       "     0.2618797468448958]),\n",
       "   'lig_ejm48~lig_ejm53_lig_ejm53~lig_ejm31_lig_ejm31~lig_ejm48': (0.4081620535343712,\n",
       "    [0.08507789335040557, 0.45264048235271587, 0.3595451040804271]),\n",
       "   'lig_jmc30~lig_ejm46_lig_ejm46~lig_jmc28_lig_jmc28~lig_jmc30': (0.22504138644500202,\n",
       "    [0.05950461274050967, 0.08948566371382866, 0.13051625871321])},\n",
       "  [1.147457321934742,\n",
       "   -1.0772787121682512,\n",
       "   -0.9794981917089138,\n",
       "   -0.6438937652729078,\n",
       "   2.7303377459645413,\n",
       "   -1.62290727919893,\n",
       "   0.4081620535343712,\n",
       "   0.22504138644500202],\n",
       "  0.023427569941206677,\n",
       "  1.3300669598312607),\n",
       " 'GROMACS': ({'lig_jmc23~lig_jmc27_lig_jmc27~lig_jmc28_lig_jmc28~lig_jmc23': (2.5912280026053423,\n",
       "    [0.2824361421649738, 0.37603063660792985]),\n",
       "   'lig_ejm46~lig_ejm31_lig_ejm31~lig_jmc23_lig_jmc23~lig_jmc28_lig_jmc28~lig_ejm46': (-0.49609802404373,\n",
       "    [0.29032811434343914, 0.30695763191436565]),\n",
       "   'lig_ejm49~lig_ejm42_lig_ejm42~lig_ejm50_lig_ejm50~lig_ejm31_lig_ejm31~lig_ejm49': (0,\n",
       "    []),\n",
       "   'lig_ejm47~lig_ejm42_lig_ejm42~lig_ejm50_lig_ejm50~lig_ejm31_lig_ejm31~lig_ejm47': (0.7160457306264797,\n",
       "    [0.15321513817176788,\n",
       "     0.22729282250841243,\n",
       "     0.26453916080560586,\n",
       "     1.5017161627973836]),\n",
       "   'lig_ejm54~lig_ejm55_lig_ejm55~lig_ejm42_lig_ejm42~lig_ejm54': (2.0707979849913505,\n",
       "    [0.47301241147625406, 1.5354098684130069]),\n",
       "   'lig_ejm45~lig_ejm44_lig_ejm44~lig_ejm43_lig_ejm43~lig_ejm42_lig_ejm42~lig_ejm50_lig_ejm50~lig_ejm31_lig_ejm31~lig_ejm45': (0,\n",
       "    []),\n",
       "   'lig_ejm48~lig_ejm53_lig_ejm53~lig_ejm31_lig_ejm31~lig_ejm48': (0.6441567561061158,\n",
       "    [0.5249228075336665, 0.4915408273893289, 1.0448757648185047]),\n",
       "   'lig_jmc30~lig_ejm46_lig_ejm46~lig_jmc28_lig_jmc28~lig_jmc30': (1.9195346528660344,\n",
       "    [0.25899830400865265])},\n",
       "  [2.5912280026053423,\n",
       "   -0.49609802404373,\n",
       "   0.7160457306264797,\n",
       "   2.0707979849913505,\n",
       "   0.6441567561061158,\n",
       "   1.9195346528660344],\n",
       "  1.2409441838585988,\n",
       "  1.0505076549946848)}"
      ]
     },
     "execution_count": 4,
     "metadata": {},
     "output_type": "execute_result"
    }
   ],
   "source": [
    "res_obj.cycle_dict"
   ]
  },
  {
   "cell_type": "code",
   "execution_count": 4,
   "metadata": {},
   "outputs": [
    {
     "name": "stdout",
     "output_type": "stream",
     "text": [
      "(0.17266579509499938, 0.2618797468448958)\n",
      "(-0.14018090586209375, 0.20051809052021388)\n"
     ]
    },
    {
     "data": {
      "text/plain": [
       "{'lig_ejm54': (-1.0171083723177494, 0.10752048964540087),\n",
       " 'lig_ejm55': (0.6140945474819395, 0.08586842060562244),\n",
       " 'lig_ejm42': (0.6976619762167441, 0.05243054331504629),\n",
       " 'lig_ejm47': (-0.6269115526834383, 0.060589793265773004),\n",
       " 'lig_ejm50': (0.4201285990273164, 0.05519940110386187),\n",
       " 'lig_ejm31': (0.3783714681710978, 0.03996580429408346),\n",
       " 'lig_ejm49': (0.3388738321323758, 0.17185284913690832),\n",
       " 'lig_ejm43': (0.17166464173104592, 0.07316896741667954),\n",
       " 'lig_ejm44': (1.9742511717406739, 0.09641101356745947),\n",
       " 'lig_jmc27': (-2.0640098247449243, 0.06580989198177732),\n",
       " 'lig_jmc28': (-1.3637701266241826, 0.061176710580967485),\n",
       " 'lig_jmc23': (-0.9577389007194358, 0.062363563255751625),\n",
       " 'lig_ejm48': (1.5165344334743909, 0.09313290690841744),\n",
       " 'lig_ejm53': (2.388547015498711, 0.10301560226374629),\n",
       " 'lig_ejm46': (-1.0276017070606225, 0.056464349471104715),\n",
       " 'lig_ejm45': (0.31279580700437987, 0.15488764155372972),\n",
       " 'lig_jmc30': (-1.7557830083282968, 0.07929829121563765)}"
      ]
     },
     "execution_count": 4,
     "metadata": {},
     "output_type": "execute_result"
    }
   ],
   "source": [
    "# print(res_obj.cinnabar_calc_val_dict[\"SOMD\"]) # from cinnabar\n",
    "print(res_obj.calc_pert_dict[\"SOMD\"][\"lig_ejm31~lig_ejm45\"]) # doesnt work\n",
    "# print(res_obj.normalised_exper_val_dict[\"SOMD\"])\n",
    "# print(res_obj.exper_pert_dict[\"lig_ejm31~lig_ejm45\"])\n",
    "print(res_obj.cinnabar_calc_pert_dict[\"SOMD\"][\"lig_ejm31~lig_ejm45\"]) # from cinnabar network edges\n",
    "res_obj.cinnabar_calc_val_dict[\"SOMD\"] # from cinnabar network edges, is okay\n",
    "\n",
    "# # solo dicts for exper\n",
    "# res_obj.exper_val_dict = None # yml converted into experimental values, actual, for ligands in object\n",
    "# res_obj.exper_pert_dict = None # yml converted into experimental values, actual, for perturbations in object\n",
    "\n",
    "# # storing the nx digraphs, per engine\n",
    "# res_obj._cinnabar_networks = {}"
   ]
  },
  {
   "cell_type": "code",
   "execution_count": 12,
   "metadata": {},
   "outputs": [
    {
     "name": "stdout",
     "output_type": "stream",
     "text": [
      "Added additional data to 44 edges; added 0 new edges.\n",
      "Added additional data to 43 edges; added 0 new edges.\n",
      "lig_ejm31 : 0.4438846195538745, 0.13854767401247325\n",
      "lig_ejm42 : 0.5315348593421803, 0.136042377815895\n",
      "lig_ejm43 : 0.9263060947904159, 0.19536273747255428\n",
      "lig_ejm44 : 1.6525224846333026, 0.18259368494136685\n",
      "lig_ejm45 : 0.34699773961395514, 0.19454994704111592\n",
      "lig_ejm46 : -0.6500995637874711, 0.18230303096192416\n",
      "lig_ejm47 : -0.5060220552959447, 0.2534476999911248\n",
      "lig_ejm48 : 0.28664870537773124, 0.2355547778560366\n",
      "lig_ejm49 : -1.083365506415589, 0.24006534753654032\n",
      "lig_ejm50 : -0.31127086389257824, 0.25510945671518576\n",
      "lig_ejm53 : 2.1805905756579995, 0.2279846869039711\n",
      "lig_ejm54 : -0.23068195127205976, 0.26475404315056167\n",
      "lig_ejm55 : -1.0068513853492018, 0.20796847853458056\n",
      "lig_jmc23 : -0.6686765737370772, 0.22966734279233156\n",
      "lig_jmc27 : -0.5215525154146856, 0.26913448385509214\n",
      "lig_jmc28 : -0.6270516072059147, 0.2671917969602374\n",
      "lig_jmc30 : -0.762913056598937, 0.2621949273436029\n"
     ]
    }
   ],
   "source": [
    "# import networkanalysis\n",
    "# import experiments\n",
    "# import stats\n",
    "\n",
    "# exp_dicts = res_obj._get_exp_fwf(fwf_path='/home/anna/Documents/september_2022_workshops/freenrgworkflows/networkanalysis/')\n",
    "# for key in exp_dicts[0]:\n",
    "#     print(f\"{key} : {exp_dicts[0][key][0]}, {exp_dicts[0][key][1]}\")\n",
    "\n",
    "free_fwf_dict = res_obj._get_ana_fwf(fwf_path='/home/anna/Documents/september_2022_workshops/freenrgworkflows/networkanalysis/', engine=\"SOMD\")\n",
    "for key in free_fwf_dict:\n",
    "    print(f\"{key} : {free_fwf_dict[key][0]}, {free_fwf_dict[key][1]}\")\n",
    "\n",
    "# fwf_stats = res_obj._get_stats_fwf(fwf_path='/home/anna/Documents/september_2022_workshops/freenrgworkflows/networkanalysis/', engine=\"SOMD\")\n"
   ]
  },
  {
   "cell_type": "code",
   "execution_count": null,
   "metadata": {},
   "outputs": [],
   "source": []
  },
  {
   "cell_type": "code",
   "execution_count": null,
   "metadata": {},
   "outputs": [],
   "source": []
  },
  {
   "cell_type": "code",
   "execution_count": null,
   "metadata": {},
   "outputs": [],
   "source": [
    "from cinnabar import wrangle,plotting\n",
    "network = wrangle.FEMap(f\"{res_folder}/{cinnabar_file}_{eng}.csv\")"
   ]
  },
  {
   "cell_type": "code",
   "execution_count": null,
   "metadata": {},
   "outputs": [],
   "source": [
    "for eng in engines:\n",
    "    convert_cinnabar_file(values_dict[eng][\"results_files\"], values_dict[\"experimental\"][\"val_results\"], f\"{res_folder}/{cinnabar_file}_{eng}\")\n",
    "\n",
    "    network = wrangle.FEMap(f\"{res_folder}/{cinnabar_file}_{eng}.csv\")\n",
    "    # plot the perturbations\n",
    "    plotting.plot_DDGs(network.graph, filename=f\"{res_folder}/DDGs_{file_ext_out}_{eng}.png\", title=f\"DDGs_{protein}_{file_ext_out}_{eng}\")\n",
    "    #plot the ligands\n",
    "    plotting.plot_DGs(network.graph, filename=f\"{res_folder}/DGs_{file_ext_out}_{eng}.png\", title=f\"DGs_{protein}_{file_ext_out}_{eng}\")"
   ]
  }
 ],
 "metadata": {
  "kernelspec": {
   "display_name": "Python 3.9.13 ('biosimspace-dev': conda)",
   "language": "python",
   "name": "python3"
  },
  "language_info": {
   "codemirror_mode": {
    "name": "ipython",
    "version": 3
   },
   "file_extension": ".py",
   "mimetype": "text/x-python",
   "name": "python",
   "nbconvert_exporter": "python",
   "pygments_lexer": "ipython3",
   "version": "3.9.15"
  },
  "varInspector": {
   "cols": {
    "lenName": 16,
    "lenType": 16,
    "lenVar": 40
   },
   "kernels_config": {
    "python": {
     "delete_cmd_postfix": "",
     "delete_cmd_prefix": "del ",
     "library": "var_list.py",
     "varRefreshCmd": "print(var_dic_list())"
    },
    "r": {
     "delete_cmd_postfix": ") ",
     "delete_cmd_prefix": "rm(",
     "library": "var_list.r",
     "varRefreshCmd": "cat(var_dic_list()) "
    }
   },
   "types_to_exclude": [
    "module",
    "function",
    "builtin_function_or_method",
    "instance",
    "_Feature"
   ],
   "window_display": false
  },
  "vscode": {
   "interpreter": {
    "hash": "d79bb85316fa6c998e385cc39903e056bffeb3f6098416e9c269ddd32175e919"
   }
  }
 },
 "nbformat": 4,
 "nbformat_minor": 2
}
