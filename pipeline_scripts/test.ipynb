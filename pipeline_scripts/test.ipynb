{
 "cells": [
  {
   "cell_type": "code",
   "execution_count": 18,
   "metadata": {},
   "outputs": [
    {
     "name": "stdout",
     "output_type": "stream",
     "text": [
      "ligand forcefield = Sage\n",
      "\n",
      "protein forcefield = FF14SB\n",
      "\n",
      "solvent = TIP3P\n",
      "\n",
      "box edges = 30*angstrom\n",
      "\n",
      "box type = truncatedOctahedron\n",
      "\n",
      "protocol = default\n",
      "\n",
      "sampling = 4*ns\n",
      "\n",
      "HMR = True\n",
      "\n",
      "repeats = 1\n",
      "\n"
     ]
    }
   ],
   "source": [
    "search_dict = {\"ligand forcefield\":None, \"protein forcefield\":None,\n",
    "                \"solvent\":None, \"box edges\":None, \"box type\": None,\n",
    "                \"protocol\":None, \"sampling\":None, \"HMR\":None,\n",
    "                \"repeats\":None, \"keep trajectories\":None}\n",
    "\n",
    "# get value regardless of the order of the protocol.dat\n",
    "for search in search_dict.keys():\n",
    "    with open(f\"/home/anna/Documents/benchmark/tyk2_benchmark/execution_model_rbfenn_test/protocol.dat\", \"r\") as file:\n",
    "        for line in file:\n",
    "            if search.casefold() in line.casefold():\n",
    "                print(line)\n",
    "                search_dict[search] = line.strip()\n",
    "                break\n",
    "\n",
    "# forcefields\n",
    "ligff_query = (search_dict[\"ligand forcefield\"].rstrip().replace(\" \", \"\").split(\"=\")[-1]).lower() # ligand ff\n",
    "protff_query = search_dict[\"protein forcefield\"].rstrip().replace(\" \", \"\").split(\"=\")[-1] # protein ff\n",
    "solvent_query = search_dict[\"solvent\"].rstrip().replace(\" \", \"\").split(\"=\")[-1] # solvent ff\n",
    "\n",
    "# box size and type\n",
    "boxsize_query = search_dict[\"box edges\"].rstrip().replace(\" \", \"\").split(\"=\")[-1]\n",
    "box_axis_length = boxsize_query.split(\"*\")[0]\n",
    "box_axis_unit_query = boxsize_query.split(\"*\")[1]\n",
    "boxtype_query = (search_dict[\"box type\"].rstrip().replace(\" \", \"\").split(\"=\")[-1]).lower()"
   ]
  },
  {
   "cell_type": "code",
   "execution_count": 16,
   "metadata": {},
   "outputs": [
    {
     "ename": "AttributeError",
     "evalue": "'NoneType' object has no attribute 'rstrip'",
     "output_type": "error",
     "traceback": [
      "\u001b[0;31m---------------------------------------------------------------------------\u001b[0m",
      "\u001b[0;31mAttributeError\u001b[0m                            Traceback (most recent call last)",
      "Cell \u001b[0;32mIn[16], line 1\u001b[0m\n\u001b[0;32m----> 1\u001b[0m hmr \u001b[38;5;241m=\u001b[39m \u001b[43msearch_dict\u001b[49m\u001b[43m[\u001b[49m\u001b[38;5;124;43m\"\u001b[39;49m\u001b[38;5;124;43mHMR\u001b[39;49m\u001b[38;5;124;43m\"\u001b[39;49m\u001b[43m]\u001b[49m\u001b[38;5;241;43m.\u001b[39;49m\u001b[43mrstrip\u001b[49m()\u001b[38;5;241m.\u001b[39mreplace(\u001b[38;5;124m\"\u001b[39m\u001b[38;5;124m \u001b[39m\u001b[38;5;124m\"\u001b[39m, \u001b[38;5;124m\"\u001b[39m\u001b[38;5;124m\"\u001b[39m)\u001b[38;5;241m.\u001b[39msplit(\u001b[38;5;124m\"\u001b[39m\u001b[38;5;124m=\u001b[39m\u001b[38;5;124m\"\u001b[39m)[\u001b[38;5;241m-\u001b[39m\u001b[38;5;241m1\u001b[39m]\n",
      "\u001b[0;31mAttributeError\u001b[0m: 'NoneType' object has no attribute 'rstrip'"
     ]
    }
   ],
   "source": [
    "hmr = search_dict[\"HMR\"].rstrip().replace(\" \", \"\").split(\"=\")[-1]"
   ]
  },
  {
   "cell_type": "markdown",
   "metadata": {},
   "source": []
  }
 ],
 "metadata": {
  "kernelspec": {
   "display_name": "Python 3.9.15 ('biosimspace-dev': conda)",
   "language": "python",
   "name": "python3"
  },
  "language_info": {
   "codemirror_mode": {
    "name": "ipython",
    "version": 3
   },
   "file_extension": ".py",
   "mimetype": "text/x-python",
   "name": "python",
   "nbconvert_exporter": "python",
   "pygments_lexer": "ipython3",
   "version": "3.9.15"
  },
  "orig_nbformat": 4,
  "vscode": {
   "interpreter": {
    "hash": "d79bb85316fa6c998e385cc39903e056bffeb3f6098416e9c269ddd32175e919"
   }
  }
 },
 "nbformat": 4,
 "nbformat_minor": 2
}
