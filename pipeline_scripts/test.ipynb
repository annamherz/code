{
 "cells": [
  {
   "cell_type": "code",
   "execution_count": 1,
   "metadata": {},
   "outputs": [
    {
     "name": "stderr",
     "output_type": "stream",
     "text": [
      "/home/anna/anaconda3/envs/biosimspace-dev/lib/python3.9/site-packages/numpy/core/getlimits.py:500: UserWarning: The value of the smallest subnormal for <class 'numpy.float64'> type is zero.\n",
      "  setattr(self, word, getattr(machar, word).flat[0])\n",
      "/home/anna/anaconda3/envs/biosimspace-dev/lib/python3.9/site-packages/numpy/core/getlimits.py:89: UserWarning: The value of the smallest subnormal for <class 'numpy.float64'> type is zero.\n",
      "  return self._float_to_str(self.smallest_subnormal)\n",
      "/home/anna/anaconda3/envs/biosimspace-dev/lib/python3.9/site-packages/numpy/core/getlimits.py:500: UserWarning: The value of the smallest subnormal for <class 'numpy.float32'> type is zero.\n",
      "  setattr(self, word, getattr(machar, word).flat[0])\n",
      "/home/anna/anaconda3/envs/biosimspace-dev/lib/python3.9/site-packages/numpy/core/getlimits.py:89: UserWarning: The value of the smallest subnormal for <class 'numpy.float32'> type is zero.\n",
      "  return self._float_to_str(self.smallest_subnormal)\n",
      "Warning: importing 'simtk.openmm' is deprecated.  Import 'openmm' instead.\n"
     ]
    },
    {
     "name": "stdout",
     "output_type": "stream",
     "text": [
      "adding code to the pythonpath...\n"
     ]
    }
   ],
   "source": [
    "import BioSimSpace as BSS\n",
    "import sys\n",
    "\n",
    "try:\n",
    "    import pipeline\n",
    "except:\n",
    "    print(\"adding code to the pythonpath...\")\n",
    "    code = '/home/anna/Documents/code/python'\n",
    "    if code not in sys.path:\n",
    "        sys.path.insert(1, code)\n",
    "    import pipeline\n",
    "\n",
    "from pipeline.utils._validate import *"
   ]
  },
  {
   "cell_type": "code",
   "execution_count": 2,
   "metadata": {},
   "outputs": [
    {
     "name": "stdout",
     "output_type": "stream",
     "text": [
      "2\n",
      "There is a problem with the input provided in file\n",
      " Exception is:\n",
      " 'str' object has no attribute '_sampling'\n"
     ]
    }
   ],
   "source": [
    "query = validate_query(sampling=\"2\")\n",
    "try:\n",
    "    query.validate_all() # validate all inputs provided in the protocol file\n",
    "except Exception as e:\n",
    "    print(f\"There is a problem with the input provided in file\\n Exception is:\\n {e}\")"
   ]
  },
  {
   "cell_type": "code",
   "execution_count": 7,
   "metadata": {},
   "outputs": [],
   "source": [
    "file = \"/home/anna/Documents/benchmark/tyk2_benchmark/execution_model_rbfenn_test/protocol.dat\"\n",
    "\n",
    "file_dict = pipeline.utils.read_protocol(file)"
   ]
  },
  {
   "cell_type": "code",
   "execution_count": 8,
   "metadata": {},
   "outputs": [
    {
     "name": "stdout",
     "output_type": "stream",
     "text": [
      "{'ligand forcefield': 'sage', 'protein forcefield': 'FF14SB', 'solvent': 'TIP3P', 'box length': '30', 'box unit': 'angstrom', 'boxtype': 'truncatedoctahedron', 'runtime': 4, 'runtime unit': 1.0000 ns, 'HMR': True, 'repeats': 1}\n"
     ]
    }
   ],
   "source": [
    "print(file_dict)"
   ]
  },
  {
   "cell_type": "code",
   "execution_count": 14,
   "metadata": {},
   "outputs": [
    {
     "data": {
      "text/plain": [
       "['ff03',\n",
       " 'ff14SB',\n",
       " 'ff99',\n",
       " 'ff99SB',\n",
       " 'ff99SBildn',\n",
       " 'gaff',\n",
       " 'gaff2',\n",
       " 'openff_unconstrained-1.1.1',\n",
       " 'openff_unconstrained-1.2.1',\n",
       " 'openff_unconstrained-1.1.0',\n",
       " 'openff_unconstrained-2.0.0-rc.2',\n",
       " 'openff_unconstrained-1.0.1',\n",
       " 'openff_unconstrained-1.2.0',\n",
       " 'openff_unconstrained-2.0.0-rc.1',\n",
       " 'openff_unconstrained-1.0.0',\n",
       " 'openff_unconstrained-1.3.0',\n",
       " 'openff_unconstrained-2.0.0',\n",
       " 'openff_unconstrained-1.0.0-RC1',\n",
       " 'openff_unconstrained-1.0.0-RC2',\n",
       " 'openff_unconstrained-1.3.1',\n",
       " 'openff_unconstrained-1.3.1-alpha.1']"
      ]
     },
     "execution_count": 14,
     "metadata": {},
     "output_type": "execute_result"
    }
   ],
   "source": [
    "BSS.FreeEnergy.engines()\n",
    "BSS.Solvent.waterModels()\n",
    "BSS.Parameters.forceFields()"
   ]
  },
  {
   "cell_type": "code",
   "execution_count": 5,
   "metadata": {},
   "outputs": [
    {
     "ename": "NameError",
     "evalue": "name 'self' is not defined",
     "output_type": "error",
     "traceback": [
      "\u001b[0;31m---------------------------------------------------------------------------\u001b[0m",
      "\u001b[0;31mNameError\u001b[0m                                 Traceback (most recent call last)",
      "Cell \u001b[0;32mIn[5], line 1\u001b[0m\n\u001b[0;32m----> 1\u001b[0m validate_query\u001b[38;5;241m.\u001b[39msampling(\u001b[38;5;28;43mself\u001b[39;49m, \u001b[38;5;124m\"\u001b[39m\u001b[38;5;124m2\u001b[39m\u001b[38;5;124m\"\u001b[39m)\n",
      "\u001b[0;31mNameError\u001b[0m: name 'self' is not defined"
     ]
    }
   ],
   "source": []
  },
  {
   "cell_type": "code",
   "execution_count": null,
   "metadata": {},
   "outputs": [],
   "source": []
  }
 ],
 "metadata": {
  "kernelspec": {
   "display_name": "Python 3.9.15 ('biosimspace-dev': conda)",
   "language": "python",
   "name": "python3"
  },
  "language_info": {
   "codemirror_mode": {
    "name": "ipython",
    "version": 3
   },
   "file_extension": ".py",
   "mimetype": "text/x-python",
   "name": "python",
   "nbconvert_exporter": "python",
   "pygments_lexer": "ipython3",
   "version": "3.9.15"
  },
  "orig_nbformat": 4,
  "vscode": {
   "interpreter": {
    "hash": "d79bb85316fa6c998e385cc39903e056bffeb3f6098416e9c269ddd32175e919"
   }
  }
 },
 "nbformat": 4,
 "nbformat_minor": 2
}
